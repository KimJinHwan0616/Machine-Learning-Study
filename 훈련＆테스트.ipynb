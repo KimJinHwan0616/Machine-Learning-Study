{
 "cells": [
  {
   "cell_type": "markdown",
   "id": "4ea9608f-960c-4c35-be85-69297ecd11b0",
   "metadata": {},
   "source": [
    "# 훈련과 테스트 데이터\n",
    "* 머신러닝 모델을 만들기 위해서 데이터집합이 필요\n",
    "* ``과적합``을 방지하기 위해 데이터를 훈련/테스트 데이터로 나누고 \n",
    "* 교차검증 방식으로 모델을 만들어 성능을 평가함\n",
    "* ``훈련데이터`` : 모델 추정및 학습이 목적\n",
    "* ``테스트데이터`` : 모델 성능 평가가 목적\n",
    "* 분할 비율은 7:3 또는 8:2로 설정\n"
   ]
  },
  {
   "cell_type": "code",
   "execution_count": 1,
   "id": "1cfff710-3c51-42b7-8b9c-e7817ca093d3",
   "metadata": {},
   "outputs": [],
   "source": [
    "import pandas as pd\n",
    "import numpy as np\n",
    "import matplotlib.pyplot as plt\n",
    "import sklearn"
   ]
  },
  {
   "cell_type": "markdown",
   "id": "196ae8bc-1307-4fd0-9302-c1fe7e99ed98",
   "metadata": {},
   "source": [
    "# train/test 데이터 분할 필요성"
   ]
  },
  {
   "cell_type": "code",
   "execution_count": 3,
   "id": "a83dc98b-38c4-4d1a-89fa-b87551249cc4",
   "metadata": {},
   "outputs": [],
   "source": [
    "from sklearn.datasets import load_iris\n",
    "from sklearn.tree import DecisionTreeClassifier\n",
    "from sklearn.metrics import accuracy_score"
   ]
  },
  {
   "cell_type": "code",
   "execution_count": 4,
   "id": "cce75393-1d57-4259-8ddf-b16f498f1a98",
   "metadata": {},
   "outputs": [],
   "source": [
    "# 데이터 초기화\n",
    "\n",
    "iris = load_iris()\n",
    "data = iris.data\n",
    "target = iris.target"
   ]
  },
  {
   "cell_type": "code",
   "execution_count": 7,
   "id": "7907afb1-3864-4d0c-9a61-03e2c3e548af",
   "metadata": {},
   "outputs": [],
   "source": [
    "# 의사결정나무 분류기 -> 분류모델 생성\n",
    "dtclf = DecisionTreeClassifier()\n",
    "\n",
    "# 주어진 feature, target으로 모델을 학습시킴\n",
    "# 분류모델 학습 : fit(feature, target)\n",
    "dtclf.fit(data, target)  \n",
    "\n",
    "# 학습된 모델에 feature를 이용해서 예측해 봄\n",
    "pred = dtclf.predict(data)"
   ]
  },
  {
   "cell_type": "code",
   "execution_count": 10,
   "id": "566aea5b-6bea-49e8-a69d-f1d540864ffb",
   "metadata": {},
   "outputs": [
    {
     "data": {
      "text/plain": [
       "1.0"
      ]
     },
     "execution_count": 10,
     "metadata": {},
     "output_type": "execute_result"
    }
   ],
   "source": [
    "# 학습된 모델로 예측된 결과와 실제값을 비교해봄\n",
    "# accuracy_score(target, 예측값)\n",
    "accuracy_score(target, pred)\n",
    "\n",
    "# 모델을 학습할때 사용한 데이터를 모델을 평가할때도 사용함 \n",
    "# => 정확도: 1"
   ]
  },
  {
   "cell_type": "markdown",
   "id": "a6ef7b26-a620-4266-8ed7-af834378804f",
   "metadata": {},
   "source": [
    "# 과적합overfit 발생\n",
    "- 훈련데이터가 가지고 있는 특성을 너무 많이 반영해서 훈련데이터의 패턴을 너무 잘 인식하게 되는 문제\n",
    "- 이런 경우 새로운 데이터가 주어지면 정확하게 예측하는 능력은 떨어짐\n",
    "\n",
    "- 비유) A문제집으로 시험공부했는데, 시험문제가 A문제집에서 거의 다나옴 => 100점 맞음!\n",
    "- 따라서, 데이터셋을 훈련/테스트로 나눠 학습과 평가를 수행해야 함"
   ]
  },
  {
   "cell_type": "markdown",
   "id": "db09a055-7f8e-4607-8a9a-b406f0df7bb4",
   "metadata": {},
   "source": [
    "### 데이터를 학습/평가용으로 분할1\n",
    "- 학습/평가용 데이터 비율은 7:3\n",
    "- iris 데이터 총 개수 = 150\n",
    "- 105:45"
   ]
  },
  {
   "cell_type": "code",
   "execution_count": 11,
   "id": "76e7bd75-f1ac-4271-9585-4d521d3890a6",
   "metadata": {},
   "outputs": [
    {
     "name": "stdout",
     "output_type": "stream",
     "text": [
      "(105, 4) (45, 4)\n"
     ]
    }
   ],
   "source": [
    "train_data = iris.data[:105, ]\n",
    "test_data = iris.data[105:, ]\n",
    "print(train_data.shape, test_data.shape)"
   ]
  },
  {
   "cell_type": "code",
   "execution_count": 12,
   "id": "de64b669-3b4d-48de-8d63-676494f7b264",
   "metadata": {},
   "outputs": [
    {
     "name": "stdout",
     "output_type": "stream",
     "text": [
      "(105,) (45,)\n"
     ]
    }
   ],
   "source": [
    "train_target = iris.target[:105]\n",
    "test_target = iris.target[105:]\n",
    "print(train_target.shape, test_target.shape)"
   ]
  },
  {
   "cell_type": "code",
   "execution_count": 14,
   "id": "9c5cb9bb-2618-4934-ba79-2cfe20a42a12",
   "metadata": {},
   "outputs": [
    {
     "data": {
      "text/plain": [
       "0.7777777777777778"
      ]
     },
     "execution_count": 14,
     "metadata": {},
     "output_type": "execute_result"
    }
   ],
   "source": [
    "# 의사결정나무 분류기 -> 분류모델 생성\n",
    "dtclf = DecisionTreeClassifier(random_state=2208231540)\n",
    "\n",
    "# 주어진 feature, target으로 모델을 학습시킴\n",
    "# 분류모델 학습 : fit(feature, target)\n",
    "dtclf.fit(train_data, train_target)  \n",
    "\n",
    "# 학습된 모델에 feature를 이용해서 예측해 봄\n",
    "pred = dtclf.predict(test_data)\n",
    "\n",
    "accuracy_score(test_target, pred)"
   ]
  },
  {
   "cell_type": "markdown",
   "id": "84827e5a-3bca-4f3b-9dd6-18806dbe6923",
   "metadata": {},
   "source": [
    "### 데이터 분할 분포 확인"
   ]
  },
  {
   "cell_type": "code",
   "execution_count": 16,
   "id": "17bda74c-5cbc-4bfe-87d1-be069346a601",
   "metadata": {},
   "outputs": [
    {
     "data": {
      "text/plain": [
       "0    50\n",
       "1    50\n",
       "2     5\n",
       "dtype: int64"
      ]
     },
     "execution_count": 16,
     "metadata": {},
     "output_type": "execute_result"
    }
   ],
   "source": [
    "pd.Series(train_target).value_counts()"
   ]
  },
  {
   "cell_type": "code",
   "execution_count": 17,
   "id": "90d8606e-1f8a-415b-a0b5-7691f90c8523",
   "metadata": {},
   "outputs": [
    {
     "data": {
      "text/plain": [
       "2    45\n",
       "dtype: int64"
      ]
     },
     "execution_count": 17,
     "metadata": {},
     "output_type": "execute_result"
    }
   ],
   "source": [
    "pd.Series(test_target).value_counts()"
   ]
  },
  {
   "cell_type": "code",
   "execution_count": null,
   "id": "12011141-304d-499f-9c51-78a61011dc97",
   "metadata": {},
   "outputs": [],
   "source": [
    "# 데이터를 앞에서부터 순서대로 나눠서 데이터 분포가 일정하지 않음\n",
    "\n",
    "# 즉, setosa, verginica, versicolor의 비율이 같아야 하는데,\n",
    "# train에는 setosa, verginica위주로 test에는 versicolor위주로 데이터가 분할\n",
    "\n",
    "# 따라서, setosa, verginica들은 잘 구분하지만\n",
    "# versicolor는 잘 예측하지 못하는 경우 발생함"
   ]
  },
  {
   "cell_type": "markdown",
   "id": "6b8dcc4d-c45b-4f49-a3e1-fba48b0476d9",
   "metadata": {},
   "source": [
    "# 데이터를 학습용/평가용 데이터로 분할 2\n",
    "- 독립변수의 속성들의 분포를 고려한 표본추출 필요\n",
    "- => sklearn의 train_test_split 함수를 사용\n",
    "- train_test_split(독립변수, 종속변수, 훈련데이터크기,\n",
    "-            평가데이터크기, 계층추출여부(분류용), 난수시드값)"
   ]
  },
  {
   "cell_type": "code",
   "execution_count": 18,
   "id": "271417c6-ac2c-48d0-9c23-6aae17c06352",
   "metadata": {},
   "outputs": [],
   "source": [
    "from sklearn.model_selection import train_test_split\n",
    "\n",
    "X_train, X_test, y_train, y_test = train_test_split(iris.data, iris.target, train_size=0.7,\n",
    "                stratify=iris.target, random_state=2208231545)"
   ]
  },
  {
   "cell_type": "code",
   "execution_count": 19,
   "id": "6b2a90b8-bc01-43aa-9cca-7fe5f415861c",
   "metadata": {},
   "outputs": [
    {
     "data": {
      "text/plain": [
       "2    35\n",
       "1    35\n",
       "0    35\n",
       "dtype: int64"
      ]
     },
     "execution_count": 19,
     "metadata": {},
     "output_type": "execute_result"
    }
   ],
   "source": [
    "pd.Series(y_train).value_counts()"
   ]
  },
  {
   "cell_type": "code",
   "execution_count": 20,
   "id": "84586caf-2a25-42f8-99d8-3f28a5dff276",
   "metadata": {},
   "outputs": [
    {
     "data": {
      "text/plain": [
       "2    15\n",
       "0    15\n",
       "1    15\n",
       "dtype: int64"
      ]
     },
     "execution_count": 20,
     "metadata": {},
     "output_type": "execute_result"
    }
   ],
   "source": [
    "pd.Series(y_test).value_counts()"
   ]
  },
  {
   "cell_type": "code",
   "execution_count": 22,
   "id": "eca74a25-3695-4d29-a91b-22841cfbc47b",
   "metadata": {},
   "outputs": [
    {
     "data": {
      "text/plain": [
       "0.9555555555555556"
      ]
     },
     "execution_count": 22,
     "metadata": {},
     "output_type": "execute_result"
    }
   ],
   "source": [
    "# 의사결정나무 분류기 -> 분류모델 생성\n",
    "dtclf = DecisionTreeClassifier(random_state=2208231600)\n",
    "\n",
    "# 주어진 feature, target으로 모델을 학습시킴\n",
    "# 분류모델 학습 : fit(feature, target)\n",
    "dtclf.fit(X_train, y_train)  \n",
    "\n",
    "# 학습된 모델에 feature를 이용해서 예측해 봄\n",
    "pred = dtclf.predict(X_test)\n",
    "\n",
    "accuracy_score(y_test, pred)"
   ]
  },
  {
   "cell_type": "markdown",
   "id": "773adf58-28f7-4152-b829-5722b414b9df",
   "metadata": {},
   "source": [
    "# 데이터를 학습용/평가용 데이터로 분할 3\n",
    "- 데이터 개수가 작은 경우 데이터의 일부인 평가 데이터도 작음 \n",
    "- => 성능 평가의 신뢰도 의심\n",
    "- 데이터를 동일한 크기로 k개 나눈 후 \n",
    "- 훈련/평가데이터를 구분지어\n",
    "- 순환적으로 훈련 및 평가를 k번 실시함\n",
    "- => K fold 교차검증이라 함"
   ]
  },
  {
   "cell_type": "code",
   "execution_count": 24,
   "id": "f2e6b99b-6373-4d25-b54d-3b13158eb516",
   "metadata": {},
   "outputs": [],
   "source": [
    "from sklearn.model_selection import cross_val_score\n",
    "# cross_val_score(분류기, feature, target, 평가지표, 검증횟수)\n",
    "dtclf = DecisionTreeClassifier(random_state=2208231605)\n",
    "\n",
    "scores = cross_val_score(dtclf, iris.data, iris.target,\n",
    "                         scoring='accuracy', cv=10)"
   ]
  },
  {
   "cell_type": "code",
   "execution_count": 27,
   "id": "bfb7a86f-899b-4917-b9c3-21b5492cca03",
   "metadata": {},
   "outputs": [
    {
     "data": {
      "text/plain": [
       "array([1.        , 0.93333333, 1.        , 0.93333333, 0.93333333,\n",
       "       0.86666667, 0.93333333, 1.        , 1.        , 1.        ])"
      ]
     },
     "execution_count": 27,
     "metadata": {},
     "output_type": "execute_result"
    }
   ],
   "source": [
    "# 교차검증 정확도\n",
    "scores"
   ]
  },
  {
   "cell_type": "code",
   "execution_count": 28,
   "id": "7eaee8b1-9827-402c-96b8-f0f480f51c70",
   "metadata": {},
   "outputs": [
    {
     "data": {
      "text/plain": [
       "0.96"
      ]
     },
     "execution_count": 28,
     "metadata": {},
     "output_type": "execute_result"
    }
   ],
   "source": [
    "# 평균 교차검증 정확도\n",
    "np.mean(scores)"
   ]
  },
  {
   "cell_type": "code",
   "execution_count": null,
   "id": "19fbec0f-b98a-4c67-b75b-bcc5d640e183",
   "metadata": {},
   "outputs": [],
   "source": []
  }
 ],
 "metadata": {
  "kernelspec": {
   "display_name": "Python 3 (ipykernel)",
   "language": "python",
   "name": "python3"
  },
  "language_info": {
   "codemirror_mode": {
    "name": "ipython",
    "version": 3
   },
   "file_extension": ".py",
   "mimetype": "text/x-python",
   "name": "python",
   "nbconvert_exporter": "python",
   "pygments_lexer": "ipython3",
   "version": "3.8.13"
  }
 },
 "nbformat": 4,
 "nbformat_minor": 5
}
