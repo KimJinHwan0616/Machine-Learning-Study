{
 "cells": [
  {
   "cell_type": "code",
   "execution_count": 1,
   "id": "299a7b17-8fa1-4990-855a-6634a234ce67",
   "metadata": {},
   "outputs": [],
   "source": [
    "import pandas as pd\n",
    "import numpy as np\n",
    "import matplotlib.pyplot as plt"
   ]
  },
  {
   "cell_type": "code",
   "execution_count": 2,
   "id": "187359a3-1e9d-4024-8831-4159f93929ec",
   "metadata": {},
   "outputs": [],
   "source": [
    "from sklearn.preprocessing import StandardScaler, MinMaxScaler\n",
    "from sklearn.preprocessing import LabelEncoder, OneHotEncoder\n",
    "from sklearn.model_selection import train_test_split, cross_val_score\n",
    "\n",
    "\n",
    "from sklearn.linear_model import LogisticRegression\n",
    "from sklearn.svm import SVC\n",
    "from sklearn.tree import DecisionTreeClassifier\n",
    "from sklearn.neighbors import KNeighborsClassifier\n",
    "\n",
    "from sklearn.ensemble import RandomForestClassifier, VotingClassifier, BaggingClassifier\n",
    "from sklearn.ensemble import AdaBoostClassifier, GradientBoostingClassifier\n",
    "from xgboost import XGBClassifier\n",
    "from lightgbm import LGBMClassifier\n",
    "\n",
    "\n",
    "from sklearn.metrics import confusion_matrix\n",
    "from sklearn.metrics import accuracy_score, precision_score, recall_score\n",
    "from sklearn.metrics import roc_auc_score\n",
    "\n",
    "import warnings     # 경고 메세지 숨기기\n",
    "warnings.filterwarnings('ignore')"
   ]
  },
  {
   "cell_type": "code",
   "execution_count": 3,
   "id": "67c1bba8-d4c9-47ba-aec9-e47e8530da42",
   "metadata": {},
   "outputs": [],
   "source": [
    "titanic = pd.read_csv('../data/titanic2b.csv')"
   ]
  },
  {
   "cell_type": "code",
   "execution_count": 4,
   "id": "1e7b3b0d-d917-4ad9-b0b1-30449aed00a4",
   "metadata": {},
   "outputs": [],
   "source": [
    "# feature, target 추출\n",
    "data = titanic.iloc[:, [0, 3, 4, 5, 9, 10, 11]]\n",
    "target = titanic.survived"
   ]
  },
  {
   "cell_type": "code",
   "execution_count": 26,
   "id": "cb979438-5cae-4151-80a4-2ea54bce6b57",
   "metadata": {},
   "outputs": [
    {
     "data": {
      "text/html": [
       "<div>\n",
       "<style scoped>\n",
       "    .dataframe tbody tr th:only-of-type {\n",
       "        vertical-align: middle;\n",
       "    }\n",
       "\n",
       "    .dataframe tbody tr th {\n",
       "        vertical-align: top;\n",
       "    }\n",
       "\n",
       "    .dataframe thead th {\n",
       "        text-align: right;\n",
       "    }\n",
       "</style>\n",
       "<table border=\"1\" class=\"dataframe\">\n",
       "  <thead>\n",
       "    <tr style=\"text-align: right;\">\n",
       "      <th></th>\n",
       "      <th>age</th>\n",
       "      <th>sibsp</th>\n",
       "    </tr>\n",
       "  </thead>\n",
       "  <tbody>\n",
       "    <tr>\n",
       "      <th>0</th>\n",
       "      <td>29.000000</td>\n",
       "      <td>0.0</td>\n",
       "    </tr>\n",
       "    <tr>\n",
       "      <th>1</th>\n",
       "      <td>0.916700</td>\n",
       "      <td>1.0</td>\n",
       "    </tr>\n",
       "    <tr>\n",
       "      <th>2</th>\n",
       "      <td>2.000000</td>\n",
       "      <td>1.0</td>\n",
       "    </tr>\n",
       "    <tr>\n",
       "      <th>3</th>\n",
       "      <td>30.000000</td>\n",
       "      <td>1.0</td>\n",
       "    </tr>\n",
       "    <tr>\n",
       "      <th>4</th>\n",
       "      <td>25.000000</td>\n",
       "      <td>1.0</td>\n",
       "    </tr>\n",
       "    <tr>\n",
       "      <th>...</th>\n",
       "      <td>...</td>\n",
       "      <td>...</td>\n",
       "    </tr>\n",
       "    <tr>\n",
       "      <th>1301</th>\n",
       "      <td>14.500000</td>\n",
       "      <td>1.0</td>\n",
       "    </tr>\n",
       "    <tr>\n",
       "      <th>1302</th>\n",
       "      <td>29.881135</td>\n",
       "      <td>1.0</td>\n",
       "    </tr>\n",
       "    <tr>\n",
       "      <th>1303</th>\n",
       "      <td>26.500000</td>\n",
       "      <td>0.0</td>\n",
       "    </tr>\n",
       "    <tr>\n",
       "      <th>1304</th>\n",
       "      <td>27.000000</td>\n",
       "      <td>0.0</td>\n",
       "    </tr>\n",
       "    <tr>\n",
       "      <th>1305</th>\n",
       "      <td>29.000000</td>\n",
       "      <td>0.0</td>\n",
       "    </tr>\n",
       "  </tbody>\n",
       "</table>\n",
       "<p>1306 rows × 2 columns</p>\n",
       "</div>"
      ],
      "text/plain": [
       "            age  sibsp\n",
       "0     29.000000    0.0\n",
       "1      0.916700    1.0\n",
       "2      2.000000    1.0\n",
       "3     30.000000    1.0\n",
       "4     25.000000    1.0\n",
       "...         ...    ...\n",
       "1301  14.500000    1.0\n",
       "1302  29.881135    1.0\n",
       "1303  26.500000    0.0\n",
       "1304  27.000000    0.0\n",
       "1305  29.000000    0.0\n",
       "\n",
       "[1306 rows x 2 columns]"
      ]
     },
     "execution_count": 26,
     "metadata": {},
     "output_type": "execute_result"
    }
   ],
   "source": [
    "pd.DataFrame(data).iloc[:,1:3]"
   ]
  },
  {
   "cell_type": "markdown",
   "id": "9ad90b2e-b7eb-4fb0-b449-6df632bd5bad",
   "metadata": {},
   "source": [
    "# 데이터 분할"
   ]
  },
  {
   "cell_type": "code",
   "execution_count": 5,
   "id": "f22cac67-3008-4b32-868a-38f32aa6f416",
   "metadata": {},
   "outputs": [],
   "source": [
    "xtrain, xtest, ytrain, ytest = train_test_split(data, target, test_size=0.3,\n",
    "                     random_state=2208241055)"
   ]
  },
  {
   "cell_type": "markdown",
   "id": "f317c686-9b9a-407b-a108-967fc69f675b",
   "metadata": {},
   "source": [
    "# 데이터 스케일링"
   ]
  },
  {
   "cell_type": "code",
   "execution_count": 6,
   "id": "61229589-6a71-4ca8-9bd6-a5ba5b5d5e86",
   "metadata": {},
   "outputs": [],
   "source": [
    "ss = StandardScaler()\n",
    "\n",
    "xtrain_scaled = ss.fit_transform(xtrain)    # 훈련 데이터 → 표준화\n",
    "xtest_scaled = ss.transform(xtest)          # 테스트 데이터 → 표준화"
   ]
  },
  {
   "cell_type": "code",
   "execution_count": 7,
   "id": "c5b054f6-4a89-4b78-a549-409203e18eaf",
   "metadata": {
    "collapsed": true,
    "jupyter": {
     "outputs_hidden": true
    },
    "tags": []
   },
   "outputs": [
    {
     "data": {
      "text/html": [
       "<div>\n",
       "<style scoped>\n",
       "    .dataframe tbody tr th:only-of-type {\n",
       "        vertical-align: middle;\n",
       "    }\n",
       "\n",
       "    .dataframe tbody tr th {\n",
       "        vertical-align: top;\n",
       "    }\n",
       "\n",
       "    .dataframe thead th {\n",
       "        text-align: right;\n",
       "    }\n",
       "</style>\n",
       "<table border=\"1\" class=\"dataframe\">\n",
       "  <thead>\n",
       "    <tr style=\"text-align: right;\">\n",
       "      <th></th>\n",
       "      <th>0</th>\n",
       "      <th>1</th>\n",
       "      <th>2</th>\n",
       "      <th>3</th>\n",
       "      <th>4</th>\n",
       "      <th>5</th>\n",
       "      <th>6</th>\n",
       "    </tr>\n",
       "  </thead>\n",
       "  <tbody>\n",
       "    <tr>\n",
       "      <th>count</th>\n",
       "      <td>9.140000e+02</td>\n",
       "      <td>9.140000e+02</td>\n",
       "      <td>9.140000e+02</td>\n",
       "      <td>9.140000e+02</td>\n",
       "      <td>9.140000e+02</td>\n",
       "      <td>9.140000e+02</td>\n",
       "      <td>9.140000e+02</td>\n",
       "    </tr>\n",
       "    <tr>\n",
       "      <th>mean</th>\n",
       "      <td>-5.053094e-17</td>\n",
       "      <td>-3.498296e-17</td>\n",
       "      <td>5.441793e-17</td>\n",
       "      <td>-2.526547e-17</td>\n",
       "      <td>-9.717488e-19</td>\n",
       "      <td>-1.943498e-17</td>\n",
       "      <td>3.789820e-16</td>\n",
       "    </tr>\n",
       "    <tr>\n",
       "      <th>std</th>\n",
       "      <td>1.000547e+00</td>\n",
       "      <td>1.000547e+00</td>\n",
       "      <td>1.000547e+00</td>\n",
       "      <td>1.000547e+00</td>\n",
       "      <td>1.000547e+00</td>\n",
       "      <td>1.000547e+00</td>\n",
       "      <td>1.000547e+00</td>\n",
       "    </tr>\n",
       "    <tr>\n",
       "      <th>min</th>\n",
       "      <td>-1.541324e+00</td>\n",
       "      <td>-2.322018e+00</td>\n",
       "      <td>-4.777601e-01</td>\n",
       "      <td>-4.632424e-01</td>\n",
       "      <td>-1.352672e+00</td>\n",
       "      <td>-1.852319e+00</td>\n",
       "      <td>-6.203217e+00</td>\n",
       "    </tr>\n",
       "    <tr>\n",
       "      <th>25%</th>\n",
       "      <td>-3.464384e-01</td>\n",
       "      <td>-6.033679e-01</td>\n",
       "      <td>-4.777601e-01</td>\n",
       "      <td>-4.632424e-01</td>\n",
       "      <td>-1.352672e+00</td>\n",
       "      <td>-6.165383e-01</td>\n",
       "      <td>-1.253880e+00</td>\n",
       "    </tr>\n",
       "    <tr>\n",
       "      <th>50%</th>\n",
       "      <td>8.484472e-01</td>\n",
       "      <td>1.701080e-02</td>\n",
       "      <td>-4.777601e-01</td>\n",
       "      <td>-4.632424e-01</td>\n",
       "      <td>7.392776e-01</td>\n",
       "      <td>6.192424e-01</td>\n",
       "      <td>3.958988e-01</td>\n",
       "    </tr>\n",
       "    <tr>\n",
       "      <th>75%</th>\n",
       "      <td>8.484472e-01</td>\n",
       "      <td>4.199522e-01</td>\n",
       "      <td>4.613210e-01</td>\n",
       "      <td>-4.632424e-01</td>\n",
       "      <td>7.392776e-01</td>\n",
       "      <td>6.192424e-01</td>\n",
       "      <td>3.958988e-01</td>\n",
       "    </tr>\n",
       "    <tr>\n",
       "      <th>max</th>\n",
       "      <td>8.484472e-01</td>\n",
       "      <td>3.489912e+00</td>\n",
       "      <td>7.034889e+00</td>\n",
       "      <td>9.976844e+00</td>\n",
       "      <td>7.392776e-01</td>\n",
       "      <td>6.192424e-01</td>\n",
       "      <td>2.045678e+00</td>\n",
       "    </tr>\n",
       "  </tbody>\n",
       "</table>\n",
       "</div>"
      ],
      "text/plain": [
       "                  0             1             2             3             4  \\\n",
       "count  9.140000e+02  9.140000e+02  9.140000e+02  9.140000e+02  9.140000e+02   \n",
       "mean  -5.053094e-17 -3.498296e-17  5.441793e-17 -2.526547e-17 -9.717488e-19   \n",
       "std    1.000547e+00  1.000547e+00  1.000547e+00  1.000547e+00  1.000547e+00   \n",
       "min   -1.541324e+00 -2.322018e+00 -4.777601e-01 -4.632424e-01 -1.352672e+00   \n",
       "25%   -3.464384e-01 -6.033679e-01 -4.777601e-01 -4.632424e-01 -1.352672e+00   \n",
       "50%    8.484472e-01  1.701080e-02 -4.777601e-01 -4.632424e-01  7.392776e-01   \n",
       "75%    8.484472e-01  4.199522e-01  4.613210e-01 -4.632424e-01  7.392776e-01   \n",
       "max    8.484472e-01  3.489912e+00  7.034889e+00  9.976844e+00  7.392776e-01   \n",
       "\n",
       "                  5             6  \n",
       "count  9.140000e+02  9.140000e+02  \n",
       "mean  -1.943498e-17  3.789820e-16  \n",
       "std    1.000547e+00  1.000547e+00  \n",
       "min   -1.852319e+00 -6.203217e+00  \n",
       "25%   -6.165383e-01 -1.253880e+00  \n",
       "50%    6.192424e-01  3.958988e-01  \n",
       "75%    6.192424e-01  3.958988e-01  \n",
       "max    6.192424e-01  2.045678e+00  "
      ]
     },
     "execution_count": 7,
     "metadata": {},
     "output_type": "execute_result"
    }
   ],
   "source": [
    "pd.DataFrame(xtrain_scaled).describe()"
   ]
  },
  {
   "cell_type": "code",
   "execution_count": 8,
   "id": "dbbab4c6-48ba-4bbe-a1ec-efc3616757a5",
   "metadata": {
    "collapsed": true,
    "jupyter": {
     "outputs_hidden": true
    },
    "tags": []
   },
   "outputs": [
    {
     "data": {
      "text/html": [
       "<div>\n",
       "<style scoped>\n",
       "    .dataframe tbody tr th:only-of-type {\n",
       "        vertical-align: middle;\n",
       "    }\n",
       "\n",
       "    .dataframe tbody tr th {\n",
       "        vertical-align: top;\n",
       "    }\n",
       "\n",
       "    .dataframe thead th {\n",
       "        text-align: right;\n",
       "    }\n",
       "</style>\n",
       "<table border=\"1\" class=\"dataframe\">\n",
       "  <thead>\n",
       "    <tr style=\"text-align: right;\">\n",
       "      <th></th>\n",
       "      <th>0</th>\n",
       "      <th>1</th>\n",
       "      <th>2</th>\n",
       "      <th>3</th>\n",
       "      <th>4</th>\n",
       "      <th>5</th>\n",
       "      <th>6</th>\n",
       "    </tr>\n",
       "  </thead>\n",
       "  <tbody>\n",
       "    <tr>\n",
       "      <th>count</th>\n",
       "      <td>392.000000</td>\n",
       "      <td>392.000000</td>\n",
       "      <td>392.000000</td>\n",
       "      <td>392.000000</td>\n",
       "      <td>392.000000</td>\n",
       "      <td>392.000000</td>\n",
       "      <td>392.000000</td>\n",
       "    </tr>\n",
       "    <tr>\n",
       "      <th>mean</th>\n",
       "      <td>0.025439</td>\n",
       "      <td>0.042445</td>\n",
       "      <td>-0.027384</td>\n",
       "      <td>-0.051912</td>\n",
       "      <td>-0.013184</td>\n",
       "      <td>-0.027020</td>\n",
       "      <td>-0.050215</td>\n",
       "    </tr>\n",
       "    <tr>\n",
       "      <th>std</th>\n",
       "      <td>1.000317</td>\n",
       "      <td>1.034057</td>\n",
       "      <td>0.928012</td>\n",
       "      <td>1.015606</td>\n",
       "      <td>1.005232</td>\n",
       "      <td>1.022711</td>\n",
       "      <td>1.094223</td>\n",
       "    </tr>\n",
       "    <tr>\n",
       "      <th>min</th>\n",
       "      <td>-1.541324</td>\n",
       "      <td>-2.256423</td>\n",
       "      <td>-0.477760</td>\n",
       "      <td>-0.463242</td>\n",
       "      <td>-1.352672</td>\n",
       "      <td>-1.852319</td>\n",
       "      <td>-6.753143</td>\n",
       "    </tr>\n",
       "    <tr>\n",
       "      <th>25%</th>\n",
       "      <td>-0.346438</td>\n",
       "      <td>-0.603368</td>\n",
       "      <td>-0.477760</td>\n",
       "      <td>-0.463242</td>\n",
       "      <td>-1.352672</td>\n",
       "      <td>-0.616538</td>\n",
       "      <td>-1.253880</td>\n",
       "    </tr>\n",
       "    <tr>\n",
       "      <th>50%</th>\n",
       "      <td>0.848447</td>\n",
       "      <td>0.017011</td>\n",
       "      <td>-0.477760</td>\n",
       "      <td>-0.463242</td>\n",
       "      <td>0.739278</td>\n",
       "      <td>0.619242</td>\n",
       "      <td>0.395899</td>\n",
       "    </tr>\n",
       "    <tr>\n",
       "      <th>75%</th>\n",
       "      <td>0.848447</td>\n",
       "      <td>0.419952</td>\n",
       "      <td>0.461321</td>\n",
       "      <td>-0.463242</td>\n",
       "      <td>0.739278</td>\n",
       "      <td>0.619242</td>\n",
       "      <td>0.395899</td>\n",
       "    </tr>\n",
       "    <tr>\n",
       "      <th>max</th>\n",
       "      <td>0.848447</td>\n",
       "      <td>3.962214</td>\n",
       "      <td>7.034889</td>\n",
       "      <td>9.976844</td>\n",
       "      <td>0.739278</td>\n",
       "      <td>0.619242</td>\n",
       "      <td>2.595604</td>\n",
       "    </tr>\n",
       "  </tbody>\n",
       "</table>\n",
       "</div>"
      ],
      "text/plain": [
       "                0           1           2           3           4           5  \\\n",
       "count  392.000000  392.000000  392.000000  392.000000  392.000000  392.000000   \n",
       "mean     0.025439    0.042445   -0.027384   -0.051912   -0.013184   -0.027020   \n",
       "std      1.000317    1.034057    0.928012    1.015606    1.005232    1.022711   \n",
       "min     -1.541324   -2.256423   -0.477760   -0.463242   -1.352672   -1.852319   \n",
       "25%     -0.346438   -0.603368   -0.477760   -0.463242   -1.352672   -0.616538   \n",
       "50%      0.848447    0.017011   -0.477760   -0.463242    0.739278    0.619242   \n",
       "75%      0.848447    0.419952    0.461321   -0.463242    0.739278    0.619242   \n",
       "max      0.848447    3.962214    7.034889    9.976844    0.739278    0.619242   \n",
       "\n",
       "                6  \n",
       "count  392.000000  \n",
       "mean    -0.050215  \n",
       "std      1.094223  \n",
       "min     -6.753143  \n",
       "25%     -1.253880  \n",
       "50%      0.395899  \n",
       "75%      0.395899  \n",
       "max      2.595604  "
      ]
     },
     "execution_count": 8,
     "metadata": {},
     "output_type": "execute_result"
    }
   ],
   "source": [
    "pd.DataFrame(xtest_scaled).describe()"
   ]
  },
  {
   "cell_type": "markdown",
   "id": "ca5f075a-bdf2-4a2f-85d1-afc7723a2cca",
   "metadata": {},
   "source": [
    "# K-최근접 이웃"
   ]
  },
  {
   "cell_type": "code",
   "execution_count": 10,
   "id": "206d17b3-9a02-40c9-bafd-d2a25f010775",
   "metadata": {},
   "outputs": [
    {
     "data": {
      "image/png": "[encoded data removed]",
      "text/plain": [
       "<Figure size 432x288 with 1 Axes>"
      ]
     },
     "metadata": {
      "needs_background": "light"
     },
     "output_type": "display_data"
    }
   ],
   "source": [
    "# 반복 횟수: 5\n",
    "scores = []\n",
    "for k in range(1, 10+1):\n",
    "    knn = KNeighborsClassifier(n_neighbors=k)\n",
    "    score = cross_val_score(knn, xtrain_scaled, ytrain, cv=5, scoring='accuracy')\n",
    "    scores.append(np.mean(score))\n",
    "    \n",
    "plt.plot(range(1, 10+1), scores, 'ro--')\n",
    "plt.show()\n",
    "\n",
    "# 과적합 제외, "
   ]
  },
  {
   "cell_type": "code",
   "execution_count": 11,
   "id": "37f0309d-d99c-49e7-b527-8fc0f713e126",
   "metadata": {},
   "outputs": [
    {
     "data": {
      "image/png": "[encoded data removed]",
      "text/plain": [
       "<Figure size 432x288 with 1 Axes>"
      ]
     },
     "metadata": {
      "needs_background": "light"
     },
     "output_type": "display_data"
    }
   ],
   "source": [
    "# 반복 횟수: 10\n",
    "scores = []\n",
    "for k in range(1, 10+1):\n",
    "    knn = KNeighborsClassifier(n_neighbors=k)\n",
    "    score = cross_val_score(knn, xtrain_scaled, ytrain, cv=10, scoring='accuracy')\n",
    "    scores.append(np.mean(score))\n",
    "    \n",
    "plt.plot(range(1, 10+1), scores, 'ro--')\n",
    "plt.show()\n",
    "\n",
    "# 과적합 제외, "
   ]
  },
  {
   "cell_type": "code",
   "execution_count": 12,
   "id": "ba1ffb21-5965-42b1-bc65-3b50dde3b473",
   "metadata": {
    "tags": []
   },
   "outputs": [
    {
     "name": "stdout",
     "output_type": "stream",
     "text": [
      "[0.83606557 0.81967213 0.83606557 0.79234973 0.86813187]\n"
     ]
    },
    {
     "data": {
      "text/plain": [
       "0.8304569747192698"
      ]
     },
     "execution_count": 12,
     "metadata": {},
     "output_type": "execute_result"
    }
   ],
   "source": [
    "# 반복 횟수: 5\n",
    "knnclf = KNeighborsClassifier(n_neighbors=9)\n",
    "scores = cross_val_score(knnclf, xtrain_scaled, ytrain, cv=5, scoring='accuracy')\n",
    "\n",
    "print(scores)\n",
    "np.mean(scores)"
   ]
  },
  {
   "cell_type": "code",
   "execution_count": 13,
   "id": "a5ac861d-521b-48a9-89d6-b4dda9c1291a",
   "metadata": {
    "tags": []
   },
   "outputs": [
    {
     "name": "stdout",
     "output_type": "stream",
     "text": [
      "[0.82608696 0.80434783 0.82608696 0.82608696 0.84615385 0.81318681\n",
      " 0.8021978  0.78021978 0.87912088 0.86813187]\n"
     ]
    },
    {
     "data": {
      "text/plain": [
       "0.8271619684663163"
      ]
     },
     "execution_count": 13,
     "metadata": {},
     "output_type": "execute_result"
    }
   ],
   "source": [
    "# 반복 횟수: 10\n",
    "knnclf = KNeighborsClassifier(n_neighbors=10)\n",
    "scores = cross_val_score(knnclf, xtrain_scaled, ytrain, cv=10, scoring='accuracy')\n",
    "\n",
    "print(scores)\n",
    "np.mean(scores)"
   ]
  },
  {
   "cell_type": "markdown",
   "id": "1506109c-46dc-4d8d-8da0-16dc5b2756b2",
   "metadata": {},
   "source": [
    "# 랜덤 포레스트"
   ]
  },
  {
   "cell_type": "code",
   "execution_count": 15,
   "id": "aef32535-a210-42e3-bff9-92e4aba87d20",
   "metadata": {},
   "outputs": [
    {
     "data": {
      "text/plain": [
       "0.7448979591836735"
      ]
     },
     "execution_count": 15,
     "metadata": {},
     "output_type": "execute_result"
    }
   ],
   "source": [
    "rfclf = RandomForestClassifier(\n",
    "    criterion='entropy'\n",
    "    , n_estimators = 100\n",
    "    , n_jobs = -1              # 모든 CPU 사용\n",
    "    , oob_score=True           # oob 정확도\n",
    "    )                     # 모델 생성\n",
    "\n",
    "rfclf.fit(xtrain, ytrain)        # 모델 학습\n",
    "ypred = rfclf.predict(xtest)         # 이산 예측값\n",
    "accuracy_score(ytest, ypred)"
   ]
  },
  {
   "cell_type": "code",
   "execution_count": 29,
   "id": "b860c206-83e6-4f68-9c0a-08118ad42262",
   "metadata": {},
   "outputs": [
    {
     "ename": "NameError",
     "evalue": "name 'feat_labels' is not defined",
     "output_type": "error",
     "traceback": [
      "\u001b[0;31m---------------------------------------------------------------------------\u001b[0m",
      "\u001b[0;31mNameError\u001b[0m                                 Traceback (most recent call last)",
      "Input \u001b[0;32mIn [29]\u001b[0m, in \u001b[0;36m<cell line: 5>\u001b[0;34m()\u001b[0m\n\u001b[1;32m      3\u001b[0m indices \u001b[38;5;241m=\u001b[39m np\u001b[38;5;241m.\u001b[39margsort(importances)[::\u001b[38;5;241m-\u001b[39m\u001b[38;5;241m1\u001b[39m]\n\u001b[1;32m      5\u001b[0m \u001b[38;5;28;01mfor\u001b[39;00m f \u001b[38;5;129;01min\u001b[39;00m \u001b[38;5;28mrange\u001b[39m(xtrain\u001b[38;5;241m.\u001b[39mshape[\u001b[38;5;241m1\u001b[39m]):\n\u001b[1;32m      6\u001b[0m     \u001b[38;5;28mprint\u001b[39m(\u001b[38;5;124m\"\u001b[39m\u001b[38;5;132;01m%2d\u001b[39;00m\u001b[38;5;124m) \u001b[39m\u001b[38;5;132;01m%-*s\u001b[39;00m\u001b[38;5;124m \u001b[39m\u001b[38;5;132;01m%f\u001b[39;00m\u001b[38;5;124m\"\u001b[39m \u001b[38;5;241m%\u001b[39m (f \u001b[38;5;241m+\u001b[39m \u001b[38;5;241m1\u001b[39m, \u001b[38;5;241m30\u001b[39m,\n\u001b[0;32m----> 7\u001b[0m                              \u001b[43mfeat_labels\u001b[49m[indices[f]],\n\u001b[1;32m      8\u001b[0m                              importances[indices[f]]))\n",
      "\u001b[0;31mNameError\u001b[0m: name 'feat_labels' is not defined"
     ]
    }
   ],
   "source": [
    "importances = rfclf.feature_importances_\n",
    "\n",
    "indices = np.argsort(importances)[::-1]\n",
    "\n",
    "for f in range(xtrain.shape[1]):\n",
    "    print(\"%2d) %-*s %f\" % (f + 1, 30,\n",
    "                             feat_labels[indices[f]],\n",
    "                             importances[indices[f]]))"
   ]
  },
  {
   "cell_type": "code",
   "execution_count": null,
   "id": "e8314acb-3aee-4010-80e5-6729960f989a",
   "metadata": {},
   "outputs": [],
   "source": []
  }
 ],
 "metadata": {
  "kernelspec": {
   "display_name": "Python 3 (ipykernel)",
   "language": "python",
   "name": "python3"
  },
  "language_info": {
   "codemirror_mode": {
    "name": "ipython",
    "version": 3
   },
   "file_extension": ".py",
   "mimetype": "text/x-python",
   "name": "python",
   "nbconvert_exporter": "python",
   "pygments_lexer": "ipython3",
   "version": "3.8.13"
  }
 },
 "nbformat": 4,
 "nbformat_minor": 5
}
