{
 "cells": [
  {
   "cell_type": "markdown",
   "id": "ae3d13b3-c20f-4349-9b3d-e7495c938c7c",
   "metadata": {},
   "source": [
    "## 미세먼지 알리미 텔레그램 봇"
   ]
  },
  {
   "cell_type": "code",
   "execution_count": 1,
   "id": "765ac3f7-e249-4578-80ae-b94489d83a08",
   "metadata": {},
   "outputs": [],
   "source": [
    "import telegram\n",
    "import xml.etree.ElementTree as et\n",
    "import json\n",
    "import requests as req"
   ]
  },
  {
   "cell_type": "code",
   "execution_count": 2,
   "id": "06814cd1-d5c6-4fd6-80f1-5776e7d4ad06",
   "metadata": {},
   "outputs": [],
   "source": [
    "# data.go.kr에서 제공하는 미세먼지 API\n",
    "url1 = 'http://apis.data.go.kr/B552584/ArpltnInforInqireSvc/getCtprvnRltmMesureDnsty?serviceKey=O1nHnnvHdTlHJn9IB55OEVZsW8tvqkALFXNRBo9nGXjODXETiIA9SjoOZAyLAE3OyADFq%2BmhF36yldlCJppS2A%3D%3D&returnType=xml&numOfRows=10000&pageNo=1&sidoName=%EC%A0%84%EA%B5%AD&ver=1.0'\n",
    "url2 = 'http://apis.data.go.kr/B552584/ArpltnInforInqireSvc/getCtprvnRltmMesureDnsty?serviceKey=O1nHnnvHdTlHJn9IB55OEVZsW8tvqkALFXNRBo9nGXjODXETiIA9SjoOZAyLAE3OyADFq%2BmhF36yldlCJppS2A%3D%3D&returnType=json&numOfRows=10000&pageNo=1&sidoName=%EC%A0%84%EA%B5%AD&ver=1.0'"
   ]
  },
  {
   "cell_type": "markdown",
   "id": "637d274c-e2d5-4d2f-bb36-6064dc8faa09",
   "metadata": {},
   "source": [
    "## xml 형태로 불러오기"
   ]
  },
  {
   "cell_type": "code",
   "execution_count": 3,
   "id": "3373a52b-f989-478f-8956-2e6456dca438",
   "metadata": {},
   "outputs": [
    {
     "data": {
      "text/plain": [
       "'<?xml version=\"1.0\" encoding=\"UTF-8\"?>\\r\\n<response>\\n  <header>\\n    <resultCode>00</resultCode>\\n    <resultMsg>NORMAL_CODE</resultMsg>\\n  </header>\\n  <body>\\n    <items>\\n      <item>\\n        <so2Grade/>\\n        <coFlag/>\\n        <khaiValue>48</khaiValue>\\n        <so2Value>-</so2Value>\\n        <coValue>0.4</coValue>\\n        <pm25Flag/>\\n        <pm10Flag/>\\n        <o3Grade>1</o3Grade>\\n        <pm10Value>17</pm10Value>\\n        <khaiGrade>1</khaiGrade>\\n        <pm25Value>6</pm25Value>\\n        <sidoName>'"
      ]
     },
     "execution_count": 3,
     "metadata": {},
     "output_type": "execute_result"
    }
   ],
   "source": [
    "res = req.get(url1)\n",
    "res.text[:500]"
   ]
  },
  {
   "cell_type": "code",
   "execution_count": 4,
   "id": "6adda8a4-5610-4a51-b682-0839b4e71c91",
   "metadata": {},
   "outputs": [],
   "source": [
    "# 서버에서 받아온 데이터를 파일로 저장\n",
    "with open('../data/air.xml', 'w', encoding='UTF-8') as f:\n",
    "    f.writelines(res.text)"
   ]
  },
  {
   "cell_type": "code",
   "execution_count": 5,
   "id": "060a0da8-dbd5-4790-a516-22aa5396fc6a",
   "metadata": {},
   "outputs": [],
   "source": [
    "# xml 형태로 저장된 파일에서 원하는 정보 얻기\n",
    "tree = et.parse('../data/air.xml')\n",
    "root = tree.getroot()"
   ]
  },
  {
   "cell_type": "code",
   "execution_count": 6,
   "id": "07e88fef-9c05-47fc-b8a7-a8a6fc0b8578",
   "metadata": {},
   "outputs": [
    {
     "name": "stdout",
     "output_type": "stream",
     "text": [
      "2022-09-01 12:00 세종 한솔동 17 6\n",
      "2022-09-01 12:00 세종 부강면 18 5\n",
      "2022-09-01 12:00 세종 보람동 - -\n",
      "2022-09-01 13:00 강원 중앙동(강원) 16 11\n",
      "2022-09-01 13:00 강원 반곡동(명륜동) 24 7\n",
      "2022-09-01 13:00 강원 문막읍 7 2\n",
      "2022-09-01 13:00 강원 지정면 9 4\n",
      "2022-09-01 13:00 강원 주문진읍 15 12\n",
      "2022-09-01 13:00 강원 옥천동 15 3\n",
      "2022-09-01 13:00 강원 천곡동 13 4\n",
      "2022-09-01 13:00 강원 남양동1 4 -\n"
     ]
    }
   ],
   "source": [
    "# 미세정보 : 작성일자, 시도, 구/동/읍/면, 미세먼지/초미세먼지농도\n",
    "cnt = 0\n",
    "for data in root.findall('body/items/item'):\n",
    "    date = data.find('dataTime').text\n",
    "    sido = data.find('sidoName').text\n",
    "    stnm = data.find('stationName').text\n",
    "    pm10 = data.find('pm10Value').text\n",
    "    pm25 = data.find('pm25Value').text\n",
    "    \n",
    "    if cnt <= 10:    # 결과 중 1건만 출력\n",
    "        print(date, sido, stnm, pm10, pm25)\n",
    "        cnt = cnt + 1\n",
    "    else: break    "
   ]
  },
  {
   "cell_type": "code",
   "execution_count": 7,
   "id": "b16c3372-5f49-40de-9b12-57bda06a9be5",
   "metadata": {},
   "outputs": [
    {
     "name": "stdout",
     "output_type": "stream",
     "text": [
      "2022-09-01 13:00 서울 구로구 21 7\n"
     ]
    }
   ],
   "source": [
    "# 시도, 구이름으로 원하는 지역의 미세먼지 정보 추출\n",
    "sido = '서울'\n",
    "gu = '구로구'\n",
    "\n",
    "for data in root.findall('body/items/item'):\n",
    "    sd = data.find('sidoName').text\n",
    "    stnm = data.find('stationName').text\n",
    "    \n",
    "    if (sd == sido) and (stnm == gu):\n",
    "        date = data.find('dataTime').text\n",
    "        pm10 = data.find('pm10Value').text\n",
    "        pm25 = data.find('pm25Value').text\n",
    "    \n",
    "        print(date, sido, stnm, pm10, pm25)\n",
    "        break"
   ]
  },
  {
   "cell_type": "markdown",
   "id": "55e0cec7-95f2-4112-b62a-381c5641eed7",
   "metadata": {},
   "source": [
    "## 미세먼지 농도별 등급\n",
    "#### <img src='../img/pm10pm25.png' width='85%'>"
   ]
  },
  {
   "cell_type": "code",
   "execution_count": 8,
   "id": "03a0307e-e840-45a4-9aeb-5fa32b0cd356",
   "metadata": {},
   "outputs": [],
   "source": [
    "def rate_pm10(val):\n",
    "    if (val == '-') or (val == None): rate = '-'\n",
    "    else: \n",
    "        val = int(val)\n",
    "        rate = '😱'\n",
    "        if val <= 30: rate = '😍'\n",
    "        elif val <= 80: rate = '😊'\n",
    "        elif val <= 150: rate = '🙁️'\n",
    "    return rate"
   ]
  },
  {
   "cell_type": "code",
   "execution_count": 9,
   "id": "793ab2e0-2ad2-4c1d-95e3-af3ccff7f0e7",
   "metadata": {},
   "outputs": [],
   "source": [
    "def rate_pm25(val):\n",
    "    if (val == '-') or (val == None): rate = '-'\n",
    "    else: \n",
    "        val = int(val)\n",
    "        rate = '😱'\n",
    "        if val <= 15: rate = '😍'\n",
    "        elif val <= 35: rate = '😊'\n",
    "        elif val <= 75: rate = '🙁️'\n",
    "    return rate"
   ]
  },
  {
   "cell_type": "code",
   "execution_count": 10,
   "id": "1283d6ff-b802-4c63-94b8-651936fe7812",
   "metadata": {},
   "outputs": [
    {
     "name": "stdout",
     "output_type": "stream",
     "text": [
      "2022-09-01 13:00 서울 구로구 21 😍 7 😍\n"
     ]
    }
   ],
   "source": [
    "# 대기정보를 이모지와 함께 출력\n",
    "sido = '서울'\n",
    "gu = '구로구'\n",
    "\n",
    "for data in root.findall('body/items/item'):\n",
    "    sd = data.find('sidoName').text\n",
    "    stnm = data.find('stationName').text\n",
    "    \n",
    "    if (sd == sido) and (stnm == gu):\n",
    "        date = data.find('dataTime').text\n",
    "        pm10 = data.find('pm10Value').text\n",
    "        pm25 = data.find('pm25Value').text\n",
    "        p10 = rate_pm10( pm10 )\n",
    "        p25 = rate_pm25( pm25 )\n",
    "    \n",
    "        print(date, sido, stnm, pm10, p10, pm25, p25)\n",
    "        break"
   ]
  },
  {
   "cell_type": "markdown",
   "id": "aa441546-4446-40cc-aad6-3c39c9afcd2f",
   "metadata": {},
   "source": [
    "## json 형태로 불러오기"
   ]
  },
  {
   "cell_type": "code",
   "execution_count": 11,
   "id": "30400fa2-62b2-49fe-834e-53ebd61f1810",
   "metadata": {
    "tags": []
   },
   "outputs": [
    {
     "data": {
      "text/plain": [
       "'{\"response\":{\"body\":{\"totalCount\":631,\"items\":[{\"so2Grade\":null,\"coFlag\":null,\"khaiValue\":\"48\",\"so2Value\":\"-\",\"coValue\":\"0.4\",\"pm25Flag\":null,\"pm10Flag\":null,\"o3Grade\":\"1\",\"pm10Value\":\"17\",\"khaiGrade\":\"1\",\"pm25Value\":\"6\",\"sidoName\":\"세종\",\"no2Flag\":null,\"no2Grade\":\"1\",\"o3Flag\":null,\"pm25Grade\":\"1\",\"so2Flag\":\"자료이상\",\"dataTime\":\"2022-09-01 12:00\",\"coGrade\":\"1\",\"no2Value\":\"0.011\",\"stationName\":\"한솔동\",\"pm10Grade\":\"1\",\"o3Value\":\"0.029\"},{\"so2Grade\":\"1\",\"coFlag\":null,\"khaiValue\":\"45\",\"so2Value\":\"0.003\",\"c'"
      ]
     },
     "execution_count": 11,
     "metadata": {},
     "output_type": "execute_result"
    }
   ],
   "source": [
    "res = req.get(url2)\n",
    "res.text[:500]"
   ]
  },
  {
   "cell_type": "code",
   "execution_count": 12,
   "id": "fc1b20a0-9f71-4241-b4c0-2bd27f821678",
   "metadata": {},
   "outputs": [],
   "source": [
    "with open('../data/air.json', 'w', encoding='UTF-8') as f:\n",
    "    f.writelines(res.text)"
   ]
  },
  {
   "cell_type": "code",
   "execution_count": 13,
   "id": "0e3c0c2d-2088-44ef-8baf-38bbc43e68e3",
   "metadata": {},
   "outputs": [],
   "source": [
    "with open('../data/air.json', encoding='UTF-8') as f:\n",
    "    airdata = json.load(f)"
   ]
  },
  {
   "cell_type": "code",
   "execution_count": 14,
   "id": "a062a93e-a9c3-4776-913e-bcb66ab80076",
   "metadata": {},
   "outputs": [
    {
     "name": "stdout",
     "output_type": "stream",
     "text": [
      "2022-09-01 13:00 서울 구로구 21 😍 7 😍\n"
     ]
    }
   ],
   "source": [
    "sido = '서울'\n",
    "gu = '구로구'\n",
    "\n",
    "for item in airdata['response']['body']['items']:\n",
    "    sd = item['sidoName']\n",
    "    stnm = item['stationName']\n",
    "    \n",
    "    if (sd == sido) and (gu == stnm):\n",
    "        date = item['dataTime']    \n",
    "        pm10 = item['pm10Value']\n",
    "        pm25 = item['pm25Value']\n",
    "        p10 = rate_pm10( pm10 )\n",
    "        p25 = rate_pm25( pm25 )\n",
    "        print(date, sido, stnm, pm10, p10, pm25, p25)\n",
    "        break"
   ]
  },
  {
   "cell_type": "markdown",
   "id": "99a6131d-9e47-4150-bade-7403aad08756",
   "metadata": {},
   "source": [
    "## 미세먼지 챗봇 구현하기 (json)"
   ]
  },
  {
   "cell_type": "code",
   "execution_count": 15,
   "id": "18558189-86e4-47c0-84d9-d2f1cf2f534a",
   "metadata": {},
   "outputs": [],
   "source": [
    "# data.go.kr에서 대기정보 받아서 파일로 저장\n",
    "def reload_air():\n",
    "    res = req.get(url2)\n",
    "    with open('../data/air.json', 'w', encoding='UTF-8') as f:\n",
    "        f.writelines(res.text)"
   ]
  },
  {
   "cell_type": "code",
   "execution_count": 16,
   "id": "d8680976-2aa7-41b3-9f8c-25c1a72c3f8b",
   "metadata": {},
   "outputs": [],
   "source": [
    "# 특정지역의 대기정보와 이모지 받아오기\n",
    "def fetch_air(sido, gu):\n",
    "    with open('../data/air.json', encoding='UTF-8') as f:\n",
    "        airdata = json.load(f)\n",
    "    \n",
    "    for item in airdata['response']['body']['items']:\n",
    "        sd = item['sidoName']\n",
    "        stnm = item['stationName']\n",
    "\n",
    "        airinfo = ''\n",
    "        if (sd == sido) and (gu == stnm):\n",
    "            date = item['dataTime']    \n",
    "            pm10 = item['pm10Value']\n",
    "            pm25 = item['pm25Value']\n",
    "            p10 = rate_pm10( pm10 )\n",
    "            p25 = rate_pm25( pm25 )\n",
    "            airinfo = f'{date}, {sido}, {stnm}, {pm10}, {p10}, {pm25}, {p25}'\n",
    "            break\n",
    "        \n",
    "    return airinfo"
   ]
  },
  {
   "cell_type": "code",
   "execution_count": 17,
   "id": "14cf4b09-abc4-4c9a-87b9-445032b114af",
   "metadata": {},
   "outputs": [
    {
     "data": {
      "text/plain": [
       "'2022-09-01 13:00, 서울, 구로구, 21, 😍, 7, 😍'"
      ]
     },
     "execution_count": 17,
     "metadata": {},
     "output_type": "execute_result"
    }
   ],
   "source": [
    "fetch_air('서울','구로구')"
   ]
  },
  {
   "cell_type": "code",
   "execution_count": 18,
   "id": "05f11a28-658f-4601-854a-98e4d0246a33",
   "metadata": {},
   "outputs": [],
   "source": [
    "from telegram.ext import Updater\n",
    "from telegram.ext import MessageHandler\n",
    "from telegram.ext import Filters\n",
    "from telegram.ext import CommandHandler"
   ]
  },
  {
   "cell_type": "code",
   "execution_count": 19,
   "id": "8388b844-d6da-44fe-b32c-8efdcb8def96",
   "metadata": {},
   "outputs": [],
   "source": [
    "token = '5786843226:'\n",
    "bot = telegram.Bot(token=token)"
   ]
  },
  {
   "cell_type": "code",
   "execution_count": 20,
   "id": "d3e738e9-b716-4fef-88a2-af27155e967d",
   "metadata": {},
   "outputs": [],
   "source": [
    "# 메세지 처리 함수 정의\n",
    "def air_message(update, context):\n",
    "    info = update.message.text.split(',')\n",
    "    airinfo = fetch_air(info[0].strip(), info[1].strip())\n",
    "    update.message.reply_text(text=f'{airinfo}')\n",
    "    \n",
    "def reload_message(update, context):\n",
    "    reload_air()\n",
    "    update.message.reply_text(text=f'대기정보 갱신됨!!')"
   ]
  },
  {
   "cell_type": "code",
   "execution_count": 21,
   "id": "8d295284-6400-450c-9626-375e0d184eb7",
   "metadata": {},
   "outputs": [],
   "source": [
    "# 챗봇 서버 준비\n",
    "updater = Updater(token)\n",
    "\n",
    "reload_handler = CommandHandler('reload', reload_message)\n",
    "air_handler = MessageHandler(Filters.text, air_message)"
   ]
  },
  {
   "cell_type": "code",
   "execution_count": 22,
   "id": "26a5f93b-b4ee-449c-b014-52ec3cf77e2c",
   "metadata": {},
   "outputs": [],
   "source": [
    "updater.dispatcher.add_handler(reload_handler)\n",
    "updater.dispatcher.add_handler(air_handler)"
   ]
  },
  {
   "cell_type": "code",
   "execution_count": 23,
   "id": "e546d036-033d-4c53-a165-ff840855c5ad",
   "metadata": {},
   "outputs": [
    {
     "name": "stderr",
     "output_type": "stream",
     "text": [
      "/tmp/ipykernel_3684/1054514104.py:1: TelegramDeprecationWarning: The argument `clean` of `start_polling` is deprecated. Please use `drop_pending_updates` instead.\n",
      "  updater.start_polling(clean=True, timeout=3)\n"
     ]
    },
    {
     "ename": "Unauthorized",
     "evalue": "Unauthorized",
     "output_type": "error",
     "traceback": [
      "\u001b[0;31m---------------------------------------------------------------------------\u001b[0m",
      "\u001b[0;31mUnauthorized\u001b[0m                              Traceback (most recent call last)",
      "Input \u001b[0;32mIn [23]\u001b[0m, in \u001b[0;36m<cell line: 1>\u001b[0;34m()\u001b[0m\n\u001b[0;32m----> 1\u001b[0m \u001b[43mupdater\u001b[49m\u001b[38;5;241;43m.\u001b[39;49m\u001b[43mstart_polling\u001b[49m\u001b[43m(\u001b[49m\u001b[43mclean\u001b[49m\u001b[38;5;241;43m=\u001b[39;49m\u001b[38;5;28;43;01mTrue\u001b[39;49;00m\u001b[43m,\u001b[49m\u001b[43m \u001b[49m\u001b[43mtimeout\u001b[49m\u001b[38;5;241;43m=\u001b[39;49m\u001b[38;5;241;43m3\u001b[39;49m\u001b[43m)\u001b[49m\n\u001b[1;32m      2\u001b[0m updater\u001b[38;5;241m.\u001b[39midle()\n",
      "File \u001b[0;32m/opt/miniconda3/lib/python3.8/site-packages/telegram/ext/updater.py:422\u001b[0m, in \u001b[0;36mUpdater.start_polling\u001b[0;34m(self, poll_interval, timeout, clean, bootstrap_retries, read_latency, allowed_updates, drop_pending_updates)\u001b[0m\n\u001b[1;32m    420\u001b[0m dispatcher_ready \u001b[38;5;241m=\u001b[39m Event()\n\u001b[1;32m    421\u001b[0m polling_ready \u001b[38;5;241m=\u001b[39m Event()\n\u001b[0;32m--> 422\u001b[0m \u001b[38;5;28;43mself\u001b[39;49m\u001b[38;5;241;43m.\u001b[39;49m\u001b[43m_init_thread\u001b[49m\u001b[43m(\u001b[49m\u001b[38;5;28;43mself\u001b[39;49m\u001b[38;5;241;43m.\u001b[39;49m\u001b[43mdispatcher\u001b[49m\u001b[38;5;241;43m.\u001b[39;49m\u001b[43mstart\u001b[49m\u001b[43m,\u001b[49m\u001b[43m \u001b[49m\u001b[38;5;124;43m\"\u001b[39;49m\u001b[38;5;124;43mdispatcher\u001b[39;49m\u001b[38;5;124;43m\"\u001b[39;49m\u001b[43m,\u001b[49m\u001b[43m \u001b[49m\u001b[43mready\u001b[49m\u001b[38;5;241;43m=\u001b[39;49m\u001b[43mdispatcher_ready\u001b[49m\u001b[43m)\u001b[49m\n\u001b[1;32m    423\u001b[0m \u001b[38;5;28mself\u001b[39m\u001b[38;5;241m.\u001b[39m_init_thread(\n\u001b[1;32m    424\u001b[0m     \u001b[38;5;28mself\u001b[39m\u001b[38;5;241m.\u001b[39m_start_polling,\n\u001b[1;32m    425\u001b[0m     \u001b[38;5;124m\"\u001b[39m\u001b[38;5;124mupdater\u001b[39m\u001b[38;5;124m\"\u001b[39m,\n\u001b[0;32m   (...)\u001b[0m\n\u001b[1;32m    432\u001b[0m     ready\u001b[38;5;241m=\u001b[39mpolling_ready,\n\u001b[1;32m    433\u001b[0m )\n\u001b[1;32m    435\u001b[0m \u001b[38;5;28mself\u001b[39m\u001b[38;5;241m.\u001b[39mlogger\u001b[38;5;241m.\u001b[39mdebug(\u001b[38;5;124m'\u001b[39m\u001b[38;5;124mWaiting for Dispatcher and polling to start\u001b[39m\u001b[38;5;124m'\u001b[39m)\n",
      "File \u001b[0;32m/opt/miniconda3/lib/python3.8/site-packages/telegram/ext/updater.py:342\u001b[0m, in \u001b[0;36mUpdater._init_thread\u001b[0;34m(self, target, name, *args, **kwargs)\u001b[0m\n\u001b[1;32m    339\u001b[0m \u001b[38;5;28;01mdef\u001b[39;00m \u001b[38;5;21m_init_thread\u001b[39m(\u001b[38;5;28mself\u001b[39m, target: Callable, name: \u001b[38;5;28mstr\u001b[39m, \u001b[38;5;241m*\u001b[39margs: \u001b[38;5;28mobject\u001b[39m, \u001b[38;5;241m*\u001b[39m\u001b[38;5;241m*\u001b[39mkwargs: \u001b[38;5;28mobject\u001b[39m) \u001b[38;5;241m-\u001b[39m\u001b[38;5;241m>\u001b[39m \u001b[38;5;28;01mNone\u001b[39;00m:\n\u001b[1;32m    340\u001b[0m     thr \u001b[38;5;241m=\u001b[39m Thread(\n\u001b[1;32m    341\u001b[0m         target\u001b[38;5;241m=\u001b[39m\u001b[38;5;28mself\u001b[39m\u001b[38;5;241m.\u001b[39m_thread_wrapper,\n\u001b[0;32m--> 342\u001b[0m         name\u001b[38;5;241m=\u001b[39m\u001b[38;5;124mf\u001b[39m\u001b[38;5;124m\"\u001b[39m\u001b[38;5;124mBot:\u001b[39m\u001b[38;5;132;01m{\u001b[39;00m\u001b[38;5;28mself\u001b[39m\u001b[38;5;241m.\u001b[39mbot\u001b[38;5;241m.\u001b[39mid\u001b[38;5;132;01m}\u001b[39;00m\u001b[38;5;124m:\u001b[39m\u001b[38;5;132;01m{\u001b[39;00mname\u001b[38;5;132;01m}\u001b[39;00m\u001b[38;5;124m\"\u001b[39m,\n\u001b[1;32m    343\u001b[0m         args\u001b[38;5;241m=\u001b[39m(target,) \u001b[38;5;241m+\u001b[39m args,\n\u001b[1;32m    344\u001b[0m         kwargs\u001b[38;5;241m=\u001b[39mkwargs,\n\u001b[1;32m    345\u001b[0m     )\n\u001b[1;32m    346\u001b[0m     thr\u001b[38;5;241m.\u001b[39mstart()\n\u001b[1;32m    347\u001b[0m     \u001b[38;5;28mself\u001b[39m\u001b[38;5;241m.\u001b[39m__threads\u001b[38;5;241m.\u001b[39mappend(thr)\n",
      "File \u001b[0;32m/opt/miniconda3/lib/python3.8/site-packages/telegram/bot.py:372\u001b[0m, in \u001b[0;36mBot.id\u001b[0;34m(self)\u001b[0m\n\u001b[1;32m    369\u001b[0m \u001b[38;5;129m@property\u001b[39m\n\u001b[1;32m    370\u001b[0m \u001b[38;5;28;01mdef\u001b[39;00m \u001b[38;5;21mid\u001b[39m(\u001b[38;5;28mself\u001b[39m) \u001b[38;5;241m-\u001b[39m\u001b[38;5;241m>\u001b[39m \u001b[38;5;28mint\u001b[39m:  \u001b[38;5;66;03m# pylint: disable=C0103\u001b[39;00m\n\u001b[1;32m    371\u001b[0m     \u001b[38;5;124;03m\"\"\":obj:`int`: Unique identifier for this bot.\"\"\"\u001b[39;00m\n\u001b[0;32m--> 372\u001b[0m     \u001b[38;5;28;01mreturn\u001b[39;00m \u001b[38;5;28;43mself\u001b[39;49m\u001b[38;5;241;43m.\u001b[39;49m\u001b[43mbot\u001b[49m\u001b[38;5;241m.\u001b[39mid\n",
      "File \u001b[0;32m/opt/miniconda3/lib/python3.8/site-packages/telegram/bot.py:366\u001b[0m, in \u001b[0;36mBot.bot\u001b[0;34m(self)\u001b[0m\n\u001b[1;32m    364\u001b[0m \u001b[38;5;124;03m\"\"\":class:`telegram.User`: User instance for the bot as returned by :meth:`get_me`.\"\"\"\u001b[39;00m\n\u001b[1;32m    365\u001b[0m \u001b[38;5;28;01mif\u001b[39;00m \u001b[38;5;28mself\u001b[39m\u001b[38;5;241m.\u001b[39m_bot \u001b[38;5;129;01mis\u001b[39;00m \u001b[38;5;28;01mNone\u001b[39;00m:\n\u001b[0;32m--> 366\u001b[0m     \u001b[38;5;28mself\u001b[39m\u001b[38;5;241m.\u001b[39m_bot \u001b[38;5;241m=\u001b[39m \u001b[38;5;28;43mself\u001b[39;49m\u001b[38;5;241;43m.\u001b[39;49m\u001b[43mget_me\u001b[49m\u001b[43m(\u001b[49m\u001b[43m)\u001b[49m\n\u001b[1;32m    367\u001b[0m \u001b[38;5;28;01mreturn\u001b[39;00m \u001b[38;5;28mself\u001b[39m\u001b[38;5;241m.\u001b[39m_bot\n",
      "File \u001b[0;32m/opt/miniconda3/lib/python3.8/site-packages/telegram/bot.py:133\u001b[0m, in \u001b[0;36mlog.<locals>.decorator\u001b[0;34m(*args, **kwargs)\u001b[0m\n\u001b[1;32m    130\u001b[0m \u001b[38;5;129m@functools\u001b[39m\u001b[38;5;241m.\u001b[39mwraps(func)\n\u001b[1;32m    131\u001b[0m \u001b[38;5;28;01mdef\u001b[39;00m \u001b[38;5;21mdecorator\u001b[39m(\u001b[38;5;241m*\u001b[39margs: \u001b[38;5;28mobject\u001b[39m, \u001b[38;5;241m*\u001b[39m\u001b[38;5;241m*\u001b[39mkwargs: \u001b[38;5;28mobject\u001b[39m) \u001b[38;5;241m-\u001b[39m\u001b[38;5;241m>\u001b[39m RT:  \u001b[38;5;66;03m# pylint: disable=W0613\u001b[39;00m\n\u001b[1;32m    132\u001b[0m     logger\u001b[38;5;241m.\u001b[39mdebug(\u001b[38;5;124m'\u001b[39m\u001b[38;5;124mEntering: \u001b[39m\u001b[38;5;132;01m%s\u001b[39;00m\u001b[38;5;124m'\u001b[39m, func\u001b[38;5;241m.\u001b[39m\u001b[38;5;18m__name__\u001b[39m)\n\u001b[0;32m--> 133\u001b[0m     result \u001b[38;5;241m=\u001b[39m \u001b[43mfunc\u001b[49m\u001b[43m(\u001b[49m\u001b[38;5;241;43m*\u001b[39;49m\u001b[43margs\u001b[49m\u001b[43m,\u001b[49m\u001b[43m \u001b[49m\u001b[38;5;241;43m*\u001b[39;49m\u001b[38;5;241;43m*\u001b[39;49m\u001b[43mkwargs\u001b[49m\u001b[43m)\u001b[49m\n\u001b[1;32m    134\u001b[0m     logger\u001b[38;5;241m.\u001b[39mdebug(result)\n\u001b[1;32m    135\u001b[0m     logger\u001b[38;5;241m.\u001b[39mdebug(\u001b[38;5;124m'\u001b[39m\u001b[38;5;124mExiting: \u001b[39m\u001b[38;5;132;01m%s\u001b[39;00m\u001b[38;5;124m'\u001b[39m, func\u001b[38;5;241m.\u001b[39m\u001b[38;5;18m__name__\u001b[39m)\n",
      "File \u001b[0;32m/opt/miniconda3/lib/python3.8/site-packages/telegram/bot.py:453\u001b[0m, in \u001b[0;36mBot.get_me\u001b[0;34m(self, timeout, api_kwargs)\u001b[0m\n\u001b[1;32m    434\u001b[0m \u001b[38;5;129m@log\u001b[39m\n\u001b[1;32m    435\u001b[0m \u001b[38;5;28;01mdef\u001b[39;00m \u001b[38;5;21mget_me\u001b[39m(\u001b[38;5;28mself\u001b[39m, timeout: ODVInput[\u001b[38;5;28mfloat\u001b[39m] \u001b[38;5;241m=\u001b[39m DEFAULT_NONE, api_kwargs: JSONDict \u001b[38;5;241m=\u001b[39m \u001b[38;5;28;01mNone\u001b[39;00m) \u001b[38;5;241m-\u001b[39m\u001b[38;5;241m>\u001b[39m User:\n\u001b[1;32m    436\u001b[0m     \u001b[38;5;124;03m\"\"\"A simple method for testing your bot's auth token. Requires no parameters.\u001b[39;00m\n\u001b[1;32m    437\u001b[0m \n\u001b[1;32m    438\u001b[0m \u001b[38;5;124;03m    Args:\u001b[39;00m\n\u001b[0;32m   (...)\u001b[0m\n\u001b[1;32m    451\u001b[0m \n\u001b[1;32m    452\u001b[0m \u001b[38;5;124;03m    \"\"\"\u001b[39;00m\n\u001b[0;32m--> 453\u001b[0m     result \u001b[38;5;241m=\u001b[39m \u001b[38;5;28;43mself\u001b[39;49m\u001b[38;5;241;43m.\u001b[39;49m\u001b[43m_post\u001b[49m\u001b[43m(\u001b[49m\u001b[38;5;124;43m'\u001b[39;49m\u001b[38;5;124;43mgetMe\u001b[39;49m\u001b[38;5;124;43m'\u001b[39;49m\u001b[43m,\u001b[49m\u001b[43m \u001b[49m\u001b[43mtimeout\u001b[49m\u001b[38;5;241;43m=\u001b[39;49m\u001b[43mtimeout\u001b[49m\u001b[43m,\u001b[49m\u001b[43m \u001b[49m\u001b[43mapi_kwargs\u001b[49m\u001b[38;5;241;43m=\u001b[39;49m\u001b[43mapi_kwargs\u001b[49m\u001b[43m)\u001b[49m\n\u001b[1;32m    455\u001b[0m     \u001b[38;5;28mself\u001b[39m\u001b[38;5;241m.\u001b[39m_bot \u001b[38;5;241m=\u001b[39m User\u001b[38;5;241m.\u001b[39mde_json(result, \u001b[38;5;28mself\u001b[39m)  \u001b[38;5;66;03m# type: ignore[return-value, arg-type]\u001b[39;00m\n\u001b[1;32m    457\u001b[0m     \u001b[38;5;28;01mreturn\u001b[39;00m \u001b[38;5;28mself\u001b[39m\u001b[38;5;241m.\u001b[39m_bot\n",
      "File \u001b[0;32m/opt/miniconda3/lib/python3.8/site-packages/telegram/bot.py:298\u001b[0m, in \u001b[0;36mBot._post\u001b[0;34m(self, endpoint, data, timeout, api_kwargs)\u001b[0m\n\u001b[1;32m    295\u001b[0m \u001b[38;5;66;03m# Drop any None values because Telegram doesn't handle them well\u001b[39;00m\n\u001b[1;32m    296\u001b[0m data \u001b[38;5;241m=\u001b[39m {key: value \u001b[38;5;28;01mfor\u001b[39;00m key, value \u001b[38;5;129;01min\u001b[39;00m data\u001b[38;5;241m.\u001b[39mitems() \u001b[38;5;28;01mif\u001b[39;00m value \u001b[38;5;129;01mis\u001b[39;00m \u001b[38;5;129;01mnot\u001b[39;00m \u001b[38;5;28;01mNone\u001b[39;00m}\n\u001b[0;32m--> 298\u001b[0m \u001b[38;5;28;01mreturn\u001b[39;00m \u001b[38;5;28;43mself\u001b[39;49m\u001b[38;5;241;43m.\u001b[39;49m\u001b[43mrequest\u001b[49m\u001b[38;5;241;43m.\u001b[39;49m\u001b[43mpost\u001b[49m\u001b[43m(\u001b[49m\n\u001b[1;32m    299\u001b[0m \u001b[43m    \u001b[49m\u001b[38;5;124;43mf\u001b[39;49m\u001b[38;5;124;43m'\u001b[39;49m\u001b[38;5;132;43;01m{\u001b[39;49;00m\u001b[38;5;28;43mself\u001b[39;49m\u001b[38;5;241;43m.\u001b[39;49m\u001b[43mbase_url\u001b[49m\u001b[38;5;132;43;01m}\u001b[39;49;00m\u001b[38;5;124;43m/\u001b[39;49m\u001b[38;5;132;43;01m{\u001b[39;49;00m\u001b[43mendpoint\u001b[49m\u001b[38;5;132;43;01m}\u001b[39;49;00m\u001b[38;5;124;43m'\u001b[39;49m\u001b[43m,\u001b[49m\u001b[43m \u001b[49m\u001b[43mdata\u001b[49m\u001b[38;5;241;43m=\u001b[39;49m\u001b[43mdata\u001b[49m\u001b[43m,\u001b[49m\u001b[43m \u001b[49m\u001b[43mtimeout\u001b[49m\u001b[38;5;241;43m=\u001b[39;49m\u001b[43meffective_timeout\u001b[49m\n\u001b[1;32m    300\u001b[0m \u001b[43m\u001b[49m\u001b[43m)\u001b[49m\n",
      "File \u001b[0;32m/opt/miniconda3/lib/python3.8/site-packages/telegram/utils/request.py:361\u001b[0m, in \u001b[0;36mRequest.post\u001b[0;34m(self, url, data, timeout)\u001b[0m\n\u001b[1;32m    359\u001b[0m     result \u001b[38;5;241m=\u001b[39m \u001b[38;5;28mself\u001b[39m\u001b[38;5;241m.\u001b[39m_request_wrapper(\u001b[38;5;124m'\u001b[39m\u001b[38;5;124mPOST\u001b[39m\u001b[38;5;124m'\u001b[39m, url, fields\u001b[38;5;241m=\u001b[39mdata, \u001b[38;5;241m*\u001b[39m\u001b[38;5;241m*\u001b[39murlopen_kwargs)\n\u001b[1;32m    360\u001b[0m \u001b[38;5;28;01melse\u001b[39;00m:\n\u001b[0;32m--> 361\u001b[0m     result \u001b[38;5;241m=\u001b[39m \u001b[38;5;28;43mself\u001b[39;49m\u001b[38;5;241;43m.\u001b[39;49m\u001b[43m_request_wrapper\u001b[49m\u001b[43m(\u001b[49m\n\u001b[1;32m    362\u001b[0m \u001b[43m        \u001b[49m\u001b[38;5;124;43m'\u001b[39;49m\u001b[38;5;124;43mPOST\u001b[39;49m\u001b[38;5;124;43m'\u001b[39;49m\u001b[43m,\u001b[49m\n\u001b[1;32m    363\u001b[0m \u001b[43m        \u001b[49m\u001b[43murl\u001b[49m\u001b[43m,\u001b[49m\n\u001b[1;32m    364\u001b[0m \u001b[43m        \u001b[49m\u001b[43mbody\u001b[49m\u001b[38;5;241;43m=\u001b[39;49m\u001b[43mjson\u001b[49m\u001b[38;5;241;43m.\u001b[39;49m\u001b[43mdumps\u001b[49m\u001b[43m(\u001b[49m\u001b[43mdata\u001b[49m\u001b[43m)\u001b[49m\u001b[38;5;241;43m.\u001b[39;49m\u001b[43mencode\u001b[49m\u001b[43m(\u001b[49m\u001b[38;5;124;43m'\u001b[39;49m\u001b[38;5;124;43mutf-8\u001b[39;49m\u001b[38;5;124;43m'\u001b[39;49m\u001b[43m)\u001b[49m\u001b[43m,\u001b[49m\n\u001b[1;32m    365\u001b[0m \u001b[43m        \u001b[49m\u001b[43mheaders\u001b[49m\u001b[38;5;241;43m=\u001b[39;49m\u001b[43m{\u001b[49m\u001b[38;5;124;43m'\u001b[39;49m\u001b[38;5;124;43mContent-Type\u001b[39;49m\u001b[38;5;124;43m'\u001b[39;49m\u001b[43m:\u001b[49m\u001b[43m \u001b[49m\u001b[38;5;124;43m'\u001b[39;49m\u001b[38;5;124;43mapplication/json\u001b[39;49m\u001b[38;5;124;43m'\u001b[39;49m\u001b[43m}\u001b[49m\u001b[43m,\u001b[49m\n\u001b[1;32m    366\u001b[0m \u001b[43m        \u001b[49m\u001b[38;5;241;43m*\u001b[39;49m\u001b[38;5;241;43m*\u001b[39;49m\u001b[43murlopen_kwargs\u001b[49m\u001b[43m,\u001b[49m\n\u001b[1;32m    367\u001b[0m \u001b[43m    \u001b[49m\u001b[43m)\u001b[49m\n\u001b[1;32m    369\u001b[0m \u001b[38;5;28;01mreturn\u001b[39;00m \u001b[38;5;28mself\u001b[39m\u001b[38;5;241m.\u001b[39m_parse(result)\n",
      "File \u001b[0;32m/opt/miniconda3/lib/python3.8/site-packages/telegram/utils/request.py:277\u001b[0m, in \u001b[0;36mRequest._request_wrapper\u001b[0;34m(self, *args, **kwargs)\u001b[0m\n\u001b[1;32m    274\u001b[0m     message \u001b[38;5;241m=\u001b[39m \u001b[38;5;124m'\u001b[39m\u001b[38;5;124mUnknown HTTPError\u001b[39m\u001b[38;5;124m'\u001b[39m\n\u001b[1;32m    276\u001b[0m \u001b[38;5;28;01mif\u001b[39;00m resp\u001b[38;5;241m.\u001b[39mstatus \u001b[38;5;129;01min\u001b[39;00m (\u001b[38;5;241m401\u001b[39m, \u001b[38;5;241m403\u001b[39m):\n\u001b[0;32m--> 277\u001b[0m     \u001b[38;5;28;01mraise\u001b[39;00m Unauthorized(message)\n\u001b[1;32m    278\u001b[0m \u001b[38;5;28;01mif\u001b[39;00m resp\u001b[38;5;241m.\u001b[39mstatus \u001b[38;5;241m==\u001b[39m \u001b[38;5;241m400\u001b[39m:\n\u001b[1;32m    279\u001b[0m     \u001b[38;5;28;01mraise\u001b[39;00m BadRequest(message)\n",
      "\u001b[0;31mUnauthorized\u001b[0m: Unauthorized"
     ]
    }
   ],
   "source": [
    "updater.start_polling(clean=True, timeout=3)\n",
    "updater.idle()"
   ]
  },
  {
   "cell_type": "code",
   "execution_count": null,
   "id": "6c5d19ee-c941-4ba6-aeb8-1faadd850b03",
   "metadata": {},
   "outputs": [],
   "source": []
  }
 ],
 "metadata": {
  "kernelspec": {
   "display_name": "Python 3 (ipykernel)",
   "language": "python",
   "name": "python3"
  },
  "language_info": {
   "codemirror_mode": {
    "name": "ipython",
    "version": 3
   },
   "file_extension": ".py",
   "mimetype": "text/x-python",
   "name": "python",
   "nbconvert_exporter": "python",
   "pygments_lexer": "ipython3",
   "version": "3.8.13"
  }
 },
 "nbformat": 4,
 "nbformat_minor": 5
}
