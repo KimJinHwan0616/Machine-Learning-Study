{
 "cells": [
  {
   "cell_type": "markdown",
   "id": "ba0cb216-d885-4cf3-bd7f-f0fc77e26866",
   "metadata": {},
   "source": [
    "https://url.kr/2ld3jx\n",
    "\n",
    "telegram.org\n",
    "\n",
    "봇이름 : 닉네임Bot\n",
    "\n",
    "방금만든 봇대화방으로 진입 - 간단한 메세지 입력\n",
    "\n",
    "https://api.telegram.org/bot봇API/getUpdates\n",
    "\n",
    "API : 5560814692:AAHdeu7Td5T9qSGYdf6WVLXHTuNCdKis5xA"
   ]
  },
  {
   "cell_type": "markdown",
   "id": "1db67b08-50ed-4d90-98e6-c16bf8e5a96b",
   "metadata": {},
   "source": [
    "## 텔레그램 봇 만들기\n",
    "* telegram.org\n",
    "* 봇이름 : bigdata6304Bot"
   ]
  },
  {
   "cell_type": "code",
   "execution_count": 1,
   "id": "adff1460-d6b9-485a-8f34-a77c0f5d4d0b",
   "metadata": {
    "tags": []
   },
   "outputs": [
    {
     "name": "stdout",
     "output_type": "stream",
     "text": [
      "Requirement already satisfied: python-telegram-bot in /opt/miniconda3/lib/python3.8/site-packages (13.13)\n",
      "Requirement already satisfied: APScheduler==3.6.3 in /opt/miniconda3/lib/python3.8/site-packages (from python-telegram-bot) (3.6.3)\n",
      "Requirement already satisfied: pytz>=2018.6 in /opt/miniconda3/lib/python3.8/site-packages (from python-telegram-bot) (2022.1)\n",
      "Requirement already satisfied: tornado>=6.1 in /opt/miniconda3/lib/python3.8/site-packages (from python-telegram-bot) (6.1)\n",
      "Requirement already satisfied: cachetools==4.2.2 in /opt/miniconda3/lib/python3.8/site-packages (from python-telegram-bot) (4.2.2)\n",
      "Requirement already satisfied: certifi in /opt/miniconda3/lib/python3.8/site-packages (from python-telegram-bot) (2022.6.15)\n",
      "Requirement already satisfied: tzlocal>=1.2 in /opt/miniconda3/lib/python3.8/site-packages (from APScheduler==3.6.3->python-telegram-bot) (4.2)\n",
      "Requirement already satisfied: setuptools>=0.7 in /opt/miniconda3/lib/python3.8/site-packages (from APScheduler==3.6.3->python-telegram-bot) (61.2.0)\n",
      "Requirement already satisfied: six>=1.4.0 in /opt/miniconda3/lib/python3.8/site-packages (from APScheduler==3.6.3->python-telegram-bot) (1.16.0)\n",
      "Requirement already satisfied: backports.zoneinfo in /opt/miniconda3/lib/python3.8/site-packages (from tzlocal>=1.2->APScheduler==3.6.3->python-telegram-bot) (0.2.1)\n",
      "Requirement already satisfied: pytz-deprecation-shim in /opt/miniconda3/lib/python3.8/site-packages (from tzlocal>=1.2->APScheduler==3.6.3->python-telegram-bot) (0.1.0.post0)\n",
      "Requirement already satisfied: tzdata in /opt/miniconda3/lib/python3.8/site-packages (from pytz-deprecation-shim->tzlocal>=1.2->APScheduler==3.6.3->python-telegram-bot) (2022.2)\n",
      "Note: you may need to restart the kernel to use updated packages.\n"
     ]
    }
   ],
   "source": [
    "pip install python-telegram-bot"
   ]
  },
  {
   "cell_type": "code",
   "execution_count": 2,
   "id": "ad880f90-ff14-4756-ba43-3104c9d512d8",
   "metadata": {},
   "outputs": [],
   "source": [
    "import telegram"
   ]
  },
  {
   "cell_type": "code",
   "execution_count": 3,
   "id": "1258affd-b303-4fa1-ae93-6a03faaa8f10",
   "metadata": {},
   "outputs": [],
   "source": [
    "# 텔레그램 인증키 등록\n",
    "mykey = '5560814692:AAHdeu7Td5T9qSGYdf6WVLXHTuNCdKis5xA'"
   ]
  },
  {
   "cell_type": "code",
   "execution_count": 5,
   "id": "ab33f609-9615-4a78-9ce9-397b7ab88cdc",
   "metadata": {},
   "outputs": [
    {
     "data": {
      "text/plain": [
       "5731464689"
      ]
     },
     "execution_count": 5,
     "metadata": {},
     "output_type": "execute_result"
    }
   ],
   "source": [
    "# 텔레그램 봇 객체 생성\n",
    "# 방금 만든 봇 대화방에 들어간 뒤 다음 코드 실행\n",
    "# 오류발생시 /start 명령 재입력 필요!!\n",
    "bot = telegram.Bot(token=mykey)\n",
    "updates = bot.getUpdates()\n",
    "chat_id = updates[-1].message.chat_id\n",
    "chat_id"
   ]
  },
  {
   "cell_type": "code",
   "execution_count": 6,
   "id": "8ea693dd-58c7-421d-a4f1-9601b33a94bf",
   "metadata": {},
   "outputs": [
    {
     "data": {
      "text/plain": [
       "<telegram.message.Message at 0x55732c2719f0>"
      ]
     },
     "execution_count": 6,
     "metadata": {},
     "output_type": "execute_result"
    }
   ],
   "source": [
    "# 특정 상대에게 메세지 보내기 테스트\n",
    "# send_message(대상, 메세지)\n",
    "bot.send_message(chat_id=chat_id, text='안녕')"
   ]
  },
  {
   "cell_type": "markdown",
   "id": "f128596a-e95b-4006-adab-98bc391ccc1c",
   "metadata": {},
   "source": [
    "## 로또 번호 알려주는 봇 생성\n",
    "* /lotto라고 입력하면 6개의 숫자 출력"
   ]
  },
  {
   "cell_type": "code",
   "execution_count": 7,
   "id": "b6eea629-a56a-4a06-80e9-83f602889371",
   "metadata": {},
   "outputs": [],
   "source": [
    "import random\n",
    "import time\n",
    "from telegram import Update\n",
    "from telegram.ext import Updater, CallbackContext\n",
    "from telegram.ext import MessageHandler\n",
    "from telegram.ext import CommandHandler\n",
    "from telegram.ext import Filters"
   ]
  },
  {
   "cell_type": "code",
   "execution_count": 8,
   "id": "d30c60c2-f7de-4cd2-8fea-4cda7f34a08d",
   "metadata": {},
   "outputs": [],
   "source": [
    "# 텔레그램 챗봇 응답처리 콜백함수\n",
    "# 콜백함수명(context, update)\n",
    "\n",
    "# 입력받은 메세지를 다시 메세지로 출력하는 함수\n",
    "def reply_message(update, context):\n",
    "    context.bot.send_message(text=update.message.text,\n",
    "                   chat_id=update.message.chat_id)\n",
    "\n",
    "# /lotto라 입력했을때 번호 출력하는 함수\n",
    "def lotto_message(update, context):\n",
    "    lotto = random.sample(range(1,45+1), 6)\n",
    "    context.bot.send_message(text=lotto,\n",
    "                   chat_id=update.message.chat_id)"
   ]
  },
  {
   "cell_type": "code",
   "execution_count": 13,
   "id": "1ed5e398-ad07-4ea3-a2ef-af1f06c157b4",
   "metadata": {},
   "outputs": [],
   "source": [
    "# /time이라 입력했을때 현재시간 출력하는 함수\n",
    "def time_message(update, context):\n",
    "    pass"
   ]
  },
  {
   "cell_type": "code",
   "execution_count": 14,
   "id": "b26b5a02-fb2b-4cf1-9d1d-1d0c487af2b2",
   "metadata": {},
   "outputs": [],
   "source": [
    "# /date라 입력했을때 날짜 출력하는 함수\n",
    "def date_message(update, context):\n",
    "    pass"
   ]
  },
  {
   "cell_type": "code",
   "execution_count": 9,
   "id": "4377e20b-1480-4ee4-91f5-8d5f8c4a4b38",
   "metadata": {},
   "outputs": [
    {
     "name": "stdout",
     "output_type": "stream",
     "text": [
      "텔레그램 RPA 서버 준비중...\n"
     ]
    }
   ],
   "source": [
    "# 텔레그램 챗봇 서버 실행\n",
    "print('텔레그램 RPA 서버 준비중...')\n",
    "updater = Updater(mykey)\n",
    "\n",
    "# 위에서 정의한 콜백함수들을 핸들러객체로 만든후\n",
    "# 챗봇서버에 등록\n",
    "# MessageHandler : 입력받은 텍스트를 그대로 처리할때 사용할 콜백함수를 호출하는 핸들러\n",
    "\n",
    "# CommandHandler : 특정문자열 입력시 이것과 관련된 콜백함수 호출\n",
    "# CommandHandler(명령, 콜백함수)\n",
    "\n",
    "# addHandler : 생성한 핸들러 객체를 챗봇서버에 등록함"
   ]
  },
  {
   "cell_type": "code",
   "execution_count": 10,
   "id": "ca8c99fe-e4bc-4ee6-b81b-e68e5b26248b",
   "metadata": {},
   "outputs": [
    {
     "name": "stderr",
     "output_type": "stream",
     "text": [
      "/tmp/ipykernel_7310/2437396574.py:10: TelegramDeprecationWarning: The argument `clean` of `start_polling` is deprecated. Please use `drop_pending_updates` instead.\n",
      "  updater.start_polling(clean=True, timeout=3)\n"
     ]
    },
    {
     "data": {
      "text/plain": [
       "<queue.Queue at 0x7fe1c8bc5640>"
      ]
     },
     "execution_count": 10,
     "metadata": {},
     "output_type": "execute_result"
    }
   ],
   "source": [
    "# 핸들러 정의\n",
    "reply_handler = MessageHandler(Filters.text, reply_message)\n",
    "lotto_handler = CommandHandler('lotto', lotto_message)\n",
    "\n",
    "# 핸들러 등록\n",
    "updater.dispatcher.add_handler(lotto_handler) # !!\n",
    "updater.dispatcher.add_handler(reply_handler)\n",
    "\n",
    "# 챗봇서버 가동\n",
    "updater.start_polling(clean=True, timeout=3)"
   ]
  },
  {
   "cell_type": "code",
   "execution_count": null,
   "id": "c92ecccd-2f6c-4104-a6e9-30bff9ebfb3f",
   "metadata": {},
   "outputs": [],
   "source": []
  }
 ],
 "metadata": {
  "kernelspec": {
   "display_name": "Python 3 (ipykernel)",
   "language": "python",
   "name": "python3"
  },
  "language_info": {
   "codemirror_mode": {
    "name": "ipython",
    "version": 3
   },
   "file_extension": ".py",
   "mimetype": "text/x-python",
   "name": "python",
   "nbconvert_exporter": "python",
   "pygments_lexer": "ipython3",
   "version": "3.8.13"
  }
 },
 "nbformat": 4,
 "nbformat_minor": 5
}
