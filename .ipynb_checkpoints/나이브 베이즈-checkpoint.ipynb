{
 "cells": [
  {
   "cell_type": "markdown",
   "id": "b46a5c4b-d6a7-4482-bb91-677a48c45fe7",
   "metadata": {},
   "source": [
    "## 나이브 베이즈 분석\n",
    "* 조건부확률이 이용한 확률 기반 머신러닝 분류 알고리즘   \n",
    "* 주사위를 굴려 짝수눈이 나올 확률P은? \n",
    "    + 어떤 사건의 확률P = 원하는 결과수 / 가능한 결과수\n",
    "    + 모든 실험의 결과가 동일한 가능성을 가진다고 가정함\n",
    "    + 이를 **고전적확률**이라 함\n",
    "    + 상호배타적, 덧셈법칙, 여의법칙,덧셈의 일반법칙,곱셈법칙(독립사건),조건부확률\n",
    "* 동전을 100회 던졌을때 앞면이 나오는 횟수는?\n",
    "    + 전통적 확률에서는 **일어난횟수/전체시도횟수**로 계산\n",
    "    + 이를 **경험적확률**이라 함 - 일정한 확률로 반복시행\n",
    "    + 시행횟수가 충분히 했을때 어떤 사건이 일어나는 상대적 횟수는 일정한 패턴을 보인다는 의미\n",
    "    + 대수의 법칙    \n",
    "* 만일, A 라는 도시에 수지가 태어난 경우, 이 아이가 노벨상을 받을 확률은 얼마나 될까?\n",
    "    + 이것을 경험적 확률로 계산하려면 \n",
    "    + 이 아이를 여러 명 살게하고 그 중 몇명이 노벨상을 받는지 평가해보면 됨\n",
    "    + 문제는 동일한 유전자, 환경에 자란 아이를 만들수 있는가 임\n",
    "* 이러한 상황에서는 **베이즈 확률론**을 이용한다\n",
    "    + 활용 가능한 정보에 기초해서 어떤 개인이 결정한 특정 사건이 발생할 가능성(확률) \n",
    "    + 일어나지 않은일에 대한 확률을 불확실성이라는 개념으로 이야기 함\n",
    "    + 즉, 이 사건과 관련된 여러가지 확률을 이용해서 새롭게 일어날 수 있는 사건에 대해 추정하는 것\n",
    "    + 이를 **주관적확률**이라 함\n",
    "    + 베이즈 정리, 사전확률, 사후확률 - 나이브 베이즈"
   ]
  },
  {
   "cell_type": "markdown",
   "id": "bbc34427-4237-4e59-ba2c-cd04309b3997",
   "metadata": {},
   "source": [
    "## 중요 확률 개념\n",
    "* 조건부 확률\n",
    "    + 어떤 사건 B가 일어났을 때 사건 A가 일어날 확률을 의미\n",
    "    + $ P(A|B) = \\frac {P(A \\cap B)} {P(B)} $\n",
    "* 확률의 곱셈법칙\n",
    "    + 두 가지 이상의 사건이 동시에 발생하는 확률\n",
    "    + 사건 A,B가 동시에 일어날 확률은 사건 A 발생 확률과 사건 B 발생 확률을 곱한 것과 같음\n",
    "    + $ P(A ∩ B) = P(A|B)P(B) = P(B|A)P(A) $\n",
    "* 전체 확률의 법칙\n",
    "    + 나중에 주어지는 사건 X의 확률은 그 사건의 원인을 여러가지로 나누어서,\n",
    "    + 각 원인에 대한 조건부 확률 P(X|Y)과 그 원인이 되는 확률 P(Y)의 곱에 의한\n",
    "    + 가중합으로 구할 수 있음을 말함\n",
    "    + $ P(A) = P(A ∩ B_1) + P(A ∩ B_2) + ... $"
   ]
  },
  {
   "cell_type": "markdown",
   "id": "b9284961-96db-4584-a33b-a68c9740225b",
   "metadata": {},
   "source": [
    "## 베이즈 이론\n",
    "* 18세기 영국 장로교 목사였던 토마스 베이즈는 신이 실제로 존재하는가에 대한 문제로 고심\n",
    "    + 수학에 관심이 있었기 때문에 지구상의 모든 증거를 이용해서 신이 존재할 확률을 계산하는 공식을 개발하려 함\n",
    "    + 후에 베이즈의 업적을 정리해서 나온 결과물\n",
    "* 이전의 경험과 현재의 증거를 토대로 어떤 사건의 확률을 추론\n",
    "* 확률 $P(A|B)$를 알고 있을 때, 관계가 정반대인 확률 $P(B|A)$를 계산\n",
    "* $ P(A|B) = P(A) \\cdot \\frac {P(B|A)} {P(B)} $\n",
    "    + $P(A)$ : $A$의 사전확률 - 현재의 증거\n",
    "    + $P(B)$ : $B$의 사전확률 - 과거의 경험\n",
    "    + $P(A|B)$ : 사건 $B$가 주어졌을때 $A$의 조건부 확률\n",
    "        - 알려진 결과에 기초한 어떤 가설에 대한 가능성\n",
    "    + $P(B|A)$ : 사건 $A$라는 증거에 대한 사후 확률\n",
    "        - 사건 $A$가 일어났다는 것을 알고 그것이 사건 $B$로 부터 일어난 것이라고 생각되는 조건부 확률\n",
    "* $ P(A|B) = \\frac {P(B \\cap A)} {P(B)} = \\frac {P(B|A)P(A)} {P(B)} =  \n",
    "             \\frac {P(B|A)P(A)} {P(A ∩ B) + P(\\sim A ∩ B)}  $"
   ]
  },
  {
   "cell_type": "markdown",
   "id": "437f3d99-63ea-40ba-b1f7-5f9b11eaaead",
   "metadata": {},
   "source": [
    "## 몬티홀 문제 - 미국 티비쇼에서 유래한 퍼즐\n",
    "* 3개의 문 중 하나를 선택하여 문 뒤에 있는 상품을 주는 쇼\n",
    "* 출현자가 한 문을 선택했을 때, 사회자가 다른 문을 열어 염소가 있음을 보여주고는 현재의 선택을 바꾸겠냐고 물음\n",
    "* 이때 출현자는 처음 선택을 고수하는 것이 나을까?\n",
    "    + 출현자가 스포츠카를 가지려면 현재의 선택을 바꾸는게 나을까?"
   ]
  },
  {
   "cell_type": "markdown",
   "id": "619bb1b5-e89e-471e-8bea-d3428a0e2e4d",
   "metadata": {},
   "source": [
    "## 아들 딸 패러독스\n",
    "* 두 아이가 있는 어떤 집에서 [첫 아이가] 남자일때 두 아이 모두가 남자일 확률은?\n",
    "* 두 아이가 있는 어떤 집에서 [한 명이] 남자일때 두 아이 모두가 남자일 확률은?  "
   ]
  },
  {
   "cell_type": "markdown",
   "id": "5a2429d0-13a7-47a5-b502-e49ad48a3f89",
   "metadata": {},
   "source": [
    "## 베이즈 정리\n",
    "* experience base prediction\n",
    "* 이전의 경험과 현재의 증거를 토대로 어떤 사건의 확률을 추론하는 알고리즘\n",
    "* 따라서, 사건이 일어날 확률을 토대로 의사결정을 하는 경우, 그와 관련된 사전정보를 얼마나\n",
    "알고 있나에 따라 크게 좌우\n",
    "* 기하학 : 피타고라스 정리 = 확률학 : 베이즈 정리"
   ]
  },
  {
   "cell_type": "markdown",
   "id": "3627e949-1da8-47de-aec2-7b070d35ef2d",
   "metadata": {},
   "source": [
    "## 베이즈 정리에 대한 예제\n",
    "* 삼키기 어려울 정도의 목에 통증 유발 - 인후염\n",
    "* 병원 방문후 검사(정확도 90%) 시행 \n",
    "    + 결과 : 양성(폐암)\n",
    "* 의사 : 이 결과로 폐암일 확률은 10%도 안될 수 있음\n",
    "    + 폐암에 걸린 남성은 성인 남성 1% 정도\n",
    "* 환자 : 그래도 걱정이 되니 추가 검사 시행 - 음성(!)\n",
    "* 베이즈 정리에 근거, 실제 검사에서 양성이 나왔을때 진짜 폐암에 걸릴 확률은 ???\n",
    "\n",
    "* 베이즈 정리 : P(A|B) = P(A)P(B|A)/P(B)\n",
    "* 조건부확률 : P(A ∩ B) = P(A)P(B|A) = P(B)P(A|B)\n",
    "    + 따라서, P(A|B) = P(A ∩ B)/P(B)로 도출가능\n",
    "    + 결론적으로 P(A|B) = P(B)P(A|B)/P(B)로도 사용가능\n",
    "* 양성일때 폐암일 확률 = \n",
    "    + P(폐암|양성) = P(폐암∩양성) / P(양성) = P(폐암)P(양성|폐암) / P(양성)\n",
    "* 폐암일때 양성일 확률 \n",
    "    + P(양성|폐암) = P(양성∩폐암) / P(폐암) = P(양성)P(폐암|양성) / P(폐암)\n",
    "\n",
    "* 정확도 90% 검사로, 양성일때 폐암일 확률은? P(폐암|양성) = 0.9\n",
    "* 성인 남성이 폐암에 걸릴 확률은? P(폐암) = 0.01\n",
    "\n",
    "* 양성일 확률은? P(양성)\n",
    "    + 베이즈 정리와 전체 확률의 법칙을 이용\n",
    "    + **폐암이고, 검사로도 진짜 양성**일 확률과\n",
    "    + **폐암이 아닌데, 검사로 양성**일 확률을 더한 확률\n",
    "    + P(양성|폐암)P(폐암) + P(양성|1-폐암)P(1-폐암)\n",
    "    + = 0.9 * 0.01 + 0.1 * 0.99 = 0.10791 = 0.108 = 11%\n",
    "    + 따라서, P(폐암|양성) = P(폐암)P(양성|폐암) / P(양성) \n",
    "    + = (0.01 * 0.9) / 0.108 = 0.083 = 8.3% (별거아님)"
   ]
  },
  {
   "cell_type": "markdown",
   "id": "c177bed5-1168-4c55-8eaa-a807af7322fb",
   "metadata": {},
   "source": [
    "* 시간이 지나 다시 목이 아프고 숨을 쉬기 어려워서 다시 병원에 감\n",
    "* 다시 검사(정확도99%) 해보니 역시 양성\n",
    "    + 예전 경험에 비춰 별거 아니라고 생각\n",
    "* 의사는 폐암에 걸릴 확률이 50%로 증가\n",
    "    + 절대 심각할 수 있다고 경고\n",
    "    + P(양성|폐암)P(폐암) + P(양성|1-폐암)P(1-폐암)\n",
    "    + = (0.99 * 0.01) + (0.01 * 0.99) = 0.0197\n",
    "    + 따라서, P(폐암|양성) = P(폐암)P(양성|폐암) / P(양성) \n",
    "    + = (0.01 * 0.99) / 0.0197 = 0.503 = 50% (심각함)"
   ]
  },
  {
   "cell_type": "markdown",
   "id": "c18f2184-3e37-4dda-a794-f41c9f6fc1d8",
   "metadata": {},
   "source": [
    "## 나이브베이즈 예제\n",
    "* 나이브 베이즈에서 '나이브naive'는 단순한 이란 뜻으로 모든 변수가 서로 독립이라고 가정하고 확률을 계산함\n",
    "* 사후확률값 자체를 아는 것이 중요한 것이 아니고 각각의 사후확률의 크기를 비교하는 것 만으로도 충분하기 때문에 수식의 분모는 상수처럼 취급함\n",
    "* 각 변수의 상호작용을 고려해서 확률을 구하려면 수식이 상당히 복잡해짐\n",
    "* 각 변수를 독립사건처럼 단순화함으로써 수식이 단순해지는 효과를 얻을 수 있음\n",
    "\n",
    "<img src='../img/loan.png' width='50%'>\n",
    "\n",
    "* 집은 없고 결혼했으며 회사경력 3년인 밥이 대출을 받을 수 있는지 알아보시오\n",
    "* P(A|B) = P(A)*P(B|A) / P(B)\n",
    "    + = P(대출|집,결혼,경력)\n",
    "    + = P(대출)P(집|대출) / P(집) x \n",
    "    + P(대출)P(결혼|대출) / P(결혼) x \n",
    "    + P(대출)P(경력|대출) / P(경력)\n",
    "    + = P(대출)P(집|대출) * P(결혼|대출) * P(경력|대출)\n",
    "* P(B) = 집,결혼,경력\n",
    "* P(A) = 대출성공/실패 확률    \n",
    "* 밥이 대출 못받을 확률\n",
    "    + P(No) 확률 : 7/10   (A)\n",
    "    + P(home=N|No) : 4/7  (B)\n",
    "    + P(status=m|No) : 4/7 (C)\n",
    "    + P(exp=3|No) : 2/7    (D)\n",
    "    + 따라서, P( B ∩ C ∩ D ∩ A ) = P(A|D) * P(B|D) * P(C|D) * P(D)\n",
    "    + = 4/7 * 4/7 * 2/7 * 7/10 = 0.065\n",
    "* 밥이 대출 받을 확률 \n",
    "    + P(Yes) 확률 : 3/10   (A)\n",
    "    + P(home=N|Yes) : 2/3  (B)\n",
    "    + P(status=m|Yes) : 1/3 (C)\n",
    "    + P(exp=3|Yes) : 1/3    (D)\n",
    "    + 따라서, 3/10 * 2/3 * 1/3 * 1/3 = 0.022\n",
    "* 따라서, 밥은 대출을 못받음 (0.065 vs 0.022)"
   ]
  },
  {
   "cell_type": "markdown",
   "id": "a30d6f20-59bc-4533-b78f-88f119d357d1",
   "metadata": {},
   "source": [
    "## 영화마케팅 문제를 나이즈베이즈로 분석\n",
    "* 영화관객의 성향을 설문조사로 정리\n",
    "* 관객의 속성으로 영화취향을 파악해 봄\n",
    "* sklearn에서 구현된 나이브베이즈 알고리즘은 3가지\n",
    "    * GaussianNB      : 연속형 데이터\n",
    "    * BernoulliNB     : 이진 데이터, 예/아니오\n",
    "    * MultinomialNB   : 텍스트 데이터, 다항\n"
   ]
  },
  {
   "cell_type": "code",
   "execution_count": 1,
   "id": "31cf9142-b194-4cb0-bb53-13e16db98184",
   "metadata": {},
   "outputs": [],
   "source": [
    "import pandas as pd\n",
    "import numpy as np\n",
    "import matplotlib.pyplot as plt\n",
    "\n",
    "from sklearn.naive_bayes import BernoulliNB, MultinomialNB"
   ]
  },
  {
   "cell_type": "code",
   "execution_count": 2,
   "id": "5438e475-a4a6-4c33-85ee-29bb5e2fae45",
   "metadata": {},
   "outputs": [],
   "source": [
    "from sklearn.preprocessing import StandardScaler, MinMaxScaler, LabelEncoder\n",
    "\n",
    "from sklearn.model_selection import train_test_split, cross_val_score\n",
    "\n",
    "from sklearn.tree import DecisionTreeClassifier\n",
    "from sklearn.ensemble import RandomForestClassifier\n",
    "from sklearn.linear_model import LogisticRegression\n",
    "from sklearn.linear_model import LinearRegression\n",
    "\n",
    "from sklearn.neighbors import KNeighborsClassifier\n",
    "\n",
    "from sklearn.metrics import accuracy_score, recall_score, precision_score\n",
    "from sklearn.metrics import confusion_matrix, classification_report\n",
    "from sklearn.metrics import mean_squared_error, r2_score"
   ]
  },
  {
   "cell_type": "code",
   "execution_count": 3,
   "id": "bf2a3c81-5679-449f-b372-e79e9b03816f",
   "metadata": {},
   "outputs": [
    {
     "data": {
      "text/html": [
       "<div>\n",
       "<style scoped>\n",
       "    .dataframe tbody tr th:only-of-type {\n",
       "        vertical-align: middle;\n",
       "    }\n",
       "\n",
       "    .dataframe tbody tr th {\n",
       "        vertical-align: top;\n",
       "    }\n",
       "\n",
       "    .dataframe thead th {\n",
       "        text-align: right;\n",
       "    }\n",
       "</style>\n",
       "<table border=\"1\" class=\"dataframe\">\n",
       "  <thead>\n",
       "    <tr style=\"text-align: right;\">\n",
       "      <th></th>\n",
       "      <th>나이</th>\n",
       "      <th>성별</th>\n",
       "      <th>직업</th>\n",
       "      <th>결혼여부</th>\n",
       "      <th>이성친구</th>\n",
       "      <th>장르</th>\n",
       "    </tr>\n",
       "  </thead>\n",
       "  <tbody>\n",
       "    <tr>\n",
       "      <th>0</th>\n",
       "      <td>20대</td>\n",
       "      <td>여</td>\n",
       "      <td>디자이너</td>\n",
       "      <td>NO</td>\n",
       "      <td>YES</td>\n",
       "      <td>로맨틱</td>\n",
       "    </tr>\n",
       "    <tr>\n",
       "      <th>1</th>\n",
       "      <td>40대</td>\n",
       "      <td>남</td>\n",
       "      <td>홍보/마케팅</td>\n",
       "      <td>NO</td>\n",
       "      <td>NO</td>\n",
       "      <td>공포</td>\n",
       "    </tr>\n",
       "    <tr>\n",
       "      <th>2</th>\n",
       "      <td>10대</td>\n",
       "      <td>여</td>\n",
       "      <td>홍보/마케팅</td>\n",
       "      <td>NO</td>\n",
       "      <td>YES</td>\n",
       "      <td>로맨틱</td>\n",
       "    </tr>\n",
       "    <tr>\n",
       "      <th>3</th>\n",
       "      <td>20대</td>\n",
       "      <td>여</td>\n",
       "      <td>디자이너</td>\n",
       "      <td>YES</td>\n",
       "      <td>NO</td>\n",
       "      <td>로맨틱</td>\n",
       "    </tr>\n",
       "    <tr>\n",
       "      <th>4</th>\n",
       "      <td>10대</td>\n",
       "      <td>남</td>\n",
       "      <td>학생</td>\n",
       "      <td>NO</td>\n",
       "      <td>NO</td>\n",
       "      <td>액션</td>\n",
       "    </tr>\n",
       "  </tbody>\n",
       "</table>\n",
       "</div>"
      ],
      "text/plain": [
       "    나이 성별      직업 결혼여부 이성친구   장르\n",
       "0  20대  여    디자이너   NO  YES  로맨틱\n",
       "1  40대  남  홍보/마케팅   NO   NO   공포\n",
       "2  10대  여  홍보/마케팅   NO  YES  로맨틱\n",
       "3  20대  여    디자이너  YES   NO  로맨틱\n",
       "4  10대  남      학생   NO   NO   액션"
      ]
     },
     "execution_count": 3,
     "metadata": {},
     "output_type": "execute_result"
    }
   ],
   "source": [
    "movies = pd.read_csv('../data/movie.csv', encoding='euc=kr')\n",
    "movies.head()"
   ]
  },
  {
   "cell_type": "code",
   "execution_count": 4,
   "id": "e1354f63-dcb2-44f7-ba68-f0e868e8b8ae",
   "metadata": {},
   "outputs": [
    {
     "data": {
      "text/plain": [
       "로맨틱    9\n",
       "공포     5\n",
       "액션     5\n",
       "SF     5\n",
       "스릴러    5\n",
       "코미디    5\n",
       "무협     5\n",
       "Name: 장르, dtype: int64"
      ]
     },
     "execution_count": 4,
     "metadata": {},
     "output_type": "execute_result"
    }
   ],
   "source": [
    "movies.장르.value_counts()"
   ]
  },
  {
   "cell_type": "code",
   "execution_count": 5,
   "id": "77a50f95-dc85-4f8b-83b9-ae085bc57275",
   "metadata": {},
   "outputs": [
    {
     "data": {
      "text/html": [
       "<div>\n",
       "<style scoped>\n",
       "    .dataframe tbody tr th:only-of-type {\n",
       "        vertical-align: middle;\n",
       "    }\n",
       "\n",
       "    .dataframe tbody tr th {\n",
       "        vertical-align: top;\n",
       "    }\n",
       "\n",
       "    .dataframe thead th {\n",
       "        text-align: right;\n",
       "    }\n",
       "</style>\n",
       "<table border=\"1\" class=\"dataframe\">\n",
       "  <thead>\n",
       "    <tr style=\"text-align: right;\">\n",
       "      <th></th>\n",
       "      <th>ages</th>\n",
       "      <th>gender</th>\n",
       "      <th>job</th>\n",
       "      <th>married</th>\n",
       "      <th>lover</th>\n",
       "      <th>genre</th>\n",
       "    </tr>\n",
       "  </thead>\n",
       "  <tbody>\n",
       "    <tr>\n",
       "      <th>0</th>\n",
       "      <td>1</td>\n",
       "      <td>1</td>\n",
       "      <td>1</td>\n",
       "      <td>0</td>\n",
       "      <td>1</td>\n",
       "      <td>2</td>\n",
       "    </tr>\n",
       "    <tr>\n",
       "      <th>1</th>\n",
       "      <td>3</td>\n",
       "      <td>0</td>\n",
       "      <td>7</td>\n",
       "      <td>0</td>\n",
       "      <td>0</td>\n",
       "      <td>1</td>\n",
       "    </tr>\n",
       "    <tr>\n",
       "      <th>2</th>\n",
       "      <td>0</td>\n",
       "      <td>1</td>\n",
       "      <td>7</td>\n",
       "      <td>0</td>\n",
       "      <td>1</td>\n",
       "      <td>2</td>\n",
       "    </tr>\n",
       "    <tr>\n",
       "      <th>3</th>\n",
       "      <td>1</td>\n",
       "      <td>1</td>\n",
       "      <td>1</td>\n",
       "      <td>1</td>\n",
       "      <td>0</td>\n",
       "      <td>2</td>\n",
       "    </tr>\n",
       "    <tr>\n",
       "      <th>4</th>\n",
       "      <td>0</td>\n",
       "      <td>0</td>\n",
       "      <td>6</td>\n",
       "      <td>0</td>\n",
       "      <td>0</td>\n",
       "      <td>5</td>\n",
       "    </tr>\n",
       "  </tbody>\n",
       "</table>\n",
       "</div>"
      ],
      "text/plain": [
       "   ages   gender  job  married  lover  genre\n",
       "0     1        1    1        0      1      2\n",
       "1     3        0    7        0      0      1\n",
       "2     0        1    7        0      1      2\n",
       "3     1        1    1        1      0      2\n",
       "4     0        0    6        0      0      5"
      ]
     },
     "execution_count": 5,
     "metadata": {},
     "output_type": "execute_result"
    }
   ],
   "source": [
    "# 컬럼명 변경, 레이블인코딩 적용\n",
    "cols = ['나이','성별','직업','결혼여부','이성친구','장르']\n",
    "ncols = ['ages',' gender','job','married','lover','genre']\n",
    "\n",
    "for c in cols:\n",
    "    movies[c] = pd.Categorical(movies[c])\n",
    "    movies[c] = movies[c].cat.codes\n",
    "    \n",
    "movies.columns = ncols\n",
    "movies.head()"
   ]
  },
  {
   "cell_type": "code",
   "execution_count": 6,
   "id": "182045d6-77db-40f3-84c1-77ba05c8ab2b",
   "metadata": {},
   "outputs": [],
   "source": [
    "# 데이터 분리\n",
    "data = movies.iloc[:, :5]\n",
    "target = movies.genre"
   ]
  },
  {
   "cell_type": "code",
   "execution_count": 7,
   "id": "cac7cfd8-8936-4422-9c2b-a1cdace5f6a4",
   "metadata": {},
   "outputs": [
    {
     "data": {
      "text/plain": [
       "0.8461538461538461"
      ]
     },
     "execution_count": 7,
     "metadata": {},
     "output_type": "execute_result"
    }
   ],
   "source": [
    "# 모델 학습1\n",
    "bayes = MultinomialNB()\n",
    "bayes.fit(data, target)\n",
    "bayes.score(data, target)"
   ]
  },
  {
   "cell_type": "code",
   "execution_count": 8,
   "id": "5467fa21-be77-40d5-ba76-03df23947f7e",
   "metadata": {},
   "outputs": [],
   "source": [
    "# 모델 학습2\n",
    "X_train, X_test, ytrain, ytest = \\\n",
    "    train_test_split(data, target, test_size=0.3, stratify=target,\n",
    "                     random_state=2208300950)"
   ]
  },
  {
   "cell_type": "code",
   "execution_count": 9,
   "id": "73bb33e9-7263-430d-84d6-d036574c5a26",
   "metadata": {},
   "outputs": [
    {
     "data": {
      "text/plain": [
       "0.9166666666666666"
      ]
     },
     "execution_count": 9,
     "metadata": {},
     "output_type": "execute_result"
    }
   ],
   "source": [
    "bayes2 =  MultinomialNB()\n",
    "bayes2.fit(X_train, ytrain)\n",
    "\n",
    "pred = bayes.predict(X_test)\n",
    "accuracy_score(ytest, pred)"
   ]
  },
  {
   "cell_type": "code",
   "execution_count": 10,
   "id": "a4458d62-e41e-492c-80b4-dd4a7498310b",
   "metadata": {},
   "outputs": [
    {
     "data": {
      "text/plain": [
       "array([[1, 0, 0, 0, 0, 0, 0],\n",
       "       [0, 1, 0, 0, 0, 0, 0],\n",
       "       [0, 0, 3, 0, 0, 0, 0],\n",
       "       [0, 1, 0, 1, 0, 0, 0],\n",
       "       [0, 0, 0, 0, 2, 0, 0],\n",
       "       [0, 0, 0, 0, 0, 2, 0],\n",
       "       [0, 0, 0, 0, 0, 0, 1]])"
      ]
     },
     "execution_count": 10,
     "metadata": {},
     "output_type": "execute_result"
    }
   ],
   "source": [
    "confusion_matrix(ytest, pred)"
   ]
  },
  {
   "cell_type": "code",
   "execution_count": 11,
   "id": "8c85c443-0974-4563-9371-940b248534a2",
   "metadata": {},
   "outputs": [
    {
     "name": "stdout",
     "output_type": "stream",
     "text": [
      "[0] [0]\n"
     ]
    },
    {
     "name": "stderr",
     "output_type": "stream",
     "text": [
      "/opt/miniconda3/lib/python3.8/site-packages/sklearn/base.py:450: UserWarning: X does not have valid feature names, but MultinomialNB was fitted with feature names\n",
      "  warnings.warn(\n",
      "/opt/miniconda3/lib/python3.8/site-packages/sklearn/base.py:450: UserWarning: X does not have valid feature names, but MultinomialNB was fitted with feature names\n",
      "  warnings.warn(\n"
     ]
    }
   ],
   "source": [
    "# 20대, 여, IT, 미혼, 애인없음\n",
    "# 고객 추천 영화 장르는?\n",
    "cust = ([[2,1,0,0,0]])\n",
    "print(bayes.predict(cust), bayes.predict(cust))"
   ]
  },
  {
   "cell_type": "markdown",
   "id": "0062a7bc-476c-4839-92ae-4faed70238d2",
   "metadata": {},
   "source": [
    "# 밥은 과연 대출을 받을 수 있을까?\n",
    "* 집은 없고 결혼했으며 회사경력 3년인 밥이 대출을 받을 수 있는지 알아보시오"
   ]
  },
  {
   "cell_type": "code",
   "execution_count": 12,
   "id": "e391a0d8-35b9-42c8-b4cf-fd5b4f5fb9f7",
   "metadata": {},
   "outputs": [
    {
     "data": {
      "text/html": [
       "<div>\n",
       "<style scoped>\n",
       "    .dataframe tbody tr th:only-of-type {\n",
       "        vertical-align: middle;\n",
       "    }\n",
       "\n",
       "    .dataframe tbody tr th {\n",
       "        vertical-align: top;\n",
       "    }\n",
       "\n",
       "    .dataframe thead th {\n",
       "        text-align: right;\n",
       "    }\n",
       "</style>\n",
       "<table border=\"1\" class=\"dataframe\">\n",
       "  <thead>\n",
       "    <tr style=\"text-align: right;\">\n",
       "      <th></th>\n",
       "      <th>home</th>\n",
       "      <th>status</th>\n",
       "      <th>exp</th>\n",
       "      <th>default</th>\n",
       "    </tr>\n",
       "  </thead>\n",
       "  <tbody>\n",
       "    <tr>\n",
       "      <th>0</th>\n",
       "      <td>yes</td>\n",
       "      <td>single</td>\n",
       "      <td>3</td>\n",
       "      <td>No</td>\n",
       "    </tr>\n",
       "    <tr>\n",
       "      <th>1</th>\n",
       "      <td>no</td>\n",
       "      <td>marry</td>\n",
       "      <td>4</td>\n",
       "      <td>No</td>\n",
       "    </tr>\n",
       "    <tr>\n",
       "      <th>2</th>\n",
       "      <td>no</td>\n",
       "      <td>single</td>\n",
       "      <td>5</td>\n",
       "      <td>No</td>\n",
       "    </tr>\n",
       "    <tr>\n",
       "      <th>3</th>\n",
       "      <td>yes</td>\n",
       "      <td>marry</td>\n",
       "      <td>4</td>\n",
       "      <td>No</td>\n",
       "    </tr>\n",
       "    <tr>\n",
       "      <th>4</th>\n",
       "      <td>no</td>\n",
       "      <td>divorce</td>\n",
       "      <td>2</td>\n",
       "      <td>Yes</td>\n",
       "    </tr>\n",
       "  </tbody>\n",
       "</table>\n",
       "</div>"
      ],
      "text/plain": [
       "  home   status  exp default\n",
       "0  yes   single    3      No\n",
       "1   no    marry    4      No\n",
       "2   no   single    5      No\n",
       "3  yes    marry    4      No\n",
       "4   no  divorce    2     Yes"
      ]
     },
     "execution_count": 12,
     "metadata": {},
     "output_type": "execute_result"
    }
   ],
   "source": [
    "default = pd.read_csv('../data/default.csv')\n",
    "default.head()"
   ]
  },
  {
   "cell_type": "code",
   "execution_count": 13,
   "id": "cc48b0c2-dd53-4826-b45f-ee4fc56ad386",
   "metadata": {},
   "outputs": [
    {
     "data": {
      "text/html": [
       "<div>\n",
       "<style scoped>\n",
       "    .dataframe tbody tr th:only-of-type {\n",
       "        vertical-align: middle;\n",
       "    }\n",
       "\n",
       "    .dataframe tbody tr th {\n",
       "        vertical-align: top;\n",
       "    }\n",
       "\n",
       "    .dataframe thead th {\n",
       "        text-align: right;\n",
       "    }\n",
       "</style>\n",
       "<table border=\"1\" class=\"dataframe\">\n",
       "  <thead>\n",
       "    <tr style=\"text-align: right;\">\n",
       "      <th></th>\n",
       "      <th>home</th>\n",
       "      <th>status</th>\n",
       "      <th>exp</th>\n",
       "      <th>default</th>\n",
       "    </tr>\n",
       "  </thead>\n",
       "  <tbody>\n",
       "    <tr>\n",
       "      <th>0</th>\n",
       "      <td>1</td>\n",
       "      <td>2</td>\n",
       "      <td>3</td>\n",
       "      <td>0</td>\n",
       "    </tr>\n",
       "    <tr>\n",
       "      <th>1</th>\n",
       "      <td>0</td>\n",
       "      <td>1</td>\n",
       "      <td>4</td>\n",
       "      <td>0</td>\n",
       "    </tr>\n",
       "    <tr>\n",
       "      <th>2</th>\n",
       "      <td>0</td>\n",
       "      <td>2</td>\n",
       "      <td>5</td>\n",
       "      <td>0</td>\n",
       "    </tr>\n",
       "    <tr>\n",
       "      <th>3</th>\n",
       "      <td>1</td>\n",
       "      <td>1</td>\n",
       "      <td>4</td>\n",
       "      <td>0</td>\n",
       "    </tr>\n",
       "    <tr>\n",
       "      <th>4</th>\n",
       "      <td>0</td>\n",
       "      <td>0</td>\n",
       "      <td>2</td>\n",
       "      <td>1</td>\n",
       "    </tr>\n",
       "  </tbody>\n",
       "</table>\n",
       "</div>"
      ],
      "text/plain": [
       "   home  status  exp  default\n",
       "0     1       2    3        0\n",
       "1     0       1    4        0\n",
       "2     0       2    5        0\n",
       "3     1       1    4        0\n",
       "4     0       0    2        1"
      ]
     },
     "execution_count": 13,
     "metadata": {},
     "output_type": "execute_result"
    }
   ],
   "source": [
    "# 레이블인코딩 적용\n",
    "cols = ['home',\t'status', 'default']\n",
    "\n",
    "for c in cols:\n",
    "    default[c] = pd.Categorical(default[c])\n",
    "    default[c] = default[c].cat.codes\n",
    "    \n",
    "default.head()"
   ]
  },
  {
   "cell_type": "code",
   "execution_count": 14,
   "id": "beea4a05-1550-46a2-a166-ec71dc9e660c",
   "metadata": {},
   "outputs": [],
   "source": [
    "# 데이터 분리\n",
    "data = default.iloc[:, :3]\n",
    "target = default.default\n"
   ]
  },
  {
   "cell_type": "code",
   "execution_count": 15,
   "id": "8a196622-8e44-42f7-a51d-69ec3e510b58",
   "metadata": {},
   "outputs": [
    {
     "data": {
      "text/plain": [
       "0.7"
      ]
     },
     "execution_count": 15,
     "metadata": {},
     "output_type": "execute_result"
    }
   ],
   "source": [
    "# 모델 학습\n",
    "bayes3 = BernoulliNB()\n",
    "bayes3.fit(data, target)\n",
    "bayes3.score(data, target)"
   ]
  },
  {
   "cell_type": "code",
   "execution_count": 16,
   "id": "ad2bd4ce-50fe-4ab1-8859-70808a15f5f5",
   "metadata": {},
   "outputs": [
    {
     "data": {
      "text/plain": [
       "array([[7, 0],\n",
       "       [3, 0]])"
      ]
     },
     "execution_count": 16,
     "metadata": {},
     "output_type": "execute_result"
    }
   ],
   "source": [
    "confusion_matrix(target, bayes3.predict(data))"
   ]
  },
  {
   "cell_type": "code",
   "execution_count": 17,
   "id": "849bdd82-2b0f-40f5-ba2e-5e868b118da4",
   "metadata": {},
   "outputs": [
    {
     "name": "stderr",
     "output_type": "stream",
     "text": [
      "/opt/miniconda3/lib/python3.8/site-packages/sklearn/base.py:450: UserWarning: X does not have valid feature names, but BernoulliNB was fitted with feature names\n",
      "  warnings.warn(\n"
     ]
    },
    {
     "data": {
      "text/plain": [
       "array([0], dtype=int8)"
      ]
     },
     "execution_count": 17,
     "metadata": {},
     "output_type": "execute_result"
    }
   ],
   "source": [
    "# 집은 없고 결혼했으며 회사 경력 3년인 밥은?\n",
    "bob = [[0, 1, 3]]\n",
    "bayes3.predict(bob)"
   ]
  },
  {
   "cell_type": "code",
   "execution_count": null,
   "id": "cbbb144d-b39a-4b0f-ad73-7d0a7a0e4dc5",
   "metadata": {},
   "outputs": [],
   "source": []
  }
 ],
 "metadata": {
  "kernelspec": {
   "display_name": "Python 3 (ipykernel)",
   "language": "python",
   "name": "python3"
  },
  "language_info": {
   "codemirror_mode": {
    "name": "ipython",
    "version": 3
   },
   "file_extension": ".py",
   "mimetype": "text/x-python",
   "name": "python",
   "nbconvert_exporter": "python",
   "pygments_lexer": "ipython3",
   "version": "3.8.13"
  }
 },
 "nbformat": 4,
 "nbformat_minor": 5
}
