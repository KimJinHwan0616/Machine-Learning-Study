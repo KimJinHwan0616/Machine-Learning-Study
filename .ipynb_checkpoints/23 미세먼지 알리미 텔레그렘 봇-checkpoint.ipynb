{
 "cells": [
  {
   "cell_type": "code",
   "execution_count": 1,
   "id": "9e5b5066-5ad0-41e4-be7d-990916985ea0",
   "metadata": {},
   "outputs": [],
   "source": [
    "from telegram.ext import filters"
   ]
  },
  {
   "cell_type": "code",
   "execution_count": 2,
   "id": "ee0529c3-5cec-4c51-8304-a5c5ab3aa549",
   "metadata": {},
   "outputs": [],
   "source": [
    "import telegram\n",
    "import xml.etree.ElementTree as et\n",
    "import json\n",
    "import requests as req\n"
   ]
  },
  {
   "cell_type": "code",
   "execution_count": 3,
   "id": "6ec39140-2b7d-40a7-9b61-07edbd8664f2",
   "metadata": {},
   "outputs": [],
   "source": [
    "# data.go.kr에서 제공하는 미세먼지 API\n",
    "url1 = 'https://apis.data.go.kr/B552584/ArpltnInforInqireSvc/getCtprvnRltmMesureDnsty?serviceKey=4sKL7ReMtuftz1SLSir9jAXs6fRlfEMKYzYJLwl4k4AOQCvDoPsEZwOzfEl6AkUbMCkjx1slvTzpGfHnJybCxw%3D%3D&returnType=xml&numOfRows=10000&pageNo=1&sidoName=%EC%A0%84%EA%B5%AD&ver=1.0'\n",
    "\n",
    "url2 = 'https://apis.data.go.kr/B552584/ArpltnInforInqireSvc/getCtprvnRltmMesureDnsty?serviceKey=4sKL7ReMtuftz1SLSir9jAXs6fRlfEMKYzYJLwl4k4AOQCvDoPsEZwOzfEl6AkUbMCkjx1slvTzpGfHnJybCxw%3D%3D&returnType=json&numOfRows=10000&pageNo=1&sidoName=%EC%A0%84%EA%B5%AD&ver=1.0'"
   ]
  },
  {
   "cell_type": "markdown",
   "id": "63502b85-cb6a-4c4b-8f92-bebf3c13cd22",
   "metadata": {
    "tags": []
   },
   "source": [
    "# xml 형태로 불러오기"
   ]
  },
  {
   "cell_type": "code",
   "execution_count": 4,
   "id": "d20f061a-dae6-4724-bab4-5150b77a6619",
   "metadata": {
    "tags": []
   },
   "outputs": [
    {
     "name": "stderr",
     "output_type": "stream",
     "text": [
      "/opt/miniconda3/lib/python3.8/site-packages/urllib3/connectionpool.py:1045: InsecureRequestWarning: Unverified HTTPS request is being made to host 'apis.data.go.kr'. Adding certificate verification is strongly advised. See: https://urllib3.readthedocs.io/en/1.26.x/advanced-usage.html#ssl-warnings\n",
      "  warnings.warn(\n"
     ]
    },
    {
     "data": {
      "text/plain": [
       "'<?xml version=\"1.0\" encoding=\"UTF-8\"?>\\r\\n<response>\\n  <header>\\n    <resultCode>00</resultCode>\\n    <resultMsg>NORMAL_CODE</resultMsg>\\n  </header>\\n  <body>\\n    <items>\\n      <item>\\n        <so2Grade/>\\n        <coFlag/>\\n        <khaiValue>48</khaiValue>\\n        <so2Value>-</so2Value>\\n        <coValue>0.4</coValue>\\n        <pm25Flag/>\\n        <pm10Flag/>\\n        <o3Grade>1</o3Grade>\\n        <pm10Value>17</pm10Value>\\n        <khaiGrade>1</khaiGrade>\\n        <pm25Value>6</pm25Value>\\n        <sidoName>'"
      ]
     },
     "execution_count": 4,
     "metadata": {},
     "output_type": "execute_result"
    }
   ],
   "source": [
    "res = req.get(url1, verify=False)\n",
    "# res = req.get(url1)\n",
    "\n",
    "res.text[:500]"
   ]
  },
  {
   "cell_type": "code",
   "execution_count": 5,
   "id": "e2047fee-7583-4163-8d49-52c1ffd1f96a",
   "metadata": {},
   "outputs": [],
   "source": [
    "# 서버에서 받아온 데이터를 파일로 저장\n",
    "with open('../data/air.xml', 'w', encoding='UTF-8') as f:\n",
    "    f.writelines(res.text)"
   ]
  },
  {
   "cell_type": "code",
   "execution_count": 6,
   "id": "b41d00e8-b063-4d1c-b4c4-1b23139b8614",
   "metadata": {},
   "outputs": [],
   "source": [
    "# xml 형태로 저장된 파일에서 원하는 정보 얻기\n",
    "tree = et.parse('../data/air.xml')\n",
    "root = tree.getroot()"
   ]
  },
  {
   "cell_type": "code",
   "execution_count": 7,
   "id": "cd82a463-4ce3-487a-9ea1-4fb6fbc9edff",
   "metadata": {},
   "outputs": [],
   "source": [
    "# 미세정보 : 작성일자, 시도, 구/동/읍/면, 미세먼지농도, 초미세먼지농도\n",
    "cnt = 0\n",
    "for data in root.findall('body/itmes/item'):\n",
    "    date = data.find('dataTime').text\n",
    "    sido = data.find('sidoName').text\n",
    "    stnm = data.find('stationName').text\n",
    "    pm10 = data.find('pm10Value').text\n",
    "    pm25 = data.find('pm25Value').text\n",
    "    \n",
    "    if cnt <= 10:  # 결과 중 1건만 출력\n",
    "        print(date, sido, stnm, pm10, pm25)\n",
    "        cnt = cnt+ 1\n",
    "    else: break"
   ]
  },
  {
   "cell_type": "code",
   "execution_count": 8,
   "id": "dab59382-c5aa-40f5-9fec-c5008ab15dce",
   "metadata": {},
   "outputs": [],
   "source": [
    "# 시도, 구이름으로 원하는 지역의 미세먼지 정보 추출\n",
    "sido = '서울'\n",
    "gu = '구로구'\n",
    "\n",
    "for data in root.findall('body/itmes/item'):\n",
    "    \n",
    "    sd = data.find('sidoName').text\n",
    "    stnm = data.find('stationName').text\n",
    "    \n",
    "    if (sd == sido) and (stnm == gu):\n",
    "        date = data.find('dataTime').text\n",
    "        pm10 = data.find('pm10Value').text\n",
    "        pm25 = data.find('pm25Value').text\n",
    "    \n",
    "        print(date, sido, stnm, pm10, pm25)\n",
    "        break"
   ]
  },
  {
   "cell_type": "markdown",
   "id": "9780a9f8-19a4-4d9d-8d4b-a3996bd1877e",
   "metadata": {},
   "source": [
    "## 미세먼지 농도별 등급\n",
    "#### <img src='../img/pm10pm25.png' width='85%'>"
   ]
  },
  {
   "cell_type": "code",
   "execution_count": 9,
   "id": "d17875f3-b099-488c-982d-282986ed1942",
   "metadata": {},
   "outputs": [],
   "source": [
    "# 😱  🙁️  😊  😍  \n",
    "def rate_pm10(val):\n",
    "    if (val == '-') or (val == None): rate = '-'\n",
    "    else:\n",
    "        val = int(val)\n",
    "        rate = '😱'\n",
    "        if val <= 30: rate = '😍'\n",
    "        elif val <= 80: rate = '😊'\n",
    "        elif val <= 150: rate = '🙁️'\n",
    "    return rate"
   ]
  },
  {
   "cell_type": "code",
   "execution_count": 10,
   "id": "c5887b6c-0f9c-4c77-8c8a-98813930999b",
   "metadata": {},
   "outputs": [],
   "source": [
    "# 😱  🙁️  😊  😍  \n",
    "def rate_pm25(val):\n",
    "    if (val == '-') or (val == None): rate = '-'\n",
    "    else:\n",
    "        val = int(val)\n",
    "        rate = '😱'\n",
    "        if val <= 15: rate = '😍'\n",
    "        elif val <= 35: rate = '😊'\n",
    "        elif val <= 75: rate = '🙁️'\n",
    "    return rate"
   ]
  },
  {
   "cell_type": "code",
   "execution_count": 11,
   "id": "da1043a7-7d8c-45b8-9f24-95d3a1716389",
   "metadata": {},
   "outputs": [],
   "source": [
    "# 시도, 구이름으로 원하는 지역의 미세먼지 정보 추출\n",
    "sido = '서울'\n",
    "gu = '구로구'\n",
    "\n",
    "for data in root.findall('body/itmes/item'):\n",
    "    \n",
    "    sd = data.find('sidoName').text\n",
    "    stnm = data.find('stationName').text\n",
    "    \n",
    "    if (sd == sido) and (stnm == gu):\n",
    "        date = data.find('dataTime').text\n",
    "        pm10 = data.find('pm10Value').text\n",
    "        pm25 = data.find('pm25Value').text\n",
    "        p10 = rate_pm10( int(pm10) )\n",
    "        p25 = rate_pm25( int(pm25) )\n",
    "    \n",
    "        print(date, sido, stnm, pm10, pm25)\n",
    "        break"
   ]
  },
  {
   "cell_type": "markdown",
   "id": "aff8e59e-8759-45c9-b49f-2fc4bd2b06e7",
   "metadata": {
    "tags": []
   },
   "source": [
    "# json 형태로 불러오기"
   ]
  },
  {
   "cell_type": "code",
   "execution_count": 12,
   "id": "b94ba5e0-0ea3-48c0-9882-87d14649fec5",
   "metadata": {
    "tags": []
   },
   "outputs": [
    {
     "name": "stderr",
     "output_type": "stream",
     "text": [
      "/opt/miniconda3/lib/python3.8/site-packages/urllib3/connectionpool.py:1045: InsecureRequestWarning: Unverified HTTPS request is being made to host 'apis.data.go.kr'. Adding certificate verification is strongly advised. See: https://urllib3.readthedocs.io/en/1.26.x/advanced-usage.html#ssl-warnings\n",
      "  warnings.warn(\n"
     ]
    },
    {
     "data": {
      "text/plain": [
       "'{\"response\":{\"body\":{\"totalCount\":631,\"items\":[{\"so2Grade\":null,\"coFlag\":null,\"khaiValue\":\"48\",\"so2Value\":\"-\",\"coValue\":\"0.4\",\"pm25Flag\":null,\"pm10Flag\":null,\"o3Grade\":\"1\",\"pm10Value\":\"17\",\"khaiGrade\":\"1\",\"pm25Value\":\"6\",\"sidoName\":\"세종\",\"no2Flag\":null,\"no2Grade\":\"1\",\"o3Flag\":null,\"pm25Grade\":\"1\",\"so2Flag\":\"자료이상\",\"dataTime\":\"2022-09-01 12:00\",\"coGrade\":\"1\",\"no2Value\":\"0.011\",\"stationName\":\"한솔동\",\"pm10Grade\":\"1\",\"o3Value\":\"0.029\"},{\"so2Grade\":\"1\",\"coFlag\":null,\"khaiValue\":\"45\",\"so2Value\":\"0.003\",\"c'"
      ]
     },
     "execution_count": 12,
     "metadata": {},
     "output_type": "execute_result"
    }
   ],
   "source": [
    "res = req.get(url2, verify=False)\n",
    "res.text[:500]"
   ]
  },
  {
   "cell_type": "code",
   "execution_count": 13,
   "id": "aed22e97-8da3-49bf-8891-c6d2883d2dcb",
   "metadata": {},
   "outputs": [],
   "source": [
    "with open('../data/air.json', 'w', encoding='UTF-8') as f:\n",
    "    f.writelines(res.text)"
   ]
  },
  {
   "cell_type": "code",
   "execution_count": 14,
   "id": "090efe84-a83d-4d67-8a00-e60d078a1804",
   "metadata": {},
   "outputs": [],
   "source": [
    "with open('../data/air.json', encoding='UTF-8') as f:\n",
    "    airdata = json.load(f)"
   ]
  },
  {
   "cell_type": "code",
   "execution_count": 15,
   "id": "6901a95f-4d77-4d13-ae1e-7384a45ab240",
   "metadata": {
    "tags": []
   },
   "outputs": [
    {
     "name": "stdout",
     "output_type": "stream",
     "text": [
      "2022-09-01 12:00 서울 구로구 23 😍 5 😍\n"
     ]
    }
   ],
   "source": [
    "sido = '서울'\n",
    "gu = '구로구'\n",
    "\n",
    "for item in airdata['response']['body']['items']:\n",
    "    sd = item['sidoName']\n",
    "    stnm = item['stationName']\n",
    "\n",
    "    if (sd == sido) and (gu == stnm):\n",
    "        data = item['dataTime']\n",
    "        pm10 = item['pm10Value']\n",
    "        pm25 = item['pm25Value']\n",
    "        p10 = rate_pm10( (pm10) )\n",
    "        p25 = rate_pm10( (pm25) )\n",
    "    \n",
    "        print(data, sido, stnm, pm10, p10, pm25, p25)\n",
    "        break"
   ]
  },
  {
   "cell_type": "markdown",
   "id": "29584ef2-bf45-41b5-88ed-3580c5eeb8e0",
   "metadata": {},
   "source": [
    "# 미세먼지 챗봇 구현하기"
   ]
  },
  {
   "cell_type": "code",
   "execution_count": 16,
   "id": "bb215ca2-d7a9-452d-9cbe-11d25fbe71c9",
   "metadata": {},
   "outputs": [],
   "source": [
    "# data.go.kr에서 대기정보 받아서 파일로 저장\n",
    "def reload_air():\n",
    "    res = req.get(url2)\n",
    "    with open('../data/air.json', 'w', encoding='UTF-8') as f:\n",
    "        f.writelines(res.text)"
   ]
  },
  {
   "cell_type": "code",
   "execution_count": 17,
   "id": "2786a360-5134-4c0d-b4dd-8768a9cabdd5",
   "metadata": {},
   "outputs": [],
   "source": [
    "# 특정 지역의 대기정보와 이모지 받아오기\n",
    "def fetch_air(sido, gu):\n",
    "    with open('../data/air.json', encoding='UTF-8') as f:\n",
    "        airdata = json.load(f)\n",
    "    \n",
    "    for item in airdata['response']['body']['items']:\n",
    "        sd = item['sidoName']\n",
    "        stnm = item['stationName']\n",
    "\n",
    "        airinfo = ''\n",
    "        if (sd == sido) and (gu == stnm):\n",
    "            data = item['dataTime']\n",
    "            pm10 = item['pm10Value']\n",
    "            pm25 = item['pm25Value']\n",
    "            p10 = rate_pm10( (pm10) )\n",
    "            p25 = rate_pm10( (pm25) )\n",
    "            airinfo = f'{data}, {sido}, {stnm}, {pm10}, {p10}, {pm25}, {p25}'\n",
    "            break\n",
    "    return airinfo"
   ]
  },
  {
   "cell_type": "code",
   "execution_count": 18,
   "id": "80d450c0-2ff3-4981-bd7e-63be5c4cb1f3",
   "metadata": {},
   "outputs": [
    {
     "data": {
      "text/plain": [
       "'2022-09-01 12:00, 서울, 구로구, 23, 😍, 5, 😍'"
      ]
     },
     "execution_count": 18,
     "metadata": {},
     "output_type": "execute_result"
    }
   ],
   "source": [
    "fetch_air('서울', '구로구')"
   ]
  },
  {
   "cell_type": "code",
   "execution_count": 19,
   "id": "a030265e-8695-41bc-801b-f719a08ccdf7",
   "metadata": {},
   "outputs": [],
   "source": [
    "from telegram.ext import Updater\n",
    "from telegram.ext import MessageHandler\n",
    "from telegram.ext import Filters\n",
    "from telegram.ext import CommandHandler"
   ]
  },
  {
   "cell_type": "code",
   "execution_count": 20,
   "id": "71c64e0b-4522-4d1d-8a4d-d5084fec3a51",
   "metadata": {},
   "outputs": [],
   "source": [
    "token = '5560814692:AAHdeu7Td5T9qSGYdf6WVLXHTuNCdKis5xA'\n",
    "bot = telegram.Bot(token=token)"
   ]
  },
  {
   "cell_type": "code",
   "execution_count": 21,
   "id": "07589e3c-0e78-47e9-a567-39696126c7b7",
   "metadata": {},
   "outputs": [],
   "source": [
    "# 메세지 처리 함수 정의\n",
    "def air_message(update, context):\n",
    "    info = update.message.text.split(',')\n",
    "    airinfo = fetch_air(info[0].strip(), info[1].strip())\n",
    "    update.message.reply_text(text=f'{airinfo}')\n",
    "\n",
    "def reload_message(update, context):\n",
    "    reload_air()\n",
    "    update.message.reply_text(text=f'대기정보 갱신됨!!')"
   ]
  },
  {
   "cell_type": "code",
   "execution_count": 22,
   "id": "4ca2c58a-0db2-4f35-bca6-0d68a7326356",
   "metadata": {},
   "outputs": [],
   "source": [
    "# 챗봇 서버 준비\n",
    "updater = Updater(token)\n",
    "\n",
    "reload_handler = CommandHandler('reload', reload_message)\n",
    "air_handler = MessageHandler(Filters.text, air_message)"
   ]
  },
  {
   "cell_type": "code",
   "execution_count": 23,
   "id": "740b84da-fc45-4b65-891c-af6132948466",
   "metadata": {},
   "outputs": [],
   "source": [
    "updater.dispatcher.add_handler(reload_handler)\n",
    "updater.dispatcher.add_handler(air_handler)"
   ]
  },
  {
   "cell_type": "code",
   "execution_count": null,
   "id": "04423a13-56b0-4386-9e4d-3a55991e983f",
   "metadata": {},
   "outputs": [
    {
     "name": "stderr",
     "output_type": "stream",
     "text": [
      "/tmp/ipykernel_3332/1054514104.py:1: TelegramDeprecationWarning: The argument `clean` of `start_polling` is deprecated. Please use `drop_pending_updates` instead.\n",
      "  updater.start_polling(clean=True, timeout=3)\n",
      "No error handlers are registered, logging exception.\n",
      "Traceback (most recent call last):\n",
      "  File \"/opt/miniconda3/lib/python3.8/site-packages/telegram/ext/dispatcher.py\", line 557, in process_update\n",
      "    handler.handle_update(update, self, check, context)\n",
      "  File \"/opt/miniconda3/lib/python3.8/site-packages/telegram/ext/handler.py\", line 199, in handle_update\n",
      "    return self.callback(update, context)\n",
      "  File \"/tmp/ipykernel_3332/927716489.py\", line 4, in air_message\n",
      "    airinfo = fetch_air(info[0].trim(), info[1].trim())\n",
      "AttributeError: 'str' object has no attribute 'trim'\n",
      "No error handlers are registered, logging exception.\n",
      "Traceback (most recent call last):\n",
      "  File \"/opt/miniconda3/lib/python3.8/site-packages/telegram/ext/dispatcher.py\", line 557, in process_update\n",
      "    handler.handle_update(update, self, check, context)\n",
      "  File \"/opt/miniconda3/lib/python3.8/site-packages/telegram/ext/handler.py\", line 199, in handle_update\n",
      "    return self.callback(update, context)\n",
      "  File \"/tmp/ipykernel_3332/927716489.py\", line 4, in air_message\n",
      "    airinfo = fetch_air(info[0].trim(), info[1].trim())\n",
      "AttributeError: 'str' object has no attribute 'trim'\n",
      "No error handlers are registered, logging exception.\n",
      "Traceback (most recent call last):\n",
      "  File \"/opt/miniconda3/lib/python3.8/site-packages/telegram/ext/dispatcher.py\", line 557, in process_update\n",
      "    handler.handle_update(update, self, check, context)\n",
      "  File \"/opt/miniconda3/lib/python3.8/site-packages/telegram/ext/handler.py\", line 199, in handle_update\n",
      "    return self.callback(update, context)\n",
      "  File \"/tmp/ipykernel_3332/927716489.py\", line 4, in air_message\n",
      "    airinfo = fetch_air(info[0].trim(), info[1].trim())\n",
      "AttributeError: 'str' object has no attribute 'trim'\n",
      "No error handlers are registered, logging exception.\n",
      "Traceback (most recent call last):\n",
      "  File \"/opt/miniconda3/lib/python3.8/site-packages/telegram/ext/dispatcher.py\", line 557, in process_update\n",
      "    handler.handle_update(update, self, check, context)\n",
      "  File \"/opt/miniconda3/lib/python3.8/site-packages/telegram/ext/handler.py\", line 199, in handle_update\n",
      "    return self.callback(update, context)\n",
      "  File \"/tmp/ipykernel_3332/927716489.py\", line 4, in air_message\n",
      "    airinfo = fetch_air(info[0].trim(), info[1].trim())\n",
      "AttributeError: 'str' object has no attribute 'trim'\n",
      "No error handlers are registered, logging exception.\n",
      "Traceback (most recent call last):\n",
      "  File \"/opt/miniconda3/lib/python3.8/site-packages/urllib3/connectionpool.py\", line 703, in urlopen\n",
      "    httplib_response = self._make_request(\n",
      "  File \"/opt/miniconda3/lib/python3.8/site-packages/urllib3/connectionpool.py\", line 386, in _make_request\n",
      "    self._validate_conn(conn)\n",
      "  File \"/opt/miniconda3/lib/python3.8/site-packages/urllib3/connectionpool.py\", line 1042, in _validate_conn\n",
      "    conn.connect()\n",
      "  File \"/opt/miniconda3/lib/python3.8/site-packages/urllib3/connection.py\", line 414, in connect\n",
      "    self.sock = ssl_wrap_socket(\n",
      "  File \"/opt/miniconda3/lib/python3.8/site-packages/urllib3/util/ssl_.py\", line 449, in ssl_wrap_socket\n",
      "    ssl_sock = _ssl_wrap_socket_impl(\n",
      "  File \"/opt/miniconda3/lib/python3.8/site-packages/urllib3/util/ssl_.py\", line 493, in _ssl_wrap_socket_impl\n",
      "    return ssl_context.wrap_socket(sock, server_hostname=server_hostname)\n",
      "  File \"/opt/miniconda3/lib/python3.8/ssl.py\", line 500, in wrap_socket\n",
      "    return self.sslsocket_class._create(\n",
      "  File \"/opt/miniconda3/lib/python3.8/ssl.py\", line 1040, in _create\n",
      "    self.do_handshake()\n",
      "  File \"/opt/miniconda3/lib/python3.8/ssl.py\", line 1309, in do_handshake\n",
      "    self._sslobj.do_handshake()\n",
      "ssl.SSLCertVerificationError: [SSL: CERTIFICATE_VERIFY_FAILED] certificate verify failed: unable to get local issuer certificate (_ssl.c:1131)\n",
      "\n",
      "During handling of the above exception, another exception occurred:\n",
      "\n",
      "Traceback (most recent call last):\n",
      "  File \"/opt/miniconda3/lib/python3.8/site-packages/requests/adapters.py\", line 489, in send\n",
      "    resp = conn.urlopen(\n",
      "  File \"/opt/miniconda3/lib/python3.8/site-packages/urllib3/connectionpool.py\", line 787, in urlopen\n",
      "    retries = retries.increment(\n",
      "  File \"/opt/miniconda3/lib/python3.8/site-packages/urllib3/util/retry.py\", line 592, in increment\n",
      "    raise MaxRetryError(_pool, url, error or ResponseError(cause))\n",
      "urllib3.exceptions.MaxRetryError: HTTPSConnectionPool(host='apis.data.go.kr', port=443): Max retries exceeded with url: /B552584/ArpltnInforInqireSvc/getCtprvnRltmMesureDnsty?serviceKey=4sKL7ReMtuftz1SLSir9jAXs6fRlfEMKYzYJLwl4k4AOQCvDoPsEZwOzfEl6AkUbMCkjx1slvTzpGfHnJybCxw%3D%3D&returnType=json&numOfRows=10000&pageNo=1&sidoName=%EC%A0%84%EA%B5%AD&ver=1.0 (Caused by SSLError(SSLCertVerificationError(1, '[SSL: CERTIFICATE_VERIFY_FAILED] certificate verify failed: unable to get local issuer certificate (_ssl.c:1131)')))\n",
      "\n",
      "During handling of the above exception, another exception occurred:\n",
      "\n",
      "Traceback (most recent call last):\n",
      "  File \"/opt/miniconda3/lib/python3.8/site-packages/telegram/ext/dispatcher.py\", line 557, in process_update\n",
      "    handler.handle_update(update, self, check, context)\n",
      "  File \"/opt/miniconda3/lib/python3.8/site-packages/telegram/ext/handler.py\", line 199, in handle_update\n",
      "    return self.callback(update, context)\n",
      "  File \"/tmp/ipykernel_3332/927716489.py\", line 8, in reload_message\n",
      "    reload_air()\n",
      "  File \"/tmp/ipykernel_3332/1084392253.py\", line 3, in reload_air\n",
      "    res = req.get(url2)\n",
      "  File \"/opt/miniconda3/lib/python3.8/site-packages/requests/api.py\", line 73, in get\n",
      "    return request(\"get\", url, params=params, **kwargs)\n",
      "  File \"/opt/miniconda3/lib/python3.8/site-packages/requests/api.py\", line 59, in request\n",
      "    return session.request(method=method, url=url, **kwargs)\n",
      "  File \"/opt/miniconda3/lib/python3.8/site-packages/requests/sessions.py\", line 587, in request\n",
      "    resp = self.send(prep, **send_kwargs)\n",
      "  File \"/opt/miniconda3/lib/python3.8/site-packages/requests/sessions.py\", line 701, in send\n",
      "    r = adapter.send(request, **kwargs)\n",
      "  File \"/opt/miniconda3/lib/python3.8/site-packages/requests/adapters.py\", line 563, in send\n",
      "    raise SSLError(e, request=request)\n",
      "requests.exceptions.SSLError: HTTPSConnectionPool(host='apis.data.go.kr', port=443): Max retries exceeded with url: /B552584/ArpltnInforInqireSvc/getCtprvnRltmMesureDnsty?serviceKey=4sKL7ReMtuftz1SLSir9jAXs6fRlfEMKYzYJLwl4k4AOQCvDoPsEZwOzfEl6AkUbMCkjx1slvTzpGfHnJybCxw%3D%3D&returnType=json&numOfRows=10000&pageNo=1&sidoName=%EC%A0%84%EA%B5%AD&ver=1.0 (Caused by SSLError(SSLCertVerificationError(1, '[SSL: CERTIFICATE_VERIFY_FAILED] certificate verify failed: unable to get local issuer certificate (_ssl.c:1131)')))\n"
     ]
    }
   ],
   "source": [
    "updater.start_polling(clean=True, timeout=3)\n",
    "updater.idle()"
   ]
  },
  {
   "cell_type": "code",
   "execution_count": null,
   "id": "63c65332-2e23-42d5-b569-283f0ec26e24",
   "metadata": {},
   "outputs": [],
   "source": []
  }
 ],
 "metadata": {
  "kernelspec": {
   "display_name": "Python 3 (ipykernel)",
   "language": "python",
   "name": "python3"
  },
  "language_info": {
   "codemirror_mode": {
    "name": "ipython",
    "version": 3
   },
   "file_extension": ".py",
   "mimetype": "text/x-python",
   "name": "python",
   "nbconvert_exporter": "python",
   "pygments_lexer": "ipython3",
   "version": "3.8.13"
  }
 },
 "nbformat": 4,
 "nbformat_minor": 5
}
