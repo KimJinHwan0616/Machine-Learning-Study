{
 "cells": [
  {
   "cell_type": "markdown",
   "id": "207e07ee-4cb1-4bc2-a285-fa19227c9614",
   "metadata": {},
   "source": [
    "# 로지스틱 회귀\n",
    "* 주로 분류를 하기 위한 알고리즘\n",
    "* 예0/아니오1 등의 이진분류에 많이 사용\n",
    "* 의료,통신,데이터마이닝 분야의 회귀/분류를 위한 예측모델로 활용\n",
    "\n",
    "# 머신러닝 교육자료 패키지\n",
    "* 안드레아스 뮐러가 쓴 책의 그래프와 데이터셋을 \n",
    "손쉽게 다루기 위한 패키지\n",
    "  + => '파이썬 라이브러리를 활용한 머신러닝'\n",
    "* pip install mglearn"
   ]
  },
  {
   "cell_type": "code",
   "execution_count": 1,
   "id": "a3af1b69-8b08-493f-a32d-5e36056308e4",
   "metadata": {
    "collapsed": true,
    "jupyter": {
     "outputs_hidden": true
    },
    "tags": []
   },
   "outputs": [
    {
     "name": "stdout",
     "output_type": "stream",
     "text": [
      "Collecting mglearn\n",
      "  Downloading mglearn-0.1.9.tar.gz (540 kB)\n",
      "\u001b[2K     \u001b[90m━━━━━━━━━━━━━━━━━━━━━━━━━━━━━━━━━━━━━━\u001b[0m \u001b[32m540.1/540.1 kB\u001b[0m \u001b[31m24.8 MB/s\u001b[0m eta \u001b[36m0:00:00\u001b[0m\n",
      "\u001b[?25h  Preparing metadata (setup.py) ... \u001b[?25ldone\n",
      "\u001b[?25hRequirement already satisfied: numpy in /opt/miniconda3/lib/python3.8/site-packages (from mglearn) (1.23.1)\n",
      "Requirement already satisfied: matplotlib in /opt/miniconda3/lib/python3.8/site-packages (from mglearn) (3.5.2)\n",
      "Requirement already satisfied: scikit-learn in /opt/miniconda3/lib/python3.8/site-packages (from mglearn) (1.1.1)\n",
      "Requirement already satisfied: pandas in /opt/miniconda3/lib/python3.8/site-packages (from mglearn) (1.4.3)\n",
      "Requirement already satisfied: pillow in /opt/miniconda3/lib/python3.8/site-packages (from mglearn) (9.2.0)\n",
      "Requirement already satisfied: cycler in /opt/miniconda3/lib/python3.8/site-packages (from mglearn) (0.11.0)\n",
      "Collecting imageio\n",
      "  Downloading imageio-2.21.1-py3-none-any.whl (3.4 MB)\n",
      "\u001b[2K     \u001b[90m━━━━━━━━━━━━━━━━━━━━━━━━━━━━━━━━━━━━━━━━\u001b[0m \u001b[32m3.4/3.4 MB\u001b[0m \u001b[31m11.5 MB/s\u001b[0m eta \u001b[36m0:00:00\u001b[0m00:01\u001b[0m00:01\u001b[0mm\n",
      "\u001b[?25hRequirement already satisfied: joblib in /opt/miniconda3/lib/python3.8/site-packages (from mglearn) (1.1.0)\n",
      "Requirement already satisfied: kiwisolver>=1.0.1 in /opt/miniconda3/lib/python3.8/site-packages (from matplotlib->mglearn) (1.4.4)\n",
      "Requirement already satisfied: packaging>=20.0 in /opt/miniconda3/lib/python3.8/site-packages (from matplotlib->mglearn) (21.3)\n",
      "Requirement already satisfied: python-dateutil>=2.7 in /opt/miniconda3/lib/python3.8/site-packages (from matplotlib->mglearn) (2.8.2)\n",
      "Requirement already satisfied: fonttools>=4.22.0 in /opt/miniconda3/lib/python3.8/site-packages (from matplotlib->mglearn) (4.34.4)\n",
      "Requirement already satisfied: pyparsing>=2.2.1 in /opt/miniconda3/lib/python3.8/site-packages (from matplotlib->mglearn) (3.0.9)\n",
      "Requirement already satisfied: pytz>=2020.1 in /opt/miniconda3/lib/python3.8/site-packages (from pandas->mglearn) (2022.1)\n",
      "Requirement already satisfied: scipy>=1.3.2 in /opt/miniconda3/lib/python3.8/site-packages (from scikit-learn->mglearn) (1.9.0)\n",
      "Requirement already satisfied: threadpoolctl>=2.0.0 in /opt/miniconda3/lib/python3.8/site-packages (from scikit-learn->mglearn) (3.1.0)\n",
      "Requirement already satisfied: six>=1.5 in /opt/miniconda3/lib/python3.8/site-packages (from python-dateutil>=2.7->matplotlib->mglearn) (1.16.0)\n",
      "Building wheels for collected packages: mglearn\n",
      "  Building wheel for mglearn (setup.py) ... \u001b[?25ldone\n",
      "\u001b[?25h  Created wheel for mglearn: filename=mglearn-0.1.9-py2.py3-none-any.whl size=582639 sha256=d763dd904efa2a12c4bfcc2de909084bc36d29b24ebf77b976c344d8fd10458e\n",
      "  Stored in directory: /home/centos/.cache/pip/wheels/87/75/37/404e66d0c4bad150f101c9a0914b11a8eccc2681559936e7f7\n",
      "Successfully built mglearn\n",
      "Installing collected packages: imageio, mglearn\n",
      "Successfully installed imageio-2.21.1 mglearn-0.1.9\n",
      "Note: you may need to restart the kernel to use updated packages.\n"
     ]
    }
   ],
   "source": [
    "pip install mglearn"
   ]
  },
  {
   "cell_type": "code",
   "execution_count": 2,
   "id": "e97c39ff-8daa-46bd-9e07-fc1a3f09b7a0",
   "metadata": {},
   "outputs": [],
   "source": [
    "import numpy as np\n",
    "import pandas as pd \n",
    "import matplotlib.pyplot as plt"
   ]
  },
  {
   "cell_type": "code",
   "execution_count": 3,
   "id": "3451d6a6-9244-4a30-957b-50354e7c2de4",
   "metadata": {},
   "outputs": [],
   "source": [
    "from sklearn.preprocessing import StandardScaler, MinMaxScaler, LabelEncoder\n",
    "\n",
    "from sklearn.model_selection import train_test_split, cross_val_score\n",
    "\n",
    "from sklearn.tree import DecisionTreeClassifier\n",
    "from sklearn.ensemble import RandomForestClassifier\n",
    "from sklearn.linear_model import LogisticRegression\n",
    "from sklearn.neighbors import KNeighborsClassifier\n",
    "\n",
    "from sklearn.metrics import accuracy_score, recall_score, precision_score\n",
    "from sklearn.metrics import confusion_matrix, classification_report"
   ]
  },
  {
   "cell_type": "code",
   "execution_count": 34,
   "id": "fc215209-f746-46ed-ab84-ea0936290354",
   "metadata": {},
   "outputs": [
    {
     "name": "stderr",
     "output_type": "stream",
     "text": [
      "/opt/miniconda3/lib/python3.8/site-packages/sklearn/utils/deprecation.py:87: FutureWarning: Function make_blobs is deprecated; Please import make_blobs directly from scikit-learn\n",
      "  warnings.warn(msg, category=FutureWarning)\n"
     ]
    },
    {
     "name": "stdout",
     "output_type": "stream",
     "text": [
      "0.9230769230769231\n"
     ]
    },
    {
     "data": {
      "image/png": "[encoded data removed]",
      "text/plain": [
       "<Figure size 432x288 with 1 Axes>"
      ]
     },
     "metadata": {},
     "output_type": "display_data"
    }
   ],
   "source": [
    "import mglearn\n",
    "\n",
    "# 데이터셋 생성\n",
    "X, y = mglearn.datasets.make_forge()\n",
    "\n",
    "# 산점도(시각화)\n",
    "mglearn.discrete_scatter(X[:,0], X[:,1], y)\n",
    "\n",
    "# 로지스틱 회귀\n",
    "lr = LogisticRegression()\n",
    "clf = lr.fit(X, y)\n",
    "print(clf.score(X,y))\n",
    "\n",
    "# 결정경계(시각화)\n",
    "mglearn.plots.plot_2d_separator(clf, X)\n",
    "\n",
    "plt.show()"
   ]
  },
  {
   "cell_type": "markdown",
   "id": "92c7be42-e631-43e3-bd40-612d2ecca275",
   "metadata": {},
   "source": [
    "# 선형회귀 함정"
   ]
  },
  {
   "cell_type": "code",
   "execution_count": 35,
   "id": "c019705a-2473-48dc-a83c-95d295f7ffc9",
   "metadata": {},
   "outputs": [],
   "source": [
    "# 특정 곤충질량에 따라 암수구분하는 모델 생성\n",
    "X = np.array([1.94,1.67,0.92,1.11,1.41,1.65,2.28,0.47,1.07,2.19,2.08,1.02,0.91,1.16,1.46,1.02,0.85,0.89,1.79,1.89,0.75,0.9,1.87,0.5,0.69,1.5,0.96,0.53,1.21,0.6])\n",
    "y = np.array([1,1,0,0,1,1,1,0,0,1,1,0,0,0,1,0,0,0,1,1,0,1,1,0,0,1,1,0,1,0])\n"
   ]
  },
  {
   "cell_type": "code",
   "execution_count": 37,
   "id": "5f44ae9e-2bf7-496b-a38c-228095482794",
   "metadata": {},
   "outputs": [
    {
     "data": {
      "image/png": "[encoded data removed]",
      "text/plain": [
       "<Figure size 432x288 with 1 Axes>"
      ]
     },
     "metadata": {
      "needs_background": "light"
     },
     "output_type": "display_data"
    }
   ],
   "source": [
    "# 데이터 시각화1\n",
    "plt.plot(X, y, 'ro')\n",
    "plt.grid()\n",
    "plt.show()"
   ]
  },
  {
   "cell_type": "code",
   "execution_count": 52,
   "id": "22239dd8-410d-42f8-b3e9-b6745f5278a1",
   "metadata": {},
   "outputs": [
    {
     "data": {
      "image/png": "[encoded data removed]",
      "text/plain": [
       "<Figure size 432x288 with 1 Axes>"
      ]
     },
     "metadata": {
      "needs_background": "light"
     },
     "output_type": "display_data"
    }
   ],
   "source": [
    "# 데이터 시각화2\n",
    "plt.scatter(X, y, c=y)\n",
    "plt.axvline(x=1.1, color='r', linestyle='--')\n",
    "plt.axvline(x=1.2, color='b', linestyle='--')\n",
    "plt.grid()"
   ]
  },
  {
   "cell_type": "code",
   "execution_count": 44,
   "id": "19e3d663-8e1d-403c-8908-b5cd73417053",
   "metadata": {},
   "outputs": [
    {
     "name": "stdout",
     "output_type": "stream",
     "text": [
      "[[0.74825276]] [-0.43007818]\n"
     ]
    }
   ],
   "source": [
    "## 선형회귀분석\n",
    "from sklearn.linear_model import LinearRegression\n",
    "\n",
    "lr = LinearRegression()\n",
    "lr.fit(X.reshape(-1,1), y.reshape(-1,1))\n",
    "\n",
    "print(lr.coef_, lr.intercept_)  # 기울기, 절편"
   ]
  },
  {
   "cell_type": "code",
   "execution_count": 45,
   "id": "b76afa94-508f-459b-bc68-5c64e6357bec",
   "metadata": {},
   "outputs": [
    {
     "data": {
      "image/png": "[encoded data removed]",
      "text/plain": [
       "<Figure size 432x288 with 1 Axes>"
      ]
     },
     "metadata": {
      "needs_background": "light"
     },
     "output_type": "display_data"
    }
   ],
   "source": [
    "## 선형회귀분석 - 시각화\n",
    "\n",
    "# 회귀방정식 : y = ax + b\n",
    "x = np.linspace(0.5, 2.25, 50)  # 0.5 ~ 2.25 간격 = 50등분\n",
    "yy = lr.coef_*x + lr.intercept_\n",
    "\n",
    "plt.scatter(X, y, c=y)\n",
    "plt.axvline(x=1.1, color='r', linestyle='--')\n",
    "plt.plot(x.reshape(-1,1), yy.reshape(-1,1), 'b')\n",
    "plt.grid()\n"
   ]
  },
  {
   "cell_type": "markdown",
   "id": "4bfe99d7-5538-4b3a-926d-de24dd093fb8",
   "metadata": {},
   "source": [
    "* 위 그래프에서 보듯 선형방정식은 이항분포를 따르는 \n",
    "데이터에 적용하기에 다소 무리가 있음\n",
    "  + $y = ax + b$\n",
    "* 즉, 우변값의 범위는 '-무한대 ~ +무한대'이지만\n",
    "좌변값의 범위는 '0 ~ 1'임\n",
    "* 따라서, 좌변값의 범위를 우변과 동일하게 하려면\n",
    "적절한 변환함수가 필요 = > logit함수를 이용\n",
    "\n",
    "$$ f(x) = {{1} \\over {1 + e ^{-x}}}  $$"
   ]
  },
  {
   "cell_type": "markdown",
   "id": "5e00ea6c-a597-427b-8c93-94347666596a",
   "metadata": {},
   "source": [
    "# 로지스트 함수 정의"
   ]
  },
  {
   "cell_type": "code",
   "execution_count": 46,
   "id": "c2261b49-c245-4501-86ed-ce92466e7355",
   "metadata": {},
   "outputs": [],
   "source": [
    "def logistic(x, a, b):\n",
    "    yy = 1/(1+ np.exp(-(a*x+b)))\n",
    "    return yy"
   ]
  },
  {
   "cell_type": "code",
   "execution_count": 50,
   "id": "0834492c-0f98-4334-891b-7cdf2ce3ad6c",
   "metadata": {},
   "outputs": [
    {
     "data": {
      "image/png": "[encoded data removed]",
      "text/plain": [
       "<Figure size 432x288 with 1 Axes>"
      ]
     },
     "metadata": {
      "needs_background": "light"
     },
     "output_type": "display_data"
    }
   ],
   "source": [
    "# 로지스트 함수 그래프\n",
    "x = np.linspace(0.5, 2.25, 50)  # 0.5 ~ 2.25 간격 = 50등분\n",
    "yy = logistic(x, 8, -10)  # 회귀계수\n",
    "\n",
    "plt.scatter(X, y, c=y)\n",
    "plt.axvline(x=1.1, color='r', linestyle='--')\n",
    "plt.plot(x.reshape(-1,1), yy.reshape(-1,1), 'b')\n",
    "plt.grid()"
   ]
  },
  {
   "cell_type": "code",
   "execution_count": null,
   "id": "72938307-d5e5-4bbb-a277-ebb46e41dc30",
   "metadata": {},
   "outputs": [],
   "source": []
  }
 ],
 "metadata": {
  "kernelspec": {
   "display_name": "Python 3 (ipykernel)",
   "language": "python",
   "name": "python3"
  },
  "language_info": {
   "codemirror_mode": {
    "name": "ipython",
    "version": 3
   },
   "file_extension": ".py",
   "mimetype": "text/x-python",
   "name": "python",
   "nbconvert_exporter": "python",
   "pygments_lexer": "ipython3",
   "version": "3.8.13"
  }
 },
 "nbformat": 4,
 "nbformat_minor": 5
}
