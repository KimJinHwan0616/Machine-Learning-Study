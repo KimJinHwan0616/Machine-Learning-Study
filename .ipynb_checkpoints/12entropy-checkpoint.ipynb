{
 "cells": [
  {
   "cell_type": "markdown",
   "id": "bbab680a-49f7-4967-a64e-b19af6b81adf",
   "metadata": {},
   "source": [
    "## 엔트로피entropy\n",
    "* 물리 열역학의 관점에서의 정의\n",
    "    + 물질의 열적 상태를 나타내는 물리량의 하나\n",
    "    + 보통 무질서도라고 함\n",
    "    + 엔트로피가 높으면 무질서도 증가\n",
    "* 통계적 관점에서의 정의\n",
    "    + 정보이득information gain의 혼잡도\n",
    "    + 엔트로피가 높으면 **정보이해가 어려워 짐**    \n",
    "* 학습데이터는 기본적으로 **혼잡한 상태**임\n",
    "     + 따라서, 어떤 조건으로 분류해야만 전체 혼잡도가 개선되는지 계산\n",
    "     + 정리한 결과에 대해 다시 계산해서 처리를 반복 적용함\n",
    "     + 즉, 정보의 불확실성을 수치로 나타낸 것을 의미 "
   ]
  },
  {
   "cell_type": "markdown",
   "id": "80433321-3703-4292-b319-db66e184e885",
   "metadata": {},
   "source": [
    "## 엔트로피의 식\n",
    "* $ entropy = -\\sum p_k \\log_2 p_k $\n",
    "* 복수의 현상(1~n)이 존재할때 그 혼잡도를 나타내는 엔트로피의 식\n",
    "     + -p(현상1) * log(p(현상1)) + -p(현상2) * log(p(현상2)) + ... ... -p(현상n) * log(p(현상n))\n",
    "* 참고) 엔트로피는 일반적으로 2를 밑으로 하는 로그로 계산함\n",
    "    + 단, 자연로그로도 엔트로피를 계산하기도 함     "
   ]
  },
  {
   "cell_type": "code",
   "execution_count": null,
   "id": "d23080cf-e04c-47b4-8f47-6ce5f11f4077",
   "metadata": {},
   "outputs": [],
   "source": [
    "# x를 기준으로 y를 나누는 가장 좋은 방법은?\n",
    "# x = [1,2,3,4,5,6,7,8]\n",
    "# y = [0,0,0,1,1,1,1,1]\n",
    "\n",
    "# 방법1) x : 3.5 (최적의 조건)\n",
    "# 방법2) x : 4.5 (오분류의 가능성 존재)"
   ]
  },
  {
   "cell_type": "code",
   "execution_count": 2,
   "id": "ad1353b9-1ea4-4fa6-9fa2-f84de9654bd5",
   "metadata": {},
   "outputs": [
    {
     "data": {
      "text/plain": [
       "3.3219280948873626"
      ]
     },
     "execution_count": 2,
     "metadata": {},
     "output_type": "execute_result"
    }
   ],
   "source": [
    "# ex) 확률 0.1의 현상이 10개 일어난 경우 엔트로피는?\n",
    "# -p(현상1) * log(p(현상1))\n",
    "import math\n",
    "\n",
    "# -0.1 * math.log2(0.1)       # 0.332\n",
    "-0.1 * math.log2(0.1) * 10    # 3.321"
   ]
  },
  {
   "cell_type": "code",
   "execution_count": 3,
   "id": "39ac5364-f411-474c-ab95-331a1cd6e50d",
   "metadata": {},
   "outputs": [
    {
     "data": {
      "text/plain": [
       "2.0"
      ]
     },
     "execution_count": 3,
     "metadata": {},
     "output_type": "execute_result"
    }
   ],
   "source": [
    "# ex) 확률 0.25의 현상이 4개 일어난 경우 엔트로피는?\n",
    "-0.25 * math.log2(0.25) * 4"
   ]
  },
  {
   "cell_type": "code",
   "execution_count": null,
   "id": "b5099532-694d-4561-954d-7f39d58b9a66",
   "metadata": {},
   "outputs": [],
   "source": [
    "# ex) 10마리의 동물이 개인지 고양이인지 분류\n",
    "# big   follow   walking      class\n",
    "# yes     yes    yes          dog\n",
    "# yes     yes    no           cat\n",
    "# no      yes    yes          dog\n",
    "# yes     yes    yes          dog\n",
    "# no      no     yes          cat\n",
    "\n",
    "# yes     no     yes          dog\n",
    "# yes     no     yes          cat\n",
    "# no      no     no           cat\n",
    "# yes     yes    yes          dog\n",
    "# no      yes    no           dog"
   ]
  },
  {
   "cell_type": "code",
   "execution_count": 4,
   "id": "5d2698c9-097c-4836-91bc-016300fe41ba",
   "metadata": {},
   "outputs": [
    {
     "data": {
      "text/plain": [
       "0.9709505944546686"
      ]
     },
     "execution_count": 4,
     "metadata": {},
     "output_type": "execute_result"
    }
   ],
   "source": [
    "# 1) target에 대한 entropy 계산\n",
    "# 10마리중 6마리가 개, 4마리가 고양이\n",
    "# 개로 분류될 확률 :     6/10 = 0.6\n",
    "# 고양이로 분류될 확률 : 4/10 = 0.4\n",
    "-0.6 * math.log2(0.6) + -0.4 * math.log2(0.4)"
   ]
  },
  {
   "cell_type": "code",
   "execution_count": 5,
   "id": "944e6df8-a74c-4fe3-9cc7-54587a37a044",
   "metadata": {},
   "outputs": [
    {
     "data": {
      "text/plain": [
       "0.9179621399872384"
      ]
     },
     "execution_count": 5,
     "metadata": {},
     "output_type": "execute_result"
    }
   ],
   "source": [
    "# 2) 덩치big기준으로 분류시 entropy 계산\n",
    "# 덩치가 큰 것으로 분류 = 개 : 고양이 => 4 : 2\n",
    "# 덩치가 큰 경우 개로 분류     = 4 : 6 => 0.667\n",
    "# 덩치가 큰 경우 고양이로 분류 = 2 : 6 => 0.333\n",
    "-0.667*math.log2(0.667) + -0.333*math.log2(0.333)"
   ]
  },
  {
   "cell_type": "code",
   "execution_count": 8,
   "id": "19f1d389-6c4a-4d10-b391-fcdcedba1141",
   "metadata": {},
   "outputs": [
    {
     "data": {
      "text/plain": [
       "1.0"
      ]
     },
     "execution_count": 8,
     "metadata": {},
     "output_type": "execute_result"
    }
   ],
   "source": [
    "# 2b) 덩치big기준으로 분류시 entropy 계산\n",
    "# 덩치가 작은 것으로 분류 = 개 : 고양이 => 2:2 \n",
    "# 덩치가 작은 경우 개로 분류     = 2/4 = 0.5 \n",
    "# 덩치가 작은 경우 고양이로 분류 = 2/4 = 0.5 \n",
    "-0.5*math.log2(0.5) + -0.5*math.log2(0.5)"
   ]
  },
  {
   "cell_type": "code",
   "execution_count": 9,
   "id": "3d8cc58e-b2f9-402e-8ddc-0a920113cd6c",
   "metadata": {},
   "outputs": [
    {
     "data": {
      "text/plain": [
       "0.9502"
      ]
     },
     "execution_count": 9,
     "metadata": {},
     "output_type": "execute_result"
    }
   ],
   "source": [
    "# 덩치로 분류했을때의 엔트로피는 \n",
    "# 개로 분류될 확률 x 덩치로 분류될 확률과   \n",
    "# 고양이로 분류될 확률 x 덩치로 분류될 확률을 \n",
    "# 더해준 결과값이 됨\n",
    "0.6 * 0.917 + 0.4 * 1.0"
   ]
  },
  {
   "cell_type": "code",
   "execution_count": 6,
   "id": "c81c63fd-3db5-403f-b557-99b85c401479",
   "metadata": {},
   "outputs": [
    {
     "data": {
      "text/plain": [
       "0.6507958209094192"
      ]
     },
     "execution_count": 6,
     "metadata": {},
     "output_type": "execute_result"
    }
   ],
   "source": [
    "# 3) 따름follow기준으로 분류시 entropy 계산\n",
    "# 잘따름으로 분류 = 5:1\n",
    "# 잘따르는데 개로 분류     = 5/6 = 0.833\n",
    "# 잘따르는데 고양이로 분류 = 1/6 = 0.167\n",
    "-0.833*math.log2(0.833) + -0.167*math.log2(0.167)"
   ]
  },
  {
   "cell_type": "code",
   "execution_count": 10,
   "id": "b775891f-f776-4f64-949b-8efe3e92a184",
   "metadata": {},
   "outputs": [
    {
     "data": {
      "text/plain": [
       "0.8112781244591328"
      ]
     },
     "execution_count": 10,
     "metadata": {},
     "output_type": "execute_result"
    }
   ],
   "source": [
    "# 3b) 따름follow기준으로 분류시 entropy 계산\n",
    "# 잘 안따름으로 분류 = 1:3\n",
    "# 잘 안따르는데 개로 분류     = 1/4 = 0.25\n",
    "# 잘 안따르는데 고양이로 분류 = 3/4 = 0.75\n",
    "-0.25*math.log2(0.25) + -0.75*math.log2(0.75)"
   ]
  },
  {
   "cell_type": "code",
   "execution_count": 11,
   "id": "ccea369e-20da-4074-884e-54a8906e1f04",
   "metadata": {},
   "outputs": [
    {
     "data": {
      "text/plain": [
       "0.7144"
      ]
     },
     "execution_count": 11,
     "metadata": {},
     "output_type": "execute_result"
    }
   ],
   "source": [
    "# 따름으로 분류했을때의 엔트로피는 \n",
    "0.6 * 0.650 + 0.4 * 0.811"
   ]
  },
  {
   "cell_type": "code",
   "execution_count": 7,
   "id": "94b15339-b69d-4f78-802a-21415a962c95",
   "metadata": {},
   "outputs": [
    {
     "data": {
      "text/plain": [
       "0.8634979738266906"
      ]
     },
     "execution_count": 7,
     "metadata": {},
     "output_type": "execute_result"
    }
   ],
   "source": [
    "# 4) 산책walking기준으로 분류시 entropy 계산\n",
    "# 산책으로 분류 = 5:2\n",
    "# 산책하는데 개로 분류     = 5/7 = 0.714\n",
    "# 산책하는데 고양이로 분류 = 2/7 = 0.286\n",
    "-0.714*math.log2(0.714) + -0.286*math.log2(0.286)"
   ]
  },
  {
   "cell_type": "code",
   "execution_count": 12,
   "id": "e9de87dd-8e08-4ade-a969-62bda306ae70",
   "metadata": {},
   "outputs": [
    {
     "data": {
      "text/plain": [
       "0.9179621399872384"
      ]
     },
     "execution_count": 12,
     "metadata": {},
     "output_type": "execute_result"
    }
   ],
   "source": [
    "# 4b) 산책walking기준으로 분류시 entropy 계산\n",
    "# 산책 안함으로 분류 = 1:2\n",
    "# 산책 안하는데 개로 분류     = 1/3 = 0.333\n",
    "# 산책 안하는데 고양이로 분류 = 2/3 = 0.667\n",
    "-0.333*math.log2(0.333) + -0.667*math.log2(0.667)"
   ]
  },
  {
   "cell_type": "code",
   "execution_count": 13,
   "id": "4f854168-7519-485b-b321-236bdbfc3751",
   "metadata": {},
   "outputs": [
    {
     "data": {
      "text/plain": [
       "0.8845999999999999"
      ]
     },
     "execution_count": 13,
     "metadata": {},
     "output_type": "execute_result"
    }
   ],
   "source": [
    "# 산책으로 분류했을때의 엔트로피는 \n",
    "0.6 * 0.863 + 0.4 * 0.917"
   ]
  },
  {
   "cell_type": "code",
   "execution_count": null,
   "id": "46f7af65-795f-43ae-b408-e1e0b9557415",
   "metadata": {},
   "outputs": [],
   "source": [
    "# 따라서, 덩치, 따름, 산책여부에 따라 \n",
    "# 정보의 불확실수치들을 비교\n",
    "# 0.970\n",
    "# 0.9502\n",
    "# 0.7144 (!!)\n",
    "# 0.884"
   ]
  },
  {
   "cell_type": "markdown",
   "id": "6b67d100-955d-4db5-a9d8-1741a4953bf4",
   "metadata": {},
   "source": [
    "## 개/고양이 분류를 의사결정나무로 분석"
   ]
  },
  {
   "cell_type": "code",
   "execution_count": 14,
   "id": "81b05b1a-c629-4195-8e00-c67289f1d2af",
   "metadata": {},
   "outputs": [],
   "source": [
    "import numpy as np\n",
    "import pandas as pd \n",
    "import matplotlib.pyplot as plt"
   ]
  },
  {
   "cell_type": "code",
   "execution_count": 15,
   "id": "d7d3806a-bbe4-4b00-ba52-3ed68c5f1d14",
   "metadata": {},
   "outputs": [],
   "source": [
    "from sklearn.preprocessing import StandardScaler, MinMaxScaler, LabelEncoder\n",
    "\n",
    "from sklearn.model_selection import train_test_split, cross_val_score\n",
    "\n",
    "from sklearn.tree import DecisionTreeClassifier\n",
    "from sklearn.ensemble import RandomForestClassifier\n",
    "from sklearn.linear_model import LogisticRegression\n",
    "from sklearn.neighbors import KNeighborsClassifier\n",
    "\n",
    "from sklearn.metrics import accuracy_score, recall_score, precision_score\n",
    "from sklearn.metrics import confusion_matrix, classification_report"
   ]
  },
  {
   "cell_type": "code",
   "execution_count": 16,
   "id": "56827f07-22b3-4e03-80fb-f7aab6126880",
   "metadata": {},
   "outputs": [],
   "source": [
    "import pydotplus\n",
    "from sklearn import tree\n",
    "import matplotlib.image as pltimg"
   ]
  },
  {
   "cell_type": "code",
   "execution_count": 25,
   "id": "4dfb2a72-c262-4c31-8a7a-d460528db249",
   "metadata": {},
   "outputs": [
    {
     "data": {
      "text/html": [
       "<div>\n",
       "<style scoped>\n",
       "    .dataframe tbody tr th:only-of-type {\n",
       "        vertical-align: middle;\n",
       "    }\n",
       "\n",
       "    .dataframe tbody tr th {\n",
       "        vertical-align: top;\n",
       "    }\n",
       "\n",
       "    .dataframe thead th {\n",
       "        text-align: right;\n",
       "    }\n",
       "</style>\n",
       "<table border=\"1\" class=\"dataframe\">\n",
       "  <thead>\n",
       "    <tr style=\"text-align: right;\">\n",
       "      <th></th>\n",
       "      <th>big</th>\n",
       "      <th>follow</th>\n",
       "      <th>walking</th>\n",
       "      <th>class</th>\n",
       "    </tr>\n",
       "  </thead>\n",
       "  <tbody>\n",
       "    <tr>\n",
       "      <th>0</th>\n",
       "      <td>yes</td>\n",
       "      <td>yes</td>\n",
       "      <td>yes</td>\n",
       "      <td>dog</td>\n",
       "    </tr>\n",
       "    <tr>\n",
       "      <th>1</th>\n",
       "      <td>yes</td>\n",
       "      <td>yes</td>\n",
       "      <td>no</td>\n",
       "      <td>cat</td>\n",
       "    </tr>\n",
       "    <tr>\n",
       "      <th>2</th>\n",
       "      <td>no</td>\n",
       "      <td>yes</td>\n",
       "      <td>yes</td>\n",
       "      <td>dog</td>\n",
       "    </tr>\n",
       "    <tr>\n",
       "      <th>3</th>\n",
       "      <td>yes</td>\n",
       "      <td>yes</td>\n",
       "      <td>yes</td>\n",
       "      <td>dog</td>\n",
       "    </tr>\n",
       "    <tr>\n",
       "      <th>4</th>\n",
       "      <td>no</td>\n",
       "      <td>no</td>\n",
       "      <td>yes</td>\n",
       "      <td>cat</td>\n",
       "    </tr>\n",
       "  </tbody>\n",
       "</table>\n",
       "</div>"
      ],
      "text/plain": [
       "   big follow walking class\n",
       "0  yes    yes     yes   dog\n",
       "1  yes    yes      no   cat\n",
       "2   no    yes     yes   dog\n",
       "3  yes    yes     yes   dog\n",
       "4   no     no     yes   cat"
      ]
     },
     "execution_count": 25,
     "metadata": {},
     "output_type": "execute_result"
    }
   ],
   "source": [
    "catdog = pd.read_csv('../data/catdog.csv')\n",
    "catdog.head()"
   ]
  },
  {
   "cell_type": "code",
   "execution_count": 26,
   "id": "ed4d4cd5-3113-4206-afad-64ed16bd3c47",
   "metadata": {},
   "outputs": [
    {
     "data": {
      "text/html": [
       "<div>\n",
       "<style scoped>\n",
       "    .dataframe tbody tr th:only-of-type {\n",
       "        vertical-align: middle;\n",
       "    }\n",
       "\n",
       "    .dataframe tbody tr th {\n",
       "        vertical-align: top;\n",
       "    }\n",
       "\n",
       "    .dataframe thead th {\n",
       "        text-align: right;\n",
       "    }\n",
       "</style>\n",
       "<table border=\"1\" class=\"dataframe\">\n",
       "  <thead>\n",
       "    <tr style=\"text-align: right;\">\n",
       "      <th></th>\n",
       "      <th>big</th>\n",
       "      <th>follow</th>\n",
       "      <th>walking</th>\n",
       "      <th>class</th>\n",
       "    </tr>\n",
       "  </thead>\n",
       "  <tbody>\n",
       "    <tr>\n",
       "      <th>0</th>\n",
       "      <td>1</td>\n",
       "      <td>1</td>\n",
       "      <td>1</td>\n",
       "      <td>1</td>\n",
       "    </tr>\n",
       "    <tr>\n",
       "      <th>1</th>\n",
       "      <td>1</td>\n",
       "      <td>1</td>\n",
       "      <td>0</td>\n",
       "      <td>0</td>\n",
       "    </tr>\n",
       "    <tr>\n",
       "      <th>2</th>\n",
       "      <td>0</td>\n",
       "      <td>1</td>\n",
       "      <td>1</td>\n",
       "      <td>1</td>\n",
       "    </tr>\n",
       "    <tr>\n",
       "      <th>3</th>\n",
       "      <td>1</td>\n",
       "      <td>1</td>\n",
       "      <td>1</td>\n",
       "      <td>1</td>\n",
       "    </tr>\n",
       "    <tr>\n",
       "      <th>4</th>\n",
       "      <td>0</td>\n",
       "      <td>0</td>\n",
       "      <td>1</td>\n",
       "      <td>0</td>\n",
       "    </tr>\n",
       "  </tbody>\n",
       "</table>\n",
       "</div>"
      ],
      "text/plain": [
       "   big  follow  walking  class\n",
       "0    1       1        1      1\n",
       "1    1       1        0      0\n",
       "2    0       1        1      1\n",
       "3    1       1        1      1\n",
       "4    0       0        1      0"
      ]
     },
     "execution_count": 26,
     "metadata": {},
     "output_type": "execute_result"
    }
   ],
   "source": [
    "# 범주형 변수를 레이블 인코딩함\n",
    "# pd.Categorical(변수), 변수.cat.codes\n",
    "cols = ['big','follow','walking','class']\n",
    "\n",
    "for c in cols:\n",
    "    catdog[c] = pd.Categorical(catdog[c])\n",
    "    catdog[c] = catdog[c].cat.codes\n",
    "\n",
    "catdog.head()"
   ]
  },
  {
   "cell_type": "code",
   "execution_count": 27,
   "id": "37a756fa-c3a2-422a-a010-1f0a499fcf0b",
   "metadata": {},
   "outputs": [
    {
     "data": {
      "text/plain": [
       "0.9"
      ]
     },
     "execution_count": 27,
     "metadata": {},
     "output_type": "execute_result"
    }
   ],
   "source": [
    "data = catdog.iloc[:, :3]\n",
    "target = catdog['class']\n",
    "\n",
    "dtclf = DecisionTreeClassifier(criterion='entropy')\n",
    "dtclf.fit(data, target)\n",
    "dtclf.score(data, target)"
   ]
  },
  {
   "cell_type": "code",
   "execution_count": 28,
   "id": "19ef33c7-6db9-4529-ad2e-ab1802cd5e9b",
   "metadata": {},
   "outputs": [
    {
     "data": {
      "text/plain": [
       "True"
      ]
     },
     "execution_count": 28,
     "metadata": {},
     "output_type": "execute_result"
    }
   ],
   "source": [
    "dot_data = tree.export_graphviz(dtclf, out_file=None) # 그래프 관련 dot데이터 추출\n",
    "graph = pydotplus.graph_from_dot_data(dot_data)       # dot데이터를 토대로 그래프 생성\n",
    "\n",
    "graph.write_png('imgs/catdog.png') "
   ]
  },
  {
   "cell_type": "code",
   "execution_count": 29,
   "id": "a90840a7-e5fc-4ab9-944d-ad5b68ee8653",
   "metadata": {},
   "outputs": [
    {
     "data": {
      "image/png": "[encoded data removed]",
      "text/plain": [
       "<Figure size 864x576 with 1 Axes>"
      ]
     },
     "metadata": {
      "needs_background": "light"
     },
     "output_type": "display_data"
    }
   ],
   "source": [
    "img = pltimg.imread('imgs/catdog.png')\n",
    "\n",
    "plt.figure(figsize=(12,8))\n",
    "plt.imshow(img)\n",
    "plt.axis('off')\n",
    "plt.show()"
   ]
  },
  {
   "cell_type": "markdown",
   "id": "632c1e59-192d-4780-ad7b-2aabda1dfaac",
   "metadata": {},
   "source": [
    "## 날씨상황에 따라 골프 실행 여부 분석"
   ]
  },
  {
   "cell_type": "code",
   "execution_count": null,
   "id": "621794ed-a71c-4b53-bf95-9f937a6d959c",
   "metadata": {},
   "outputs": [],
   "source": []
  },
  {
   "cell_type": "code",
   "execution_count": null,
   "id": "b95c5182-edfa-458a-bc38-837cb2fc3dd2",
   "metadata": {},
   "outputs": [],
   "source": [
    "# scipy 패키지 entropy 계산 함수 제공"
   ]
  }
 ],
 "metadata": {
  "kernelspec": {
   "display_name": "Python 3 (ipykernel)",
   "language": "python",
   "name": "python3"
  },
  "language_info": {
   "codemirror_mode": {
    "name": "ipython",
    "version": 3
   },
   "file_extension": ".py",
   "mimetype": "text/x-python",
   "name": "python",
   "nbconvert_exporter": "python",
   "pygments_lexer": "ipython3",
   "version": "3.8.13"
  }
 },
 "nbformat": 4,
 "nbformat_minor": 5
}
