{
 "cells": [
  {
   "cell_type": "markdown",
   "id": "408939ff-98ce-4f3a-8f46-28b2ad366d6e",
   "metadata": {},
   "source": [
    "## ROC\n",
    "* Receiver Operation Characteristic\n",
    "* 수신자 판단 곡선 \n",
    "* 세계 2차 대전 통신 장비 성능 평가를 위해 고안된 수치\n",
    "    + 레이더 데이터를 분석하여 적 항공기와 신호 소음을 구별하는 데 사용\n",
    "    + 수신기의 감도가 증가함에 따라 거짓 긍정의 수(즉, 특이성)이 감소함\n",
    "* 의학분야에 많이 사용되지만, 머신러닝의 이진 분류 모델 예측 성능 평가에도 사용\n",
    "* ROC곡선의 y축은 '민감도TPR'를, x축은 '1-재현율FPR'로 그림\n",
    "* 모델이 양성/긍정으로 예측했을때 얼마나 잘 맞추고 있는지를 설명한 것"
   ]
  },
  {
   "cell_type": "markdown",
   "id": "73780678-9e87-43f8-a049-f0fa8c8f9d62",
   "metadata": {},
   "source": [
    "## ROC 그래프 그리기\n",
    "* 타이타닉 데이터셋으로 로지스틱회귀 분석한 후\n",
    "* 특이도, 재현율을 구한후 ROC 그래프 작성"
   ]
  },
  {
   "cell_type": "code",
   "execution_count": 2,
   "id": "98a5d074-4062-4b69-b489-ade941fb4e0e",
   "metadata": {},
   "outputs": [],
   "source": [
    "import numpy as np\n",
    "import pandas as pd \n",
    "import matplotlib.pyplot as plt"
   ]
  },
  {
   "cell_type": "code",
   "execution_count": 3,
   "id": "b21822b4-1a34-44ae-b2e2-bde8484b47d1",
   "metadata": {},
   "outputs": [],
   "source": [
    "from sklearn.preprocessing import StandardScaler, MinMaxScaler, LabelEncoder\n",
    "\n",
    "from sklearn.model_selection import train_test_split, cross_val_score\n",
    "\n",
    "from sklearn.tree import DecisionTreeClassifier\n",
    "from sklearn.ensemble import RandomForestClassifier\n",
    "from sklearn.linear_model import LogisticRegression\n",
    "from sklearn.neighbors import KNeighborsClassifier\n",
    "\n",
    "from sklearn.metrics import accuracy_score, recall_score, precision_score\n",
    "from sklearn.metrics import confusion_matrix, classification_report"
   ]
  },
  {
   "cell_type": "code",
   "execution_count": 4,
   "id": "af8abda4-a5f0-49a2-a916-bbf2892a0237",
   "metadata": {},
   "outputs": [],
   "source": [
    "titanic = pd.read_csv('../data/titanic2b.csv')\n",
    "\n",
    "data = titanic.iloc[:, [0,3,4,5,6,9,10,11]]\n",
    "target = titanic.survived"
   ]
  },
  {
   "cell_type": "code",
   "execution_count": 5,
   "id": "72830ba7-03bd-4dda-9ddf-4dc12ae6e4e7",
   "metadata": {},
   "outputs": [],
   "source": [
    "X_train, X_test, ytrain, ytest = \\\n",
    "    train_test_split(data, target, test_size=0.3,\n",
    "                     random_state=2208250945)"
   ]
  },
  {
   "cell_type": "code",
   "execution_count": 6,
   "id": "290c3f36-9f94-4ca3-8a5c-929cffcf819b",
   "metadata": {},
   "outputs": [],
   "source": [
    "lrclf = LogisticRegression(max_iter=500)\n",
    "lrclf.fit(X_train, ytrain)\n",
    "pred = lrclf.predict(X_test)"
   ]
  },
  {
   "cell_type": "code",
   "execution_count": 7,
   "id": "38b6a43f-d7a9-4cd6-936d-0f5aaed75aa8",
   "metadata": {},
   "outputs": [
    {
     "data": {
      "text/plain": [
       "0.7857142857142857"
      ]
     },
     "execution_count": 7,
     "metadata": {},
     "output_type": "execute_result"
    }
   ],
   "source": [
    "accuracy_score(ytest, pred)"
   ]
  },
  {
   "cell_type": "markdown",
   "id": "b2763b97-0c72-430e-89b2-7ffd9c642787",
   "metadata": {},
   "source": [
    "### 분류 알고리즘 종류\n",
    "* 판별함수 모형\n",
    "    + 주어진 데이터를 범주category에 따라 서로 다른 영역으로 나누는 경계면decision boundary을 찾아낸 후, 이 경계면을 기준으로 데이터가 어디에 있는지를 계산하는 함수를 이용\n",
    "* 확률적 판별/생성 모형 \n",
    "    + 주어진 데이터에 대해 각 범주category/레이블이 정답일 조건부확률을 계산하는 방법에 따라 **조건부 확률함수를 추정**하거나 베이즈 정리를 사용해서 분류하는 모형\n",
    "* 따라서, 분류기의 **예측 불확실성**을 추정하려면 scikit-learn에서 제공하는 2가지 함수를 사용\n",
    "     + decision function, `predict_proba`"
   ]
  },
  {
   "cell_type": "code",
   "execution_count": 8,
   "id": "00e7dc1e-4b87-40a3-8eef-a95af4724c93",
   "metadata": {},
   "outputs": [
    {
     "data": {
      "text/html": [
       "<div>\n",
       "<style scoped>\n",
       "    .dataframe tbody tr th:only-of-type {\n",
       "        vertical-align: middle;\n",
       "    }\n",
       "\n",
       "    .dataframe tbody tr th {\n",
       "        vertical-align: top;\n",
       "    }\n",
       "\n",
       "    .dataframe thead th {\n",
       "        text-align: right;\n",
       "    }\n",
       "</style>\n",
       "<table border=\"1\" class=\"dataframe\">\n",
       "  <thead>\n",
       "    <tr style=\"text-align: right;\">\n",
       "      <th></th>\n",
       "      <th>pclass</th>\n",
       "      <th>age</th>\n",
       "      <th>sibsp</th>\n",
       "      <th>parch</th>\n",
       "      <th>fare</th>\n",
       "      <th>gender</th>\n",
       "      <th>Embarked</th>\n",
       "      <th>Titles</th>\n",
       "    </tr>\n",
       "  </thead>\n",
       "  <tbody>\n",
       "    <tr>\n",
       "      <th>101</th>\n",
       "      <td>1.0</td>\n",
       "      <td>39.000000</td>\n",
       "      <td>0.0</td>\n",
       "      <td>0.0</td>\n",
       "      <td>29.7000</td>\n",
       "      <td>1</td>\n",
       "      <td>0</td>\n",
       "      <td>13</td>\n",
       "    </tr>\n",
       "    <tr>\n",
       "      <th>1194</th>\n",
       "      <td>3.0</td>\n",
       "      <td>29.000000</td>\n",
       "      <td>0.0</td>\n",
       "      <td>0.0</td>\n",
       "      <td>9.5000</td>\n",
       "      <td>1</td>\n",
       "      <td>2</td>\n",
       "      <td>13</td>\n",
       "    </tr>\n",
       "    <tr>\n",
       "      <th>1025</th>\n",
       "      <td>3.0</td>\n",
       "      <td>29.881135</td>\n",
       "      <td>0.0</td>\n",
       "      <td>0.0</td>\n",
       "      <td>8.0500</td>\n",
       "      <td>1</td>\n",
       "      <td>2</td>\n",
       "      <td>13</td>\n",
       "    </tr>\n",
       "    <tr>\n",
       "      <th>1032</th>\n",
       "      <td>3.0</td>\n",
       "      <td>29.881135</td>\n",
       "      <td>1.0</td>\n",
       "      <td>1.0</td>\n",
       "      <td>15.2458</td>\n",
       "      <td>1</td>\n",
       "      <td>0</td>\n",
       "      <td>9</td>\n",
       "    </tr>\n",
       "    <tr>\n",
       "      <th>827</th>\n",
       "      <td>3.0</td>\n",
       "      <td>16.000000</td>\n",
       "      <td>5.0</td>\n",
       "      <td>2.0</td>\n",
       "      <td>46.9000</td>\n",
       "      <td>0</td>\n",
       "      <td>2</td>\n",
       "      <td>10</td>\n",
       "    </tr>\n",
       "  </tbody>\n",
       "</table>\n",
       "</div>"
      ],
      "text/plain": [
       "      pclass        age  sibsp  parch     fare  gender  Embarked  Titles\n",
       "101      1.0  39.000000    0.0    0.0  29.7000       1         0      13\n",
       "1194     3.0  29.000000    0.0    0.0   9.5000       1         2      13\n",
       "1025     3.0  29.881135    0.0    0.0   8.0500       1         2      13\n",
       "1032     3.0  29.881135    1.0    1.0  15.2458       1         0       9\n",
       "827      3.0  16.000000    5.0    2.0  46.9000       0         2      10"
      ]
     },
     "execution_count": 8,
     "metadata": {},
     "output_type": "execute_result"
    }
   ],
   "source": [
    "# 타이타닉 생존 예측확률 살펴보기 1\n",
    "X_test[:5]"
   ]
  },
  {
   "cell_type": "code",
   "execution_count": 9,
   "id": "0133021d-4ead-4e3f-8929-749742bcb516",
   "metadata": {},
   "outputs": [
    {
     "data": {
      "text/plain": [
       "array([1., 0., 0., 0., 0.])"
      ]
     },
     "execution_count": 9,
     "metadata": {},
     "output_type": "execute_result"
    }
   ],
   "source": [
    "# 판별함수 모형 : 예측값은 이산형 수치로 출력\n",
    "lrclf.predict(X_test[:5])"
   ]
  },
  {
   "cell_type": "code",
   "execution_count": 10,
   "id": "212c911d-1bd1-4aa4-902c-d54c596bd3b0",
   "metadata": {},
   "outputs": [
    {
     "data": {
      "text/plain": [
       "array([[0.4504593 , 0.5495407 ],\n",
       "       [0.91346264, 0.08653736],\n",
       "       [0.91591821, 0.08408179],\n",
       "       [0.83876179, 0.16123821],\n",
       "       [0.64575125, 0.35424875]])"
      ]
     },
     "execution_count": 10,
     "metadata": {},
     "output_type": "execute_result"
    }
   ],
   "source": [
    "# 타이타닉 생존 예측확률 살펴보기 2\n",
    "# 확률적 판별함수 모형 : 예측값은 확률 수치로 출력\n",
    "lrclf.predict_proba(X_test[:5])"
   ]
  },
  {
   "cell_type": "markdown",
   "id": "eb4e327d-ff5e-4dc2-a16f-f78a4f6894fa",
   "metadata": {},
   "source": [
    "## 타이타닉 승객 생존 여부 확률값 추출"
   ]
  },
  {
   "cell_type": "code",
   "execution_count": 11,
   "id": "9ba0534c-6bd0-45f2-88b7-ad4ad6452837",
   "metadata": {},
   "outputs": [
    {
     "data": {
      "text/plain": [
       "array([0.5495407 , 0.08653736, 0.08408179, 0.16123821, 0.35424875])"
      ]
     },
     "execution_count": 11,
     "metadata": {},
     "output_type": "execute_result"
    }
   ],
   "source": [
    "# 타이타닉 승객 생존 여부에서 생존이 주된 관심사이므로\n",
    "# 생존에 대한 확률값만 따로 추출\n",
    "pred_proba = lrclf.predict_proba(X_test)\n",
    "pred_proba[:5, 1]  # 결과 중 2열만 선택"
   ]
  },
  {
   "cell_type": "code",
   "execution_count": 12,
   "id": "3fe33837-963b-4bd0-99e9-1e42a36e21c4",
   "metadata": {},
   "outputs": [
    {
     "data": {
      "text/html": [
       "<div>\n",
       "<style scoped>\n",
       "    .dataframe tbody tr th:only-of-type {\n",
       "        vertical-align: middle;\n",
       "    }\n",
       "\n",
       "    .dataframe tbody tr th {\n",
       "        vertical-align: top;\n",
       "    }\n",
       "\n",
       "    .dataframe thead th {\n",
       "        text-align: right;\n",
       "    }\n",
       "</style>\n",
       "<table border=\"1\" class=\"dataframe\">\n",
       "  <thead>\n",
       "    <tr style=\"text-align: right;\">\n",
       "      <th></th>\n",
       "      <th>ytest</th>\n",
       "      <th>proba</th>\n",
       "      <th>pred</th>\n",
       "    </tr>\n",
       "  </thead>\n",
       "  <tbody>\n",
       "    <tr>\n",
       "      <th>101</th>\n",
       "      <td>0.0</td>\n",
       "      <td>0.549541</td>\n",
       "      <td>1.0</td>\n",
       "    </tr>\n",
       "    <tr>\n",
       "      <th>1194</th>\n",
       "      <td>1.0</td>\n",
       "      <td>0.086537</td>\n",
       "      <td>0.0</td>\n",
       "    </tr>\n",
       "    <tr>\n",
       "      <th>1025</th>\n",
       "      <td>0.0</td>\n",
       "      <td>0.084082</td>\n",
       "      <td>0.0</td>\n",
       "    </tr>\n",
       "    <tr>\n",
       "      <th>1032</th>\n",
       "      <td>1.0</td>\n",
       "      <td>0.161238</td>\n",
       "      <td>0.0</td>\n",
       "    </tr>\n",
       "    <tr>\n",
       "      <th>827</th>\n",
       "      <td>0.0</td>\n",
       "      <td>0.354249</td>\n",
       "      <td>0.0</td>\n",
       "    </tr>\n",
       "  </tbody>\n",
       "</table>\n",
       "</div>"
      ],
      "text/plain": [
       "      ytest     proba  pred\n",
       "101     0.0  0.549541   1.0\n",
       "1194    1.0  0.086537   0.0\n",
       "1025    0.0  0.084082   0.0\n",
       "1032    1.0  0.161238   0.0\n",
       "827     0.0  0.354249   0.0"
      ]
     },
     "execution_count": 12,
     "metadata": {},
     "output_type": "execute_result"
    }
   ],
   "source": [
    "# 실제값, 확률값, 예측값을 하나의 데이터프레임에 작성\n",
    "table = pd.DataFrame()\n",
    "table['ytest'] = ytest\n",
    "table['proba'] = pred_proba[:, 1]\n",
    "table['pred'] = pred\n",
    "\n",
    "table.head()"
   ]
  },
  {
   "cell_type": "code",
   "execution_count": 13,
   "id": "1209486e-b541-4c6b-ab94-426cafd4aed5",
   "metadata": {},
   "outputs": [
    {
     "name": "stdout",
     "output_type": "stream",
     "text": [
      "양성tprs 판단 [0.         0.00694444 0.04166667 0.04166667 0.27083333 0.27083333\n",
      " 0.375      0.375      0.39583333 0.39583333]\n",
      "음성fprs 판단 [0.         0.         0.         0.00403226 0.00403226 0.01209677\n",
      " 0.01209677 0.01612903 0.01612903 0.02016129]\n"
     ]
    }
   ],
   "source": [
    "# 각 예측값 별 특이도fprs, 민감도tprs, 임계값을 구함\n",
    "# tprs : 실제값이 양성(승객 생존)이고 예측값이 양성(승객 생존)으로 예측되는 정도\n",
    "# fprs : 실제값이 음성(승객 사망)인데 예측값이 양성(승객 생존)으로 예측되는 정도\n",
    "# thresholds\n",
    "from sklearn.metrics import roc_curve\n",
    "\n",
    "fprs, tprs, thresholds = roc_curve(ytest, pred_proba[:,1])\n",
    "print('양성tprs 판단', tprs[:10])\n",
    "print('음성fprs 판단', fprs[:10])"
   ]
  },
  {
   "cell_type": "code",
   "execution_count": 14,
   "id": "1f265186-4d6d-4d7e-91d7-919007798268",
   "metadata": {},
   "outputs": [
    {
     "data": {
      "text/html": [
       "<div>\n",
       "<style scoped>\n",
       "    .dataframe tbody tr th:only-of-type {\n",
       "        vertical-align: middle;\n",
       "    }\n",
       "\n",
       "    .dataframe tbody tr th {\n",
       "        vertical-align: top;\n",
       "    }\n",
       "\n",
       "    .dataframe thead th {\n",
       "        text-align: right;\n",
       "    }\n",
       "</style>\n",
       "<table border=\"1\" class=\"dataframe\">\n",
       "  <thead>\n",
       "    <tr style=\"text-align: right;\">\n",
       "      <th></th>\n",
       "      <th>FPR</th>\n",
       "      <th>TPR</th>\n",
       "      <th>thresholds</th>\n",
       "    </tr>\n",
       "  </thead>\n",
       "  <tbody>\n",
       "    <tr>\n",
       "      <th>0</th>\n",
       "      <td>0.000000</td>\n",
       "      <td>0.000000</td>\n",
       "      <td>1.968543</td>\n",
       "    </tr>\n",
       "    <tr>\n",
       "      <th>1</th>\n",
       "      <td>0.000000</td>\n",
       "      <td>0.006944</td>\n",
       "      <td>0.968543</td>\n",
       "    </tr>\n",
       "    <tr>\n",
       "      <th>2</th>\n",
       "      <td>0.000000</td>\n",
       "      <td>0.041667</td>\n",
       "      <td>0.952354</td>\n",
       "    </tr>\n",
       "    <tr>\n",
       "      <th>3</th>\n",
       "      <td>0.004032</td>\n",
       "      <td>0.041667</td>\n",
       "      <td>0.947249</td>\n",
       "    </tr>\n",
       "    <tr>\n",
       "      <th>4</th>\n",
       "      <td>0.004032</td>\n",
       "      <td>0.270833</td>\n",
       "      <td>0.831434</td>\n",
       "    </tr>\n",
       "  </tbody>\n",
       "</table>\n",
       "</div>"
      ],
      "text/plain": [
       "        FPR       TPR  thresholds\n",
       "0  0.000000  0.000000    1.968543\n",
       "1  0.000000  0.006944    0.968543\n",
       "2  0.000000  0.041667    0.952354\n",
       "3  0.004032  0.041667    0.947249\n",
       "4  0.004032  0.270833    0.831434"
      ]
     },
     "execution_count": 14,
     "metadata": {},
     "output_type": "execute_result"
    }
   ],
   "source": [
    "# 특이도,민감도,임계값을 데이터프레임에 합침\n",
    "roc = pd.DataFrame()\n",
    "roc['FPR'] = fprs\n",
    "roc['TPR'] = tprs\n",
    "roc['thresholds'] = thresholds\n",
    "roc.head()"
   ]
  },
  {
   "cell_type": "code",
   "execution_count": 15,
   "id": "cd61c106-d916-462f-9f69-91c15677aec9",
   "metadata": {},
   "outputs": [
    {
     "data": {
      "image/png": "[encoded data removed]",
      "text/plain": [
       "<Figure size 414.875x360 with 1 Axes>"
      ]
     },
     "metadata": {
      "needs_background": "light"
     },
     "output_type": "display_data"
    }
   ],
   "source": [
    "# 특이도fpr,민감도tpr등을 시각화\n",
    "# 양성을 양성으로, 음성을 음성이라고 정확하게 분류하는지 여부 파악\n",
    "# fpr, tpr 그래프의 겹친 부분이 크다 - 모델의 변별력이 낮음\n",
    "# fpr, tpr 그래프의 겹친 부분이 작다 - 모델의 변별력이 높음\n",
    "import seaborn as sns\n",
    "\n",
    "sns.displot(roc.iloc[:, [0,1]], kind='kde')\n",
    "plt.show()"
   ]
  },
  {
   "cell_type": "code",
   "execution_count": 16,
   "id": "c4929fd8-2716-46b7-a2b5-bc096c98b6bc",
   "metadata": {},
   "outputs": [
    {
     "data": {
      "text/plain": [
       "0.5801774871084721"
      ]
     },
     "execution_count": 16,
     "metadata": {},
     "output_type": "execute_result"
    }
   ],
   "source": [
    "# 최적 임계값 알아보기\n",
    "# argmax : 가장 큰값을 지닌 요소의 index 출력\n",
    "optidx = np.argmax(tprs - fprs)\n",
    "opttrs = thresholds[optidx]\n",
    "opttrs"
   ]
  },
  {
   "cell_type": "markdown",
   "id": "30f577a1-075e-49f7-abdc-b672870b76c0",
   "metadata": {},
   "source": [
    "## ROC 그래프 그리기"
   ]
  },
  {
   "cell_type": "code",
   "execution_count": 17,
   "id": "9a9fd721-8fde-4b1a-bb31-f093b7192052",
   "metadata": {},
   "outputs": [
    {
     "data": {
      "image/png": "[encoded data removed]",
      "text/plain": [
       "<Figure size 640x480 with 1 Axes>"
      ]
     },
     "metadata": {},
     "output_type": "display_data"
    }
   ],
   "source": [
    "# 분류를 잘 하는 모델일수록 커브는 1에 가깝게 표시\n",
    "# fpr, tpr 그래프의 겹친 부분이 크다 - 변별력이 낮음 - 곡선이 0에 가깝게 붙어서 출력\n",
    "# fpr, tpr 그래프의 겹친 부분이 작다 - 변별력이 높음 - 곡선이 1에 가깝게 붙어서 출력\n",
    "\n",
    "plt.plot(fprs, tprs)\n",
    "plt.plot([0,1],[0,1], 'k--')\n",
    "plt.show()"
   ]
  },
  {
   "cell_type": "markdown",
   "id": "73a8a0db-395a-43eb-8435-48ffc9942a0b",
   "metadata": {},
   "source": [
    "## AUC\n",
    "* Area Under Curve\n",
    "* ROC 곡선 밑의 면적을 구한 값\n",
    "* 1에 가까울 수록 좋은 수치를 의미함\n",
    "    + 0.9 ~ 1 : excellent\n",
    "    + 0.8 ~ 0.9 : good\n",
    "    + 0.7 ~ 0.8 : normal"
   ]
  },
  {
   "cell_type": "code",
   "execution_count": 18,
   "id": "1e6c83fa-c37f-478e-bfb4-784e5e0bbb6a",
   "metadata": {},
   "outputs": [
    {
     "data": {
      "text/plain": [
       "0.7578405017921147"
      ]
     },
     "execution_count": 18,
     "metadata": {},
     "output_type": "execute_result"
    }
   ],
   "source": [
    "from sklearn.metrics import roc_auc_score\n",
    "\n",
    "roc_auc_score(ytest, pred)"
   ]
  },
  {
   "cell_type": "markdown",
   "id": "c6022b5a-ca43-4b59-aaf7-b4bed4896903",
   "metadata": {},
   "source": [
    "## iris 데이터셋을 이용한 roc, auc 분석"
   ]
  },
  {
   "cell_type": "code",
   "execution_count": 19,
   "id": "78a1e91e-6960-4fc0-8d7b-07384a974ce4",
   "metadata": {},
   "outputs": [],
   "source": [
    "from sklearn.datasets import load_iris\n",
    "\n",
    "iris = load_iris()\n",
    "data = iris.data\n",
    "target = iris.target"
   ]
  },
  {
   "cell_type": "code",
   "execution_count": 20,
   "id": "56ecfea5-7375-4328-bd77-f55d9bcb332d",
   "metadata": {},
   "outputs": [],
   "source": [
    "X_train, X_test, ytrain, ytest = \\\n",
    "    train_test_split(data, target, test_size=0.3,\n",
    "                     random_state=2208251135)"
   ]
  },
  {
   "cell_type": "code",
   "execution_count": 21,
   "id": "b66b2f53-f421-4181-87d0-1dd897c5f9ef",
   "metadata": {},
   "outputs": [
    {
     "data": {
      "text/plain": [
       "0.9555555555555556"
      ]
     },
     "execution_count": 21,
     "metadata": {},
     "output_type": "execute_result"
    }
   ],
   "source": [
    "lrclf = LogisticRegression(max_iter=500)\n",
    "lrclf.fit(X_train, ytrain)\n",
    "pred = lrclf.predict(X_test)\n",
    "accuracy_score(ytest, pred)"
   ]
  },
  {
   "cell_type": "code",
   "execution_count": 22,
   "id": "ea53a657-bfa6-4ce0-ad0f-ded2a1e6bc8b",
   "metadata": {},
   "outputs": [
    {
     "data": {
      "text/plain": [
       "array([[15,  0,  0],\n",
       "       [ 0, 14,  2],\n",
       "       [ 0,  0, 14]])"
      ]
     },
     "execution_count": 22,
     "metadata": {},
     "output_type": "execute_result"
    }
   ],
   "source": [
    "confusion_matrix(ytest, pred)"
   ]
  },
  {
   "cell_type": "code",
   "execution_count": 23,
   "id": "6b7b8282-936e-4c45-a02e-a07bec0f37ab",
   "metadata": {},
   "outputs": [],
   "source": [
    "# np, pd 실수 표기법 지정\n",
    "np_float = '{:.7f}'.format    # 소수점 7자리 지정\n",
    "np.set_printoptions(formatter={'float_kind':np_float})\n",
    "pd.options.display.float_format = lambda x : f'{x:.7f}'"
   ]
  },
  {
   "cell_type": "code",
   "execution_count": 24,
   "id": "576e9f74-8632-4b3a-9e95-7916523651b8",
   "metadata": {},
   "outputs": [
    {
     "data": {
      "text/plain": [
       "array([[0.0011421, 0.2159108, 0.7829471],\n",
       "       [0.0805525, 0.9129857, 0.0064618],\n",
       "       [0.0047264, 0.8544981, 0.1407755],\n",
       "       [0.0031507, 0.7874243, 0.2094250],\n",
       "       [0.0037475, 0.8058153, 0.1904372]])"
      ]
     },
     "execution_count": 24,
     "metadata": {},
     "output_type": "execute_result"
    }
   ],
   "source": [
    "pred_proba =  lrclf.predict_proba(X_test)\n",
    "pred_proba[:5]"
   ]
  },
  {
   "cell_type": "code",
   "execution_count": 25,
   "id": "ae94d38d-a943-467f-89e3-7c673cd27b55",
   "metadata": {},
   "outputs": [
    {
     "data": {
      "text/html": [
       "<div>\n",
       "<style scoped>\n",
       "    .dataframe tbody tr th:only-of-type {\n",
       "        vertical-align: middle;\n",
       "    }\n",
       "\n",
       "    .dataframe tbody tr th {\n",
       "        vertical-align: top;\n",
       "    }\n",
       "\n",
       "    .dataframe thead th {\n",
       "        text-align: right;\n",
       "    }\n",
       "</style>\n",
       "<table border=\"1\" class=\"dataframe\">\n",
       "  <thead>\n",
       "    <tr style=\"text-align: right;\">\n",
       "      <th></th>\n",
       "      <th>ytest</th>\n",
       "      <th>proba_s</th>\n",
       "      <th>proba_vc</th>\n",
       "      <th>proba_vg</th>\n",
       "      <th>pred</th>\n",
       "    </tr>\n",
       "  </thead>\n",
       "  <tbody>\n",
       "    <tr>\n",
       "      <th>0</th>\n",
       "      <td>2</td>\n",
       "      <td>0.0011421</td>\n",
       "      <td>0.2159108</td>\n",
       "      <td>0.7829471</td>\n",
       "      <td>2</td>\n",
       "    </tr>\n",
       "    <tr>\n",
       "      <th>1</th>\n",
       "      <td>1</td>\n",
       "      <td>0.0805525</td>\n",
       "      <td>0.9129857</td>\n",
       "      <td>0.0064618</td>\n",
       "      <td>1</td>\n",
       "    </tr>\n",
       "    <tr>\n",
       "      <th>2</th>\n",
       "      <td>1</td>\n",
       "      <td>0.0047264</td>\n",
       "      <td>0.8544981</td>\n",
       "      <td>0.1407755</td>\n",
       "      <td>1</td>\n",
       "    </tr>\n",
       "    <tr>\n",
       "      <th>3</th>\n",
       "      <td>1</td>\n",
       "      <td>0.0031507</td>\n",
       "      <td>0.7874243</td>\n",
       "      <td>0.2094250</td>\n",
       "      <td>1</td>\n",
       "    </tr>\n",
       "    <tr>\n",
       "      <th>4</th>\n",
       "      <td>1</td>\n",
       "      <td>0.0037475</td>\n",
       "      <td>0.8058153</td>\n",
       "      <td>0.1904372</td>\n",
       "      <td>1</td>\n",
       "    </tr>\n",
       "  </tbody>\n",
       "</table>\n",
       "</div>"
      ],
      "text/plain": [
       "   ytest   proba_s  proba_vc  proba_vg  pred\n",
       "0      2 0.0011421 0.2159108 0.7829471     2\n",
       "1      1 0.0805525 0.9129857 0.0064618     1\n",
       "2      1 0.0047264 0.8544981 0.1407755     1\n",
       "3      1 0.0031507 0.7874243 0.2094250     1\n",
       "4      1 0.0037475 0.8058153 0.1904372     1"
      ]
     },
     "execution_count": 25,
     "metadata": {},
     "output_type": "execute_result"
    }
   ],
   "source": [
    "table = pd.DataFrame()\n",
    "table['ytest'] = ytest\n",
    "table['proba_s'] = pred_proba[:, 0]\n",
    "table['proba_vc'] = pred_proba[:, 1]\n",
    "table['proba_vg'] = pred_proba[:, 2]\n",
    "table['pred'] = pred\n",
    "\n",
    "table.head()"
   ]
  },
  {
   "cell_type": "code",
   "execution_count": 26,
   "id": "9c372f8a-4b20-4096-9a54-f56364b7e437",
   "metadata": {},
   "outputs": [],
   "source": [
    "# ytest가 다중클래스(0,1,2)이므로 오류발생! => ytest는 0,1만으로 구성!\n",
    "# fprs, tprs, thresholds = roc_curve(ytest, pred_proba[:,1])\n",
    "# print('양성tprs 판단', tprs[:10])\n",
    "# print('음성fprs 판단', fprs[:10])"
   ]
  },
  {
   "cell_type": "code",
   "execution_count": 27,
   "id": "993885f1-8f33-4e2f-8c9c-3c2cf2c52a14",
   "metadata": {},
   "outputs": [
    {
     "data": {
      "text/plain": [
       "1    1\n",
       "2    1\n",
       "3    1\n",
       "4    1\n",
       "6    1\n",
       "Name: ytest, dtype: int64"
      ]
     },
     "execution_count": 27,
     "metadata": {},
     "output_type": "execute_result"
    }
   ],
   "source": [
    "ytest2 = table[(table.ytest == 0) | (table.ytest == 1)].ytest\n",
    "ytest2.head()"
   ]
  },
  {
   "cell_type": "code",
   "execution_count": 28,
   "id": "571f60dd-3654-4ae9-ac50-98e313ec7ec3",
   "metadata": {},
   "outputs": [
    {
     "data": {
      "text/plain": [
       "1   0.9129857\n",
       "2   0.8544981\n",
       "3   0.7874243\n",
       "4   0.8058153\n",
       "6   0.9230351\n",
       "Name: proba_vc, dtype: float64"
      ]
     },
     "execution_count": 28,
     "metadata": {},
     "output_type": "execute_result"
    }
   ],
   "source": [
    "pred_proba2 = table[(table.ytest == 0) | (table.ytest == 1)].proba_vc\n",
    "pred_proba2.head()"
   ]
  },
  {
   "cell_type": "code",
   "execution_count": 29,
   "id": "cbde7782-a61d-41f1-a3ed-4bd1ddd8d840",
   "metadata": {},
   "outputs": [
    {
     "name": "stdout",
     "output_type": "stream",
     "text": [
      "버지니카tprs 판단 [0.0000000 0.0625000 1.0000000 1.0000000]\n",
      "세토사fprs 판단 [0.0000000 0.0000000 0.0000000 1.0000000]\n"
     ]
    }
   ],
   "source": [
    "fprs, tprs, thresholds = roc_curve(ytest2, pred_proba2)\n",
    "print('버지니카tprs 판단', tprs[:10])\n",
    "print('세토사fprs 판단', fprs[:10])"
   ]
  },
  {
   "cell_type": "code",
   "execution_count": 30,
   "id": "ea844f40-3219-448a-bc06-d5242c712530",
   "metadata": {},
   "outputs": [
    {
     "data": {
      "text/html": [
       "<div>\n",
       "<style scoped>\n",
       "    .dataframe tbody tr th:only-of-type {\n",
       "        vertical-align: middle;\n",
       "    }\n",
       "\n",
       "    .dataframe tbody tr th {\n",
       "        vertical-align: top;\n",
       "    }\n",
       "\n",
       "    .dataframe thead th {\n",
       "        text-align: right;\n",
       "    }\n",
       "</style>\n",
       "<table border=\"1\" class=\"dataframe\">\n",
       "  <thead>\n",
       "    <tr style=\"text-align: right;\">\n",
       "      <th></th>\n",
       "      <th>FPR</th>\n",
       "      <th>TPR</th>\n",
       "      <th>thresholds</th>\n",
       "    </tr>\n",
       "  </thead>\n",
       "  <tbody>\n",
       "    <tr>\n",
       "      <th>0</th>\n",
       "      <td>0.0000000</td>\n",
       "      <td>0.0000000</td>\n",
       "      <td>1.9372236</td>\n",
       "    </tr>\n",
       "    <tr>\n",
       "      <th>1</th>\n",
       "      <td>0.0000000</td>\n",
       "      <td>0.0625000</td>\n",
       "      <td>0.9372236</td>\n",
       "    </tr>\n",
       "    <tr>\n",
       "      <th>2</th>\n",
       "      <td>0.0000000</td>\n",
       "      <td>1.0000000</td>\n",
       "      <td>0.4085343</td>\n",
       "    </tr>\n",
       "    <tr>\n",
       "      <th>3</th>\n",
       "      <td>1.0000000</td>\n",
       "      <td>1.0000000</td>\n",
       "      <td>0.0142306</td>\n",
       "    </tr>\n",
       "  </tbody>\n",
       "</table>\n",
       "</div>"
      ],
      "text/plain": [
       "        FPR       TPR  thresholds\n",
       "0 0.0000000 0.0000000   1.9372236\n",
       "1 0.0000000 0.0625000   0.9372236\n",
       "2 0.0000000 1.0000000   0.4085343\n",
       "3 1.0000000 1.0000000   0.0142306"
      ]
     },
     "execution_count": 30,
     "metadata": {},
     "output_type": "execute_result"
    }
   ],
   "source": [
    "roc = pd.DataFrame()\n",
    "roc['FPR'] = fprs\n",
    "roc['TPR'] = tprs\n",
    "roc['thresholds'] = thresholds\n",
    "roc.head()"
   ]
  },
  {
   "cell_type": "code",
   "execution_count": 31,
   "id": "7999dbd0-4e7f-4ab7-9eee-f0bd0e04292c",
   "metadata": {},
   "outputs": [
    {
     "data": {
      "image/png": "[encoded data removed]",
      "text/plain": [
       "<Figure size 576.5x500 with 1 Axes>"
      ]
     },
     "metadata": {},
     "output_type": "display_data"
    }
   ],
   "source": [
    "sns.displot(roc.iloc[:, [0,1]], kind=\"kde\")\n",
    "plt.show()"
   ]
  },
  {
   "cell_type": "code",
   "execution_count": 32,
   "id": "e347855b-d969-441a-80f1-5846ef6fee68",
   "metadata": {},
   "outputs": [
    {
     "data": {
      "image/png": "[encoded data removed]",
      "text/plain": [
       "<Figure size 640x480 with 1 Axes>"
      ]
     },
     "metadata": {},
     "output_type": "display_data"
    }
   ],
   "source": [
    "plt.plot(fprs, tprs)\n",
    "plt.plot([0,1],[0,1], 'k--')\n",
    "plt.show()"
   ]
  },
  {
   "cell_type": "code",
   "execution_count": 33,
   "id": "5b4145f6-d925-49f3-934d-92bfd19030a0",
   "metadata": {},
   "outputs": [
    {
     "data": {
      "text/plain": [
       "1.0"
      ]
     },
     "execution_count": 33,
     "metadata": {},
     "output_type": "execute_result"
    }
   ],
   "source": [
    "pred2 = table[(table.ytest == 0) | (table.ytest == 1)].pred\n",
    "roc_auc_score(ytest2, pred2)"
   ]
  },
  {
   "cell_type": "code",
   "execution_count": null,
   "id": "26eea6d4-8578-4750-b760-dbe69112cde1",
   "metadata": {},
   "outputs": [],
   "source": []
  }
 ],
 "metadata": {
  "kernelspec": {
   "display_name": "Python 3 (ipykernel)",
   "language": "python",
   "name": "python3"
  },
  "language_info": {
   "codemirror_mode": {
    "name": "ipython",
    "version": 3
   },
   "file_extension": ".py",
   "mimetype": "text/x-python",
   "name": "python",
   "nbconvert_exporter": "python",
   "pygments_lexer": "ipython3",
   "version": "3.8.13"
  }
 },
 "nbformat": 4,
 "nbformat_minor": 5
}
