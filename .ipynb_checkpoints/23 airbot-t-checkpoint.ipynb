{
 "cells": [
  {
   "cell_type": "markdown",
   "id": "ae3d13b3-c20f-4349-9b3d-e7495c938c7c",
   "metadata": {},
   "source": [
    "## 미세먼지 알리미 텔레그램 봇"
   ]
  },
  {
   "cell_type": "code",
   "execution_count": 1,
   "id": "765ac3f7-e249-4578-80ae-b94489d83a08",
   "metadata": {},
   "outputs": [],
   "source": [
    "import telegram\n",
    "import xml.etree.ElementTree as et\n",
    "import json\n",
    "import requests as req"
   ]
  },
  {
   "cell_type": "code",
   "execution_count": 2,
   "id": "06814cd1-d5c6-4fd6-80f1-5776e7d4ad06",
   "metadata": {},
   "outputs": [],
   "source": [
    "# data.go.kr에서 제공하는 미세먼지 API\n",
    "url1 = 'http://apis.data.go.kr/B552584/ArpltnInforInqireSvc/getCtprvnRltmMesureDnsty?serviceKey=O1nHnnvHdTlHJn9IB55OEVZsW8tvqkALFXNRBo9nGXjODXETiIA9SjoOZAyLAE3OyADFq%2BmhF36yldlCJppS2A%3D%3D&returnType=xml&numOfRows=10000&pageNo=1&sidoName=%EC%A0%84%EA%B5%AD&ver=1.0'\n",
    "url2 = 'http://apis.data.go.kr/B552584/ArpltnInforInqireSvc/getCtprvnRltmMesureDnsty?serviceKey=O1nHnnvHdTlHJn9IB55OEVZsW8tvqkALFXNRBo9nGXjODXETiIA9SjoOZAyLAE3OyADFq%2BmhF36yldlCJppS2A%3D%3D&returnType=json&numOfRows=10000&pageNo=1&sidoName=%EC%A0%84%EA%B5%AD&ver=1.0'"
   ]
  },
  {
   "cell_type": "markdown",
   "id": "637d274c-e2d5-4d2f-bb36-6064dc8faa09",
   "metadata": {},
   "source": [
    "## xml 형태로 불러오기"
   ]
  },
  {
   "cell_type": "code",
   "execution_count": 35,
   "id": "3373a52b-f989-478f-8956-2e6456dca438",
   "metadata": {},
   "outputs": [
    {
     "data": {
      "text/plain": [
       "'<?xml version=\"1.0\" encoding=\"UTF-8\"?>\\r\\n<response>\\n  <header>\\n    <resultCode>00</resultCode>\\n    <resultMsg>NORMAL_CODE</resultMsg>\\n  </header>\\n  <body>\\n    <items>\\n      <item>\\n        <so2Grade>1</so2Grade>\\n        <coFlag/>\\n        <khaiValue>62</khaiValue>\\n        <so2Value>0.001</so2Value>\\n        <coValue>0.2</coValue>\\n        <pm25Flag/>\\n        <pm10Flag/>\\n        <o3Grade>2</o3Grade>\\n        <pm10Value>8</pm10Value>\\n        <khaiGrade>2</khaiGrade>\\n        <pm25Value>8</pm25Value>\\n    '"
      ]
     },
     "execution_count": 35,
     "metadata": {},
     "output_type": "execute_result"
    }
   ],
   "source": [
    "res = req.get(url1)\n",
    "res.text[:500]"
   ]
  },
  {
   "cell_type": "code",
   "execution_count": 36,
   "id": "6adda8a4-5610-4a51-b682-0839b4e71c91",
   "metadata": {},
   "outputs": [],
   "source": [
    "# 서버에서 받아온 데이터를 파일로 저장\n",
    "with open('../data/air.xml', 'w', encoding='UTF-8') as f:\n",
    "    f.writelines(res.text)"
   ]
  },
  {
   "cell_type": "code",
   "execution_count": 37,
   "id": "060a0da8-dbd5-4790-a516-22aa5396fc6a",
   "metadata": {},
   "outputs": [],
   "source": [
    "# xml 형태로 저장된 파일에서 원하는 정보 얻기\n",
    "tree = et.parse('../data/air.xml')\n",
    "root = tree.getroot()"
   ]
  },
  {
   "cell_type": "code",
   "execution_count": 26,
   "id": "07e88fef-9c05-47fc-b8a7-a8a6fc0b8578",
   "metadata": {},
   "outputs": [
    {
     "name": "stdout",
     "output_type": "stream",
     "text": [
      "2022-09-01 10:00 대전 문창동 11 3\n",
      "2022-09-01 10:00 대전 구성동 17 14\n",
      "2022-09-01 10:00 대전 노은동 21 12\n",
      "2022-09-01 10:00 대전 상대동(대전) 14 10\n",
      "2022-09-01 10:00 대전 관평동 15 9\n",
      "2022-09-01 10:00 대전 대흥동1 18 12\n",
      "2022-09-01 10:00 대전 성남동1 7 4\n",
      "2022-09-01 10:00 대전 대성동 13 5\n",
      "2022-09-01 10:00 대전 정림동 11 2\n",
      "2022-09-01 10:00 대전 둔산동 11 7\n",
      "2022-09-01 10:00 대전 월평동 32 10\n"
     ]
    }
   ],
   "source": [
    "# 미세정보 : 작성일자, 시도, 구/동/읍/면, 미세먼지/초미세먼지농도\n",
    "cnt = 0\n",
    "for data in root.findall('body/items/item'):\n",
    "    date = data.find('dataTime').text\n",
    "    sido = data.find('sidoName').text\n",
    "    stnm = data.find('stationName').text\n",
    "    pm10 = data.find('pm10Value').text\n",
    "    pm25 = data.find('pm25Value').text\n",
    "    \n",
    "    if cnt <= 10:    # 결과 중 1건만 출력\n",
    "        print(date, sido, stnm, pm10, pm25)\n",
    "        cnt = cnt + 1\n",
    "    else: break    "
   ]
  },
  {
   "cell_type": "code",
   "execution_count": 27,
   "id": "b16c3372-5f49-40de-9b12-57bda06a9be5",
   "metadata": {},
   "outputs": [
    {
     "name": "stdout",
     "output_type": "stream",
     "text": [
      "2022-09-01 10:00 서울 구로구 17 3\n"
     ]
    }
   ],
   "source": [
    "# 시도, 구이름으로 원하는 지역의 미세먼지 정보 추출\n",
    "sido = '서울'\n",
    "gu = '구로구'\n",
    "\n",
    "for data in root.findall('body/items/item'):\n",
    "    sd = data.find('sidoName').text\n",
    "    stnm = data.find('stationName').text\n",
    "    \n",
    "    if (sd == sido) and (stnm == gu):\n",
    "        date = data.find('dataTime').text\n",
    "        pm10 = data.find('pm10Value').text\n",
    "        pm25 = data.find('pm25Value').text\n",
    "    \n",
    "        print(date, sido, stnm, pm10, pm25)\n",
    "        break"
   ]
  },
  {
   "cell_type": "markdown",
   "id": "55e0cec7-95f2-4112-b62a-381c5641eed7",
   "metadata": {},
   "source": [
    "## 미세먼지 농도별 등급\n",
    "#### <img src='../img/pm10pm25.png' width='85%'>"
   ]
  },
  {
   "cell_type": "code",
   "execution_count": 3,
   "id": "03a0307e-e840-45a4-9aeb-5fa32b0cd356",
   "metadata": {},
   "outputs": [],
   "source": [
    "def rate_pm10(val):\n",
    "    if (val == '-') or (val == None): rate = '-'\n",
    "    else: \n",
    "        val = int(val)\n",
    "        rate = '😱'\n",
    "        if val <= 30: rate = '😍'\n",
    "        elif val <= 80: rate = '😊'\n",
    "        elif val <= 150: rate = '🙁️'\n",
    "    return rate"
   ]
  },
  {
   "cell_type": "code",
   "execution_count": 4,
   "id": "793ab2e0-2ad2-4c1d-95e3-af3ccff7f0e7",
   "metadata": {},
   "outputs": [],
   "source": [
    "def rate_pm25(val):\n",
    "    if (val == '-') or (val == None): rate = '-'\n",
    "    else: \n",
    "        val = int(val)\n",
    "        rate = '😱'\n",
    "        if val <= 15: rate = '😍'\n",
    "        elif val <= 35: rate = '😊'\n",
    "        elif val <= 75: rate = '🙁️'\n",
    "    return rate"
   ]
  },
  {
   "cell_type": "code",
   "execution_count": 60,
   "id": "1283d6ff-b802-4c63-94b8-651936fe7812",
   "metadata": {},
   "outputs": [
    {
     "name": "stdout",
     "output_type": "stream",
     "text": [
      "2022-09-01 11:00 서울 구로구 14 😍 6 😍\n"
     ]
    }
   ],
   "source": [
    "# 대기정보를 이모지와 함께 출력\n",
    "sido = '서울'\n",
    "gu = '구로구'\n",
    "\n",
    "for data in root.findall('body/items/item'):\n",
    "    sd = data.find('sidoName').text\n",
    "    stnm = data.find('stationName').text\n",
    "    \n",
    "    if (sd == sido) and (stnm == gu):\n",
    "        date = data.find('dataTime').text\n",
    "        pm10 = data.find('pm10Value').text\n",
    "        pm25 = data.find('pm25Value').text\n",
    "        p10 = rate_pm10( pm10 )\n",
    "        p25 = rate_pm25( pm25 )\n",
    "    \n",
    "        print(date, sido, stnm, pm10, p10, pm25, p25)\n",
    "        break"
   ]
  },
  {
   "cell_type": "markdown",
   "id": "aa441546-4446-40cc-aad6-3c39c9afcd2f",
   "metadata": {},
   "source": [
    "## json 형태로 불러오기"
   ]
  },
  {
   "cell_type": "code",
   "execution_count": 39,
   "id": "30400fa2-62b2-49fe-834e-53ebd61f1810",
   "metadata": {
    "tags": []
   },
   "outputs": [
    {
     "data": {
      "text/plain": [
       "'{\"response\":{\"body\":{\"totalCount\":631,\"items\":[{\"so2Grade\":\"1\",\"coFlag\":null,\"khaiValue\":\"-\",\"so2Value\":\"0.002\",\"coValue\":\"0.2\",\"pm25Flag\":null,\"pm10Flag\":null,\"o3Grade\":\"1\",\"pm10Value\":\"18\",\"khaiGrade\":null,\"pm25Value\":\"11\",\"sidoName\":\"경남\",\"no2Flag\":null,\"no2Grade\":\"1\",\"o3Flag\":null,\"pm25Grade\":null,\"so2Flag\":null,\"dataTime\":\"2022-09-01 11:00\",\"coGrade\":\"1\",\"no2Value\":\"0.006\",\"stationName\":\"남상면\",\"pm10Grade\":\"1\",\"o3Value\":\"0.022\"},{\"so2Grade\":\"1\",\"coFlag\":null,\"khaiValue\":\"-\",\"so2Value\":\"0.002\",'"
      ]
     },
     "execution_count": 39,
     "metadata": {},
     "output_type": "execute_result"
    }
   ],
   "source": [
    "res = req.get(url2)\n",
    "res.text[:500]"
   ]
  },
  {
   "cell_type": "code",
   "execution_count": 42,
   "id": "fc1b20a0-9f71-4241-b4c0-2bd27f821678",
   "metadata": {},
   "outputs": [],
   "source": [
    "with open('../data/air.json', 'w', encoding='UTF-8') as f:\n",
    "    f.writelines(res.text)"
   ]
  },
  {
   "cell_type": "code",
   "execution_count": 43,
   "id": "0e3c0c2d-2088-44ef-8baf-38bbc43e68e3",
   "metadata": {},
   "outputs": [],
   "source": [
    "with open('../data/air.json', encoding='UTF-8') as f:\n",
    "    airdata = json.load(f)"
   ]
  },
  {
   "cell_type": "code",
   "execution_count": 62,
   "id": "a062a93e-a9c3-4776-913e-bcb66ab80076",
   "metadata": {},
   "outputs": [
    {
     "name": "stdout",
     "output_type": "stream",
     "text": [
      "2022-09-01 11:00 서울 구로구 14 😍 6 😍\n"
     ]
    }
   ],
   "source": [
    "sido = '서울'\n",
    "gu = '구로구'\n",
    "\n",
    "for item in airdata['response']['body']['items']:\n",
    "    sd = item['sidoName']\n",
    "    stnm = item['stationName']\n",
    "    \n",
    "    if (sd == sido) and (gu == stnm):\n",
    "        date = item['dataTime']    \n",
    "        pm10 = item['pm10Value']\n",
    "        pm25 = item['pm25Value']\n",
    "        p10 = rate_pm10( pm10 )\n",
    "        p25 = rate_pm25( pm25 )\n",
    "        print(date, sido, stnm, pm10, p10, pm25, p25)\n",
    "        break"
   ]
  },
  {
   "cell_type": "markdown",
   "id": "99a6131d-9e47-4150-bade-7403aad08756",
   "metadata": {},
   "source": [
    "## 미세먼지 챗봇 구현하기 (json)"
   ]
  },
  {
   "cell_type": "code",
   "execution_count": 5,
   "id": "18558189-86e4-47c0-84d9-d2f1cf2f534a",
   "metadata": {},
   "outputs": [],
   "source": [
    "# data.go.kr에서 대기정보 받아서 파일로 저장\n",
    "def reload_air():\n",
    "    res = req.get(url2)\n",
    "    with open('../data/air.json', 'w', encoding='UTF-8') as f:\n",
    "        f.writelines(res.text)"
   ]
  },
  {
   "cell_type": "code",
   "execution_count": 6,
   "id": "d8680976-2aa7-41b3-9f8c-25c1a72c3f8b",
   "metadata": {},
   "outputs": [],
   "source": [
    "# 특정지역의 대기정보와 이모지 받아오기\n",
    "def fetch_air(sido, gu):\n",
    "    with open('../data/air.json', encoding='UTF-8') as f:\n",
    "        airdata = json.load(f)\n",
    "    \n",
    "    for item in airdata['response']['body']['items']:\n",
    "        sd = item['sidoName']\n",
    "        stnm = item['stationName']\n",
    "\n",
    "        airinfo = ''\n",
    "        if (sd == sido) and (gu == stnm):\n",
    "            date = item['dataTime']    \n",
    "            pm10 = item['pm10Value']\n",
    "            pm25 = item['pm25Value']\n",
    "            p10 = rate_pm10( pm10 )\n",
    "            p25 = rate_pm25( pm25 )\n",
    "            airinfo = f'{date}, {sido}, {stnm}, {pm10}, {p10}, {pm25}, {p25}'\n",
    "            break\n",
    "        \n",
    "    return airinfo"
   ]
  },
  {
   "cell_type": "code",
   "execution_count": 7,
   "id": "14cf4b09-abc4-4c9a-87b9-445032b114af",
   "metadata": {},
   "outputs": [
    {
     "data": {
      "text/plain": [
       "'2022-09-01 12:00, 서울, 구로구, 23, 😍, 5, 😍'"
      ]
     },
     "execution_count": 7,
     "metadata": {},
     "output_type": "execute_result"
    }
   ],
   "source": [
    "fetch_air('서울','구로구')"
   ]
  },
  {
   "cell_type": "code",
   "execution_count": 8,
   "id": "05f11a28-658f-4601-854a-98e4d0246a33",
   "metadata": {},
   "outputs": [],
   "source": [
    "from telegram.ext import Updater\n",
    "from telegram.ext import MessageHandler\n",
    "from telegram.ext import Filters\n",
    "from telegram.ext import CommandHandler"
   ]
  },
  {
   "cell_type": "code",
   "execution_count": 9,
   "id": "8388b844-d6da-44fe-b32c-8efdcb8def96",
   "metadata": {},
   "outputs": [],
   "source": [
    "token = '5786843226:'\n",
    "bot = telegram.Bot(token=token)"
   ]
  },
  {
   "cell_type": "code",
   "execution_count": 10,
   "id": "d3e738e9-b716-4fef-88a2-af27155e967d",
   "metadata": {},
   "outputs": [],
   "source": [
    "# 메세지 처리 함수 정의\n",
    "def air_message(update, context):\n",
    "    info = update.message.text.split(',')\n",
    "    airinfo = fetch_air(info[0].strip(), info[1].strip())\n",
    "    update.message.reply_text(text=f'{airinfo}')\n",
    "    \n",
    "def reload_message(update, context):\n",
    "    reload_air()\n",
    "    update.message.reply_text(text=f'대기정보 갱신됨!!')"
   ]
  },
  {
   "cell_type": "code",
   "execution_count": 11,
   "id": "8d295284-6400-450c-9626-375e0d184eb7",
   "metadata": {},
   "outputs": [],
   "source": [
    "# 챗봇 서버 준비\n",
    "updater = Updater(token)\n",
    "\n",
    "reload_handler = CommandHandler('reload', reload_message)\n",
    "air_handler = MessageHandler(Filters.text, air_message)"
   ]
  },
  {
   "cell_type": "code",
   "execution_count": 12,
   "id": "26a5f93b-b4ee-449c-b014-52ec3cf77e2c",
   "metadata": {},
   "outputs": [],
   "source": [
    "updater.dispatcher.add_handler(reload_handler)\n",
    "updater.dispatcher.add_handler(air_handler)"
   ]
  },
  {
   "cell_type": "code",
   "execution_count": null,
   "id": "e546d036-033d-4c53-a165-ff840855c5ad",
   "metadata": {},
   "outputs": [
    {
     "name": "stderr",
     "output_type": "stream",
     "text": [
      "/tmp/ipykernel_21961/1054514104.py:1: TelegramDeprecationWarning: The argument `clean` of `start_polling` is deprecated. Please use `drop_pending_updates` instead.\n",
      "  updater.start_polling(clean=True, timeout=3)\n",
      "No error handlers are registered, logging exception.\n",
      "Traceback (most recent call last):\n",
      "  File \"/opt/miniconda3/lib/python3.8/site-packages/telegram/ext/dispatcher.py\", line 557, in process_update\n",
      "    handler.handle_update(update, self, check, context)\n",
      "  File \"/opt/miniconda3/lib/python3.8/site-packages/telegram/ext/handler.py\", line 199, in handle_update\n",
      "    return self.callback(update, context)\n",
      "  File \"/tmp/ipykernel_21961/1566292035.py\", line 5, in air_message\n",
      "    airinfo = fetch_air(info[0].strip(), info[1].strip())\n",
      "IndexError: list index out of range\n",
      "No error handlers are registered, logging exception.\n",
      "Traceback (most recent call last):\n",
      "  File \"/opt/miniconda3/lib/python3.8/site-packages/telegram/ext/dispatcher.py\", line 557, in process_update\n",
      "    handler.handle_update(update, self, check, context)\n",
      "  File \"/opt/miniconda3/lib/python3.8/site-packages/telegram/ext/handler.py\", line 199, in handle_update\n",
      "    return self.callback(update, context)\n",
      "  File \"/tmp/ipykernel_21961/1566292035.py\", line 6, in air_message\n",
      "    update.message.reply_text(text=f'{airinfo}')\n",
      "  File \"/opt/miniconda3/lib/python3.8/site-packages/telegram/message.py\", line 912, in reply_text\n",
      "    return self.bot.send_message(\n",
      "  File \"/opt/miniconda3/lib/python3.8/site-packages/telegram/bot.py\", line 133, in decorator\n",
      "    result = func(*args, **kwargs)\n",
      "  File \"/opt/miniconda3/lib/python3.8/site-packages/telegram/bot.py\", line 525, in send_message\n",
      "    return self._message(  # type: ignore[return-value]\n",
      "  File \"/opt/miniconda3/lib/python3.8/site-packages/telegram/ext/extbot.py\", line 202, in _message\n",
      "    result = super()._message(\n",
      "  File \"/opt/miniconda3/lib/python3.8/site-packages/telegram/bot.py\", line 339, in _message\n",
      "    result = self._post(endpoint, data, timeout=timeout, api_kwargs=api_kwargs)\n",
      "  File \"/opt/miniconda3/lib/python3.8/site-packages/telegram/bot.py\", line 298, in _post\n",
      "    return self.request.post(\n",
      "  File \"/opt/miniconda3/lib/python3.8/site-packages/telegram/utils/request.py\", line 361, in post\n",
      "    result = self._request_wrapper(\n",
      "  File \"/opt/miniconda3/lib/python3.8/site-packages/telegram/utils/request.py\", line 279, in _request_wrapper\n",
      "    raise BadRequest(message)\n",
      "telegram.error.BadRequest: Message text is empty\n",
      "No error handlers are registered, logging exception.\n",
      "Traceback (most recent call last):\n",
      "  File \"/opt/miniconda3/lib/python3.8/site-packages/telegram/ext/dispatcher.py\", line 557, in process_update\n",
      "    handler.handle_update(update, self, check, context)\n",
      "  File \"/opt/miniconda3/lib/python3.8/site-packages/telegram/ext/handler.py\", line 199, in handle_update\n",
      "    return self.callback(update, context)\n",
      "  File \"/tmp/ipykernel_21961/1566292035.py\", line 6, in air_message\n",
      "    update.message.reply_text(text=f'{airinfo}')\n",
      "  File \"/opt/miniconda3/lib/python3.8/site-packages/telegram/message.py\", line 912, in reply_text\n",
      "    return self.bot.send_message(\n",
      "  File \"/opt/miniconda3/lib/python3.8/site-packages/telegram/bot.py\", line 133, in decorator\n",
      "    result = func(*args, **kwargs)\n",
      "  File \"/opt/miniconda3/lib/python3.8/site-packages/telegram/bot.py\", line 525, in send_message\n",
      "    return self._message(  # type: ignore[return-value]\n",
      "  File \"/opt/miniconda3/lib/python3.8/site-packages/telegram/ext/extbot.py\", line 202, in _message\n",
      "    result = super()._message(\n",
      "  File \"/opt/miniconda3/lib/python3.8/site-packages/telegram/bot.py\", line 339, in _message\n",
      "    result = self._post(endpoint, data, timeout=timeout, api_kwargs=api_kwargs)\n",
      "  File \"/opt/miniconda3/lib/python3.8/site-packages/telegram/bot.py\", line 298, in _post\n",
      "    return self.request.post(\n",
      "  File \"/opt/miniconda3/lib/python3.8/site-packages/telegram/utils/request.py\", line 361, in post\n",
      "    result = self._request_wrapper(\n",
      "  File \"/opt/miniconda3/lib/python3.8/site-packages/telegram/utils/request.py\", line 279, in _request_wrapper\n",
      "    raise BadRequest(message)\n",
      "telegram.error.BadRequest: Message text is empty\n",
      "No error handlers are registered, logging exception.\n",
      "Traceback (most recent call last):\n",
      "  File \"/opt/miniconda3/lib/python3.8/site-packages/telegram/ext/dispatcher.py\", line 557, in process_update\n",
      "    handler.handle_update(update, self, check, context)\n",
      "  File \"/opt/miniconda3/lib/python3.8/site-packages/telegram/ext/handler.py\", line 199, in handle_update\n",
      "    return self.callback(update, context)\n",
      "  File \"/tmp/ipykernel_21961/1566292035.py\", line 3, in air_message\n",
      "    info = update.message.text.split(',')\n",
      "AttributeError: 'NoneType' object has no attribute 'text'\n"
     ]
    }
   ],
   "source": [
    "updater.start_polling(clean=True, timeout=3)\n",
    "updater.idle()"
   ]
  },
  {
   "cell_type": "code",
   "execution_count": null,
   "id": "6c5d19ee-c941-4ba6-aeb8-1faadd850b03",
   "metadata": {},
   "outputs": [],
   "source": []
  }
 ],
 "metadata": {
  "kernelspec": {
   "display_name": "Python 3 (ipykernel)",
   "language": "python",
   "name": "python3"
  },
  "language_info": {
   "codemirror_mode": {
    "name": "ipython",
    "version": 3
   },
   "file_extension": ".py",
   "mimetype": "text/x-python",
   "name": "python",
   "nbconvert_exporter": "python",
   "pygments_lexer": "ipython3",
   "version": "3.8.13"
  }
 },
 "nbformat": 4,
 "nbformat_minor": 5
}
