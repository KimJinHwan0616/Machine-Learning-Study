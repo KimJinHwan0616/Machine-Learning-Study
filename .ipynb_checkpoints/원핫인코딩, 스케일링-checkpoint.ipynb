{
 "cells": [
  {
   "cell_type": "markdown",
   "id": "bf937460-89c1-4db4-a85a-893054413416",
   "metadata": {},
   "source": [
    "# 데이터전처리\n",
    "* 머신러닝 알고리즘을 익히는 것 못치 않게\n",
    "데이터 전처리 역시 중요한 과정 중에 하나\n",
    "* 무엇보다 머신러닝 알고리즘을 적용하기 전에\n",
    "데이터에 대해 미리 처리해야 하는 기본사항이 존재\n",
    "\n",
    "* 결측치 처리 \n",
    "  + NaN, Null은 허용되지 않음\n",
    "* 원핫인코딩 \n",
    "  + 머신러닝 알고리즘들은 문자열값을 데이터의 입력값으로 허용하지 않음\n",
    "  + 따라서, 모든 문자열값은 인코딩해서 숫자형으로 변환해둬야 함\n",
    "  + 한편, 텍스트 데이터들은 벡터화해서 처리\n",
    "  + 머신러닝을 위한 인코딩은 레이블인코딩과 원핫인코딩등이 있음\n"
   ]
  },
  {
   "cell_type": "code",
   "execution_count": 1,
   "id": "1beda130-e098-47ea-b87f-5a13a1c9eb9d",
   "metadata": {},
   "outputs": [],
   "source": [
    "import pandas as pd\n",
    "import numpy as np\n",
    "import matplotlib.pyplot as plt\n",
    "import sklearn"
   ]
  },
  {
   "cell_type": "markdown",
   "id": "9eca7ada-151b-4243-8637-d0ec9b737cd8",
   "metadata": {},
   "source": [
    "# 레이블 인코딩\n",
    "+ 범주형 -> 숫자형"
   ]
  },
  {
   "cell_type": "code",
   "execution_count": 2,
   "id": "d003fe5f-9f0e-4296-8233-6e55713a78c6",
   "metadata": {},
   "outputs": [],
   "source": [
    "from sklearn.preprocessing import LabelEncoder\n",
    "items = ['티비', '냉장고', '가스렌지', '에어콘', '컴퓨터']"
   ]
  },
  {
   "cell_type": "code",
   "execution_count": 3,
   "id": "95f48b9e-5713-4d03-920e-a3fa82995829",
   "metadata": {},
   "outputs": [],
   "source": [
    "encoder = LabelEncoder()\n",
    "# encoder.fit(items)\n",
    "# lables = encoder.transform(items)\n",
    "\n",
    "lables = encoder.fit_transform(items)\n"
   ]
  },
  {
   "cell_type": "code",
   "execution_count": 4,
   "id": "bc4c8e0b-760e-41de-ab4f-7b5e37cdd38b",
   "metadata": {},
   "outputs": [
    {
     "data": {
      "text/plain": [
       "array([4, 1, 0, 2, 3])"
      ]
     },
     "execution_count": 4,
     "metadata": {},
     "output_type": "execute_result"
    }
   ],
   "source": [
    "# 변환된 레이블\n",
    "lables"
   ]
  },
  {
   "cell_type": "code",
   "execution_count": 6,
   "id": "b65bce51-c913-423b-85f0-276dafb3223b",
   "metadata": {},
   "outputs": [
    {
     "data": {
      "text/plain": [
       "array(['가스렌지', '냉장고', '에어콘', '컴퓨터', '티비'], dtype='<U4')"
      ]
     },
     "execution_count": 6,
     "metadata": {},
     "output_type": "execute_result"
    }
   ],
   "source": [
    "# 변환된 클래스\n",
    "encoder.classes_"
   ]
  },
  {
   "cell_type": "markdown",
   "id": "a4944e20-c672-46f2-b5ce-bf419b00fd5b",
   "metadata": {},
   "source": [
    "# LabelEncoder 시용시 문제점\n",
    "* 문자열값을 숫자형으로 변환시켰을때 발생할 수 있는 문제는 \n",
    "각 값의 대소 관계를 통해 중요도 여부가 존재할 수 있음\n",
    "* 즉, 인코딩 된 값에 서수척도가 생길수 있음\n",
    "* 따라서, 대소관계가 있는 데이터를 분석할 경우 정확도에 영향을 미칠수있음\n",
    "  + => 원핫인코딩을 사용함으로써 문제해결\n",
    "\n",
    "'티비','냉장고','가스렌지','에어콘','컴퓨터'   \n",
    "1\t0\t0\t0\t0   \n",
    "0\t1\t0\t0\t0   \n",
    "0\t0\t1\t0\t0   \n",
    "0\t0\t0\t1\t0   \n",
    "0\t0\t0\t0\t1  "
   ]
  },
  {
   "cell_type": "code",
   "execution_count": 7,
   "id": "5a77f2f3-fedc-4a62-a9ff-0ba6381df3a9",
   "metadata": {},
   "outputs": [
    {
     "data": {
      "text/plain": [
       "array([[4],\n",
       "       [1],\n",
       "       [0],\n",
       "       [2],\n",
       "       [3]])"
      ]
     },
     "execution_count": 7,
     "metadata": {},
     "output_type": "execute_result"
    }
   ],
   "source": [
    "from sklearn.preprocessing import OneHotEncoder\n",
    "\n",
    "# 먼저, LabelEncoder로 문자열을 숫자값으로 변환해야함\n",
    "# 그런 다음, 1차원 데이터를 2차원 데이터로 변환\n",
    "lables = lables.reshape(-1,1)  # -1: 행->열(가로->세로)\n",
    "lables"
   ]
  },
  {
   "cell_type": "code",
   "execution_count": 8,
   "id": "01b2aff3-9855-469a-92a1-5710aa7b25ee",
   "metadata": {},
   "outputs": [
    {
     "data": {
      "text/plain": [
       "array([[0., 0., 0., 0., 1.],\n",
       "       [0., 1., 0., 0., 0.],\n",
       "       [1., 0., 0., 0., 0.],\n",
       "       [0., 0., 1., 0., 0.],\n",
       "       [0., 0., 0., 1., 0.]])"
      ]
     },
     "execution_count": 8,
     "metadata": {},
     "output_type": "execute_result"
    }
   ],
   "source": [
    "onehot = OneHotEncoder()\n",
    "onehot.fit(lables)\n",
    "ohlables = onehot.transform(lables)\n",
    "ohlables.toarray()"
   ]
  },
  {
   "cell_type": "markdown",
   "id": "de8746a2-a885-4b2d-bf42-f40b66edaa45",
   "metadata": {},
   "source": [
    "### pandas의 원핫 인코딩\n",
    "+ get_dummies 함수 사용\n",
    "+ 단, 변환대상은 반드시 데이터프레임"
   ]
  },
  {
   "cell_type": "code",
   "execution_count": 9,
   "id": "5c6c10af-a207-4ba5-853c-429e45358f42",
   "metadata": {},
   "outputs": [
    {
     "data": {
      "text/html": [
       "<div>\n",
       "<style scoped>\n",
       "    .dataframe tbody tr th:only-of-type {\n",
       "        vertical-align: middle;\n",
       "    }\n",
       "\n",
       "    .dataframe tbody tr th {\n",
       "        vertical-align: top;\n",
       "    }\n",
       "\n",
       "    .dataframe thead th {\n",
       "        text-align: right;\n",
       "    }\n",
       "</style>\n",
       "<table border=\"1\" class=\"dataframe\">\n",
       "  <thead>\n",
       "    <tr style=\"text-align: right;\">\n",
       "      <th></th>\n",
       "      <th>_가스렌지</th>\n",
       "      <th>_냉장고</th>\n",
       "      <th>_에어콘</th>\n",
       "      <th>_컴퓨터</th>\n",
       "      <th>_티비</th>\n",
       "    </tr>\n",
       "  </thead>\n",
       "  <tbody>\n",
       "    <tr>\n",
       "      <th>0</th>\n",
       "      <td>0</td>\n",
       "      <td>0</td>\n",
       "      <td>0</td>\n",
       "      <td>0</td>\n",
       "      <td>1</td>\n",
       "    </tr>\n",
       "    <tr>\n",
       "      <th>1</th>\n",
       "      <td>0</td>\n",
       "      <td>1</td>\n",
       "      <td>0</td>\n",
       "      <td>0</td>\n",
       "      <td>0</td>\n",
       "    </tr>\n",
       "    <tr>\n",
       "      <th>2</th>\n",
       "      <td>1</td>\n",
       "      <td>0</td>\n",
       "      <td>0</td>\n",
       "      <td>0</td>\n",
       "      <td>0</td>\n",
       "    </tr>\n",
       "    <tr>\n",
       "      <th>3</th>\n",
       "      <td>0</td>\n",
       "      <td>0</td>\n",
       "      <td>1</td>\n",
       "      <td>0</td>\n",
       "      <td>0</td>\n",
       "    </tr>\n",
       "    <tr>\n",
       "      <th>4</th>\n",
       "      <td>0</td>\n",
       "      <td>0</td>\n",
       "      <td>0</td>\n",
       "      <td>1</td>\n",
       "      <td>0</td>\n",
       "    </tr>\n",
       "  </tbody>\n",
       "</table>\n",
       "</div>"
      ],
      "text/plain": [
       "   _가스렌지  _냉장고  _에어콘  _컴퓨터  _티비\n",
       "0      0     0     0     0    1\n",
       "1      0     1     0     0    0\n",
       "2      1     0     0     0    0\n",
       "3      0     0     1     0    0\n",
       "4      0     0     0     1    0"
      ]
     },
     "execution_count": 9,
     "metadata": {},
     "output_type": "execute_result"
    }
   ],
   "source": [
    "df = pd.DataFrame({'':items})\n",
    "pd.get_dummies(df)"
   ]
  },
  {
   "cell_type": "markdown",
   "id": "bea21c3b-96f4-426a-b1d3-b3b9613fd087",
   "metadata": {},
   "source": [
    "# 특성 스케일링과 표준화/정규화\n",
    "* 서로 다른 범위, 단위의 변수값을 일정수준으로 맞추는 작업을 ``특성feature 스케일링`` 이라 함\n",
    "\n",
    "- 어떤 데이터의 값이 정수와 실수가 혼용되어 있거나\n",
    "- 값의 범위가 1 ~ 100, 0 ~ 0.001, 1 ~ 10000 등등의 경우\n",
    "- 데이터 분석시 많은 cpu 파워/메모리가 필요하고\n",
    "- 학습시 느려질수 있으며 제대로 된 결과가 나오지 않을 수 있음\n",
    "- 이것을 제대로 변환하는 방법은 ``정규화`` 와 ``표준화``가 있음\n",
    "\n"
   ]
  },
  {
   "cell_type": "markdown",
   "id": "b1cb795d-4679-4793-9100-eb016bab087f",
   "metadata": {},
   "source": [
    "### 표준화\n",
    "+ 특성값을 평균이 0이고 표준편차가1인 정규분포를 가진값으로 변환하는 것"
   ]
  },
  {
   "cell_type": "code",
   "execution_count": 6,
   "id": "87b1bd1b-394c-40c2-a305-137b3d69aa3f",
   "metadata": {},
   "outputs": [
    {
     "data": {
      "text/plain": [
       "array([-3, -2, -1,  0,  1,  2,  3,  4,  5])"
      ]
     },
     "execution_count": 6,
     "metadata": {},
     "output_type": "execute_result"
    }
   ],
   "source": [
    "X = np.arange(9) - 3\n",
    "X"
   ]
  },
  {
   "cell_type": "code",
   "execution_count": 3,
   "id": "cbf350d5-c580-4644-9413-f829ae90d7bb",
   "metadata": {},
   "outputs": [
    {
     "data": {
      "text/html": [
       "<div>\n",
       "<style scoped>\n",
       "    .dataframe tbody tr th:only-of-type {\n",
       "        vertical-align: middle;\n",
       "    }\n",
       "\n",
       "    .dataframe tbody tr th {\n",
       "        vertical-align: top;\n",
       "    }\n",
       "\n",
       "    .dataframe thead th {\n",
       "        text-align: right;\n",
       "    }\n",
       "</style>\n",
       "<table border=\"1\" class=\"dataframe\">\n",
       "  <thead>\n",
       "    <tr style=\"text-align: right;\">\n",
       "      <th></th>\n",
       "      <th>0</th>\n",
       "    </tr>\n",
       "  </thead>\n",
       "  <tbody>\n",
       "    <tr>\n",
       "      <th>count</th>\n",
       "      <td>9.000000</td>\n",
       "    </tr>\n",
       "    <tr>\n",
       "      <th>mean</th>\n",
       "      <td>1.000000</td>\n",
       "    </tr>\n",
       "    <tr>\n",
       "      <th>std</th>\n",
       "      <td>2.738613</td>\n",
       "    </tr>\n",
       "    <tr>\n",
       "      <th>min</th>\n",
       "      <td>-3.000000</td>\n",
       "    </tr>\n",
       "    <tr>\n",
       "      <th>25%</th>\n",
       "      <td>-1.000000</td>\n",
       "    </tr>\n",
       "    <tr>\n",
       "      <th>50%</th>\n",
       "      <td>1.000000</td>\n",
       "    </tr>\n",
       "    <tr>\n",
       "      <th>75%</th>\n",
       "      <td>3.000000</td>\n",
       "    </tr>\n",
       "    <tr>\n",
       "      <th>max</th>\n",
       "      <td>5.000000</td>\n",
       "    </tr>\n",
       "  </tbody>\n",
       "</table>\n",
       "</div>"
      ],
      "text/plain": [
       "              0\n",
       "count  9.000000\n",
       "mean   1.000000\n",
       "std    2.738613\n",
       "min   -3.000000\n",
       "25%   -1.000000\n",
       "50%    1.000000\n",
       "75%    3.000000\n",
       "max    5.000000"
      ]
     },
     "execution_count": 3,
     "metadata": {},
     "output_type": "execute_result"
    }
   ],
   "source": [
    "X = X.reshape(-1, 1)  # 2차원으로 변환\n",
    "pd.DataFrame(X).describe()"
   ]
  },
  {
   "cell_type": "code",
   "execution_count": 17,
   "id": "2f5f04ad-e4c2-48cb-a322-7ed79c5c3c67",
   "metadata": {},
   "outputs": [
    {
     "data": {
      "text/html": [
       "<div>\n",
       "<style scoped>\n",
       "    .dataframe tbody tr th:only-of-type {\n",
       "        vertical-align: middle;\n",
       "    }\n",
       "\n",
       "    .dataframe tbody tr th {\n",
       "        vertical-align: top;\n",
       "    }\n",
       "\n",
       "    .dataframe thead th {\n",
       "        text-align: right;\n",
       "    }\n",
       "</style>\n",
       "<table border=\"1\" class=\"dataframe\">\n",
       "  <thead>\n",
       "    <tr style=\"text-align: right;\">\n",
       "      <th></th>\n",
       "      <th>0</th>\n",
       "    </tr>\n",
       "  </thead>\n",
       "  <tbody>\n",
       "    <tr>\n",
       "      <th>count</th>\n",
       "      <td>9.000000</td>\n",
       "    </tr>\n",
       "    <tr>\n",
       "      <th>mean</th>\n",
       "      <td>0.000000</td>\n",
       "    </tr>\n",
       "    <tr>\n",
       "      <th>std</th>\n",
       "      <td>1.060660</td>\n",
       "    </tr>\n",
       "    <tr>\n",
       "      <th>min</th>\n",
       "      <td>-1.549193</td>\n",
       "    </tr>\n",
       "    <tr>\n",
       "      <th>25%</th>\n",
       "      <td>-0.774597</td>\n",
       "    </tr>\n",
       "    <tr>\n",
       "      <th>50%</th>\n",
       "      <td>0.000000</td>\n",
       "    </tr>\n",
       "    <tr>\n",
       "      <th>75%</th>\n",
       "      <td>0.774597</td>\n",
       "    </tr>\n",
       "    <tr>\n",
       "      <th>max</th>\n",
       "      <td>1.549193</td>\n",
       "    </tr>\n",
       "  </tbody>\n",
       "</table>\n",
       "</div>"
      ],
      "text/plain": [
       "              0\n",
       "count  9.000000\n",
       "mean   0.000000\n",
       "std    1.060660\n",
       "min   -1.549193\n",
       "25%   -0.774597\n",
       "50%    0.000000\n",
       "75%    0.774597\n",
       "max    1.549193"
      ]
     },
     "execution_count": 17,
     "metadata": {},
     "output_type": "execute_result"
    }
   ],
   "source": [
    "from sklearn.preprocessing import StandardScaler\n",
    "\n",
    "scaler = StandardScaler()\n",
    "scaler.fit(X)\n",
    "xx = scaler.transform(X)\n",
    "\n",
    "pd.DataFrame(xx).describe()"
   ]
  },
  {
   "cell_type": "code",
   "execution_count": 18,
   "id": "552bb1bd-79b6-4266-9549-52a72410cf7d",
   "metadata": {},
   "outputs": [
    {
     "data": {
      "text/plain": [
       "array([[-1.54919334],\n",
       "       [-1.161895  ],\n",
       "       [-0.77459667],\n",
       "       [-0.38729833],\n",
       "       [ 0.        ],\n",
       "       [ 0.38729833],\n",
       "       [ 0.77459667],\n",
       "       [ 1.161895  ],\n",
       "       [ 1.54919334]])"
      ]
     },
     "execution_count": 18,
     "metadata": {},
     "output_type": "execute_result"
    }
   ],
   "source": [
    "xx"
   ]
  },
  {
   "cell_type": "markdown",
   "id": "779a2977-ab65-403a-9888-133c73e933c4",
   "metadata": {},
   "source": [
    "## boston 데이터 표준화"
   ]
  },
  {
   "cell_type": "code",
   "execution_count": null,
   "id": "0e3808ae-ae96-4ee3-a728-2350586740e8",
   "metadata": {},
   "outputs": [],
   "source": []
  },
  {
   "cell_type": "markdown",
   "id": "d23508b8-d58c-4ce6-897a-5a9ac55f448b",
   "metadata": {},
   "source": [
    "### 정규화\n",
    "+ 특성값을 최소0, 최대 1사이의 값으로 변환하는 것\n",
    "+ 데이터 분포가 정규분포를 따르지 않을때 적용"
   ]
  },
  {
   "cell_type": "code",
   "execution_count": 19,
   "id": "360785e9-cf71-4aae-86a2-3e7140324471",
   "metadata": {},
   "outputs": [
    {
     "data": {
      "text/html": [
       "<div>\n",
       "<style scoped>\n",
       "    .dataframe tbody tr th:only-of-type {\n",
       "        vertical-align: middle;\n",
       "    }\n",
       "\n",
       "    .dataframe tbody tr th {\n",
       "        vertical-align: top;\n",
       "    }\n",
       "\n",
       "    .dataframe thead th {\n",
       "        text-align: right;\n",
       "    }\n",
       "</style>\n",
       "<table border=\"1\" class=\"dataframe\">\n",
       "  <thead>\n",
       "    <tr style=\"text-align: right;\">\n",
       "      <th></th>\n",
       "      <th>0</th>\n",
       "    </tr>\n",
       "  </thead>\n",
       "  <tbody>\n",
       "    <tr>\n",
       "      <th>count</th>\n",
       "      <td>9.000000</td>\n",
       "    </tr>\n",
       "    <tr>\n",
       "      <th>mean</th>\n",
       "      <td>0.500000</td>\n",
       "    </tr>\n",
       "    <tr>\n",
       "      <th>std</th>\n",
       "      <td>0.342327</td>\n",
       "    </tr>\n",
       "    <tr>\n",
       "      <th>min</th>\n",
       "      <td>0.000000</td>\n",
       "    </tr>\n",
       "    <tr>\n",
       "      <th>25%</th>\n",
       "      <td>0.250000</td>\n",
       "    </tr>\n",
       "    <tr>\n",
       "      <th>50%</th>\n",
       "      <td>0.500000</td>\n",
       "    </tr>\n",
       "    <tr>\n",
       "      <th>75%</th>\n",
       "      <td>0.750000</td>\n",
       "    </tr>\n",
       "    <tr>\n",
       "      <th>max</th>\n",
       "      <td>1.000000</td>\n",
       "    </tr>\n",
       "  </tbody>\n",
       "</table>\n",
       "</div>"
      ],
      "text/plain": [
       "              0\n",
       "count  9.000000\n",
       "mean   0.500000\n",
       "std    0.342327\n",
       "min    0.000000\n",
       "25%    0.250000\n",
       "50%    0.500000\n",
       "75%    0.750000\n",
       "max    1.000000"
      ]
     },
     "execution_count": 19,
     "metadata": {},
     "output_type": "execute_result"
    }
   ],
   "source": [
    "from sklearn.preprocessing import MinMaxScaler\n",
    "\n",
    "scaler = MinMaxScaler()\n",
    "scaler.fit(X)\n",
    "xx = scaler.transform(X)\n",
    "\n",
    "pd.DataFrame(xx).describe()  # 최소: 0 , 최대: 1"
   ]
  },
  {
   "cell_type": "code",
   "execution_count": 20,
   "id": "64c320a4-d7a4-4771-9a4e-bf558020cc59",
   "metadata": {},
   "outputs": [
    {
     "data": {
      "text/plain": [
       "array([[0.   ],\n",
       "       [0.125],\n",
       "       [0.25 ],\n",
       "       [0.375],\n",
       "       [0.5  ],\n",
       "       [0.625],\n",
       "       [0.75 ],\n",
       "       [0.875],\n",
       "       [1.   ]])"
      ]
     },
     "execution_count": 20,
     "metadata": {},
     "output_type": "execute_result"
    }
   ],
   "source": [
    "xx"
   ]
  },
  {
   "cell_type": "markdown",
   "id": "c862b9b8-ba63-4171-acec-3f9a60d7a7e4",
   "metadata": {},
   "source": [
    "## boston 데이터 정규화"
   ]
  },
  {
   "cell_type": "code",
   "execution_count": null,
   "id": "6fa29357-b150-455d-b5ef-daf91eeda602",
   "metadata": {},
   "outputs": [],
   "source": []
  }
 ],
 "metadata": {
  "kernelspec": {
   "display_name": "Python 3 (ipykernel)",
   "language": "python",
   "name": "python3"
  },
  "language_info": {
   "codemirror_mode": {
    "name": "ipython",
    "version": 3
   },
   "file_extension": ".py",
   "mimetype": "text/x-python",
   "name": "python",
   "nbconvert_exporter": "python",
   "pygments_lexer": "ipython3",
   "version": "3.8.13"
  }
 },
 "nbformat": 4,
 "nbformat_minor": 5
}
