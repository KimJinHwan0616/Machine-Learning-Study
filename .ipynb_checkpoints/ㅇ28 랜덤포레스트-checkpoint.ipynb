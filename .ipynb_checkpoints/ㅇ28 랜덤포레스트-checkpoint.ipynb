{
 "cells": [
  {
   "cell_type": "markdown",
   "id": "6c6475ee-aeb1-43cc-8a9e-f5356012df6a",
   "metadata": {},
   "source": [
    "# 랜덤포레스트\n",
    "#### <img src='../img/randomforest.png' width='85%'>\n",
    "앙상블 학습 알고리즘 중 대표적인 학습 알고리즘\n",
    "- 여러 개의 의사결정나무들을 생성한 다음, 각 개별 트리의 예측값들 중에서 가장 많이 선택된 클래스로 예측하는 알고리즘\n",
    "- 배깅분류기에 의사결정트리를 넣는 대신 결정트리에 최적화되어 있는 포레스트분류기를 사용"
   ]
  },
  {
   "cell_type": "code",
   "execution_count": null,
   "id": "b2809d67-a2ec-4d76-be70-6b422c9dae46",
   "metadata": {},
   "outputs": [],
   "source": []
  }
 ],
 "metadata": {
  "kernelspec": {
   "display_name": "Python 3 (ipykernel)",
   "language": "python",
   "name": "python3"
  },
  "language_info": {
   "codemirror_mode": {
    "name": "ipython",
    "version": 3
   },
   "file_extension": ".py",
   "mimetype": "text/x-python",
   "name": "python",
   "nbconvert_exporter": "python",
   "pygments_lexer": "ipython3",
   "version": "3.8.13"
  }
 },
 "nbformat": 4,
 "nbformat_minor": 5
}
