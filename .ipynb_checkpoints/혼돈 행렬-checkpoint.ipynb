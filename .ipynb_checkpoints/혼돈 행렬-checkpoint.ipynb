{
 "cells": [
  {
   "cell_type": "markdown",
   "id": "5488187c-dc21-4fd0-a553-17ce41396523",
   "metadata": {},
   "source": [
    "## 머신러닝의 평가\n",
    "* 일반적으로 머신러닝은 \n",
    "    + 데이터 가공/변환(전처리)\n",
    "    + 모델 학습/예측\n",
    "    + 평가의 과정을 거침\n",
    "* 앞의 타이타닉 예제에서 모델의 평가는 **정확도**만 사용했음\n",
    "* 한편, 머신러닝의 예측성능의 평가방법은 다양함\n",
    "    + 회귀 - R^2, MSE평균제곱오차\n",
    "    + 분류 - 혼동(오차)행렬, 크로스엔트로피, 최대우도, ROC, AUC, F1스코어"
   ]
  },
  {
   "cell_type": "markdown",
   "id": "71ace360-a1d6-4339-ae28-8a2129327f1f",
   "metadata": {},
   "source": [
    "## 정확도의 함정\n",
    "* 앞의 타이타닉 생존자 ML예제의 정확도는 평균 80%였음\n",
    "* 그런데 정확도 지표만으로 ML 모델의 성능을 파악하기에는 다소 문제가 있음 - 왜곡의 위험\n",
    "* 즉, 탐색적 분석을 시행했을때 성별을 기준으로 생존비율은 여성일 때가 더 높았음\n",
    "* 따라서, 굳이 ML 알고리즘을 적용하지 않아도 성별이 여성일 경우 생존, 남성일 경우 사망이라고 예측해도 크게 무리 없음\n",
    "* 단순히 성별 조건 하나만 적용해도 별거 아닌 알고리즘으로도 높은 정확도가 나타나는 상황 발생"
   ]
  },
  {
   "cell_type": "code",
   "execution_count": 1,
   "id": "c6e2198f-f6c6-4ee8-b9fe-230fe468f8d8",
   "metadata": {},
   "outputs": [],
   "source": [
    "import pandas as pd\n",
    "import numpy as np\n",
    "import matplotlib.pyplot as plt\n",
    "import sklearn"
   ]
  },
  {
   "cell_type": "code",
   "execution_count": 2,
   "id": "fbe8c82c-ea5f-4af5-a7c1-157f857f84ba",
   "metadata": {},
   "outputs": [],
   "source": [
    "from sklearn.preprocessing import StandardScaler\n",
    "from sklearn.preprocessing import MinMaxScaler\n",
    "from sklearn.preprocessing import LabelEncoder\n",
    "\n",
    "from sklearn.model_selection import train_test_split\n",
    "from sklearn.model_selection import cross_val_score\n",
    "\n",
    "from sklearn.tree import DecisionTreeClassifier\n",
    "from sklearn.ensemble import RandomForestClassifier\n",
    "from sklearn.linear_model import LogisticRegression\n",
    "from sklearn.neighbors import KNeighborsClassifier\n",
    "\n",
    "from sklearn.metrics import accuracy_score"
   ]
  },
  {
   "cell_type": "markdown",
   "id": "438c0094-6c97-4fc9-b909-8a0eac6f4c11",
   "metadata": {},
   "source": [
    "### 가짜 분류기 생성\n",
    "- 성별이 남자면 사망\n",
    "- 성별이 여자면 생존이라고 예측하는 더미분류기 생성"
   ]
  },
  {
   "cell_type": "code",
   "execution_count": 3,
   "id": "71be49c8-7acc-4ba1-a6f3-a10944c67d14",
   "metadata": {},
   "outputs": [],
   "source": [
    "from sklearn.base import BaseEstimator\n",
    "\n",
    "class MyDummyClassifier(BaseEstimator):\n",
    "    # 아무것도 학습하지 않는 fit 메서드 정의\n",
    "    def fit(self, X, y=None):\n",
    "        pass\n",
    "\n",
    "    # 성별이 1(남성)이면 0(사망), 0이면 1\n",
    "    def predict(self, X):\n",
    "        pred = np.zeros((X.shape[0], 1))\n",
    "        # 입력데이터 크기만큼 0으로 채워진 1차원 행렬 생성\n",
    "\n",
    "        for i in range(X.shape[0]):\n",
    "            if X['gender'].iloc[i] != 1:\n",
    "                pred[i] = 1\n",
    "            # 성별이 여성인 경우 1로 설정\n",
    "\n",
    "        return pred"
   ]
  },
  {
   "cell_type": "markdown",
   "id": "abf3db32-8227-415f-a288-6ce332ffff7f",
   "metadata": {},
   "source": [
    "### 가짜분류기 테스트"
   ]
  },
  {
   "cell_type": "code",
   "execution_count": 4,
   "id": "9e7d2bd2-a9d2-454b-9f52-dc9b25b99f6c",
   "metadata": {},
   "outputs": [],
   "source": [
    "titanic = pd.read_csv('../data/titanic2b.csv')\n",
    "\n",
    "data = titanic.iloc[:, [0, 3, 4, 5, 9, 10, 11]]\n",
    "target = titanic.survived"
   ]
  },
  {
   "cell_type": "code",
   "execution_count": 5,
   "id": "32515bd6-de34-4c44-b601-673c55d1e2e7",
   "metadata": {},
   "outputs": [],
   "source": [
    "scaler = StandardScaler()\n",
    "scaler.fit(data)\n",
    "data2 = scaler.transform(data)\n",
    "\n",
    "# 훈련, 평가 데이터 분할\n",
    "X_train, X_test, y_train, y_test = train_test_split(data, target, test_size=0.3,\n",
    "                     random_state=2208241235)"
   ]
  },
  {
   "cell_type": "code",
   "execution_count": 6,
   "id": "6a48ee52-ca45-4a27-ad01-295f359aef53",
   "metadata": {},
   "outputs": [
    {
     "data": {
      "text/plain": [
       "0.7525510204081632"
      ]
     },
     "execution_count": 6,
     "metadata": {},
     "output_type": "execute_result"
    }
   ],
   "source": [
    "dmyclf = MyDummyClassifier()\n",
    "dmyclf.fit(X_train, y_train)\n",
    "pred = dmyclf.predict(X_test)\n",
    "\n",
    "accuracy_score(y_test, pred)"
   ]
  },
  {
   "cell_type": "code",
   "execution_count": 7,
   "id": "fdb2bafa-bf7d-460d-baaf-dd7d398bd434",
   "metadata": {},
   "outputs": [
    {
     "data": {
      "text/plain": [
       "1    583\n",
       "0    331\n",
       "Name: gender, dtype: int64"
      ]
     },
     "execution_count": 7,
     "metadata": {},
     "output_type": "execute_result"
    }
   ],
   "source": [
    "X_train.gender.value_counts()"
   ]
  },
  {
   "cell_type": "code",
   "execution_count": 8,
   "id": "5e6c55d3-7e54-48bb-b2ed-ebc634ccce5f",
   "metadata": {},
   "outputs": [
    {
     "data": {
      "text/plain": [
       "1    259\n",
       "0    133\n",
       "Name: gender, dtype: int64"
      ]
     },
     "execution_count": 8,
     "metadata": {},
     "output_type": "execute_result"
    }
   ],
   "source": [
    "X_test.gender.value_counts()"
   ]
  },
  {
   "cell_type": "code",
   "execution_count": 9,
   "id": "6b68300a-45f1-44b0-ad44-c7affde284d3",
   "metadata": {},
   "outputs": [],
   "source": [
    "# 즉, 이렇게 단순한 알고리즘만으로 예측하더라도\n",
    "# 데이터의 구성에 따라 정확도가 약 76%가 나옴\n",
    "# 불균형한 레이블의 비율()에서는 \n",
    "# 정확도 지표로 모델 성능을 평가하는 것은 올바르지 않음\n",
    "\n",
    "# 예를 들어, 100개의 종속변수 중 90개의 레이블 0이고, 10개의 레이블이 1인 경우, \n",
    "# 무조건 0으로 예측결과를 반환하는 머신러닝 알고리즘의 정확도는 90%임!\n",
    "# 즉, 선생님이 시험 정답지의 답을 1로만 작성한 경우, \n",
    "# 학생이 1로 찍기만 해도 100점을 맞는 경우와 비슷한 상황임!\n",
    "\n",
    "# 따라서, 불균형한 레이블 데이터세트의 성능수치로\n",
    "# 정확도 평가지표를 사용하면 안됨\n",
    "# 이러한 한계를 극복하기 위해 오차행렬 사용\n",
    "# 특히, 정확도보다는 정밀도, 재현율을 더 선호"
   ]
  },
  {
   "cell_type": "markdown",
   "id": "3b22e896-bd53-428d-8136-75fdff928023",
   "metadata": {},
   "source": [
    "### 오차행렬"
   ]
  },
  {
   "cell_type": "code",
   "execution_count": 10,
   "id": "f84a9e72-cd06-4d6c-b63d-4e6cdccbedf4",
   "metadata": {},
   "outputs": [
    {
     "data": {
      "text/plain": [
       "array([[203,  41],\n",
       "       [ 56,  92]])"
      ]
     },
     "execution_count": 10,
     "metadata": {},
     "output_type": "execute_result"
    }
   ],
   "source": [
    "from sklearn.metrics import confusion_matrix\n",
    "\n",
    "confusion_matrix(y_test, pred)"
   ]
  },
  {
   "cell_type": "code",
   "execution_count": 11,
   "id": "623788f7-e0ed-475e-b52e-a1038d573310",
   "metadata": {},
   "outputs": [
    {
     "name": "stdout",
     "output_type": "stream",
     "text": [
      "              precision    recall  f1-score   support\n",
      "\n",
      "         0.0       0.78      0.83      0.81       244\n",
      "         1.0       0.69      0.62      0.65       148\n",
      "\n",
      "    accuracy                           0.75       392\n",
      "   macro avg       0.74      0.73      0.73       392\n",
      "weighted avg       0.75      0.75      0.75       392\n",
      "\n"
     ]
    }
   ],
   "source": [
    "from sklearn.metrics import classification_report\n",
    "\n",
    "print( classification_report(y_test, pred) )"
   ]
  },
  {
   "cell_type": "markdown",
   "id": "248b1461-d73f-4b99-8c39-3be4635a14cc",
   "metadata": {
    "tags": []
   },
   "source": [
    "## 정확도accuracy\n",
    "* 맞는 것을 맞다고, 틀린 것을 틀리다고 올바르게 예측한 것\n",
    "* $ accuracy = \\frac {TP + TN} {TP + FN + FP + TN} $\n",
    "* 혼동행렬 대각선 부분"
   ]
  },
  {
   "cell_type": "code",
   "execution_count": 12,
   "id": "9321ac2a-e312-4e15-9ee1-7b9ba85e6098",
   "metadata": {},
   "outputs": [
    {
     "data": {
      "text/plain": [
       "0.7525510204081632"
      ]
     },
     "execution_count": 12,
     "metadata": {},
     "output_type": "execute_result"
    }
   ],
   "source": [
    "(203 + 92) / (203 + 41 + 56 + 92)"
   ]
  },
  {
   "cell_type": "markdown",
   "id": "faf5865e-5431-4227-a845-9ede13f7e545",
   "metadata": {},
   "source": [
    "## 정밀도Precision\n",
    "* **모델의 예측값**이 얼마나 올바른지 알아봄\n",
    "* $precision = \\frac {TP} {TP+FP}$\n",
    "* 혼동행렬 1열 부분"
   ]
  },
  {
   "cell_type": "code",
   "execution_count": 13,
   "id": "75731f8e-d3dd-49e1-880a-c61affddfd2a",
   "metadata": {},
   "outputs": [
    {
     "data": {
      "text/plain": [
       "0.7837837837837838"
      ]
     },
     "execution_count": 13,
     "metadata": {},
     "output_type": "execute_result"
    }
   ],
   "source": [
    "203/(203+56)"
   ]
  },
  {
   "cell_type": "markdown",
   "id": "1f3b0b9e-ba22-4cde-8e3f-c2175e7614b0",
   "metadata": {},
   "source": [
    "## 재현율Recall\n",
    "* 맞는 것 중 맞다고 예측된 것들의 비율\n",
    "* 민감도Sensitivity(통계학), 적중률hit rate(마케팅)\n",
    "* $recall = \\frac {TP} {TP+FN}$\n",
    "* 혼동행렬 1행 부분"
   ]
  },
  {
   "cell_type": "code",
   "execution_count": 14,
   "id": "c97b47b9-d159-484f-8302-0298059a1112",
   "metadata": {},
   "outputs": [
    {
     "data": {
      "text/plain": [
       "0.8319672131147541"
      ]
     },
     "execution_count": 14,
     "metadata": {},
     "output_type": "execute_result"
    }
   ],
   "source": [
    "203/(203+41)"
   ]
  },
  {
   "cell_type": "markdown",
   "id": "7469576c-81c8-4fe3-9433-467f1a245a45",
   "metadata": {},
   "source": [
    "## 특이도Specificity\n",
    "* 틀린 것 중 틀리다고 예측된 것들의 비율\n",
    "* (FP) / (TN+FP)\n",
    "* 혼동행렬의 2행 부분"
   ]
  },
  {
   "cell_type": "code",
   "execution_count": 15,
   "id": "92d724f5-68e1-49b5-84d2-ebc689fabe9f",
   "metadata": {},
   "outputs": [
    {
     "data": {
      "text/plain": [
       "0.3783783783783784"
      ]
     },
     "execution_count": 15,
     "metadata": {},
     "output_type": "execute_result"
    }
   ],
   "source": [
    "56 / (56+92)"
   ]
  },
  {
   "cell_type": "markdown",
   "id": "85cb7da8-9d98-4710-9144-5456a5269f13",
   "metadata": {},
   "source": [
    "### 간단예제\n",
    "- 6마리의 동물형상 중 개p/고양이n를 맞추는 게임을 진행"
   ]
  },
  {
   "cell_type": "code",
   "execution_count": 21,
   "id": "ddd95d14-6a28-4f5d-bf55-c577044c08da",
   "metadata": {},
   "outputs": [],
   "source": [
    "# 정답 = [개     개     개 고양이 개     고양이]\n",
    "# 예측 = [개     고양이 개 고양이 개     개    ]"
   ]
  },
  {
   "cell_type": "code",
   "execution_count": 17,
   "id": "ae7f3a67-a3e8-44ab-9176-e401582291ff",
   "metadata": {},
   "outputs": [],
   "source": [
    "#         predict\n",
    "# actual  [3  1]\n",
    "#         [1  1]"
   ]
  },
  {
   "cell_type": "code",
   "execution_count": null,
   "id": "49240948-b3a9-4545-8b44-967d727d3181",
   "metadata": {},
   "outputs": [
    {
     "data": {
      "text/plain": [
       "0.6666666666666666"
      ]
     },
     "execution_count": 20,
     "metadata": {},
     "output_type": "execute_result"
    }
   ],
   "source": [
    "# 정확도 : 나의 예측이 얼마나 정확한가\n",
    "# 예측 -개를 개라고, 고양이를 고양이라고 말하는 것\n",
    "4 / 6"
   ]
  },
  {
   "cell_type": "code",
   "execution_count": 22,
   "id": "46d3739a-2e26-49c3-b06c-a62d9292ae98",
   "metadata": {},
   "outputs": [
    {
     "data": {
      "text/plain": [
       "0.75"
      ]
     },
     "execution_count": 22,
     "metadata": {},
     "output_type": "execute_result"
    }
   ],
   "source": [
    "# 정밀도 : 내가 참(개를 개라고)이라고 예측한 것이 얼마나 잘 맞았냐?\n",
    "# 내가 개라고 예측한 거 : 1,3,5,6\n",
    "# 실제 개는 : 1,2,3,5\n",
    "3/4"
   ]
  },
  {
   "cell_type": "code",
   "execution_count": 19,
   "id": "0da38404-d82b-43bd-bb33-a2aa287e8cbb",
   "metadata": {},
   "outputs": [
    {
     "data": {
      "text/plain": [
       "array([[3, 1],\n",
       "       [1, 1]])"
      ]
     },
     "execution_count": 19,
     "metadata": {},
     "output_type": "execute_result"
    }
   ],
   "source": [
    "y_test = ['개', '개', '개', '고양이', '개', '고양이']\n",
    "pred = ['개', '고양이', '개', '고양이', '개', '개' ]\n",
    "confusion_matrix(y_test, pred)"
   ]
  },
  {
   "cell_type": "code",
   "execution_count": 24,
   "id": "5506c943-5ea3-4ab8-8b6c-70455417f6d9",
   "metadata": {},
   "outputs": [
    {
     "data": {
      "text/plain": [
       "0.75"
      ]
     },
     "execution_count": 24,
     "metadata": {},
     "output_type": "execute_result"
    }
   ],
   "source": [
    "# 재현율 : 전체 참중에서 내가 참이라 예측한 것은?\n",
    "# 실제 개는 : 1,2,3,5\n",
    "# 이중에서 내가 개라고 '맞춘'것은 : 1,3,5\n",
    "3/4"
   ]
  },
  {
   "cell_type": "code",
   "execution_count": 31,
   "id": "c7e697f1-ce94-4baa-8a86-5c264f4910cf",
   "metadata": {},
   "outputs": [
    {
     "name": "stdout",
     "output_type": "stream",
     "text": [
      "0.6666666666666666\n",
      "[0.75 0.5 ]\n",
      "[0.75 0.5 ]\n"
     ]
    }
   ],
   "source": [
    "from sklearn.metrics import recall_score\n",
    "from sklearn.metrics import precision_score\n",
    "\n",
    "print(accuracy_score (y_test, pred))\n",
    "print(precision_score(y_test, pred, average=None))\n",
    "print(recall_score(y_test, pred, average=None))"
   ]
  },
  {
   "cell_type": "code",
   "execution_count": 30,
   "id": "3c924b53-3ef0-40e8-a397-6bec32723f87",
   "metadata": {},
   "outputs": [
    {
     "name": "stdout",
     "output_type": "stream",
     "text": [
      "              precision    recall  f1-score   support\n",
      "\n",
      "           개       0.75      0.75      0.75         4\n",
      "         고양이       0.50      0.50      0.50         2\n",
      "\n",
      "    accuracy                           0.67         6\n",
      "   macro avg       0.62      0.62      0.62         6\n",
      "weighted avg       0.67      0.67      0.67         6\n",
      "\n"
     ]
    }
   ],
   "source": [
    "print(classification_report(y_test, pred))"
   ]
  },
  {
   "cell_type": "code",
   "execution_count": 16,
   "id": "cc519d38-d7c1-4aff-8c02-f5b6c3227b4b",
   "metadata": {},
   "outputs": [],
   "source": [
    "# 노래하는 모습을 보고 음치를 찾아봄\n",
    "# 정답 = [음치,음치,음치,음치,정상,정상]\n",
    "# 예측 = [음치,음치,정상,정상,정상,정상]"
   ]
  },
  {
   "cell_type": "markdown",
   "id": "f27e1108-972d-4367-95bc-0130bf19cea3",
   "metadata": {
    "tags": []
   },
   "source": [
    "## 정밀도/재현율 trade-off\n",
    "* 분류하는 업무의 특성상 정밀도 또는 재현율이 특별히 강조되어야 하는 경우(특히 임상의료) \n",
    "* 결정 임계값을 조정하면 정밀도 또는 재현율을 높일 수 있음\n",
    "     + 즉, 이진분류에서 0 또는 1로 판정할 기준값을 의미\n",
    "     + 임계값을 0.5로 정하는 경우 기준값보다 확률이 크면 positive, 작으면 negative로 결정\n",
    "* 한편, 정밀도와 재현율은 상호보완적인 지표이기때문에, \n",
    "* 어느 한쪽을 올리면 다른 한쪽은 떨어지는 관계를 뜀"
   ]
  },
  {
   "cell_type": "code",
   "execution_count": null,
   "id": "f2bf4125-c520-4099-90e8-e13f79c5c90c",
   "metadata": {},
   "outputs": [],
   "source": []
  }
 ],
 "metadata": {
  "kernelspec": {
   "display_name": "Python 3 (ipykernel)",
   "language": "python",
   "name": "python3"
  },
  "language_info": {
   "codemirror_mode": {
    "name": "ipython",
    "version": 3
   },
   "file_extension": ".py",
   "mimetype": "text/x-python",
   "name": "python",
   "nbconvert_exporter": "python",
   "pygments_lexer": "ipython3",
   "version": "3.8.13"
  }
 },
 "nbformat": 4,
 "nbformat_minor": 5
}
