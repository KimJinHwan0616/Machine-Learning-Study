{
 "cells": [
  {
   "cell_type": "markdown",
   "id": "45caaa27-52ad-4f01-a4a2-d4af3d9c283b",
   "metadata": {},
   "source": [
    "## 텍스트 마이닝 \n",
    "* 자연어로 구성된 \"비정형 데이터\"에서 패턴 또는 관계를 추출하여 의미 있는 정보를 찾아내는 기법들을 의미\n",
    "* 트위터, 페이스북, 블로그, 웹게시판, 온라인 뉴스등 웹 상에 존재하는 방대한 비정형 데이터를 실시간으로 수집/분석하여 \n",
    "* 고객의 감성 및 의도등을 알아내는 과정을 의미\n",
    "    + 자연어 처리(Natural Language Processing)와 텍스트 분석(Text Analytics)등이 핵심 분야"
   ]
  },
  {
   "cell_type": "markdown",
   "id": "d75af1fa-6bfa-4190-9c75-b8b9e8f6093a",
   "metadata": {},
   "source": [
    "## 텍스트 마이닝 활용분야 \n",
    "* 텍스트분류 : 문서가 특정 분류/카테고리에 속하는 것을 예측\n",
    "* 감성분석 : 텍스트에 나타나는 감정/판단/믿음/의견등 주관적인 요소를 분석\n",
    "* 텍스트요약 : 텍스트 내에서 중요한 주제나 중심사상을 추출\n",
    "* 텍스트군집화 : 비슷한 유형의 문서에 대해 군집화를 수행"
   ]
  },
  {
   "cell_type": "markdown",
   "id": "a3cc83a2-69f3-4c39-83a7-93812ae6f336",
   "metadata": {},
   "source": [
    "## 텍스트 분석 수행 과정\n",
    "* 텍스트 사전준비/전처리 \n",
    "    + 대/소문자변경, 문장/숫자/특수문자 삭제, 토큰화, 불용어 제거, 어근추출\n",
    "* 특성 벡터화/추출 \n",
    "    + 가공된 텍스트에서 특성 추출후 여기에 벡터값을 지정, BOW, Word2Vec등을 사용\n",
    "* 머신러닝모델 학습/예측/평가 : \n",
    "    + 감성분석/연관성분석"
   ]
  },
  {
   "cell_type": "markdown",
   "id": "5aa543a8-fe7f-43c3-99a9-1f91c4f53f5b",
   "metadata": {},
   "source": [
    "## 파이썬 기반 텍스트 분석 패키지\n",
    "* NLTK, KoNLPy : 영어권/한국어 형태소 분석기\n",
    "* Gensim : 텍스트요약(토픽모델링)에 두각을 나타냄, word2vec 기능도 구현되어 있음\n",
    "* SpaCy : 최근 주목받는 NLP 패키지\n",
    "* NLTK : 교육용으로 개발된 자연어 처리 및 분석용 파이썬 패키지, 다양한 예제를 포함하고 있음\n",
    "    + www.nltk.org\n",
    "    + pip install nltk"
   ]
  },
  {
   "cell_type": "markdown",
   "id": "3c51c9e8-35ff-41da-ab3b-4bce65023d64",
   "metadata": {},
   "source": [
    "## English NLP"
   ]
  },
  {
   "cell_type": "code",
   "execution_count": 1,
   "id": "ef02d6c6-6e0b-4d85-8220-36f2ee84b2d8",
   "metadata": {},
   "outputs": [
    {
     "name": "stdout",
     "output_type": "stream",
     "text": [
      "Collecting nltk\n",
      "  Downloading nltk-3.7-py3-none-any.whl (1.5 MB)\n",
      "\u001b[2K     \u001b[90m━━━━━━━━━━━━━━━━━━━━━━━━━━━━━━━━━━━━━━━━\u001b[0m \u001b[32m1.5/1.5 MB\u001b[0m \u001b[31m7.7 MB/s\u001b[0m eta \u001b[36m0:00:00\u001b[0m:00:01\u001b[0m\n",
      "\u001b[?25hRequirement already satisfied: joblib in /opt/miniconda3/lib/python3.8/site-packages (from nltk) (1.1.0)\n",
      "Collecting click\n",
      "  Downloading click-8.1.3-py3-none-any.whl (96 kB)\n",
      "\u001b[2K     \u001b[90m━━━━━━━━━━━━━━━━━━━━━━━━━━━━━━━━━━━━━━━━\u001b[0m \u001b[32m96.6/96.6 kB\u001b[0m \u001b[31m12.8 MB/s\u001b[0m eta \u001b[36m0:00:00\u001b[0m\n",
      "\u001b[?25hRequirement already satisfied: tqdm in /opt/miniconda3/lib/python3.8/site-packages (from nltk) (4.64.0)\n",
      "Collecting regex>=2021.8.3\n",
      "  Downloading regex-2022.8.17-cp38-cp38-manylinux_2_17_x86_64.manylinux2014_x86_64.whl (768 kB)\n",
      "\u001b[2K     \u001b[90m━━━━━━━━━━━━━━━━━━━━━━━━━━━━━━━━━━━━━━\u001b[0m \u001b[32m768.9/768.9 kB\u001b[0m \u001b[31m53.1 MB/s\u001b[0m eta \u001b[36m0:00:00\u001b[0m\n",
      "\u001b[?25hInstalling collected packages: regex, click, nltk\n",
      "Successfully installed click-8.1.3 nltk-3.7 regex-2022.8.17\n",
      "Note: you may need to restart the kernel to use updated packages.\n"
     ]
    }
   ],
   "source": [
    "pip install nltk"
   ]
  },
  {
   "cell_type": "code",
   "execution_count": 1,
   "id": "eb145a77-1274-41e0-9675-05f000eec6a9",
   "metadata": {},
   "outputs": [],
   "source": [
    "import nltk"
   ]
  },
  {
   "cell_type": "code",
   "execution_count": 2,
   "id": "7e33b988-1bd1-4b2f-87c6-74915e1205fb",
   "metadata": {},
   "outputs": [
    {
     "data": {
      "text/plain": [
       "True"
      ]
     },
     "execution_count": 2,
     "metadata": {},
     "output_type": "execute_result"
    }
   ],
   "source": [
    "# nltk 내장 영어 말뭉치corpus\n",
    "nltk.download('book', quiet=True)"
   ]
  },
  {
   "cell_type": "code",
   "execution_count": 3,
   "id": "a1cfbd6c-08fb-4ec8-acde-b20b10466ccc",
   "metadata": {},
   "outputs": [
    {
     "name": "stdout",
     "output_type": "stream",
     "text": [
      "*** Introductory Examples for the NLTK Book ***\n",
      "Loading text1, ..., text9 and sent1, ..., sent9\n",
      "Type the name of the text or sentence to view it.\n",
      "Type: 'texts()' or 'sents()' to list the materials.\n",
      "text1: Moby Dick by Herman Melville 1851\n",
      "text2: Sense and Sensibility by Jane Austen 1811\n",
      "text3: The Book of Genesis\n",
      "text4: Inaugural Address Corpus\n",
      "text5: Chat Corpus\n",
      "text6: Monty Python and the Holy Grail\n",
      "text7: Wall Street Journal\n",
      "text8: Personals Corpus\n",
      "text9: The Man Who Was Thursday by G . K . Chesterton 1908\n"
     ]
    }
   ],
   "source": [
    "from nltk.book import *\n",
    "# text1 부터 text9 까지 다양한 텍스트가 제공\n",
    "# sents1 부터 sents9 까지 다양한 문장이 제공"
   ]
  },
  {
   "cell_type": "code",
   "execution_count": 4,
   "id": "7886859d-fbf8-4e38-9d43-f79b232dbfc8",
   "metadata": {},
   "outputs": [
    {
     "name": "stdout",
     "output_type": "stream",
     "text": [
      "sent1: Call me Ishmael .\n",
      "sent2: The family of Dashwood had long been settled in Sussex .\n",
      "sent3: In the beginning God created the heaven and the earth .\n",
      "sent4: Fellow - Citizens of the Senate and of the House of Representatives :\n",
      "sent5: I have a problem with people PMing me to lol JOIN\n",
      "sent6: SCENE 1 : [ wind ] [ clop clop clop ] KING ARTHUR : Whoa there !\n",
      "sent7: Pierre Vinken , 61 years old , will join the board as a nonexecutive director Nov. 29 .\n",
      "sent8: 25 SEXY MALE , seeks attrac older single lady , for discreet encounters .\n",
      "sent9: THE suburb of Saffron Park lay on the sunset side of London , as red and ragged as a cloud of sunset .\n"
     ]
    }
   ],
   "source": [
    "sents()"
   ]
  },
  {
   "cell_type": "code",
   "execution_count": 5,
   "id": "82a0121c-e068-4e27-abbb-1373724465fe",
   "metadata": {},
   "outputs": [
    {
     "data": {
      "text/plain": [
       "260819"
      ]
     },
     "execution_count": 5,
     "metadata": {},
     "output_type": "execute_result"
    }
   ],
   "source": [
    "len(text1)"
   ]
  },
  {
   "cell_type": "code",
   "execution_count": 6,
   "id": "e7ee5530-33a4-43bd-b92c-83b580a7c966",
   "metadata": {},
   "outputs": [
    {
     "data": {
      "text/plain": [
       "4"
      ]
     },
     "execution_count": 6,
     "metadata": {},
     "output_type": "execute_result"
    }
   ],
   "source": [
    "len(sent1)"
   ]
  },
  {
   "cell_type": "code",
   "execution_count": 7,
   "id": "7679cce9-730f-47fc-96a1-766acd626ed0",
   "metadata": {},
   "outputs": [
    {
     "data": {
      "text/plain": [
       "['austen-emma.txt',\n",
       " 'austen-persuasion.txt',\n",
       " 'austen-sense.txt',\n",
       " 'bible-kjv.txt',\n",
       " 'blake-poems.txt',\n",
       " 'bryant-stories.txt',\n",
       " 'burgess-busterbrown.txt',\n",
       " 'carroll-alice.txt',\n",
       " 'chesterton-ball.txt',\n",
       " 'chesterton-brown.txt',\n",
       " 'chesterton-thursday.txt',\n",
       " 'edgeworth-parents.txt',\n",
       " 'melville-moby_dick.txt',\n",
       " 'milton-paradise.txt',\n",
       " 'shakespeare-caesar.txt',\n",
       " 'shakespeare-hamlet.txt',\n",
       " 'shakespeare-macbeth.txt',\n",
       " 'whitman-leaves.txt']"
      ]
     },
     "execution_count": 7,
     "metadata": {},
     "output_type": "execute_result"
    }
   ],
   "source": [
    "# 저작권이 말소된 문학작품을 포함하는\n",
    "# 구텐베르그 말뭉치를 확인\n",
    "nltk.corpus.gutenberg.fileids() "
   ]
  },
  {
   "cell_type": "code",
   "execution_count": 8,
   "id": "eb739790-46d1-4ef5-a92c-fa98515ffc3b",
   "metadata": {},
   "outputs": [
    {
     "name": "stdout",
     "output_type": "stream",
     "text": [
      "[The Tragedie of Hamlet by William Shakespeare 1599]\n",
      "\n",
      "\n",
      "Actus Primus. Scoena Prima.\n",
      "\n",
      "Enter Barnardo and Francisco two Centinels.\n",
      "\n",
      "  Barnardo. Who's there?\n",
      "  Fran. Nay answer me: Stand & vnfold\n",
      "your selfe\n",
      "\n",
      "   Bar. Long liue the King\n",
      "\n",
      "   Fran. Barnardo?\n",
      "  Bar. He\n",
      "\n",
      "   Fran. You come most carefully vpon \n"
     ]
    }
   ],
   "source": [
    "# '햄릿'을 불러서 출력해봄\n",
    "doc = nltk.corpus.gutenberg.raw('shakespeare-hamlet.txt')\n",
    "print(doc[:300])"
   ]
  },
  {
   "cell_type": "markdown",
   "id": "5e2b2892-6c89-4467-b7c8-431e2a8e0458",
   "metadata": {},
   "source": [
    "# 텍스트 토큰화\n",
    "- 문장 토큰화 : 문서에서 문장을 분리\n",
    "- 단어 토큰화 : 문장에서 단어를 분리"
   ]
  },
  {
   "cell_type": "code",
   "execution_count": 9,
   "id": "53a45988-8ef0-463c-b383-2f4f84df9fc4",
   "metadata": {},
   "outputs": [],
   "source": [
    "# 행태소 분석을 위한 패키지 적재\n",
    "from nltk import sent_tokenize\n",
    "from nltk import word_tokenize"
   ]
  },
  {
   "cell_type": "code",
   "execution_count": 10,
   "id": "2d89aea7-000d-4ff9-8522-b1984bb16e6c",
   "metadata": {},
   "outputs": [
    {
     "name": "stderr",
     "output_type": "stream",
     "text": [
      "[nltk_data] Downloading package punkt to /home/centos/nltk_data...\n",
      "[nltk_data]   Package punkt is already up-to-date!\n"
     ]
    },
    {
     "data": {
      "text/plain": [
       "True"
      ]
     },
     "execution_count": 10,
     "metadata": {},
     "output_type": "execute_result"
    }
   ],
   "source": [
    "nltk.download('punkt')"
   ]
  },
  {
   "cell_type": "code",
   "execution_count": 11,
   "id": "b22fa2d6-d543-4a45-af86-63695ea9f33f",
   "metadata": {},
   "outputs": [],
   "source": [
    "text_sample = 'The Matrix is everywhere its all around us, here even in this room. \\\n",
    "               You can see it out your window or on your television. \\\n",
    "               You feel it when you go to work, or go to church or pay your taxes.'"
   ]
  },
  {
   "cell_type": "code",
   "execution_count": 12,
   "id": "ea835803-1d76-4af4-9cdd-39604176bb0c",
   "metadata": {},
   "outputs": [
    {
     "name": "stdout",
     "output_type": "stream",
     "text": [
      "['The Matrix is everywhere its all around us, here even in this room.', 'You can see it out your window or on your television.', 'You feel it when you go to work, or go to church or pay your taxes.']\n",
      "3\n"
     ]
    }
   ],
   "source": [
    "# 문장토큰화 : sent_tokenize\n",
    "# 문장토큰화 결과는 리스트로 생성\n",
    "sents = sent_tokenize(text_sample)\n",
    "print(sents)\n",
    "print(len(sents))"
   ]
  },
  {
   "cell_type": "code",
   "execution_count": 13,
   "id": "71ee1ac7-efc1-4e8b-b46d-82cfc201daa2",
   "metadata": {},
   "outputs": [
    {
     "name": "stdout",
     "output_type": "stream",
     "text": [
      "['The', 'Matrix', 'is', 'everywhere', 'its']\n",
      "15\n"
     ]
    }
   ],
   "source": [
    "# 단어토큰화 : word_tokenize\n",
    "# 단어토큰화 결과는 리스트로 생성\n",
    "words = word_tokenize(sents[0])\n",
    "print(words[:5])\n",
    "print(len(words))"
   ]
  },
  {
   "cell_type": "code",
   "execution_count": 14,
   "id": "3246b38a-f38d-451b-abdc-6c3c2b668677",
   "metadata": {},
   "outputs": [
    {
     "data": {
      "text/plain": [
       "[['The',\n",
       "  'Matrix',\n",
       "  'is',\n",
       "  'everywhere',\n",
       "  'its',\n",
       "  'all',\n",
       "  'around',\n",
       "  'us',\n",
       "  ',',\n",
       "  'here',\n",
       "  'even',\n",
       "  'in',\n",
       "  'this',\n",
       "  'room',\n",
       "  '.'],\n",
       " ['You',\n",
       "  'can',\n",
       "  'see',\n",
       "  'it',\n",
       "  'out',\n",
       "  'your',\n",
       "  'window',\n",
       "  'or',\n",
       "  'on',\n",
       "  'your',\n",
       "  'television',\n",
       "  '.'],\n",
       " ['You',\n",
       "  'feel',\n",
       "  'it',\n",
       "  'when',\n",
       "  'you',\n",
       "  'go',\n",
       "  'to',\n",
       "  'work',\n",
       "  ',',\n",
       "  'or',\n",
       "  'go',\n",
       "  'to',\n",
       "  'church',\n",
       "  'or',\n",
       "  'pay',\n",
       "  'your',\n",
       "  'taxes',\n",
       "  '.']]"
      ]
     },
     "execution_count": 14,
     "metadata": {},
     "output_type": "execute_result"
    }
   ],
   "source": [
    "# 문장토큰화 후 단어토큰화를 실시 : 반복문 사용\n",
    "words = []\n",
    "\n",
    "sents = sent_tokenize(text_sample)\n",
    "for sent in sents:\n",
    "    words.append(word_tokenize(sent))\n",
    "words"
   ]
  },
  {
   "cell_type": "markdown",
   "id": "dfd0cc03-6224-491f-b419-e5b54ec3f459",
   "metadata": {},
   "source": [
    "## 불용어stopword 제거\n",
    "* 분석상 큰 의미가 없는 단어를 지칭\n",
    "* NLTK상에서는 stopwords 형태로 제공됨, 단 단어수는 적음"
   ]
  },
  {
   "cell_type": "code",
   "execution_count": 15,
   "id": "dbbb3084-1d2f-466a-b2da-930267e67532",
   "metadata": {},
   "outputs": [
    {
     "name": "stderr",
     "output_type": "stream",
     "text": [
      "[nltk_data] Downloading package stopwords to /home/centos/nltk_data...\n",
      "[nltk_data]   Package stopwords is already up-to-date!\n"
     ]
    },
    {
     "data": {
      "text/plain": [
       "179"
      ]
     },
     "execution_count": 15,
     "metadata": {},
     "output_type": "execute_result"
    }
   ],
   "source": [
    "nltk.download('stopwords')\n",
    "len(nltk.corpus.stopwords.words('english'))"
   ]
  },
  {
   "cell_type": "code",
   "execution_count": 16,
   "id": "7de8b872-43fb-4f79-933a-e0395dac9480",
   "metadata": {},
   "outputs": [
    {
     "data": {
      "text/plain": [
       "['i', 'me', 'my', 'myself', 'we', 'our', 'ours', 'ourselves', 'you', \"you're\"]"
      ]
     },
     "execution_count": 16,
     "metadata": {},
     "output_type": "execute_result"
    }
   ],
   "source": [
    "nltk.corpus.stopwords.words('english')[:10]"
   ]
  },
  {
   "cell_type": "code",
   "execution_count": 17,
   "id": "3f142057-ad80-4794-91fc-e36515e26af0",
   "metadata": {},
   "outputs": [],
   "source": [
    "# 불용어를 이용한 단어토큰화 실시\n",
    "stopwords = nltk.corpus.stopwords.words('english')"
   ]
  },
  {
   "cell_type": "code",
   "execution_count": 18,
   "id": "07c8d89a-c486-476e-b495-cd5af4861ece",
   "metadata": {},
   "outputs": [
    {
     "data": {
      "text/plain": [
       "[['matrix', 'everywhere', 'around', 'us', ',', 'even', 'room', '.'],\n",
       " ['see', 'window', 'television', '.'],\n",
       " ['feel', 'go', 'work', ',', 'go', 'church', 'pay', 'taxes', '.']]"
      ]
     },
     "execution_count": 18,
     "metadata": {},
     "output_type": "execute_result"
    }
   ],
   "source": [
    "# 불용어 리스트와 토큰화된 단어들을 비교해서 불용어들을 걸러냄\n",
    "tokens0 = []\n",
    "\n",
    "for wds in words:\n",
    "    filter_words = []\n",
    "    for w in wds:\n",
    "        w = w.lower()\n",
    "        if w not in stopwords:\n",
    "            filter_words.append(w)\n",
    "    tokens0.append(filter_words)\n",
    "    \n",
    "tokens0"
   ]
  },
  {
   "cell_type": "markdown",
   "id": "9619b1e3-5211-422d-b043-d51dff0c4bf6",
   "metadata": {},
   "source": [
    "## 트럼프 연설문에 대한 단어 토큰화"
   ]
  },
  {
   "cell_type": "code",
   "execution_count": 19,
   "id": "f0a84de7-7bb0-4c41-a4fe-7837a2620993",
   "metadata": {},
   "outputs": [],
   "source": [
    "import requests\n",
    "import re"
   ]
  },
  {
   "cell_type": "code",
   "execution_count": 20,
   "id": "36521e22-e7ff-48bc-8cad-b9656fc8e02b",
   "metadata": {},
   "outputs": [],
   "source": [
    "url = 'https://raw.githubusercontent.com/siestageek/datasets/master/txt/thrump.txt'\n",
    "\n",
    "res = requests.get(url)\n",
    "docs = res.text"
   ]
  },
  {
   "cell_type": "code",
   "execution_count": 21,
   "id": "0fc6e824-41df-4da5-91e3-18dade1ab147",
   "metadata": {},
   "outputs": [
    {
     "data": {
      "text/plain": [
       "['Assembly Speaker Chung, distinguished members of this Assembly, ladies and gentlemen: Thank you for the extraordinary privilege to speak in this great chamber and to address your people on behalf of the people of the United States of America.',\n",
       " 'In our short time in your country, Melania and I have been awed by its ancient and modern wonders, and we are deeply moved by the warmth of your welcome.',\n",
       " 'Last night, President and Mrs.',\n",
       " 'Moon showed us incredible hospitality in a beautiful reception at the Blue House.',\n",
       " 'We had productive discussions on increasing military cooperation and improving the trade relationship between our nations on the principle of fairness and reciprocity.']"
      ]
     },
     "execution_count": 21,
     "metadata": {},
     "output_type": "execute_result"
    }
   ],
   "source": [
    "sents = sent_tokenize(docs)\n",
    "sents[:5]"
   ]
  },
  {
   "cell_type": "code",
   "execution_count": 22,
   "id": "54fd2243-3529-46b7-a8f2-ce1da4c45ac7",
   "metadata": {},
   "outputs": [
    {
     "data": {
      "text/plain": [
       "[['Assembly',\n",
       "  'Speaker',\n",
       "  'Chung',\n",
       "  'distinguished',\n",
       "  'members',\n",
       "  'of',\n",
       "  'this',\n",
       "  'Assembly',\n",
       "  'ladies',\n",
       "  'and',\n",
       "  'gentlemen',\n",
       "  'Thank',\n",
       "  'you',\n",
       "  'for',\n",
       "  'the',\n",
       "  'extraordinary',\n",
       "  'privilege',\n",
       "  'to',\n",
       "  'speak',\n",
       "  'in',\n",
       "  'this',\n",
       "  'great',\n",
       "  'chamber',\n",
       "  'and',\n",
       "  'to',\n",
       "  'address',\n",
       "  'your',\n",
       "  'people',\n",
       "  'on',\n",
       "  'behalf',\n",
       "  'of',\n",
       "  'the',\n",
       "  'people',\n",
       "  'of',\n",
       "  'the',\n",
       "  'United',\n",
       "  'States',\n",
       "  'of',\n",
       "  'America']]"
      ]
     },
     "execution_count": 22,
     "metadata": {},
     "output_type": "execute_result"
    }
   ],
   "source": [
    "words = []\n",
    "for s in sents:\n",
    "    # 숫자, 특수기호 제거\n",
    "    s = re.sub('[^a-zA-Z]', ' ', s).strip()    \n",
    "    words.append(word_tokenize(s))\n",
    "    \n",
    "words[:1]"
   ]
  },
  {
   "cell_type": "code",
   "execution_count": 23,
   "id": "6366a556-ea45-4f6e-8b06-9ac2362c130c",
   "metadata": {},
   "outputs": [
    {
     "data": {
      "text/plain": [
       "[['assembly',\n",
       "  'speaker',\n",
       "  'chung',\n",
       "  'distinguished',\n",
       "  'members',\n",
       "  'assembly',\n",
       "  'ladies',\n",
       "  'gentlemen',\n",
       "  'thank',\n",
       "  'extraordinary',\n",
       "  'privilege',\n",
       "  'speak',\n",
       "  'great',\n",
       "  'chamber',\n",
       "  'address',\n",
       "  'people',\n",
       "  'behalf',\n",
       "  'people',\n",
       "  'united',\n",
       "  'states',\n",
       "  'america']]"
      ]
     },
     "execution_count": 23,
     "metadata": {},
     "output_type": "execute_result"
    }
   ],
   "source": [
    "tokens1 = []\n",
    "\n",
    "for wds in words:\n",
    "    filter_words = []\n",
    "    for w in wds:\n",
    "        w = w.lower()\n",
    "        if w not in stopwords:\n",
    "            filter_words.append(w)\n",
    "    tokens1.append(filter_words)\n",
    "    \n",
    "tokens1[:1]"
   ]
  },
  {
   "cell_type": "markdown",
   "id": "1aced49d-dce9-415d-bf4c-72aeda3a1fb5",
   "metadata": {},
   "source": [
    "## 스티브잡스 스탠포드대 졸업 축사문에 대한 단어 토큰화"
   ]
  },
  {
   "cell_type": "code",
   "execution_count": 24,
   "id": "c77c8edb-b404-4342-af1d-8adc38c2758b",
   "metadata": {},
   "outputs": [],
   "source": [
    "url = 'https://raw.githubusercontent.com/siestageek/datasets/master/txt/stevejobs_en.txt'\n",
    "\n",
    "res = requests.get(url)\n",
    "docs = res.text"
   ]
  },
  {
   "cell_type": "code",
   "execution_count": 25,
   "id": "982e4718-1262-4ccd-b648-44944853b555",
   "metadata": {},
   "outputs": [
    {
     "data": {
      "text/plain": [
       "['I am honored to be with you today at your commencement from one of the finest universities in the world.',\n",
       " 'I never graduated from college.',\n",
       " 'Truth be told, this is the closest I’ve ever gotten to a college graduation.',\n",
       " 'Today I want to tell you three stories from my life.',\n",
       " 'That’s it.']"
      ]
     },
     "execution_count": 25,
     "metadata": {},
     "output_type": "execute_result"
    }
   ],
   "source": [
    "sents = sent_tokenize(docs)\n",
    "sents[:5]"
   ]
  },
  {
   "cell_type": "code",
   "execution_count": 26,
   "id": "3e35b7a3-0e3b-4138-a1d5-01714cdf5d34",
   "metadata": {},
   "outputs": [
    {
     "data": {
      "text/plain": [
       "[['I',\n",
       "  'am',\n",
       "  'honored',\n",
       "  'to',\n",
       "  'be',\n",
       "  'with',\n",
       "  'you',\n",
       "  'today',\n",
       "  'at',\n",
       "  'your',\n",
       "  'commencement',\n",
       "  'from',\n",
       "  'one',\n",
       "  'of',\n",
       "  'the',\n",
       "  'finest',\n",
       "  'universities',\n",
       "  'in',\n",
       "  'the',\n",
       "  'world']]"
      ]
     },
     "execution_count": 26,
     "metadata": {},
     "output_type": "execute_result"
    }
   ],
   "source": [
    "words = []\n",
    "for s in sents:\n",
    "    s = re.sub('[^a-zA-Z]',' ', s).strip()\n",
    "    words.append(word_tokenize(s))\n",
    "words[:1]    "
   ]
  },
  {
   "cell_type": "code",
   "execution_count": 27,
   "id": "03cb82bb-6aaf-4599-b923-9c780ad15fd8",
   "metadata": {},
   "outputs": [
    {
     "data": {
      "text/plain": [
       "[['honored',\n",
       "  'today',\n",
       "  'commencement',\n",
       "  'one',\n",
       "  'finest',\n",
       "  'universities',\n",
       "  'world']]"
      ]
     },
     "execution_count": 27,
     "metadata": {},
     "output_type": "execute_result"
    }
   ],
   "source": [
    "tokens2 = []\n",
    "\n",
    "for wds in words:\n",
    "    filter_words = []\n",
    "    for w in wds:\n",
    "        w = w.lower()\n",
    "        if w not in stopwords:\n",
    "            filter_words.append(w)\n",
    "    tokens2.append(filter_words)\n",
    "    \n",
    "tokens2[:1]"
   ]
  },
  {
   "cell_type": "markdown",
   "id": "f6ab101d-9029-429d-8723-154c40066eee",
   "metadata": {},
   "source": [
    "## 형태소 분석\n",
    "* 형태소는 언어학에서 일정한 의미가 있는 가장 작은 말의 단위를 의미\n",
    "* 주어진 단어 또는 어절을 구성하는 각 형태소를 분리한 후 \n",
    "* 분리된 형태소의 기본형 및 품사 정보를 추출하는 것을 형태소 분석이라 함\n",
    "* 문장 > 어절 > 단어 > 어근/접두사/접미사 > 품사"
   ]
  },
  {
   "cell_type": "markdown",
   "id": "313e8ba6-2d78-44c2-9a9c-85ecf71982e5",
   "metadata": {
    "tags": []
   },
   "source": [
    "## 어근 추출stemming\n",
    "* 많은 언어들은 문법적 요소에 따라 단어가 다양하게 변함\n",
    "* 영어의 경우 과거/현재/미래, 3인칭 단수여부, 진행형등에 따라 원래 단어가 변화함\n",
    "* 문법적으로 단어의 원형을 찾는 것을 stemming이라 함\n",
    "* NLTK에서 제공하는 stemmer는 Porter, Lancaster, snowball stemmer 등이 있음"
   ]
  },
  {
   "cell_type": "code",
   "execution_count": 28,
   "id": "d08c3b66-1c9a-479e-8dc1-5c6ad7854610",
   "metadata": {},
   "outputs": [
    {
     "data": {
      "text/plain": [
       "['work', 'work', 'work']"
      ]
     },
     "execution_count": 28,
     "metadata": {},
     "output_type": "execute_result"
    }
   ],
   "source": [
    "from nltk.stem import LancasterStemmer\n",
    "\n",
    "stemmer = LancasterStemmer()\n",
    "\n",
    "word = ['working','works','worked']\n",
    "[stemmer.stem(w) for w in word]      # 잘 분석됨"
   ]
  },
  {
   "cell_type": "code",
   "execution_count": 29,
   "id": "96ff06e0-39b3-49d7-9d7c-01a7da96a5f5",
   "metadata": {},
   "outputs": [
    {
     "data": {
      "text/plain": [
       "['amus', 'amus', 'amus']"
      ]
     },
     "execution_count": 29,
     "metadata": {},
     "output_type": "execute_result"
    }
   ],
   "source": [
    "word = ['amusing','amuses','amused'] # 분석 부족\n",
    "[stemmer.stem(w) for w in word]     "
   ]
  },
  {
   "cell_type": "code",
   "execution_count": 30,
   "id": "7dac7c80-7f3b-4c65-afcd-cb4cc9c4d0b7",
   "metadata": {},
   "outputs": [
    {
     "data": {
      "text/plain": [
       "['happy', 'happiest']"
      ]
     },
     "execution_count": 30,
     "metadata": {},
     "output_type": "execute_result"
    }
   ],
   "source": [
    "word = ['happier','happiest']       # 분석 부족\n",
    "[stemmer.stem(w) for w in word]"
   ]
  },
  {
   "cell_type": "code",
   "execution_count": 31,
   "id": "8ced8a95-2eea-4d1b-a89c-7a362610f5f9",
   "metadata": {},
   "outputs": [
    {
     "data": {
      "text/plain": [
       "['fant', 'fanciest']"
      ]
     },
     "execution_count": 31,
     "metadata": {},
     "output_type": "execute_result"
    }
   ],
   "source": [
    "word = ['fancier','fanciest']       # 분석 부족\n",
    "[stemmer.stem(w) for w in word] "
   ]
  },
  {
   "cell_type": "code",
   "execution_count": 32,
   "id": "eca0c150-ad2d-46c7-85b8-ed18c610005c",
   "metadata": {},
   "outputs": [
    {
     "data": {
      "text/plain": [
       "['fli', 'fly', 'flew', 'flown']"
      ]
     },
     "execution_count": 32,
     "metadata": {},
     "output_type": "execute_result"
    }
   ],
   "source": [
    "word = ['flies','flying','flew','flown']  # 분석 부족\n",
    "[stemmer.stem(w) for w in word]"
   ]
  },
  {
   "cell_type": "markdown",
   "id": "af224cf4-1d0b-48fc-bc5e-5d03c777b9da",
   "metadata": {},
   "source": [
    "## 원형 복원lemmatizing\n",
    "* 의미적으로 단어의 원형을 찾는 것을 lemmatizing이라 함\n",
    "* stemming 보다 좀더 정교하게 단어의 원형을 찾음\n",
    "* NLTK에서 제공하는 lemmatizer는 WordNetLemmatizer가 있음"
   ]
  },
  {
   "cell_type": "code",
   "execution_count": 33,
   "id": "78ab27dc-8342-4221-9f0d-f51286668f2e",
   "metadata": {},
   "outputs": [
    {
     "name": "stderr",
     "output_type": "stream",
     "text": [
      "[nltk_data] Downloading package wordnet to /home/centos/nltk_data...\n",
      "[nltk_data]   Package wordnet is already up-to-date!\n"
     ]
    }
   ],
   "source": [
    "nltk.download('wordnet')\n",
    "\n",
    "from nltk.stem import WordNetLemmatizer\n",
    "lemma = WordNetLemmatizer()"
   ]
  },
  {
   "cell_type": "code",
   "execution_count": 34,
   "id": "6f5e415b-f840-4cc1-b2aa-f7c735fc4a39",
   "metadata": {},
   "outputs": [
    {
     "name": "stderr",
     "output_type": "stream",
     "text": [
      "[nltk_data] Downloading package omw-1.4 to /home/centos/nltk_data...\n",
      "[nltk_data]   Package omw-1.4 is already up-to-date!\n"
     ]
    },
    {
     "data": {
      "text/plain": [
       "True"
      ]
     },
     "execution_count": 34,
     "metadata": {},
     "output_type": "execute_result"
    }
   ],
   "source": [
    "nltk.download('omw-1.4')"
   ]
  },
  {
   "cell_type": "code",
   "execution_count": 35,
   "id": "61390629-7ffa-4513-a871-38c0ff92feb0",
   "metadata": {},
   "outputs": [
    {
     "data": {
      "text/plain": [
       "['work', 'work', 'work']"
      ]
     },
     "execution_count": 35,
     "metadata": {},
     "output_type": "execute_result"
    }
   ],
   "source": [
    "# 정확한 원형추출을 위해 단어의 품사를 지정해야 됨\n",
    "word = ['working','works','worked']\n",
    "[lemma.lemmatize(w, 'v') for w in word]"
   ]
  },
  {
   "cell_type": "code",
   "execution_count": 36,
   "id": "cddef141-b5b9-47af-888b-904db691b6b1",
   "metadata": {},
   "outputs": [
    {
     "data": {
      "text/plain": [
       "['amuse', 'amuse', 'amuse']"
      ]
     },
     "execution_count": 36,
     "metadata": {},
     "output_type": "execute_result"
    }
   ],
   "source": [
    "word = ['amusing','amuses','amused']\n",
    "[lemma.lemmatize(w, 'v') for w in word]     "
   ]
  },
  {
   "cell_type": "code",
   "execution_count": 37,
   "id": "c9796605-83b2-4e97-bd1f-d3ac994e8236",
   "metadata": {},
   "outputs": [
    {
     "data": {
      "text/plain": [
       "['happy', 'happy']"
      ]
     },
     "execution_count": 37,
     "metadata": {},
     "output_type": "execute_result"
    }
   ],
   "source": [
    "word = ['happier','happiest']\n",
    "[lemma.lemmatize(w, 'a') for w in word]"
   ]
  },
  {
   "cell_type": "code",
   "execution_count": 38,
   "id": "8da5fd11-8cea-4427-83b6-d1ce7487ad5d",
   "metadata": {},
   "outputs": [
    {
     "data": {
      "text/plain": [
       "['fancy', 'fancy']"
      ]
     },
     "execution_count": 38,
     "metadata": {},
     "output_type": "execute_result"
    }
   ],
   "source": [
    "word = ['fancier','fanciest']\n",
    "[lemma.lemmatize(w, 'a') for w in word] "
   ]
  },
  {
   "cell_type": "code",
   "execution_count": 39,
   "id": "7e763b1a-58ed-4477-9983-b84e35157e10",
   "metadata": {},
   "outputs": [
    {
     "data": {
      "text/plain": [
       "['fly', 'fly', 'fly', 'fly']"
      ]
     },
     "execution_count": 39,
     "metadata": {},
     "output_type": "execute_result"
    }
   ],
   "source": [
    "word = ['flies','flying','flew','flown']\n",
    "[lemma.lemmatize(w, 'v') for w in word]"
   ]
  },
  {
   "cell_type": "markdown",
   "id": "819f5e42-d77a-4b92-9a99-8856ea1ded79",
   "metadata": {
    "tags": []
   },
   "source": [
    "## 품사 태깅POS tagging\n",
    "* 단어를 문법적 기능이나 형태, 의미에 따라 구분한 것\n",
    "* NLTK에서는 Penn Treebank Tagset을 이용해서 품사태깅을 함\n",
    "     + NNP고유명사, VB동사, VBP현재진행형 동사, TO전치사, NN명사, DT관형사, ADJ형용사"
   ]
  },
  {
   "cell_type": "code",
   "execution_count": 40,
   "id": "1a767fc0-d0ce-40d5-876d-af175e579997",
   "metadata": {},
   "outputs": [
    {
     "name": "stderr",
     "output_type": "stream",
     "text": [
      "[nltk_data] Downloading package averaged_perceptron_tagger to\n",
      "[nltk_data]     /home/centos/nltk_data...\n",
      "[nltk_data]   Package averaged_perceptron_tagger is already up-to-\n",
      "[nltk_data]       date!\n"
     ]
    }
   ],
   "source": [
    "nltk.download('averaged_perceptron_tagger')\n",
    "\n",
    "from nltk.tag import pos_tag"
   ]
  },
  {
   "cell_type": "code",
   "execution_count": 41,
   "id": "7cc14ac1-22f5-408d-986a-d65d0b428118",
   "metadata": {},
   "outputs": [
    {
     "name": "stdout",
     "output_type": "stream",
     "text": [
      "['You', 'feel', 'it', 'when', 'you', 'go', 'to', 'work', 'or', 'go', 'to', 'church', 'or', 'pay', 'your', 'taxes']\n",
      "['feel', 'go', 'work', 'go', 'church', 'pay', 'taxes']\n"
     ]
    }
   ],
   "source": [
    "# 품사태깅 : pos_tag\n",
    "text = 'You feel it when you go to work, or go to church or pay your taxes.'\n",
    "\n",
    "text = re.sub('[^a-zA-Z]',' ',text)  # 특수기호,숫자 제거\n",
    "words = word_tokenize(text)\n",
    "\n",
    "tokens = []\n",
    "for w in words:                      # 불용어 제거\n",
    "    w = w.lower()\n",
    "    if w not in stopwords:    \n",
    "        tokens.append(w)\n",
    "\n",
    "print(words)\n",
    "print(tokens)"
   ]
  },
  {
   "cell_type": "code",
   "execution_count": 42,
   "id": "2c60c1a9-07ed-4c49-b7ac-9d2638891067",
   "metadata": {},
   "outputs": [
    {
     "data": {
      "text/plain": [
       "[('feel', 'NN'),\n",
       " ('go', 'VB'),\n",
       " ('work', 'NN'),\n",
       " ('go', 'VBP'),\n",
       " ('church', 'JJ'),\n",
       " ('pay', 'NN'),\n",
       " ('taxes', 'NNS')]"
      ]
     },
     "execution_count": 42,
     "metadata": {},
     "output_type": "execute_result"
    }
   ],
   "source": [
    "tags = pos_tag(tokens)   # 품사태깅\n",
    "tags"
   ]
  },
  {
   "cell_type": "markdown",
   "id": "cd4199d7-42bc-493c-879b-d7ea5bfc81f6",
   "metadata": {},
   "source": [
    "## 문서에서 명사만 추출하기"
   ]
  },
  {
   "cell_type": "code",
   "execution_count": 43,
   "id": "de8d1260-43bb-45b3-87e5-436e00c037a9",
   "metadata": {},
   "outputs": [
    {
     "data": {
      "text/plain": [
       "['feel', 'work', 'pay']"
      ]
     },
     "execution_count": 43,
     "metadata": {},
     "output_type": "execute_result"
    }
   ],
   "source": [
    "# tags = ('taxes', 'NNS')\n",
    "NN = [w[0] for w in tags if w[1] == 'NN']\n",
    "NN"
   ]
  },
  {
   "cell_type": "code",
   "execution_count": 44,
   "id": "0b06875c-36b5-47c0-b474-ccfeddcb5d26",
   "metadata": {},
   "outputs": [
    {
     "data": {
      "text/plain": [
       "[['matrix', 'room'], ['television'], ['feel', 'work', 'church', 'pay']]"
      ]
     },
     "execution_count": 44,
     "metadata": {},
     "output_type": "execute_result"
    }
   ],
   "source": [
    "# 매트릭스 영화 대사 중 명사만 추출하기\n",
    "nouns0 = []\n",
    "for t in tokens0:\n",
    "    tags = pos_tag(t)\n",
    "    NN = [w[0] for w in tags if w[1] == 'NN']\n",
    "    nouns0.append(NN)\n",
    "nouns0"
   ]
  },
  {
   "cell_type": "code",
   "execution_count": 45,
   "id": "e15ebf61-d3f6-492f-95dc-f4111774b266",
   "metadata": {},
   "outputs": [
    {
     "data": {
      "text/plain": [
       "[['speaker', 'chung', 'privilege', 'speak', 'chamber'],\n",
       " ['time', 'country', 'melania', 'welcome'],\n",
       " ['night', 'president', 'mrs'],\n",
       " ['moon', 'hospitality', 'reception', 'blue', 'house'],\n",
       " ['cooperation',\n",
       "  'trade',\n",
       "  'relationship',\n",
       "  'principle',\n",
       "  'fairness',\n",
       "  'reciprocity']]"
      ]
     },
     "execution_count": 45,
     "metadata": {},
     "output_type": "execute_result"
    }
   ],
   "source": [
    "# 트럼프 연설문에서 명사만 추출하기\n",
    "nouns1 = []\n",
    "for t in tokens1:\n",
    "    tags = pos_tag(t)\n",
    "    NN = [w[0] for w in tags if w[1] == 'NN']\n",
    "    nouns1.append(NN)\n",
    "nouns1[:5]"
   ]
  },
  {
   "cell_type": "code",
   "execution_count": 46,
   "id": "1207fb36-93e2-4acd-8fa5-76259e477f9a",
   "metadata": {},
   "outputs": [
    {
     "data": {
      "text/plain": [
       "[['today', 'commencement', 'finest', 'world'],\n",
       " ['college'],\n",
       " ['truth', 'college', 'graduation'],\n",
       " ['today', 'tell', 'life'],\n",
       " []]"
      ]
     },
     "execution_count": 46,
     "metadata": {},
     "output_type": "execute_result"
    }
   ],
   "source": [
    "# 스티브잡스 스탠포드대 졸업 축사문에서 명사만 추출하기\n",
    "nouns2 = []\n",
    "for t in tokens2:\n",
    "    tags = pos_tag(t)\n",
    "    NN = [w[0] for w in tags if w[1] == 'NN']\n",
    "    nouns2.append(NN)\n",
    "nouns2[:5]"
   ]
  },
  {
   "cell_type": "markdown",
   "id": "f73d8e72-4607-4351-b995-d781ede23c1e",
   "metadata": {},
   "source": [
    "## 단어 빈도\n",
    "* 텍스트 데이터의 대표단어를 알아볼수 있는 방법\n",
    "* 단어별 빈도를 조사해서 알아낸 상위 n개 단어들을 대표단어로 지정"
   ]
  },
  {
   "cell_type": "code",
   "execution_count": 47,
   "id": "551a8f16-6656-4877-b20c-e5036feec140",
   "metadata": {},
   "outputs": [],
   "source": [
    "from nltk import FreqDist"
   ]
  },
  {
   "cell_type": "code",
   "execution_count": 48,
   "id": "db06263b-a0eb-4279-be4e-7f185d280479",
   "metadata": {},
   "outputs": [
    {
     "data": {
      "text/plain": [
       "FreqDist({'matrix': 1, 'room': 1, 'television': 1, 'feel': 1, 'work': 1, 'church': 1, 'pay': 1})"
      ]
     },
     "execution_count": 48,
     "metadata": {},
     "output_type": "execute_result"
    }
   ],
   "source": [
    "# 각 단어별 빈도 출력\n",
    "NN0 = []\n",
    "for ns in nouns0:\n",
    "    for n in ns:\n",
    "        NN0.append(n)\n",
    "\n",
    "fdwords = FreqDist(NN0)\n",
    "fdwords"
   ]
  },
  {
   "cell_type": "code",
   "execution_count": 49,
   "id": "166c05c8-cdd7-4cec-84df-7b0e6a4bddf1",
   "metadata": {},
   "outputs": [
    {
     "name": "stdout",
     "output_type": "stream",
     "text": [
      "7\n",
      "1\n",
      "[('matrix', 1), ('room', 1), ('television', 1), ('feel', 1), ('work', 1), ('church', 1), ('pay', 1)]\n",
      "[('matrix', 1), ('room', 1), ('television', 1)]\n"
     ]
    }
   ],
   "source": [
    "# FreqDist 좀 더 자세히 알아보기\n",
    "print(fdwords.N())       # 전체 단어수\n",
    "print(fdwords['room'])   # 특정 단어 빈도수\n",
    "print(fdwords.most_common())   # 빈도가 높은 단어순으로 출력\n",
    "print(fdwords.most_common(3))  # 빈도가 높은순으로 n개의 단어 출력"
   ]
  },
  {
   "cell_type": "code",
   "execution_count": 50,
   "id": "a2eba68d-d9a3-4e9f-ba98-fed6d9fc2231",
   "metadata": {},
   "outputs": [
    {
     "data": {
      "text/plain": [
       "[('regime', 15),\n",
       " ('world', 13),\n",
       " ('korea', 11),\n",
       " ('today', 10),\n",
       " ('nation', 9),\n",
       " ('time', 8),\n",
       " ('country', 8),\n",
       " ('war', 8),\n",
       " ('peninsula', 8),\n",
       " ('year', 7)]"
      ]
     },
     "execution_count": 50,
     "metadata": {},
     "output_type": "execute_result"
    }
   ],
   "source": [
    "# 트럼프 연설문에서 가장 많이 언급된 10개 단어\n",
    "NN1 = []\n",
    "for ns in nouns1:\n",
    "    for n in ns:\n",
    "        NN1.append(n)\n",
    "\n",
    "fdwords = FreqDist(NN1)\n",
    "fdwords.most_common(10)"
   ]
  },
  {
   "cell_type": "code",
   "execution_count": 51,
   "id": "0039c992-5db8-48d1-9b8d-bc8487423398",
   "metadata": {},
   "outputs": [
    {
     "data": {
      "text/plain": [
       "[('life', 17),\n",
       " ('college', 14),\n",
       " ('apple', 9),\n",
       " ('everything', 6),\n",
       " ('death', 6),\n",
       " ('way', 5),\n",
       " ('something', 5),\n",
       " ('company', 5),\n",
       " ('today', 4),\n",
       " ('course', 4)]"
      ]
     },
     "execution_count": 51,
     "metadata": {},
     "output_type": "execute_result"
    }
   ],
   "source": [
    "# 스티브잡스 스탠포드대 졸업 축사문에서 가장 많이 언급된 10개 단어\n",
    "NN2 = []\n",
    "for ns in nouns2:\n",
    "    for n in ns:\n",
    "        NN2.append(n)\n",
    "\n",
    "fdwords = FreqDist(NN2)\n",
    "fdwords.most_common(10)"
   ]
  },
  {
   "cell_type": "markdown",
   "id": "e039d456-a180-423f-b490-10f4b7398211",
   "metadata": {},
   "source": [
    "## 워드클라우드wordcloud\n",
    "* 문서에 사용된 단어의 중요도나 인기도 등을 고려해서 \n",
    "* 시각적으로 늘어 놓아 표시하는 시각화 유형을 의미\n",
    "* 파이썬용 워드클라우드 패키지 \n",
    "    + github.com/amueller/word_cloud\n",
    "    + pip install wordcloud"
   ]
  },
  {
   "cell_type": "code",
   "execution_count": 54,
   "id": "77449a0a-dba2-4cfb-a71e-cc28aa05734d",
   "metadata": {
    "collapsed": true,
    "jupyter": {
     "outputs_hidden": true
    },
    "tags": []
   },
   "outputs": [
    {
     "name": "stdout",
     "output_type": "stream",
     "text": [
      "Collecting wordcloud\n",
      "  Downloading wordcloud-1.8.2.2-cp38-cp38-manylinux_2_17_x86_64.manylinux2014_x86_64.whl (458 kB)\n",
      "\u001b[2K     \u001b[90m━━━━━━━━━━━━━━━━━━━━━━━━━━━━━━━━━━━━━━\u001b[0m \u001b[32m459.0/459.0 kB\u001b[0m \u001b[31m24.7 MB/s\u001b[0m eta \u001b[36m0:00:00\u001b[0m\n",
      "\u001b[?25hRequirement already satisfied: numpy>=1.6.1 in /opt/miniconda3/lib/python3.8/site-packages (from wordcloud) (1.23.1)\n",
      "Requirement already satisfied: matplotlib in /opt/miniconda3/lib/python3.8/site-packages (from wordcloud) (3.5.2)\n",
      "Requirement already satisfied: pillow in /opt/miniconda3/lib/python3.8/site-packages (from wordcloud) (9.2.0)\n",
      "Requirement already satisfied: fonttools>=4.22.0 in /opt/miniconda3/lib/python3.8/site-packages (from matplotlib->wordcloud) (4.34.4)\n",
      "Requirement already satisfied: kiwisolver>=1.0.1 in /opt/miniconda3/lib/python3.8/site-packages (from matplotlib->wordcloud) (1.4.4)\n",
      "Requirement already satisfied: python-dateutil>=2.7 in /opt/miniconda3/lib/python3.8/site-packages (from matplotlib->wordcloud) (2.8.2)\n",
      "Requirement already satisfied: packaging>=20.0 in /opt/miniconda3/lib/python3.8/site-packages (from matplotlib->wordcloud) (21.3)\n",
      "Requirement already satisfied: cycler>=0.10 in /opt/miniconda3/lib/python3.8/site-packages (from matplotlib->wordcloud) (0.11.0)\n",
      "Requirement already satisfied: pyparsing>=2.2.1 in /opt/miniconda3/lib/python3.8/site-packages (from matplotlib->wordcloud) (3.0.9)\n",
      "Requirement already satisfied: six>=1.5 in /opt/miniconda3/lib/python3.8/site-packages (from python-dateutil>=2.7->matplotlib->wordcloud) (1.16.0)\n",
      "Installing collected packages: wordcloud\n",
      "Successfully installed wordcloud-1.8.2.2\n",
      "Note: you may need to restart the kernel to use updated packages.\n"
     ]
    }
   ],
   "source": [
    "pip install wordcloud"
   ]
  },
  {
   "cell_type": "code",
   "execution_count": 55,
   "id": "271e0f99-b745-4195-8eb1-77c5afe526a7",
   "metadata": {},
   "outputs": [],
   "source": [
    "from wordcloud import WordCloud\n",
    "import matplotlib.pyplot as plt\n",
    "from collections import Counter"
   ]
  },
  {
   "cell_type": "code",
   "execution_count": 56,
   "id": "6ab7ce31-63af-442f-9eb2-ef20bbae5968",
   "metadata": {},
   "outputs": [
    {
     "data": {
      "text/plain": [
       "{'.': 3,\n",
       " 'your': 3,\n",
       " 'or': 3,\n",
       " ',': 2,\n",
       " 'You': 2,\n",
       " 'it': 2,\n",
       " 'go': 2,\n",
       " 'to': 2,\n",
       " 'The': 1,\n",
       " 'Matrix': 1,\n",
       " 'is': 1,\n",
       " 'everywhere': 1,\n",
       " 'its': 1,\n",
       " 'all': 1,\n",
       " 'around': 1,\n",
       " 'us': 1,\n",
       " 'here': 1,\n",
       " 'even': 1,\n",
       " 'in': 1,\n",
       " 'this': 1,\n",
       " 'room': 1,\n",
       " 'can': 1,\n",
       " 'see': 1,\n",
       " 'out': 1,\n",
       " 'window': 1,\n",
       " 'on': 1,\n",
       " 'television': 1,\n",
       " 'feel': 1,\n",
       " 'when': 1,\n",
       " 'you': 1,\n",
       " 'work': 1,\n",
       " 'church': 1,\n",
       " 'pay': 1,\n",
       " 'taxes': 1}"
      ]
     },
     "execution_count": 56,
     "metadata": {},
     "output_type": "execute_result"
    }
   ],
   "source": [
    "# 워드클라우드에 사용할 텍스트 준비\n",
    "words = word_tokenize(text_sample)\n",
    "\n",
    "wc = Counter(words)   # 빈도순으로 단어 정리\n",
    "wc = dict(wc.most_common())\n",
    "wc"
   ]
  },
  {
   "cell_type": "code",
   "execution_count": 57,
   "id": "3f91f548-bd77-4683-9133-3f38d52d95d0",
   "metadata": {},
   "outputs": [
    {
     "data": {
      "image/png": "[encoded data removed]",
      "text/plain": [
       "<Figure size 432x288 with 1 Axes>"
      ]
     },
     "metadata": {
      "needs_background": "light"
     },
     "output_type": "display_data"
    }
   ],
   "source": [
    "# 워드클라우드로 시각화\n",
    "# generate_from_frequencies : 빈도데이터가 있는 dict를 참고해서 워드클라우드를 생성함\n",
    "wcimg = WordCloud(background_color='white',\n",
    "    width=640, height=480).generate_from_frequencies(wc)\n",
    "plt.imshow(wcimg, interpolation='bilinear')        \n",
    "plt.axis('off')\n",
    "plt.show()"
   ]
  },
  {
   "cell_type": "code",
   "execution_count": 58,
   "id": "9eca3a46-f949-4f38-8e74-30555d980061",
   "metadata": {},
   "outputs": [
    {
     "data": {
      "image/png": "[encoded data removed]",
      "text/plain": [
       "<Figure size 432x288 with 1 Axes>"
      ]
     },
     "metadata": {
      "needs_background": "light"
     },
     "output_type": "display_data"
    }
   ],
   "source": [
    "# 트럼프 연설문을 워드클라우드로 시각화\n",
    "fdwords = FreqDist(NN1)\n",
    "wc = dict(fdwords.most_common())\n",
    "\n",
    "wcimg = WordCloud(background_color='white',\n",
    "    width=640, height=480).generate_from_frequencies(wc)\n",
    "plt.imshow(wcimg, interpolation='bilinear')        \n",
    "plt.axis('off')\n",
    "plt.show()"
   ]
  },
  {
   "cell_type": "markdown",
   "id": "0ef29c0f-c1cb-4484-85c9-e785d15889cb",
   "metadata": {},
   "source": [
    "# 마스크를 이용한 워드클라우드"
   ]
  },
  {
   "cell_type": "code",
   "execution_count": 59,
   "id": "12f190c9-2a24-42fa-beaf-a0da571ca735",
   "metadata": {},
   "outputs": [],
   "source": [
    "# pip install image\n",
    "# pip install pillow"
   ]
  },
  {
   "cell_type": "code",
   "execution_count": 62,
   "id": "a98e79af-06ec-45dc-8c90-e5ca3517c327",
   "metadata": {
    "collapsed": true,
    "jupyter": {
     "outputs_hidden": true
    },
    "tags": []
   },
   "outputs": [
    {
     "name": "stdout",
     "output_type": "stream",
     "text": [
      "Collecting image\n",
      "  Downloading image-1.5.33.tar.gz (15 kB)\n",
      "  Preparing metadata (setup.py) ... \u001b[?25ldone\n",
      "\u001b[?25hRequirement already satisfied: pillow in /opt/miniconda3/lib/python3.8/site-packages (from image) (9.2.0)\n",
      "Collecting django\n",
      "  Downloading Django-4.1-py3-none-any.whl (8.1 MB)\n",
      "\u001b[2K     \u001b[90m━━━━━━━━━━━━━━━━━━━━━━━━━━━━━━━━━━━━━━━━\u001b[0m \u001b[32m8.1/8.1 MB\u001b[0m \u001b[31m59.9 MB/s\u001b[0m eta \u001b[36m0:00:00\u001b[0m:00:01\u001b[0m0:01\u001b[0m\n",
      "\u001b[?25hRequirement already satisfied: six in /opt/miniconda3/lib/python3.8/site-packages (from image) (1.16.0)\n",
      "Collecting asgiref<4,>=3.5.2\n",
      "  Downloading asgiref-3.5.2-py3-none-any.whl (22 kB)\n",
      "Collecting backports.zoneinfo\n",
      "  Downloading backports.zoneinfo-0.2.1-cp38-cp38-manylinux1_x86_64.whl (74 kB)\n",
      "\u001b[2K     \u001b[90m━━━━━━━━━━━━━━━━━━━━━━━━━━━━━━━━━━━━━━━━\u001b[0m \u001b[32m74.0/74.0 kB\u001b[0m \u001b[31m17.6 MB/s\u001b[0m eta \u001b[36m0:00:00\u001b[0m\n",
      "\u001b[?25hCollecting sqlparse>=0.2.2\n",
      "  Downloading sqlparse-0.4.2-py3-none-any.whl (42 kB)\n",
      "\u001b[2K     \u001b[90m━━━━━━━━━━━━━━━━━━━━━━━━━━━━━━━━━━━━━━━━\u001b[0m \u001b[32m42.3/42.3 kB\u001b[0m \u001b[31m11.6 MB/s\u001b[0m eta \u001b[36m0:00:00\u001b[0m\n",
      "\u001b[?25hBuilding wheels for collected packages: image\n",
      "  Building wheel for image (setup.py) ... \u001b[?25ldone\n",
      "\u001b[?25h  Created wheel for image: filename=image-1.5.33-py2.py3-none-any.whl size=19496 sha256=eebe94fbf3611bbea1521b1d0b678f81b3a7c15838a4ef6bd8d2a42a15e0c128\n",
      "  Stored in directory: /home/centos/.cache/pip/wheels/ac/30/5c/a8b33888bea3507eda7c924a143d34b2390d2ca5b145b327b5\n",
      "Successfully built image\n",
      "Installing collected packages: sqlparse, backports.zoneinfo, asgiref, django, image\n",
      "Successfully installed asgiref-3.5.2 backports.zoneinfo-0.2.1 django-4.1 image-1.5.33 sqlparse-0.4.2\n",
      "Note: you may need to restart the kernel to use updated packages.\n"
     ]
    }
   ],
   "source": [
    "pip install image"
   ]
  },
  {
   "cell_type": "code",
   "execution_count": 63,
   "id": "e195d13b-e37b-4a7c-8368-4f798d9e7e8c",
   "metadata": {},
   "outputs": [
    {
     "name": "stdout",
     "output_type": "stream",
     "text": [
      "Requirement already satisfied: pillow in /opt/miniconda3/lib/python3.8/site-packages (9.2.0)\n",
      "Note: you may need to restart the kernel to use updated packages.\n"
     ]
    }
   ],
   "source": [
    "pip install pillow"
   ]
  },
  {
   "cell_type": "code",
   "execution_count": 66,
   "id": "713fac63-c80d-443c-bd1e-fe26445db302",
   "metadata": {},
   "outputs": [],
   "source": [
    "import numpy as np\n",
    "from PIL import Image"
   ]
  },
  {
   "cell_type": "code",
   "execution_count": 67,
   "id": "9c899a4e-85d3-42d2-ada3-102506b50074",
   "metadata": {},
   "outputs": [
    {
     "data": {
      "image/png": "[encoded data removed]",
      "text/plain": [
       "<Figure size 432x288 with 1 Axes>"
      ]
     },
     "metadata": {
      "needs_background": "light"
     },
     "output_type": "display_data"
    }
   ],
   "source": [
    "mask_path = '../img/h.jpg'       # 투명성 없는 파일\n",
    "mask = np.array(Image.open(mask_path))   # 배경 이미지 파일을 numpy 배열로 변환\n",
    "\n",
    "wcimg = WordCloud(background_color='white',\n",
    "        mask=mask, stopwords=stopwords).generate_from_text(doc)\n",
    "plt.imshow(wcimg, interpolation='bilinear')\n",
    "plt.axis('off')\n",
    "plt.show()      "
   ]
  },
  {
   "cell_type": "code",
   "execution_count": null,
   "id": "993b987d-f441-47d2-bb82-86a840924f55",
   "metadata": {},
   "outputs": [],
   "source": []
  }
 ],
 "metadata": {
  "kernelspec": {
   "display_name": "Python 3 (ipykernel)",
   "language": "python",
   "name": "python3"
  },
  "language_info": {
   "codemirror_mode": {
    "name": "ipython",
    "version": 3
   },
   "file_extension": ".py",
   "mimetype": "text/x-python",
   "name": "python",
   "nbconvert_exporter": "python",
   "pygments_lexer": "ipython3",
   "version": "3.8.13"
  }
 },
 "nbformat": 4,
 "nbformat_minor": 5
}
