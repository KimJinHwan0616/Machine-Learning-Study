{
 "cells": [
  {
   "cell_type": "markdown",
   "id": "d5bf3487-1aaa-46ea-9132-d98e302a1e24",
   "metadata": {},
   "source": [
    "# 타이타닉"
   ]
  },
  {
   "cell_type": "code",
   "execution_count": 1,
   "id": "4b05490f-4362-4dc9-8a06-27e1c099bfb5",
   "metadata": {},
   "outputs": [],
   "source": [
    "import pandas as pd\n",
    "import numpy as np\n",
    "import matplotlib.pyplot as plt"
   ]
  },
  {
   "cell_type": "code",
   "execution_count": 2,
   "id": "3bb7c24e-b01d-423e-9538-3ec952fbf4b0",
   "metadata": {},
   "outputs": [],
   "source": [
    "from sklearn.preprocessing import StandardScaler, MinMaxScaler\n",
    "from sklearn.preprocessing import LabelEncoder, OneHotEncoder\n",
    "from sklearn.model_selection import train_test_split, cross_val_score\n",
    "\n",
    "from sklearn.linear_model import LogisticRegression\n",
    "from sklearn.svm import SVC\n",
    "from sklearn.tree import DecisionTreeClassifier\n",
    "from sklearn.neighbors import KNeighborsClassifier\n",
    "\n",
    "from sklearn.ensemble import RandomForestClassifier, VotingClassifier, BaggingClassifier\n",
    "from sklearn.ensemble import AdaBoostClassifier, GradientBoostingClassifier\n",
    "from xgboost import XGBClassifier\n",
    "from lightgbm import LGBMClassifier\n",
    "\n",
    "from sklearn.metrics import confusion_matrix\n",
    "from sklearn.metrics import accuracy_score, precision_score, recall_score\n",
    "from sklearn.metrics import roc_auc_score"
   ]
  },
  {
   "cell_type": "code",
   "execution_count": 3,
   "id": "6e8ca1ef-8f32-4ece-9c97-c908cff11c05",
   "metadata": {},
   "outputs": [],
   "source": [
    "# 경고 메세지 감춤\n",
    "import warnings\n",
    "warnings.filterwarnings('ignore')"
   ]
  },
  {
   "cell_type": "code",
   "execution_count": 4,
   "id": "1f1e6177-34f0-4339-927e-4734399d47fa",
   "metadata": {
    "tags": []
   },
   "outputs": [
    {
     "data": {
      "text/html": [
       "<div>\n",
       "<style scoped>\n",
       "    .dataframe tbody tr th:only-of-type {\n",
       "        vertical-align: middle;\n",
       "    }\n",
       "\n",
       "    .dataframe tbody tr th {\n",
       "        vertical-align: top;\n",
       "    }\n",
       "\n",
       "    .dataframe thead th {\n",
       "        text-align: right;\n",
       "    }\n",
       "</style>\n",
       "<table border=\"1\" class=\"dataframe\">\n",
       "  <thead>\n",
       "    <tr style=\"text-align: right;\">\n",
       "      <th></th>\n",
       "      <th>pclass</th>\n",
       "      <th>survived</th>\n",
       "      <th>name</th>\n",
       "      <th>sex</th>\n",
       "      <th>age</th>\n",
       "      <th>sibsp</th>\n",
       "      <th>parch</th>\n",
       "      <th>ticket</th>\n",
       "      <th>fare</th>\n",
       "      <th>cabin</th>\n",
       "      <th>embarked</th>\n",
       "    </tr>\n",
       "  </thead>\n",
       "  <tbody>\n",
       "    <tr>\n",
       "      <th>0</th>\n",
       "      <td>1.0</td>\n",
       "      <td>1.0</td>\n",
       "      <td>Allen, Miss. Elisabeth Walton</td>\n",
       "      <td>female</td>\n",
       "      <td>29.0000</td>\n",
       "      <td>0.0</td>\n",
       "      <td>0.0</td>\n",
       "      <td>24160</td>\n",
       "      <td>211.3375</td>\n",
       "      <td>B5</td>\n",
       "      <td>S</td>\n",
       "    </tr>\n",
       "    <tr>\n",
       "      <th>1</th>\n",
       "      <td>1.0</td>\n",
       "      <td>1.0</td>\n",
       "      <td>Allison, Master. Hudson Trevor</td>\n",
       "      <td>male</td>\n",
       "      <td>0.9167</td>\n",
       "      <td>1.0</td>\n",
       "      <td>2.0</td>\n",
       "      <td>113781</td>\n",
       "      <td>151.5500</td>\n",
       "      <td>C22 C26</td>\n",
       "      <td>S</td>\n",
       "    </tr>\n",
       "    <tr>\n",
       "      <th>2</th>\n",
       "      <td>1.0</td>\n",
       "      <td>0.0</td>\n",
       "      <td>Allison, Miss. Helen Loraine</td>\n",
       "      <td>female</td>\n",
       "      <td>2.0000</td>\n",
       "      <td>1.0</td>\n",
       "      <td>2.0</td>\n",
       "      <td>113781</td>\n",
       "      <td>151.5500</td>\n",
       "      <td>C22 C26</td>\n",
       "      <td>S</td>\n",
       "    </tr>\n",
       "    <tr>\n",
       "      <th>3</th>\n",
       "      <td>1.0</td>\n",
       "      <td>0.0</td>\n",
       "      <td>Allison, Mr. Hudson Joshua Creighton</td>\n",
       "      <td>male</td>\n",
       "      <td>30.0000</td>\n",
       "      <td>1.0</td>\n",
       "      <td>2.0</td>\n",
       "      <td>113781</td>\n",
       "      <td>151.5500</td>\n",
       "      <td>C22 C26</td>\n",
       "      <td>S</td>\n",
       "    </tr>\n",
       "    <tr>\n",
       "      <th>4</th>\n",
       "      <td>1.0</td>\n",
       "      <td>0.0</td>\n",
       "      <td>Allison, Mrs. Hudson J C (Bessie Waldo Daniels)</td>\n",
       "      <td>female</td>\n",
       "      <td>25.0000</td>\n",
       "      <td>1.0</td>\n",
       "      <td>2.0</td>\n",
       "      <td>113781</td>\n",
       "      <td>151.5500</td>\n",
       "      <td>C22 C26</td>\n",
       "      <td>S</td>\n",
       "    </tr>\n",
       "  </tbody>\n",
       "</table>\n",
       "</div>"
      ],
      "text/plain": [
       "   pclass  survived                                             name     sex  \\\n",
       "0     1.0       1.0                    Allen, Miss. Elisabeth Walton  female   \n",
       "1     1.0       1.0                   Allison, Master. Hudson Trevor    male   \n",
       "2     1.0       0.0                     Allison, Miss. Helen Loraine  female   \n",
       "3     1.0       0.0             Allison, Mr. Hudson Joshua Creighton    male   \n",
       "4     1.0       0.0  Allison, Mrs. Hudson J C (Bessie Waldo Daniels)  female   \n",
       "\n",
       "       age  sibsp  parch  ticket      fare    cabin embarked  \n",
       "0  29.0000    0.0    0.0   24160  211.3375       B5        S  \n",
       "1   0.9167    1.0    2.0  113781  151.5500  C22 C26        S  \n",
       "2   2.0000    1.0    2.0  113781  151.5500  C22 C26        S  \n",
       "3  30.0000    1.0    2.0  113781  151.5500  C22 C26        S  \n",
       "4  25.0000    1.0    2.0  113781  151.5500  C22 C26        S  "
      ]
     },
     "execution_count": 4,
     "metadata": {},
     "output_type": "execute_result"
    }
   ],
   "source": [
    "titanic = pd.read_csv('../data/titanic.csv')\n",
    "titanic.head()"
   ]
  },
  {
   "cell_type": "code",
   "execution_count": 5,
   "id": "1f6c6d28-1893-4e84-9769-d330afb4a451",
   "metadata": {
    "tags": []
   },
   "outputs": [
    {
     "name": "stdout",
     "output_type": "stream",
     "text": [
      "<class 'pandas.core.frame.DataFrame'>\n",
      "RangeIndex: 1310 entries, 0 to 1309\n",
      "Data columns (total 11 columns):\n",
      " #   Column    Non-Null Count  Dtype  \n",
      "---  ------    --------------  -----  \n",
      " 0   pclass    1309 non-null   float64\n",
      " 1   survived  1309 non-null   float64\n",
      " 2   name      1309 non-null   object \n",
      " 3   sex       1309 non-null   object \n",
      " 4   age       1046 non-null   float64\n",
      " 5   sibsp     1309 non-null   float64\n",
      " 6   parch     1309 non-null   float64\n",
      " 7   ticket    1309 non-null   object \n",
      " 8   fare      1308 non-null   float64\n",
      " 9   cabin     295 non-null    object \n",
      " 10  embarked  1307 non-null   object \n",
      "dtypes: float64(6), object(5)\n",
      "memory usage: 112.7+ KB\n"
     ]
    }
   ],
   "source": [
    "titanic.info()"
   ]
  },
  {
   "cell_type": "code",
   "execution_count": 6,
   "id": "ffc933a2-0d33-4052-a5f2-0cdc17ae2e8b",
   "metadata": {
    "tags": []
   },
   "outputs": [
    {
     "data": {
      "text/plain": [
       "CA. 2343    11\n",
       "1601         8\n",
       "CA 2144      8\n",
       "PC 17608     7\n",
       "347077       7\n",
       "            ..\n",
       "373450       1\n",
       "2223         1\n",
       "350046       1\n",
       "3101281      1\n",
       "315082       1\n",
       "Name: ticket, Length: 929, dtype: int64"
      ]
     },
     "execution_count": 6,
     "metadata": {},
     "output_type": "execute_result"
    }
   ],
   "source": [
    "titanic.ticket.value_counts()"
   ]
  },
  {
   "cell_type": "markdown",
   "id": "e7b83302-23b7-4d49-9481-5f4ddad83cba",
   "metadata": {},
   "source": [
    "# 데이터 전처리 \n",
    "1. cabin(결측치↑), ticket(범주↑) 삭제\n",
    "2. titles(추출 → 컬럼 생성 → 숫자형)\n",
    "3. 결측치\n",
    "4. sex, embarked -> 숫자형"
   ]
  },
  {
   "cell_type": "code",
   "execution_count": 7,
   "id": "afaf480c-0924-4600-9dff-a406b46c1814",
   "metadata": {},
   "outputs": [],
   "source": [
    "# 1. cabin(결측치↑), ticket(범주↑) 삭제\n",
    "titanic.drop('cabin', axis=1, inplace=True)\n",
    "titanic.drop('ticket', axis=1, inplace=True)"
   ]
  },
  {
   "cell_type": "code",
   "execution_count": 8,
   "id": "ad0f80ee-f590-4e24-a690-a9581fdd4d81",
   "metadata": {
    "tags": []
   },
   "outputs": [],
   "source": [
    "# 2. titles\n",
    "\n",
    "# 추출 → 컬럼 생성\n",
    "fmt = ' ([A-Za-z]+)\\.'\n",
    "titanic['titles'] = titanic.name.str.extract(fmt)\n",
    "titanic.drop('name', axis=1, inplace=True)\n",
    "\n",
    "titanic.titles.value_counts()\n",
    "\n",
    "# 컬럼 생성 → 숫자형\n",
    "encoder = LabelEncoder()\n",
    "\n",
    "titles = titanic.titles\n",
    "encoder.fit(titles)\n",
    "titanic['Titles'] = encoder.transform(titles)"
   ]
  },
  {
   "cell_type": "code",
   "execution_count": 9,
   "id": "cf7ed174-aa59-4851-bb43-94e37985f67c",
   "metadata": {},
   "outputs": [],
   "source": [
    "# age 결측치 대체\n",
    "age_mean = np.mean(titanic.age)\n",
    "titanic.age.fillna(age_mean, inplace=True)\n",
    "\n",
    "# 결측치 삭제\n",
    "titanic.dropna(inplace=True)"
   ]
  },
  {
   "cell_type": "code",
   "execution_count": 10,
   "id": "caf3f9ba-a970-4846-ab4f-e77adeaae282",
   "metadata": {},
   "outputs": [],
   "source": [
    "# 3. sex, embarked -> 숫자형\n",
    "\n",
    "# 성별\n",
    "encoder = LabelEncoder()\n",
    "\n",
    "gender = titanic.sex\n",
    "encoder.fit(gender)\n",
    "titanic['gender'] = encoder.transform(gender)\n",
    "\n",
    "# 승선위치\n",
    "encoder = LabelEncoder()\n",
    "\n",
    "embarked = titanic.embarked\n",
    "encoder.fit(embarked)\n",
    "titanic['Embarked'] = encoder.transform(embarked)"
   ]
  },
  {
   "cell_type": "code",
   "execution_count": 11,
   "id": "85d87c4b-9e10-4c78-b0cf-d41ffca14bb7",
   "metadata": {},
   "outputs": [
    {
     "data": {
      "text/html": [
       "<div>\n",
       "<style scoped>\n",
       "    .dataframe tbody tr th:only-of-type {\n",
       "        vertical-align: middle;\n",
       "    }\n",
       "\n",
       "    .dataframe tbody tr th {\n",
       "        vertical-align: top;\n",
       "    }\n",
       "\n",
       "    .dataframe thead th {\n",
       "        text-align: right;\n",
       "    }\n",
       "</style>\n",
       "<table border=\"1\" class=\"dataframe\">\n",
       "  <thead>\n",
       "    <tr style=\"text-align: right;\">\n",
       "      <th></th>\n",
       "      <th>sex</th>\n",
       "      <th>gender</th>\n",
       "      <th>embarked</th>\n",
       "      <th>Embarked</th>\n",
       "      <th>titles</th>\n",
       "      <th>Titles</th>\n",
       "    </tr>\n",
       "  </thead>\n",
       "  <tbody>\n",
       "    <tr>\n",
       "      <th>0</th>\n",
       "      <td>female</td>\n",
       "      <td>0</td>\n",
       "      <td>S</td>\n",
       "      <td>2</td>\n",
       "      <td>Miss</td>\n",
       "      <td>10</td>\n",
       "    </tr>\n",
       "    <tr>\n",
       "      <th>1</th>\n",
       "      <td>male</td>\n",
       "      <td>1</td>\n",
       "      <td>S</td>\n",
       "      <td>2</td>\n",
       "      <td>Master</td>\n",
       "      <td>9</td>\n",
       "    </tr>\n",
       "    <tr>\n",
       "      <th>2</th>\n",
       "      <td>female</td>\n",
       "      <td>0</td>\n",
       "      <td>S</td>\n",
       "      <td>2</td>\n",
       "      <td>Miss</td>\n",
       "      <td>10</td>\n",
       "    </tr>\n",
       "    <tr>\n",
       "      <th>3</th>\n",
       "      <td>male</td>\n",
       "      <td>1</td>\n",
       "      <td>S</td>\n",
       "      <td>2</td>\n",
       "      <td>Mr</td>\n",
       "      <td>13</td>\n",
       "    </tr>\n",
       "    <tr>\n",
       "      <th>4</th>\n",
       "      <td>female</td>\n",
       "      <td>0</td>\n",
       "      <td>S</td>\n",
       "      <td>2</td>\n",
       "      <td>Mrs</td>\n",
       "      <td>14</td>\n",
       "    </tr>\n",
       "    <tr>\n",
       "      <th>...</th>\n",
       "      <td>...</td>\n",
       "      <td>...</td>\n",
       "      <td>...</td>\n",
       "      <td>...</td>\n",
       "      <td>...</td>\n",
       "      <td>...</td>\n",
       "    </tr>\n",
       "    <tr>\n",
       "      <th>1304</th>\n",
       "      <td>female</td>\n",
       "      <td>0</td>\n",
       "      <td>C</td>\n",
       "      <td>0</td>\n",
       "      <td>Miss</td>\n",
       "      <td>10</td>\n",
       "    </tr>\n",
       "    <tr>\n",
       "      <th>1305</th>\n",
       "      <td>female</td>\n",
       "      <td>0</td>\n",
       "      <td>C</td>\n",
       "      <td>0</td>\n",
       "      <td>Miss</td>\n",
       "      <td>10</td>\n",
       "    </tr>\n",
       "    <tr>\n",
       "      <th>1306</th>\n",
       "      <td>male</td>\n",
       "      <td>1</td>\n",
       "      <td>C</td>\n",
       "      <td>0</td>\n",
       "      <td>Mr</td>\n",
       "      <td>13</td>\n",
       "    </tr>\n",
       "    <tr>\n",
       "      <th>1307</th>\n",
       "      <td>male</td>\n",
       "      <td>1</td>\n",
       "      <td>C</td>\n",
       "      <td>0</td>\n",
       "      <td>Mr</td>\n",
       "      <td>13</td>\n",
       "    </tr>\n",
       "    <tr>\n",
       "      <th>1308</th>\n",
       "      <td>male</td>\n",
       "      <td>1</td>\n",
       "      <td>S</td>\n",
       "      <td>2</td>\n",
       "      <td>Mr</td>\n",
       "      <td>13</td>\n",
       "    </tr>\n",
       "  </tbody>\n",
       "</table>\n",
       "<p>1306 rows × 6 columns</p>\n",
       "</div>"
      ],
      "text/plain": [
       "         sex  gender embarked  Embarked  titles  Titles\n",
       "0     female       0        S         2    Miss      10\n",
       "1       male       1        S         2  Master       9\n",
       "2     female       0        S         2    Miss      10\n",
       "3       male       1        S         2      Mr      13\n",
       "4     female       0        S         2     Mrs      14\n",
       "...      ...     ...      ...       ...     ...     ...\n",
       "1304  female       0        C         0    Miss      10\n",
       "1305  female       0        C         0    Miss      10\n",
       "1306    male       1        C         0      Mr      13\n",
       "1307    male       1        C         0      Mr      13\n",
       "1308    male       1        S         2      Mr      13\n",
       "\n",
       "[1306 rows x 6 columns]"
      ]
     },
     "execution_count": 11,
     "metadata": {},
     "output_type": "execute_result"
    }
   ],
   "source": [
    "# 확인\n",
    "titanic.loc[:, ['sex', 'gender', 'embarked', 'Embarked', 'titles', 'Titles']]"
   ]
  },
  {
   "cell_type": "markdown",
   "id": "317842d7-70d4-4bae-9bfd-93081f3f5408",
   "metadata": {},
   "source": [
    "# 데이터 분할"
   ]
  },
  {
   "cell_type": "code",
   "execution_count": 12,
   "id": "d4942891-3767-4cbd-badb-e21f5116a045",
   "metadata": {},
   "outputs": [],
   "source": [
    "# feature, target 추출\n",
    "data = titanic.iloc[:, [0, 3, 4, 5, 9, 10, 11]]\n",
    "target = titanic.survived"
   ]
  },
  {
   "cell_type": "code",
   "execution_count": 13,
   "id": "da7fe79b-7736-45a9-8d52-3da1902f7e2f",
   "metadata": {},
   "outputs": [
    {
     "data": {
      "text/html": [
       "<div>\n",
       "<style scoped>\n",
       "    .dataframe tbody tr th:only-of-type {\n",
       "        vertical-align: middle;\n",
       "    }\n",
       "\n",
       "    .dataframe tbody tr th {\n",
       "        vertical-align: top;\n",
       "    }\n",
       "\n",
       "    .dataframe thead th {\n",
       "        text-align: right;\n",
       "    }\n",
       "</style>\n",
       "<table border=\"1\" class=\"dataframe\">\n",
       "  <thead>\n",
       "    <tr style=\"text-align: right;\">\n",
       "      <th></th>\n",
       "      <th>pclass</th>\n",
       "      <th>age</th>\n",
       "      <th>sibsp</th>\n",
       "      <th>parch</th>\n",
       "      <th>Titles</th>\n",
       "      <th>gender</th>\n",
       "      <th>Embarked</th>\n",
       "    </tr>\n",
       "  </thead>\n",
       "  <tbody>\n",
       "    <tr>\n",
       "      <th>0</th>\n",
       "      <td>1.0</td>\n",
       "      <td>29.0000</td>\n",
       "      <td>0.0</td>\n",
       "      <td>0.0</td>\n",
       "      <td>10</td>\n",
       "      <td>0</td>\n",
       "      <td>2</td>\n",
       "    </tr>\n",
       "    <tr>\n",
       "      <th>1</th>\n",
       "      <td>1.0</td>\n",
       "      <td>0.9167</td>\n",
       "      <td>1.0</td>\n",
       "      <td>2.0</td>\n",
       "      <td>9</td>\n",
       "      <td>1</td>\n",
       "      <td>2</td>\n",
       "    </tr>\n",
       "    <tr>\n",
       "      <th>2</th>\n",
       "      <td>1.0</td>\n",
       "      <td>2.0000</td>\n",
       "      <td>1.0</td>\n",
       "      <td>2.0</td>\n",
       "      <td>10</td>\n",
       "      <td>0</td>\n",
       "      <td>2</td>\n",
       "    </tr>\n",
       "    <tr>\n",
       "      <th>3</th>\n",
       "      <td>1.0</td>\n",
       "      <td>30.0000</td>\n",
       "      <td>1.0</td>\n",
       "      <td>2.0</td>\n",
       "      <td>13</td>\n",
       "      <td>1</td>\n",
       "      <td>2</td>\n",
       "    </tr>\n",
       "    <tr>\n",
       "      <th>4</th>\n",
       "      <td>1.0</td>\n",
       "      <td>25.0000</td>\n",
       "      <td>1.0</td>\n",
       "      <td>2.0</td>\n",
       "      <td>14</td>\n",
       "      <td>0</td>\n",
       "      <td>2</td>\n",
       "    </tr>\n",
       "  </tbody>\n",
       "</table>\n",
       "</div>"
      ],
      "text/plain": [
       "   pclass      age  sibsp  parch  Titles  gender  Embarked\n",
       "0     1.0  29.0000    0.0    0.0      10       0         2\n",
       "1     1.0   0.9167    1.0    2.0       9       1         2\n",
       "2     1.0   2.0000    1.0    2.0      10       0         2\n",
       "3     1.0  30.0000    1.0    2.0      13       1         2\n",
       "4     1.0  25.0000    1.0    2.0      14       0         2"
      ]
     },
     "execution_count": 13,
     "metadata": {},
     "output_type": "execute_result"
    }
   ],
   "source": [
    "data.head()"
   ]
  },
  {
   "cell_type": "markdown",
   "id": "280d56d8-c45b-475c-89d9-1577d82a3a2b",
   "metadata": {},
   "source": [
    "# 데이터 분할"
   ]
  },
  {
   "cell_type": "code",
   "execution_count": 14,
   "id": "e4700da1-8c52-4996-8cd1-676f2f674845",
   "metadata": {},
   "outputs": [],
   "source": [
    "xtrain, xtest, ytrain, ytest = train_test_split(data, target, test_size=0.3,\n",
    "                     random_state=2208241055)"
   ]
  },
  {
   "cell_type": "markdown",
   "id": "e490dee1-89e2-4cc0-8cf9-bbb84181bac4",
   "metadata": {},
   "source": [
    "# 데이터 스케일링"
   ]
  },
  {
   "cell_type": "code",
   "execution_count": 39,
   "id": "c43e9088-5f2d-4f1d-9641-aa26a595e0b9",
   "metadata": {},
   "outputs": [],
   "source": [
    "ss = StandardScaler()\n",
    "\n",
    "xtrain_scaled = ss.fit_transform(xtrain)    # 훈련 데이터 → 표준화\n",
    "xtest_scaled = ss.transform(xtest)          # 테스트 데이터 → 표준화"
   ]
  },
  {
   "cell_type": "code",
   "execution_count": 38,
   "id": "ac8f473f-d081-43ca-b57a-816351f3d3f6",
   "metadata": {
    "collapsed": true,
    "jupyter": {
     "outputs_hidden": true
    },
    "tags": []
   },
   "outputs": [
    {
     "data": {
      "text/html": [
       "<div>\n",
       "<style scoped>\n",
       "    .dataframe tbody tr th:only-of-type {\n",
       "        vertical-align: middle;\n",
       "    }\n",
       "\n",
       "    .dataframe tbody tr th {\n",
       "        vertical-align: top;\n",
       "    }\n",
       "\n",
       "    .dataframe thead th {\n",
       "        text-align: right;\n",
       "    }\n",
       "</style>\n",
       "<table border=\"1\" class=\"dataframe\">\n",
       "  <thead>\n",
       "    <tr style=\"text-align: right;\">\n",
       "      <th></th>\n",
       "      <th>0</th>\n",
       "      <th>1</th>\n",
       "      <th>2</th>\n",
       "      <th>3</th>\n",
       "      <th>4</th>\n",
       "      <th>5</th>\n",
       "      <th>6</th>\n",
       "    </tr>\n",
       "  </thead>\n",
       "  <tbody>\n",
       "    <tr>\n",
       "      <th>count</th>\n",
       "      <td>9.140000e+02</td>\n",
       "      <td>9.140000e+02</td>\n",
       "      <td>9.140000e+02</td>\n",
       "      <td>9.140000e+02</td>\n",
       "      <td>9.140000e+02</td>\n",
       "      <td>9.140000e+02</td>\n",
       "      <td>9.140000e+02</td>\n",
       "    </tr>\n",
       "    <tr>\n",
       "      <th>mean</th>\n",
       "      <td>-5.053094e-17</td>\n",
       "      <td>-3.498296e-17</td>\n",
       "      <td>5.441793e-17</td>\n",
       "      <td>-2.526547e-17</td>\n",
       "      <td>3.789820e-16</td>\n",
       "      <td>-9.717488e-19</td>\n",
       "      <td>-1.943498e-17</td>\n",
       "    </tr>\n",
       "    <tr>\n",
       "      <th>std</th>\n",
       "      <td>1.000547e+00</td>\n",
       "      <td>1.000547e+00</td>\n",
       "      <td>1.000547e+00</td>\n",
       "      <td>1.000547e+00</td>\n",
       "      <td>1.000547e+00</td>\n",
       "      <td>1.000547e+00</td>\n",
       "      <td>1.000547e+00</td>\n",
       "    </tr>\n",
       "    <tr>\n",
       "      <th>min</th>\n",
       "      <td>-1.541324e+00</td>\n",
       "      <td>-2.322018e+00</td>\n",
       "      <td>-4.777601e-01</td>\n",
       "      <td>-4.632424e-01</td>\n",
       "      <td>-6.203217e+00</td>\n",
       "      <td>-1.352672e+00</td>\n",
       "      <td>-1.852319e+00</td>\n",
       "    </tr>\n",
       "    <tr>\n",
       "      <th>25%</th>\n",
       "      <td>-3.464384e-01</td>\n",
       "      <td>-6.033679e-01</td>\n",
       "      <td>-4.777601e-01</td>\n",
       "      <td>-4.632424e-01</td>\n",
       "      <td>-1.253880e+00</td>\n",
       "      <td>-1.352672e+00</td>\n",
       "      <td>-6.165383e-01</td>\n",
       "    </tr>\n",
       "    <tr>\n",
       "      <th>50%</th>\n",
       "      <td>8.484472e-01</td>\n",
       "      <td>1.701080e-02</td>\n",
       "      <td>-4.777601e-01</td>\n",
       "      <td>-4.632424e-01</td>\n",
       "      <td>3.958988e-01</td>\n",
       "      <td>7.392776e-01</td>\n",
       "      <td>6.192424e-01</td>\n",
       "    </tr>\n",
       "    <tr>\n",
       "      <th>75%</th>\n",
       "      <td>8.484472e-01</td>\n",
       "      <td>4.199522e-01</td>\n",
       "      <td>4.613210e-01</td>\n",
       "      <td>-4.632424e-01</td>\n",
       "      <td>3.958988e-01</td>\n",
       "      <td>7.392776e-01</td>\n",
       "      <td>6.192424e-01</td>\n",
       "    </tr>\n",
       "    <tr>\n",
       "      <th>max</th>\n",
       "      <td>8.484472e-01</td>\n",
       "      <td>3.489912e+00</td>\n",
       "      <td>7.034889e+00</td>\n",
       "      <td>9.976844e+00</td>\n",
       "      <td>2.045678e+00</td>\n",
       "      <td>7.392776e-01</td>\n",
       "      <td>6.192424e-01</td>\n",
       "    </tr>\n",
       "  </tbody>\n",
       "</table>\n",
       "</div>"
      ],
      "text/plain": [
       "                  0             1             2             3             4  \\\n",
       "count  9.140000e+02  9.140000e+02  9.140000e+02  9.140000e+02  9.140000e+02   \n",
       "mean  -5.053094e-17 -3.498296e-17  5.441793e-17 -2.526547e-17  3.789820e-16   \n",
       "std    1.000547e+00  1.000547e+00  1.000547e+00  1.000547e+00  1.000547e+00   \n",
       "min   -1.541324e+00 -2.322018e+00 -4.777601e-01 -4.632424e-01 -6.203217e+00   \n",
       "25%   -3.464384e-01 -6.033679e-01 -4.777601e-01 -4.632424e-01 -1.253880e+00   \n",
       "50%    8.484472e-01  1.701080e-02 -4.777601e-01 -4.632424e-01  3.958988e-01   \n",
       "75%    8.484472e-01  4.199522e-01  4.613210e-01 -4.632424e-01  3.958988e-01   \n",
       "max    8.484472e-01  3.489912e+00  7.034889e+00  9.976844e+00  2.045678e+00   \n",
       "\n",
       "                  5             6  \n",
       "count  9.140000e+02  9.140000e+02  \n",
       "mean  -9.717488e-19 -1.943498e-17  \n",
       "std    1.000547e+00  1.000547e+00  \n",
       "min   -1.352672e+00 -1.852319e+00  \n",
       "25%   -1.352672e+00 -6.165383e-01  \n",
       "50%    7.392776e-01  6.192424e-01  \n",
       "75%    7.392776e-01  6.192424e-01  \n",
       "max    7.392776e-01  6.192424e-01  "
      ]
     },
     "execution_count": 38,
     "metadata": {},
     "output_type": "execute_result"
    }
   ],
   "source": [
    "pd.DataFrame(xtrain_scaled).describe()"
   ]
  },
  {
   "cell_type": "code",
   "execution_count": 31,
   "id": "34369b6f-de15-4497-9cb5-388b4a3a7da0",
   "metadata": {
    "collapsed": true,
    "jupyter": {
     "outputs_hidden": true
    },
    "tags": []
   },
   "outputs": [
    {
     "data": {
      "text/html": [
       "<div>\n",
       "<style scoped>\n",
       "    .dataframe tbody tr th:only-of-type {\n",
       "        vertical-align: middle;\n",
       "    }\n",
       "\n",
       "    .dataframe tbody tr th {\n",
       "        vertical-align: top;\n",
       "    }\n",
       "\n",
       "    .dataframe thead th {\n",
       "        text-align: right;\n",
       "    }\n",
       "</style>\n",
       "<table border=\"1\" class=\"dataframe\">\n",
       "  <thead>\n",
       "    <tr style=\"text-align: right;\">\n",
       "      <th></th>\n",
       "      <th>0</th>\n",
       "      <th>1</th>\n",
       "      <th>2</th>\n",
       "      <th>3</th>\n",
       "      <th>4</th>\n",
       "      <th>5</th>\n",
       "      <th>6</th>\n",
       "    </tr>\n",
       "  </thead>\n",
       "  <tbody>\n",
       "    <tr>\n",
       "      <th>count</th>\n",
       "      <td>392.000000</td>\n",
       "      <td>392.000000</td>\n",
       "      <td>392.000000</td>\n",
       "      <td>392.000000</td>\n",
       "      <td>392.000000</td>\n",
       "      <td>392.000000</td>\n",
       "      <td>392.000000</td>\n",
       "    </tr>\n",
       "    <tr>\n",
       "      <th>mean</th>\n",
       "      <td>0.025439</td>\n",
       "      <td>0.042445</td>\n",
       "      <td>-0.027384</td>\n",
       "      <td>-0.051912</td>\n",
       "      <td>-0.050215</td>\n",
       "      <td>-0.013184</td>\n",
       "      <td>-0.027020</td>\n",
       "    </tr>\n",
       "    <tr>\n",
       "      <th>std</th>\n",
       "      <td>1.000317</td>\n",
       "      <td>1.034057</td>\n",
       "      <td>0.928012</td>\n",
       "      <td>1.015606</td>\n",
       "      <td>1.094223</td>\n",
       "      <td>1.005232</td>\n",
       "      <td>1.022711</td>\n",
       "    </tr>\n",
       "    <tr>\n",
       "      <th>min</th>\n",
       "      <td>-1.541324</td>\n",
       "      <td>-2.256423</td>\n",
       "      <td>-0.477760</td>\n",
       "      <td>-0.463242</td>\n",
       "      <td>-6.753143</td>\n",
       "      <td>-1.352672</td>\n",
       "      <td>-1.852319</td>\n",
       "    </tr>\n",
       "    <tr>\n",
       "      <th>25%</th>\n",
       "      <td>-0.346438</td>\n",
       "      <td>-0.603368</td>\n",
       "      <td>-0.477760</td>\n",
       "      <td>-0.463242</td>\n",
       "      <td>-1.253880</td>\n",
       "      <td>-1.352672</td>\n",
       "      <td>-0.616538</td>\n",
       "    </tr>\n",
       "    <tr>\n",
       "      <th>50%</th>\n",
       "      <td>0.848447</td>\n",
       "      <td>0.017011</td>\n",
       "      <td>-0.477760</td>\n",
       "      <td>-0.463242</td>\n",
       "      <td>0.395899</td>\n",
       "      <td>0.739278</td>\n",
       "      <td>0.619242</td>\n",
       "    </tr>\n",
       "    <tr>\n",
       "      <th>75%</th>\n",
       "      <td>0.848447</td>\n",
       "      <td>0.419952</td>\n",
       "      <td>0.461321</td>\n",
       "      <td>-0.463242</td>\n",
       "      <td>0.395899</td>\n",
       "      <td>0.739278</td>\n",
       "      <td>0.619242</td>\n",
       "    </tr>\n",
       "    <tr>\n",
       "      <th>max</th>\n",
       "      <td>0.848447</td>\n",
       "      <td>3.962214</td>\n",
       "      <td>7.034889</td>\n",
       "      <td>9.976844</td>\n",
       "      <td>2.595604</td>\n",
       "      <td>0.739278</td>\n",
       "      <td>0.619242</td>\n",
       "    </tr>\n",
       "  </tbody>\n",
       "</table>\n",
       "</div>"
      ],
      "text/plain": [
       "                0           1           2           3           4           5  \\\n",
       "count  392.000000  392.000000  392.000000  392.000000  392.000000  392.000000   \n",
       "mean     0.025439    0.042445   -0.027384   -0.051912   -0.050215   -0.013184   \n",
       "std      1.000317    1.034057    0.928012    1.015606    1.094223    1.005232   \n",
       "min     -1.541324   -2.256423   -0.477760   -0.463242   -6.753143   -1.352672   \n",
       "25%     -0.346438   -0.603368   -0.477760   -0.463242   -1.253880   -1.352672   \n",
       "50%      0.848447    0.017011   -0.477760   -0.463242    0.395899    0.739278   \n",
       "75%      0.848447    0.419952    0.461321   -0.463242    0.395899    0.739278   \n",
       "max      0.848447    3.962214    7.034889    9.976844    2.595604    0.739278   \n",
       "\n",
       "                6  \n",
       "count  392.000000  \n",
       "mean    -0.027020  \n",
       "std      1.022711  \n",
       "min     -1.852319  \n",
       "25%     -0.616538  \n",
       "50%      0.619242  \n",
       "75%      0.619242  \n",
       "max      0.619242  "
      ]
     },
     "execution_count": 31,
     "metadata": {},
     "output_type": "execute_result"
    }
   ],
   "source": [
    "pd.DataFrame(xtest_scaled).describe()"
   ]
  },
  {
   "cell_type": "markdown",
   "id": "03e7899d-db7b-4f39-a593-c7cd33d9a7ce",
   "metadata": {},
   "source": [
    "# 모델 학습&평가"
   ]
  },
  {
   "cell_type": "code",
   "execution_count": 16,
   "id": "26baab7d-df4d-4be2-bdd5-2ac51dbb8097",
   "metadata": {},
   "outputs": [
    {
     "data": {
      "text/plain": [
       "0.7678571428571429"
      ]
     },
     "execution_count": 16,
     "metadata": {},
     "output_type": "execute_result"
    }
   ],
   "source": [
    "# 결정 트리\n",
    "dtclf = DecisionTreeClassifier()    # 분류 모델 생성\n",
    "dtclf.fit(xtrain, ytrain)         # 분류 모델 학습\n",
    "\n",
    "ypred = dtclf.predict(xtest)        # 예측값\n",
    "accuracy_score(ytest, ypred)        # 비교(예측값 - 분류 모델 학습)"
   ]
  },
  {
   "cell_type": "code",
   "execution_count": 17,
   "id": "0ee6d1de-3a52-4717-98fe-b2f6a2aa567e",
   "metadata": {},
   "outputs": [
    {
     "data": {
      "text/plain": [
       "0.7397959183673469"
      ]
     },
     "execution_count": 17,
     "metadata": {},
     "output_type": "execute_result"
    }
   ],
   "source": [
    "# 서포트 벡터\n",
    "svclf = SVC(kernel='linear')    # 분류 모델 생성\n",
    "svclf.fit(xtrain_scaled, ytrain)         # 분류 모델 학습\n",
    "\n",
    "ypred = svclf.predict(xtest_scaled)        # 예측값\n",
    "accuracy_score(ytest, ypred)        # 비교(예측값 - 분류 모델 학습)"
   ]
  },
  {
   "cell_type": "code",
   "execution_count": 18,
   "id": "bb6b3145-924d-449f-8839-6eb5661a6b3e",
   "metadata": {},
   "outputs": [
    {
     "data": {
      "text/plain": [
       "0.7576530612244898"
      ]
     },
     "execution_count": 18,
     "metadata": {},
     "output_type": "execute_result"
    }
   ],
   "source": [
    "# 로지스틱 회귀\n",
    "lrclf = LogisticRegression()    # 분류 모델 생성\n",
    "lrclf.fit(xtrain_scaled, ytrain)         # 분류 모델 학습\n",
    "\n",
    "ypred = lrclf.predict(xtest_scaled)        # 예측값\n",
    "accuracy_score(ytest, ypred)        # 비교(예측값 - 분류 모델 학습)"
   ]
  },
  {
   "cell_type": "code",
   "execution_count": 19,
   "id": "779810c8-45f5-4761-8b4e-4d1ce34bd1b4",
   "metadata": {},
   "outputs": [
    {
     "data": {
      "text/plain": [
       "0.7576530612244898"
      ]
     },
     "execution_count": 19,
     "metadata": {},
     "output_type": "execute_result"
    }
   ],
   "source": [
    "# 로지스틱 회귀(스케일링)\n",
    "lrclf = LogisticRegression()    # 분류 모델 생성\n",
    "lrclf.fit(xtrain_scaled, ytrain)         # 분류 모델 학습\n",
    "\n",
    "ypred = lrclf.predict(xtest_scaled)        # 예측값\n",
    "accuracy_score(ytest, ypred)        # 비교(예측값 - 분류 모델 학습)"
   ]
  },
  {
   "cell_type": "code",
   "execution_count": 20,
   "id": "83ccffb7-ee98-4c0c-bc55-d4f8f6c4d385",
   "metadata": {},
   "outputs": [
    {
     "data": {
      "text/plain": [
       "0.7193877551020408"
      ]
     },
     "execution_count": 20,
     "metadata": {},
     "output_type": "execute_result"
    }
   ],
   "source": [
    "# KNN\n",
    "knn = KNeighborsClassifier()    # 분류 모델 생성\n",
    "knn.fit(xtrain, ytrain)         # 분류 모델 학습\n",
    "\n",
    "ypred = knn.predict(xtest)        # 예측값\n",
    "accuracy_score(ytest, ypred)        # 비교(예측값 - 분류 모델 학습)"
   ]
  },
  {
   "cell_type": "code",
   "execution_count": 21,
   "id": "e3ecb09c-282c-4b96-9883-d00d8dc21724",
   "metadata": {},
   "outputs": [
    {
     "data": {
      "text/plain": [
       "0.7653061224489796"
      ]
     },
     "execution_count": 21,
     "metadata": {},
     "output_type": "execute_result"
    }
   ],
   "source": [
    "# KNN(스케일링) - 정확도↑\n",
    "knn = KNeighborsClassifier()    # 분류 모델 생성\n",
    "knn.fit(xtrain_scaled, ytrain)         # 분류 모델 학습\n",
    "\n",
    "ypred = knn.predict(xtest_scaled)        # 예측값\n",
    "accuracy_score(ytest, ypred)        # 비교(예측값 - 분류 모델 학습)"
   ]
  },
  {
   "cell_type": "markdown",
   "id": "399ce86f-15e1-4629-bd15-bc44278782f9",
   "metadata": {},
   "source": [
    "# 교차검증"
   ]
  },
  {
   "cell_type": "code",
   "execution_count": 22,
   "id": "911b3769-bab0-40b7-84d6-4c3345ee8c8e",
   "metadata": {},
   "outputs": [
    {
     "name": "stdout",
     "output_type": "stream",
     "text": [
      "[0.80434783 0.75       0.77173913 0.81521739 0.82417582 0.75824176\n",
      " 0.73626374 0.63736264 0.81318681 0.73626374]\n"
     ]
    },
    {
     "data": {
      "text/plain": [
       "0.7646798853320592"
      ]
     },
     "execution_count": 22,
     "metadata": {},
     "output_type": "execute_result"
    }
   ],
   "source": [
    "# 결정 트리 - 정확도↓\n",
    "dtclf = DecisionTreeClassifier()\n",
    "scores = cross_val_score(dtclf, xtrain, ytrain, cv=10, scoring='accuracy')\n",
    "\n",
    "print(scores)\n",
    "np.mean(scores)"
   ]
  },
  {
   "cell_type": "code",
   "execution_count": 23,
   "id": "671486af-ce98-476f-9012-eff72a0b0470",
   "metadata": {},
   "outputs": [
    {
     "name": "stdout",
     "output_type": "stream",
     "text": [
      "[0.80434783 0.75       0.77173913 0.81521739 0.82417582 0.75824176\n",
      " 0.73626374 0.63736264 0.81318681 0.73626374]\n"
     ]
    },
    {
     "data": {
      "text/plain": [
       "0.7646798853320592"
      ]
     },
     "execution_count": 23,
     "metadata": {},
     "output_type": "execute_result"
    }
   ],
   "source": [
    "# 서포트 벡터\n",
    "svclf = SVC()\n",
    "svclf = cross_val_score(svclf, xtrain_scaled, ytrain, cv=10, scoring='accuracy')\n",
    "\n",
    "print(scores)\n",
    "np.mean(scores)"
   ]
  },
  {
   "cell_type": "code",
   "execution_count": 24,
   "id": "d0029e0e-f167-4b0e-a5f5-a02ad847a6de",
   "metadata": {},
   "outputs": [
    {
     "name": "stdout",
     "output_type": "stream",
     "text": [
      "[0.80434783 0.75       0.77173913 0.81521739 0.82417582 0.75824176\n",
      " 0.73626374 0.63736264 0.81318681 0.73626374]\n"
     ]
    },
    {
     "data": {
      "text/plain": [
       "0.7646798853320592"
      ]
     },
     "execution_count": 24,
     "metadata": {},
     "output_type": "execute_result"
    }
   ],
   "source": [
    "# 로지스틱 회귀(스케일링) - 정확도↑\n",
    "lrclf = LogisticRegression()\n",
    "lrclf = cross_val_score(lrclf, xtrain_scaled, ytrain, cv=10, scoring='accuracy')\n",
    "\n",
    "print(scores)\n",
    "np.mean(scores)"
   ]
  },
  {
   "cell_type": "code",
   "execution_count": 25,
   "id": "5ee2d958-50bc-4535-8d71-dc1e2e973068",
   "metadata": {
    "tags": []
   },
   "outputs": [
    {
     "name": "stdout",
     "output_type": "stream",
     "text": [
      "[0.84782609 0.82608696 0.80434783 0.85869565 0.79120879 0.85714286\n",
      " 0.76923077 0.74725275 0.84615385 0.86813187]\n"
     ]
    },
    {
     "data": {
      "text/plain": [
       "0.8216077400860009"
      ]
     },
     "execution_count": 25,
     "metadata": {},
     "output_type": "execute_result"
    }
   ],
   "source": [
    "# KNN(스케일링) - 정확도↑\n",
    "knnclf = KNeighborsClassifier()\n",
    "scores = cross_val_score(knnclf, xtrain_scaled, ytrain, cv=10, scoring='accuracy')\n",
    "\n",
    "print(scores)\n",
    "np.mean(scores)"
   ]
  },
  {
   "cell_type": "markdown",
   "id": "6c4994b1-99af-4b70-8100-c1f20b710279",
   "metadata": {},
   "source": [
    "# 정확도\n",
    "\n",
    "- ## 결정 트리\n",
    "표준화↓, 교차검증↓\n",
    "- ## 로지스틱 회귀, 서포트 벡터\n",
    "표준화(변화X), 교차검증↑\n",
    "- ## KNN\n",
    "표준화↑, 교차검증↑"
   ]
  },
  {
   "cell_type": "code",
   "execution_count": null,
   "id": "68fa8844-9cdd-4ee2-bf6f-3811f54f55fd",
   "metadata": {},
   "outputs": [],
   "source": []
  }
 ],
 "metadata": {
  "kernelspec": {
   "display_name": "Python 3 (ipykernel)",
   "language": "python",
   "name": "python3"
  },
  "language_info": {
   "codemirror_mode": {
    "name": "ipython",
    "version": 3
   },
   "file_extension": ".py",
   "mimetype": "text/x-python",
   "name": "python",
   "nbconvert_exporter": "python",
   "pygments_lexer": "ipython3",
   "version": "3.8.13"
  }
 },
 "nbformat": 4,
 "nbformat_minor": 5
}
