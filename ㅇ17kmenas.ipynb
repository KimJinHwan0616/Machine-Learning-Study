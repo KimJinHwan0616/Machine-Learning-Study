{
 "cells": [
  {
   "cell_type": "markdown",
   "id": "6641c6e1-26a3-4c5b-a5bc-00d59e9a66a8",
   "metadata": {},
   "source": [
    "# 머신러닝의 종류\n",
    "* 지도학습 - 데이터와 정답을 이용해서 패턴/규칙 파악\n",
    "* 비지도 학습 - 데이터만을 이용해서 유사도에 따른 패턴/규칙 파악\n",
    "    + 비지도학습의 대표적인 분석방법 : 군집"
   ]
  },
  {
   "cell_type": "markdown",
   "id": "0eb32878-fae9-4f7e-8ad9-7235489cb3e3",
   "metadata": {
    "tags": []
   },
   "source": [
    "## k-means\n",
    "* 서로 유사성이 높은 것끼리 관측값을 묶어 다수의 그룹으로 만듦\n",
    "* 즉, 동일 그룹내 구성원간의 유사성은 높지만 다른 그룹의 구성원과의 유사성은 거의 없도록 하는 것\n",
    "    + 군집분석 SSW, SSB\n",
    "* 활용분야\n",
    "    + 소비자유형 파악 - 타겟 마케팅 적용\n",
    "    + 범죄율이 높은 지역 검출\n",
    "    + 이미지/얼굴/손글씨 인식 - SVM\n",
    "    + 유전자 검사/지리정보를 이용해서 지형 탐사"
   ]
  },
  {
   "cell_type": "code",
   "execution_count": 1,
   "id": "7ca82793-735f-4130-9fe8-ee97626c5219",
   "metadata": {},
   "outputs": [],
   "source": [
    "import pandas as pd\n",
    "import numpy as np\n",
    "import matplotlib.pyplot as plt\n",
    "import seaborn as sns"
   ]
  },
  {
   "cell_type": "code",
   "execution_count": 2,
   "id": "bcecd95f-f0e7-40c9-9ba6-b3ec2ad14fe5",
   "metadata": {},
   "outputs": [],
   "source": [
    "from sklearn.preprocessing import StandardScaler, MinMaxScaler, LabelEncoder\n",
    "\n",
    "from sklearn.model_selection import train_test_split, cross_val_score\n",
    "\n",
    "from sklearn.tree import DecisionTreeClassifier\n",
    "from sklearn.ensemble import RandomForestClassifier\n",
    "from sklearn.linear_model import LogisticRegression\n",
    "from sklearn.linear_model import LinearRegression\n",
    "\n",
    "from sklearn.neighbors import KNeighborsClassifier\n",
    "\n",
    "from sklearn.metrics import accuracy_score, recall_score, precision_score\n",
    "from sklearn.metrics import confusion_matrix, classification_report\n",
    "from sklearn.metrics import mean_squared_error, r2_score"
   ]
  },
  {
   "cell_type": "code",
   "execution_count": 3,
   "id": "1a3415da-c35e-47e0-b33c-77c44eb9534a",
   "metadata": {},
   "outputs": [],
   "source": [
    "from sklearn.cluster import KMeans\n",
    "from sklearn.metrics import silhouette_score"
   ]
  },
  {
   "cell_type": "markdown",
   "id": "8dd68472-aa73-453d-bf97-a57370a11a06",
   "metadata": {},
   "source": [
    "## kmeans 알고리즘 이해"
   ]
  },
  {
   "cell_type": "code",
   "execution_count": 4,
   "id": "7d84c4d2-21a8-4d08-8117-91215f365ef3",
   "metadata": {},
   "outputs": [
    {
     "data": {
      "image/png": "[encoded data removed]",
      "text/plain": [
       "<Figure size 432x288 with 1 Axes>"
      ]
     },
     "metadata": {
      "needs_background": "light"
     },
     "output_type": "display_data"
    }
   ],
   "source": [
    "x = 7,2,6,3,6,5,3,1,5,7,7,2\n",
    "y = 8,4,4,2,5,7,3,4,4,7,6,1\n",
    "\n",
    "plt.plot(x, y, 'ro')\n",
    "plt.grid(True)"
   ]
  },
  {
   "cell_type": "markdown",
   "id": "7773c4a4-01bb-48ef-811d-532f3d9301a2",
   "metadata": {},
   "source": [
    "# 유사도 파악 \n",
    "- k-means 에서는 각 점간의 거리로 \n",
    "- 비슷한 특성을 가지는 데이터를 묶음\n",
    "- 따라서, 유사도 측정을 위해 임의의 기준점 선정\n",
    "- 기준점과 각 점간의 거리 계산\n",
    "    - 유클리드 거리 계산법\n",
    "    - 즉, A(x1, y1), B(x2, y2) 간의 거리 계산은\n",
    "      sqrt((x2-x1)**2+(y2-y1)**2) 로 함"
   ]
  },
  {
   "cell_type": "code",
   "execution_count": 5,
   "id": "f302c1c9-9fe7-4f62-bd05-5847138d19f6",
   "metadata": {},
   "outputs": [
    {
     "data": {
      "image/png": "[encoded data removed]",
      "text/plain": [
       "<Figure size 432x288 with 1 Axes>"
      ]
     },
     "metadata": {
      "needs_background": "light"
     },
     "output_type": "display_data"
    }
   ],
   "source": [
    "# 기준점 선정 및 시각화\n",
    "# C1, C2 = (1,5), (6,8)\n",
    "\n",
    "plt.plot(x, y, 'ro')\n",
    "plt.plot([1,6], [5,8], 'bX')\n",
    "plt.grid()"
   ]
  },
  {
   "cell_type": "code",
   "execution_count": 6,
   "id": "a9d70651-7813-4231-98da-922f05947daf",
   "metadata": {},
   "outputs": [
    {
     "name": "stdout",
     "output_type": "stream",
     "text": [
      "P - C1 :  4.47213595499958\n",
      "P - C2 :  1.4142135623730951\n"
     ]
    }
   ],
   "source": [
    "import math\n",
    "\n",
    "# P(5,7)은 C1 또는 C2로 분류될지 알아봄\n",
    "#            C1(1,5)            C2(6,8)\n",
    "# 5,7\n",
    "print('P - C1 : ', math.sqrt( (5-1)**2 + (7-5)**2 ))\n",
    "print('P - C2 : ', math.sqrt( (5-6)**2 + (7-8)**2 ))"
   ]
  },
  {
   "cell_type": "markdown",
   "id": "97129287-bd4c-4ed4-ac0d-69cb3d9cb6d4",
   "metadata": {},
   "source": [
    "# 모든 데이터에 대한 군집화가 수행된 후 \n",
    "* 새로운 센터노이드를 선정한 후 다시 유사도에 의한 군집 실시\n",
    "* 새로운 센터노이드를 선정하는 방법은 각 군집별 평균값을 이용\n",
    "* 즉, 군집 C1, C2의 각 X, Y 좌표간의 평균 계산"
   ]
  },
  {
   "cell_type": "code",
   "execution_count": 7,
   "id": "c8287bde-d693-41ad-8316-812d876bdf1e",
   "metadata": {},
   "outputs": [],
   "source": [
    "# C1의 새로운 센터노이드 지정\n",
    "# 새로운 x좌표 : 1,2,2,3,3 / 5 = 2.2\n",
    "# 새로운 y좌표 : 1,2,3,4,4 / 5 = 2.8\n",
    "\n",
    "# C2의 새로운 센터노이드 지정\n",
    "# 새로운 x좌표 : 5,5,6,6,7,7,7 / 7 = 6.14\n",
    "# 새로운 y좌표 : 4,4,5,6,7,7,8 / 7 = 5.85"
   ]
  },
  {
   "cell_type": "code",
   "execution_count": 8,
   "id": "afadf3b6-e014-43fa-a74e-d51fb0f07621",
   "metadata": {},
   "outputs": [
    {
     "data": {
      "image/png": "[encoded data removed]",
      "text/plain": [
       "<Figure size 432x288 with 1 Axes>"
      ]
     },
     "metadata": {
      "needs_background": "light"
     },
     "output_type": "display_data"
    }
   ],
   "source": [
    "plt.plot(x, y, 'ro')\n",
    "plt.plot([2.2, 6.14], [2.8, 5.85], 'bX')\n",
    "plt.grid()"
   ]
  },
  {
   "cell_type": "markdown",
   "id": "37e797bb-51e3-42c2-99cc-8d277464c864",
   "metadata": {},
   "source": [
    "# (iris)데이터 읽기"
   ]
  },
  {
   "cell_type": "code",
   "execution_count": 9,
   "id": "c65fdfff-013c-4806-8cb1-038f5e1eecde",
   "metadata": {},
   "outputs": [],
   "source": [
    "from sklearn.datasets import load_iris\n",
    "\n",
    "iris = load_iris()\n",
    "data = iris.data\n",
    "target = iris.target"
   ]
  },
  {
   "cell_type": "markdown",
   "id": "b98220a5-f7c5-45cb-8747-9b4f47cd3575",
   "metadata": {},
   "source": [
    "# 군집"
   ]
  },
  {
   "cell_type": "code",
   "execution_count": 10,
   "id": "40d15ddc-bd2c-4766-a4b3-f75f19986fed",
   "metadata": {},
   "outputs": [
    {
     "data": {
      "text/plain": [
       "(array([0, 1, 2], dtype=int32), array([38, 50, 62]))"
      ]
     },
     "execution_count": 10,
     "metadata": {},
     "output_type": "execute_result"
    }
   ],
   "source": [
    "km = KMeans(\n",
    "    n_clusters = 3      # 하이퍼 파라미터(클러스터 개수)\n",
    "    , max_iter = 200    # 클러스터 중심 이동 최대 반복 횟수\n",
    "    , n_init = 10       # 클러스터 중심 이동 반복 횟수??\n",
    "    )\n",
    "\n",
    "km.fit(data)\n",
    "\n",
    "np.unique(\n",
    "    km.labels_                # 클러스터 인덱스\n",
    "    , return_counts = True    # 클러스터별 개수\n",
    "    )"
   ]
  },
  {
   "cell_type": "markdown",
   "id": "62ff7466-86c7-419b-9799-ed8e9ee5b12a",
   "metadata": {},
   "source": [
    "## 실루엣/엘보우 계수\n",
    "* iris 데이터셋 경우, 각 관측값에 대한 레이블을 알고 있기 때문에 군집성공에 대한 정확도 파악 가능\n",
    "* 하지만, 레이블이 없는 데이터의 경우 ``실루엣 계수`` 와 ``엘보우 그래프(SSE)`` 를 통해 적절한 군집 계수를 파악해야 함\n",
    "* 실루엣 계수 : 군집 적합도를 수치로 나타낸 것으로 1에 가까울수록 군집이 잘된 것으로 파악\n",
    "* 엘보우SSE 계수 : 군집내 오차제곱합을 의미\n"
   ]
  },
  {
   "cell_type": "code",
   "execution_count": 12,
   "id": "608367b9-dfc2-41c1-aef7-6b5bccadd72b",
   "metadata": {},
   "outputs": [
    {
     "data": {
      "text/plain": [
       "0.5528190123564095"
      ]
     },
     "execution_count": 12,
     "metadata": {},
     "output_type": "execute_result"
    }
   ],
   "source": [
    "silhouette_score(data, km.labels_, metric='euclidean')"
   ]
  },
  {
   "cell_type": "code",
   "execution_count": 14,
   "id": "405ca859-bfd4-4ba0-9afc-f84e2f680a5f",
   "metadata": {},
   "outputs": [
    {
     "data": {
      "text/plain": [
       "78.851441426146"
      ]
     },
     "execution_count": 14,
     "metadata": {},
     "output_type": "execute_result"
    }
   ],
   "source": [
    "km.inertia_"
   ]
  },
  {
   "cell_type": "markdown",
   "id": "950731b8-cc74-41c3-9ba1-ae31f5483cf3",
   "metadata": {},
   "source": [
    "## 적절한 군집 갯수 찾기\n",
    "+ 실루엣/엘보우 그래프 이용"
   ]
  },
  {
   "cell_type": "code",
   "execution_count": 15,
   "id": "d27a647a-8958-4e19-b0f5-3562e80bf424",
   "metadata": {},
   "outputs": [
    {
     "data": {
      "image/png": "[encoded data removed]",
      "text/plain": [
       "<Figure size 1080x576 with 2 Axes>"
      ]
     },
     "metadata": {
      "needs_background": "light"
     },
     "output_type": "display_data"
    }
   ],
   "source": [
    "silhouette = []    # 실루엣 계수\n",
    "inertia = []       # 엘보우 계수\n",
    "\n",
    "for k in range(2, 10+1):\n",
    "   km = KMeans(n_clusters=k)   # 하이퍼파라미터\n",
    "   km.fit( data )\n",
    "\n",
    "   silhouette.append( silhouette_score( data, km.labels_, metric='euclidean') )\n",
    "   inertia.append(km.inertia_)\n",
    "\n",
    "# 시각화 - 선\n",
    "plt.figure(figsize=(15,8))\n",
    "\n",
    "plt.subplot(1, 2, 1)\n",
    "plt.plot(range(2, 10+1), silhouette, 'ro--')\n",
    "plt.xlabel('k')\n",
    "plt.ylabel('silhouette')\n",
    "\n",
    "plt.subplot(1, 2, 2)\n",
    "plt.plot(range(2, 10+1), inertia, 'bo--')\n",
    "plt.xlabel('k')\n",
    "plt.ylabel('inertia')\n",
    "plt.show()"
   ]
  },
  {
   "cell_type": "markdown",
   "id": "086076ef-bbf1-43d1-a3b5-3b8777e4cdfc",
   "metadata": {},
   "source": [
    "## 군집결과 확인 : sepal length/width"
   ]
  },
  {
   "cell_type": "code",
   "execution_count": 18,
   "id": "ea4f1a4a-b196-4c2c-b7fe-ac8b30e746a4",
   "metadata": {},
   "outputs": [
    {
     "data": {
      "image/png": "[encoded data removed]",
      "text/plain": [
       "<Figure size 432x288 with 1 Axes>"
      ]
     },
     "metadata": {
      "needs_background": "light"
     },
     "output_type": "display_data"
    }
   ],
   "source": [
    "# 원래의 분류 결과 데이터\n",
    "plt.scatter(data[:, 0], data[:, 1], c=target)\n",
    "plt.show()"
   ]
  },
  {
   "cell_type": "code",
   "execution_count": null,
   "id": "b796ea51-7942-433e-8486-99b139765eaa",
   "metadata": {},
   "outputs": [],
   "source": [
    "km.cluster_centers_"
   ]
  },
  {
   "cell_type": "code",
   "execution_count": null,
   "id": "fa264419-666b-4b97-8bca-9fbc313cc33d",
   "metadata": {},
   "outputs": [],
   "source": [
    "centers = pd.DataFrame(km.cluster_centers_, columns=['sl', 'sw', 'pl', 'pw'])\n",
    "\n",
    "x, y = centers.sl, centers.sw\n",
    "\n",
    "plt.scatter(data[:, 0], data[:, 1], c=km.labels_)\n",
    "plt.scatter(x, y, marker='X', c='r', s=100)  # 중심점 표시\n",
    "plt.show()"
   ]
  },
  {
   "cell_type": "markdown",
   "id": "2fdcc580-e663-434e-847f-458c806c0f94",
   "metadata": {},
   "source": [
    "## 군집결과 확인 : petal length/width"
   ]
  },
  {
   "cell_type": "code",
   "execution_count": null,
   "id": "4741ee48-1e76-4b23-9159-0e71ecd21ee4",
   "metadata": {},
   "outputs": [],
   "source": [
    "x, y = centers.pl, centers.pw\n",
    "\n",
    "plt.scatter(data[:, 2], data[:, 3], c=km.labels_)\n",
    "plt.scatter(x, y, marker='X', c='r')  # 중심점 표시\n",
    "\n",
    "plt.show()"
   ]
  },
  {
   "cell_type": "code",
   "execution_count": null,
   "id": "1f67a68d-6ffb-4a50-b824-dd097287db5b",
   "metadata": {},
   "outputs": [],
   "source": [
    "from kmeans_eval import visualize_silhouette # 머신러닝 폴더에 kmeans_eval 넣어놓기\n",
    "# visualize_silhouette(군집수, 군집할데이터)\n",
    "\n",
    "visualize_silhouette([2,3,4,5,6], data)\n",
    "\n",
    "# 그래프 상에서는 빨간선에 각 군집별 모양이 넘치거나 모자라지 않는 형태가 가장 이상적임\n",
    "# 군집별 두께가 일정한가\n",
    "# 각 군집이 빨간점선에 가깝게 있는가"
   ]
  },
  {
   "cell_type": "markdown",
   "id": "be7226f6-2e79-46c3-9e34-b153c00a974f",
   "metadata": {},
   "source": [
    "## 고객데이터를 이용해서 타겟마케팅을 위한 군집 예제\n",
    "* Customer ID, ItemsBought, ItemsReturned, ZipCode, Product\n",
    "* 이중에서 ItemsBought, ItemsReturned을 이용해서 적절히 군집을 수행하세요\n",
    "    + 제품을 많이/작게 사고 반품이 없는/있는 고객\n"
   ]
  },
  {
   "cell_type": "code",
   "execution_count": null,
   "id": "a5f391b1-38fc-422f-bd49-a4b4dbe6c70d",
   "metadata": {},
   "outputs": [],
   "source": [
    "## 과일, 채소 구분하기"
   ]
  }
 ],
 "metadata": {
  "kernelspec": {
   "display_name": "Python 3 (ipykernel)",
   "language": "python",
   "name": "python3"
  },
  "language_info": {
   "codemirror_mode": {
    "name": "ipython",
    "version": 3
   },
   "file_extension": ".py",
   "mimetype": "text/x-python",
   "name": "python",
   "nbconvert_exporter": "python",
   "pygments_lexer": "ipython3",
   "version": "3.8.13"
  }
 },
 "nbformat": 4,
 "nbformat_minor": 5
}
