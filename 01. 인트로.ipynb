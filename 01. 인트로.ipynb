{
 "cells": [
  {
   "cell_type": "markdown",
   "id": "f9bf383b-3fd0-49d1-aeac-98d7bb519ec3",
   "metadata": {},
   "source": [
    "\n",
    "# 인공지능의 정의\n",
    "* 인간의 지능을 기계로 구현하는 모든 형태\n",
    "\n",
    "# 인공지능의 범위\n",
    "인공지능 > 머신러닝 > 딥러닝\n",
    "\n",
    "\n",
    "# 인공지능 구현방식\n",
    "* 초기에는 지식전달방식으로 구현\n",
    " + 개발자가 기계에게 일반적인 규칙을 알려줌\n",
    " + 심한 변환의 양상에는 잘 대처하지 못함\n",
    " + 기호주의\n",
    "\n",
    "* 후기에는 데이터중심으로 구현\n",
    "  + 데이터를 중심으로 기계가 학습(규칙/패턴인식)한 뒤\n",
    "  + 새로운 데이터를 통해 예측/분류함\n",
    "  + 훈련을 위한 많은 양질의 데이터가 필요\n",
    "  + 연결주의(신경망이용)\n",
    "  \n",
    "# 머신러닝\n",
    "* 컴퓨터가 경험을 통해 학습할수 있도록 프로그래밍하되   \n",
    "세세하게 프로그래밍 해야하는 번거로움에서 벗어나게 하는 것\n",
    "\n",
    "# 머신러닝 알고리즘\n",
    "* 지도학습 : 데이터와 레이블(정답)을 통해 훈련 수행\n",
    "   + 분류 : 범주형데이터, 이진분류, 다항분류\n",
    "     - ex) 개,고양이 사진 분류, 스팸분류\n",
    "     - KNN,의사결정나무,로지스틱회귀,나이브베이즈,\n",
    "       SVM,신경망,부스팅\n",
    "   + 회귀 : 연속형데이터, 예측\n",
    "     - ex) 주식시세 예측\n",
    "     - 선형회귀,의사결정나무,부스팅,신경망\n",
    "\n",
    "* 비지도학습 : 데이터만을 통해 학습\n",
    "   + 군집화 : 유사한 성격의 데이터끼리 모음\n",
    "     - ex) 추천시스템, 고객별 타겟마케팅\n",
    "     - kmeans\n",
    "   + 차원축소 : 독립변수의 갯수를 줄임\n",
    "     - ex) 변수제거, 시각화\n",
    "     - PCA"
   ]
  },
  {
   "cell_type": "code",
   "execution_count": null,
   "id": "2a1aaf27-3f9a-4779-94b8-de76df0d88c4",
   "metadata": {},
   "outputs": [],
   "source": []
  }
 ],
 "metadata": {
  "kernelspec": {
   "display_name": "Python 3 (ipykernel)",
   "language": "python",
   "name": "python3"
  },
  "language_info": {
   "codemirror_mode": {
    "name": "ipython",
    "version": 3
   },
   "file_extension": ".py",
   "mimetype": "text/x-python",
   "name": "python",
   "nbconvert_exporter": "python",
   "pygments_lexer": "ipython3",
   "version": "3.8.13"
  }
 },
 "nbformat": 4,
 "nbformat_minor": 5
}
